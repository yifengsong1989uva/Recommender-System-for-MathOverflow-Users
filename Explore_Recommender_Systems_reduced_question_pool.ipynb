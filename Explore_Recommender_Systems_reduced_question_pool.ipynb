{
 "cells": [
  {
   "cell_type": "code",
   "execution_count": 113,
   "metadata": {
    "collapsed": false
   },
   "outputs": [],
   "source": [
    "import os\n",
    "os.chdir('C:\\\\Users\\songyifn\\Desktop\\mathoverflow_Recommender_System')\n",
    "\n",
    "import numpy as np\n",
    "import pandas as pd\n",
    "\n",
    "import fetch_mathoverflow as fm\n",
    "\n",
    "data = fm.fetch_mathoverflow('mathoverflow',\n",
    "                           test_set_fraction=0.1,\n",
    "                           indicator_features=False,\n",
    "                           tag_features=True)\n",
    "\n",
    "entire = data['entire_data']\n",
    "train = data['train']\n",
    "test = data['test']"
   ]
  },
  {
   "cell_type": "code",
   "execution_count": 3,
   "metadata": {
    "collapsed": false
   },
   "outputs": [
    {
     "name": "stdout",
     "output_type": "stream",
     "text": [
      "The dataset has 4513 users and 78048 questions, with 9129 interactions in the test and 96667 interactions in the training set.\n"
     ]
    }
   ],
   "source": [
    "print('The dataset has %s users and %s questions, '\n",
    "      'with %s interactions in the test and %s interactions in the training set.'\n",
    "      % (train.shape[0], train.shape[1], test.getnnz(), train.getnnz()))"
   ]
  },
  {
   "cell_type": "code",
   "execution_count": 114,
   "metadata": {
    "collapsed": false
   },
   "outputs": [
    {
     "name": "stdout",
     "output_type": "stream",
     "text": [
      "The dataset has 11166 users and 78048 questions, with 9129 interactions in the test and 96667 interactions in the training set.\n"
     ]
    }
   ],
   "source": [
    "print('The dataset has %s users and %s questions, '\n",
    "      'with %s interactions in the test and %s interactions in the training set.'\n",
    "      % (entire.shape[0], entire.shape[1], test.getnnz(), train.getnnz()))"
   ]
  },
  {
   "cell_type": "code",
   "execution_count": 8,
   "metadata": {
    "collapsed": false
   },
   "outputs": [],
   "source": [
    "to_include=np.where(np.squeeze(train.getnnz(axis=0))>0)[0]"
   ]
  },
  {
   "cell_type": "code",
   "execution_count": 11,
   "metadata": {
    "collapsed": false
   },
   "outputs": [
    {
     "data": {
      "text/plain": [
       "array([    1,     2,     3, ..., 65622, 65788, 78047], dtype=int64)"
      ]
     },
     "execution_count": 11,
     "metadata": {},
     "output_type": "execute_result"
    }
   ],
   "source": [
    "to_include"
   ]
  },
  {
   "cell_type": "code",
   "execution_count": 17,
   "metadata": {
    "collapsed": false
   },
   "outputs": [
    {
     "data": {
      "text/plain": [
       "<4513x49773 sparse matrix of type '<type 'numpy.float32'>'\n",
       "\twith 96667 stored elements in Compressed Sparse Column format>"
      ]
     },
     "execution_count": 17,
     "metadata": {},
     "output_type": "execute_result"
    }
   ],
   "source": [
    "train.tocsc()[:,to_include]"
   ]
  },
  {
   "cell_type": "code",
   "execution_count": 18,
   "metadata": {
    "collapsed": false
   },
   "outputs": [],
   "source": [
    "train_new = train.tocsc()[:,to_include].tocoo()\n",
    "test_new = test.tocsc()[:,to_include].tocoo()"
   ]
  },
  {
   "cell_type": "code",
   "execution_count": 24,
   "metadata": {
    "collapsed": false
   },
   "outputs": [
    {
     "data": {
      "text/plain": [
       "49235"
      ]
     },
     "execution_count": 24,
     "metadata": {},
     "output_type": "execute_result"
    }
   ],
   "source": [
    "len(np.where(test_new.getnnz(axis=0)==0)[0]) #only 538 questions in the new test set have been answered"
   ]
  },
  {
   "cell_type": "code",
   "execution_count": 146,
   "metadata": {
    "collapsed": false
   },
   "outputs": [
    {
     "data": {
      "text/plain": [
       "array([(0L, 2L), (0L, 4L), (1L, 5L), ..., (2835L, 16165L), (2836L, 2714L),\n",
       "       (2836L, 39810L)], dtype=object)"
      ]
     },
     "execution_count": 146,
     "metadata": {},
     "output_type": "execute_result"
    }
   ],
   "source": [
    "np.array(pd.SparseSeries.from_coo(train).to_dense().index)"
   ]
  },
  {
   "cell_type": "code",
   "execution_count": 26,
   "metadata": {
    "collapsed": false
   },
   "outputs": [
    {
     "name": "stdout",
     "output_type": "stream",
     "text": [
      "Wall time: 5.1 s\n"
     ]
    }
   ],
   "source": [
    "# Import the model\n",
    "from lightfm import LightFM\n",
    "\n",
    "# Set the number of threads; you can increase this\n",
    "# ify you have more physical cores available.\n",
    "NUM_THREADS = 2\n",
    "NUM_COMPONENTS = 30\n",
    "NUM_EPOCHS = 3\n",
    "ITEM_ALPHA = 1e-6\n",
    "\n",
    "# Let's fit a WARP model: these generally have the best performance.\n",
    "model = LightFM(loss='warp',\n",
    "                item_alpha=ITEM_ALPHA,\n",
    "                no_components=NUM_COMPONENTS)\n",
    "\n",
    "# Run 3 epochs and time it.\n",
    "%time model = model.fit(train_new, epochs=NUM_EPOCHS, num_threads=NUM_THREADS)"
   ]
  },
  {
   "cell_type": "code",
   "execution_count": 28,
   "metadata": {
    "collapsed": false
   },
   "outputs": [
    {
     "name": "stdout",
     "output_type": "stream",
     "text": [
      "Collaborative filtering train AUC: 0.813704\n"
     ]
    }
   ],
   "source": [
    "# Import the evaluation routines\n",
    "from lightfm.evaluation import auc_score\n",
    "\n",
    "# Compute and print the AUC score\n",
    "train_auc = auc_score(model, train_new, num_threads=NUM_THREADS).mean()\n",
    "print('Collaborative filtering train AUC: %s' % train_auc)"
   ]
  },
  {
   "cell_type": "code",
   "execution_count": 29,
   "metadata": {
    "collapsed": false
   },
   "outputs": [
    {
     "name": "stdout",
     "output_type": "stream",
     "text": [
      "Collaborative filtering test AUC: 0.676976\n"
     ]
    }
   ],
   "source": [
    "# We pass in the train interactions to exclude them from predictions.\n",
    "# This is to simulate a recommender system where we do not\n",
    "# re-recommend things the user has already interacted with in the train\n",
    "# set.\n",
    "test_auc = auc_score(model, test_new, train_interactions=train_new, num_threads=NUM_THREADS).mean()\n",
    "print('Collaborative filtering test AUC: %s' % test_auc)"
   ]
  },
  {
   "cell_type": "code",
   "execution_count": 150,
   "metadata": {
    "collapsed": false
   },
   "outputs": [
    {
     "data": {
      "text/plain": [
       "51472"
      ]
     },
     "execution_count": 150,
     "metadata": {},
     "output_type": "execute_result"
    }
   ],
   "source": [
    "len(pd.SparseSeries.from_coo(train).index)"
   ]
  },
  {
   "cell_type": "code",
   "execution_count": 30,
   "metadata": {
    "collapsed": false
   },
   "outputs": [
    {
     "name": "stdout",
     "output_type": "stream",
     "text": [
      "Collaborative filtering test AUC: 0.650039\n"
     ]
    }
   ],
   "source": [
    "# Set biases to zero\n",
    "model.item_biases *= 0.0\n",
    "\n",
    "test_auc = auc_score(model, test_new, train_interactions=train_new, num_threads=NUM_THREADS).mean()\n",
    "print('Collaborative filtering test AUC: %s' % test_auc)"
   ]
  },
  {
   "cell_type": "code",
   "execution_count": 117,
   "metadata": {
    "collapsed": false
   },
   "outputs": [
    {
     "name": "stdout",
     "output_type": "stream",
     "text": [
      "There are 1380 distinct tags, with values like [u'ag.algebraic-geometry', u'at.algebraic-topology', u'ca.analysis-and-odes', u'ct.category-theory', u'co.combinatorics', u'gr.group-theory', u'lie-groups', u'lie-algebras', u'rt.representation-theory', u'ac.commutative-algebra'].\n"
     ]
    }
   ],
   "source": [
    "item_features = data['item_features']\n",
    "tag_labels = data['item_feature_labels']\n",
    "item_features_new = item_features[to_include,:]\n",
    "print('There are %s distinct tags, with values like %s.' % (item_features_new.shape[1], tag_labels[:10].tolist()))"
   ]
  },
  {
   "cell_type": "code",
   "execution_count": 34,
   "metadata": {
    "collapsed": false
   },
   "outputs": [
    {
     "data": {
      "text/plain": [
       "(49773, 1380)"
      ]
     },
     "execution_count": 34,
     "metadata": {},
     "output_type": "execute_result"
    }
   ],
   "source": [
    "item_features_new.shape"
   ]
  },
  {
   "cell_type": "code",
   "execution_count": 154,
   "metadata": {
    "collapsed": false
   },
   "outputs": [
    {
     "data": {
      "text/plain": [
       "array([u'population', u'forecasting', u'census'], \n",
       "      dtype='<U50')"
      ]
     },
     "execution_count": 154,
     "metadata": {},
     "output_type": "execute_result"
    }
   ],
   "source": [
    "tag_labels[item_features[10,:].toarray()[0].astype(bool)]#.astype(bool)"
   ]
  },
  {
   "cell_type": "code",
   "execution_count": 155,
   "metadata": {
    "collapsed": false
   },
   "outputs": [],
   "source": [
    "train_csc=train.tocsc()"
   ]
  },
  {
   "cell_type": "code",
   "execution_count": 156,
   "metadata": {
    "collapsed": false
   },
   "outputs": [
    {
     "data": {
      "text/plain": [
       "109.0"
      ]
     },
     "execution_count": 156,
     "metadata": {},
     "output_type": "execute_result"
    }
   ],
   "source": [
    "sum(train_csc[4,:].toarray()[0])"
   ]
  },
  {
   "cell_type": "code",
   "execution_count": 35,
   "metadata": {
    "collapsed": false
   },
   "outputs": [],
   "source": [
    "# Define a new model instance\n",
    "model = LightFM(loss='warp',\n",
    "                #item_alpha=ITEM_ALPHA,\n",
    "                no_components=NUM_COMPONENTS,\n",
    "                max_sampled=30,\n",
    "                item_alpha=1e-6)\n",
    "\n",
    "# Fit the hybrid model. Note that this time, we pass\n",
    "# in the item features matrix.\n",
    "model = model.fit(train_new,\n",
    "                item_features=item_features_new,\n",
    "                epochs=15,\n",
    "                num_threads=NUM_THREADS)"
   ]
  },
  {
   "cell_type": "code",
   "execution_count": 36,
   "metadata": {
    "collapsed": false
   },
   "outputs": [
    {
     "name": "stdout",
     "output_type": "stream",
     "text": [
      "Hybrid training set AUC: 0.964387\n"
     ]
    }
   ],
   "source": [
    "# Don't forget the pass in the item features again!\n",
    "train_auc = auc_score(model,\n",
    "                      train_new,\n",
    "                      item_features=item_features_new,\n",
    "                      num_threads=NUM_THREADS).mean()\n",
    "print('Hybrid training set AUC: %s' % train_auc)"
   ]
  },
  {
   "cell_type": "code",
   "execution_count": 37,
   "metadata": {
    "collapsed": false
   },
   "outputs": [
    {
     "name": "stdout",
     "output_type": "stream",
     "text": [
      "Hybrid test set AUC: 0.878862\n"
     ]
    }
   ],
   "source": [
    "test_auc = auc_score(model,\n",
    "                    test_new,\n",
    "                    train_interactions=train_new,\n",
    "                    item_features=item_features_new,\n",
    "                    num_threads=NUM_THREADS).mean()\n",
    "print('Hybrid test set AUC: %s' % test_auc)"
   ]
  },
  {
   "cell_type": "markdown",
   "metadata": {},
   "source": [
    "### Baseline Model (Popularity-based recommendation)"
   ]
  },
  {
   "cell_type": "code",
   "execution_count": 56,
   "metadata": {
    "collapsed": false
   },
   "outputs": [],
   "source": [
    "### Baseline Model: Popularity-based (non-personalized) Recommender:\n",
    "order_by_popularity=np.argsort(np.squeeze(train_new.getnnz(axis=0)))[::-1]"
   ]
  },
  {
   "cell_type": "code",
   "execution_count": 81,
   "metadata": {
    "collapsed": false
   },
   "outputs": [],
   "source": [
    "from sklearn import metrics\n",
    "train_new_csr=train_new.tocsr()\n",
    "test_new_csr=test_new.tocsr()\n",
    "\n",
    "all_auc=[]\n",
    "for i in range(4513):\n",
    "    indices_kept=np.where(train_new_csr[i,:].toarray()[0]==0)[0]\n",
    "    fpr, tpr, thresholds = metrics.roc_curve(pd.Series(test_new_csr[i,:].toarray()[0][indices_kept].astype(int)).apply(lambda x: 1 if x!=0 else 0), order_by_popularity[indices_kept])\n",
    "    auc=metrics.auc(fpr,tpr)\n",
    "    if pd.isnull(auc)==False:\n",
    "        all_auc.append(auc)"
   ]
  },
  {
   "cell_type": "code",
   "execution_count": 86,
   "metadata": {
    "collapsed": false
   },
   "outputs": [
    {
     "data": {
      "text/plain": [
       "0.4679451456015028"
      ]
     },
     "execution_count": 86,
     "metadata": {},
     "output_type": "execute_result"
    }
   ],
   "source": [
    "sum(all_auc)/len(all_auc)"
   ]
  },
  {
   "cell_type": "markdown",
   "metadata": {},
   "source": [
    "### Topics + Tags"
   ]
  },
  {
   "cell_type": "code",
   "execution_count": 109,
   "metadata": {
    "collapsed": false
   },
   "outputs": [],
   "source": [
    "import scipy\n",
    "topics_csr=scipy.sparse.coo_matrix(pd.read_csv('question_topics.csv',header=None),dtype=np.float32).tocsr()\n",
    "item_features_enhanced=scipy.sparse.hstack([item_features,topics_csr])\n",
    "item_features_new_enhanced=item_features_enhanced.tocsr()[to_include,:]\n",
    "topics_csr_new=topics_csr[to_include,:]"
   ]
  },
  {
   "cell_type": "code",
   "execution_count": 111,
   "metadata": {
    "collapsed": false
   },
   "outputs": [
    {
     "name": "stdout",
     "output_type": "stream",
     "text": [
      "Hybrid training set AUC: 0.968705\n",
      "Hybrid test set AUC: 0.894619\n"
     ]
    }
   ],
   "source": [
    "# Define a new model instance\n",
    "model1 = LightFM(loss='warp',\n",
    "                #item_alpha=ITEM_ALPHA,\n",
    "                no_components=NUM_COMPONENTS,\n",
    "                max_sampled=30,\n",
    "                item_alpha=1e-6)\n",
    "\n",
    "# Fit the hybrid model. Note that this time, we pass\n",
    "# in the item features matrix.\n",
    "model1 = model1.fit(train_new,\n",
    "                item_features=item_features_new_enhanced,\n",
    "                #user_features=user_features,\n",
    "                epochs=15,\n",
    "                num_threads=NUM_THREADS)\n",
    "\n",
    "\n",
    "# Don't forget the pass in the item features again!\n",
    "train_auc = auc_score(model1,\n",
    "                      train_new,\n",
    "                      item_features=item_features_new_enhanced,\n",
    "                      #user_features=user_features,\n",
    "                      num_threads=NUM_THREADS).mean()\n",
    "print('Hybrid training set AUC: %s' % train_auc)\n",
    "\n",
    "\n",
    "test_auc = auc_score(model1,\n",
    "                    test_new,\n",
    "                    train_interactions=train_new,\n",
    "                    item_features=item_features_new_enhanced,\n",
    "                    #user_features=user_features,\n",
    "                    num_threads=NUM_THREADS).mean()\n",
    "print('Hybrid test set AUC: %s' % test_auc)"
   ]
  },
  {
   "cell_type": "markdown",
   "metadata": {},
   "source": [
    "### Topics only"
   ]
  },
  {
   "cell_type": "code",
   "execution_count": 112,
   "metadata": {
    "collapsed": false
   },
   "outputs": [
    {
     "name": "stdout",
     "output_type": "stream",
     "text": [
      "Hybrid training set AUC: 0.918423\n",
      "Hybrid test set AUC: 0.8182\n"
     ]
    }
   ],
   "source": [
    "model2 = LightFM(loss='warp',\n",
    "                #item_alpha=ITEM_ALPHA,\n",
    "                no_components=NUM_COMPONENTS,\n",
    "                max_sampled=30,\n",
    "                item_alpha=1e-6)\n",
    "\n",
    "# Fit the hybrid model. Note that this time, we pass\n",
    "# in the item features matrix.\n",
    "model2 = model2.fit(train_new,\n",
    "                item_features=topics_csr_new,\n",
    "                #user_features=user_features,\n",
    "                epochs=15,\n",
    "                num_threads=NUM_THREADS)\n",
    "\n",
    "\n",
    "# Don't forget the pass in the item features again!\n",
    "train_auc = auc_score(model2,\n",
    "                      train_new,\n",
    "                      item_features=topics_csr_new,\n",
    "                      #user_features=user_features,\n",
    "                      num_threads=NUM_THREADS).mean()\n",
    "print('Hybrid training set AUC: %s' % train_auc)\n",
    "\n",
    "test_auc = auc_score(model2,\n",
    "                    test_new,\n",
    "                    train_interactions=train_new,\n",
    "                    item_features=topics_csr_new,\n",
    "                    #user_features=user_features,\n",
    "                    num_threads=NUM_THREADS).mean()\n",
    "print('Hybrid test set AUC: %s' % test_auc)"
   ]
  },
  {
   "cell_type": "code",
   "execution_count": null,
   "metadata": {
    "collapsed": true
   },
   "outputs": [],
   "source": []
  },
  {
   "cell_type": "code",
   "execution_count": 119,
   "metadata": {
    "collapsed": false
   },
   "outputs": [
    {
     "name": "stdout",
     "output_type": "stream",
     "text": [
      "Hybrid training set AUC: 0.963928\n",
      "Hybrid test set AUC: 0.871383\n"
     ]
    }
   ],
   "source": [
    "# Define a new model instance\n",
    "model3 = LightFM(loss='warp',\n",
    "                #item_alpha=ITEM_ALPHA,\n",
    "                no_components=NUM_COMPONENTS,\n",
    "                max_sampled=30,\n",
    "                item_alpha=1e-6)\n",
    "\n",
    "# Fit the hybrid model. Note that this time, we pass\n",
    "# in the item features matrix.\n",
    "model3 = model3.fit(train_new,\n",
    "                item_features=item_features_new,\n",
    "                #user_features=user_features,\n",
    "                epochs=15,\n",
    "                num_threads=NUM_THREADS)\n",
    "\n",
    "\n",
    "# Don't forget the pass in the item features again!\n",
    "train_auc = auc_score(model3,\n",
    "                      train_new,\n",
    "                      item_features=item_features_new,\n",
    "                      #user_features=user_features,\n",
    "                      num_threads=NUM_THREADS).mean()\n",
    "print('Hybrid training set AUC: %s' % train_auc)\n",
    "\n",
    "\n",
    "test_auc = auc_score(model3,\n",
    "                    test_new,\n",
    "                    train_interactions=train_new,\n",
    "                    item_features=item_features_new,\n",
    "                    #user_features=user_features,\n",
    "                    num_threads=NUM_THREADS).mean()\n",
    "print('Hybrid test set AUC: %s' % test_auc)"
   ]
  },
  {
   "cell_type": "code",
   "execution_count": null,
   "metadata": {
    "collapsed": true
   },
   "outputs": [],
   "source": []
  },
  {
   "cell_type": "code",
   "execution_count": null,
   "metadata": {
    "collapsed": true
   },
   "outputs": [],
   "source": []
  },
  {
   "cell_type": "code",
   "execution_count": null,
   "metadata": {
    "collapsed": true
   },
   "outputs": [],
   "source": []
  },
  {
   "cell_type": "code",
   "execution_count": 78,
   "metadata": {
    "collapsed": false
   },
   "outputs": [
    {
     "data": {
      "text/plain": [
       "4"
      ]
     },
     "execution_count": 78,
     "metadata": {},
     "output_type": "execute_result"
    }
   ],
   "source": [
    "sum(test_new_csr[i,:].toarray()[0][indices_kept].astype(int))"
   ]
  },
  {
   "cell_type": "code",
   "execution_count": 79,
   "metadata": {
    "collapsed": false
   },
   "outputs": [
    {
     "data": {
      "text/plain": [
       "array([ 1552,  9035, 46476], dtype=int64)"
      ]
     },
     "execution_count": 79,
     "metadata": {},
     "output_type": "execute_result"
    }
   ],
   "source": [
    "np.where(test_new_csr[i,:].toarray()[0][indices_kept].astype(int)!=0)[0]"
   ]
  },
  {
   "cell_type": "code",
   "execution_count": 71,
   "metadata": {
    "collapsed": false
   },
   "outputs": [],
   "source": [
    "import scipy.io\n",
    "mat = scipy.io.loadmat('kaggle77b_trainset.mat')"
   ]
  },
  {
   "cell_type": "code",
   "execution_count": 74,
   "metadata": {
    "collapsed": false
   },
   "outputs": [
    {
     "data": {
      "text/plain": [
       "(21983L, 100L)"
      ]
     },
     "execution_count": 74,
     "metadata": {},
     "output_type": "execute_result"
    }
   ],
   "source": [
    "mat['trainset'].shape"
   ]
  },
  {
   "cell_type": "code",
   "execution_count": 77,
   "metadata": {
    "collapsed": true
   },
   "outputs": [],
   "source": [
    "import os\n",
    "os.chdir('C:\\\\Users\\\\songyifn\\\\Desktop')"
   ]
  },
  {
   "cell_type": "code",
   "execution_count": 78,
   "metadata": {
    "collapsed": false
   },
   "outputs": [
    {
     "data": {
      "text/html": [
       "<div>\n",
       "<table border=\"1\" class=\"dataframe\">\n",
       "  <thead>\n",
       "    <tr style=\"text-align: right;\">\n",
       "      <th></th>\n",
       "      <th>0</th>\n",
       "    </tr>\n",
       "  </thead>\n",
       "  <tbody>\n",
       "    <tr>\n",
       "      <th>0</th>\n",
       "      <td>fd50c4007b68a3737fe052d5a4f78ce8aa117f3d</td>\n",
       "    </tr>\n",
       "    <tr>\n",
       "      <th>1</th>\n",
       "      <td>d7083f5e1d50c264277d624340edaaf3dc16095b</td>\n",
       "    </tr>\n",
       "    <tr>\n",
       "      <th>2</th>\n",
       "      <td>d68dc6fc25248234590d7668a11e3335534ae4b4</td>\n",
       "    </tr>\n",
       "    <tr>\n",
       "      <th>3</th>\n",
       "      <td>9be82340a8b5ef32357fe5af957ccd54736ece95</td>\n",
       "    </tr>\n",
       "    <tr>\n",
       "      <th>4</th>\n",
       "      <td>841b2394ae3a9febbd6b06497b4a8ee8eb24b7f8</td>\n",
       "    </tr>\n",
       "    <tr>\n",
       "      <th>5</th>\n",
       "      <td>91b8fac7dc5e03f6cfaf6e2aa7171f14a8354d62</td>\n",
       "    </tr>\n",
       "    <tr>\n",
       "      <th>6</th>\n",
       "      <td>458833ce4418010e61304b34b2c992e1cce63435</td>\n",
       "    </tr>\n",
       "    <tr>\n",
       "      <th>7</th>\n",
       "      <td>c34670d9c1718361feb93068a853cead3c95b76a</td>\n",
       "    </tr>\n",
       "    <tr>\n",
       "      <th>8</th>\n",
       "      <td>0f40e074aab2c5f47b7ddc2277fb0295b5b3a058</td>\n",
       "    </tr>\n",
       "    <tr>\n",
       "      <th>9</th>\n",
       "      <td>ef0d21935a2f8ae90571dbfab800f87fa5b38769</td>\n",
       "    </tr>\n",
       "    <tr>\n",
       "      <th>10</th>\n",
       "      <td>fdf6afb5daefb42774617cf223475c6013969724</td>\n",
       "    </tr>\n",
       "    <tr>\n",
       "      <th>11</th>\n",
       "      <td>10cbcd627472477dfbec90fb75017f8df6ce84ec</td>\n",
       "    </tr>\n",
       "    <tr>\n",
       "      <th>12</th>\n",
       "      <td>e9dc6b4c2b22aa6dc8260e1963021567728055b2</td>\n",
       "    </tr>\n",
       "    <tr>\n",
       "      <th>13</th>\n",
       "      <td>30e4a688e6fc9c8bfe55998af3996a909ae34449</td>\n",
       "    </tr>\n",
       "    <tr>\n",
       "      <th>14</th>\n",
       "      <td>18ce1da0e1017e31baaa5f80afa64ee3c7fab379</td>\n",
       "    </tr>\n",
       "    <tr>\n",
       "      <th>15</th>\n",
       "      <td>0b254c684efb08fd04933add2d1e4191d2a87bac</td>\n",
       "    </tr>\n",
       "    <tr>\n",
       "      <th>16</th>\n",
       "      <td>eda9bc7bcd72d18b9cf964990eb13a5b1789e78f</td>\n",
       "    </tr>\n",
       "    <tr>\n",
       "      <th>17</th>\n",
       "      <td>da7bc0ec91a21a54f0b209bcc9ec5b4b49613a68</td>\n",
       "    </tr>\n",
       "    <tr>\n",
       "      <th>18</th>\n",
       "      <td>3a613180775197cd08c154abe4e3f67af238a632</td>\n",
       "    </tr>\n",
       "    <tr>\n",
       "      <th>19</th>\n",
       "      <td>05b9035fe02ebdf5535ae9ec07de1e935ffa43df</td>\n",
       "    </tr>\n",
       "    <tr>\n",
       "      <th>20</th>\n",
       "      <td>4b9b549e84fb29bfbcf7ab34f01c0bcd1bbf93a5</td>\n",
       "    </tr>\n",
       "    <tr>\n",
       "      <th>21</th>\n",
       "      <td>a42412a54fed82e8341d2edaa1f9001362acf898</td>\n",
       "    </tr>\n",
       "    <tr>\n",
       "      <th>22</th>\n",
       "      <td>2ea70dc3968d4e8e523b5d73cefb7b5bd1cc8853</td>\n",
       "    </tr>\n",
       "    <tr>\n",
       "      <th>23</th>\n",
       "      <td>c5006d9f41f68ccccbf5ee29212b6af494110c5e</td>\n",
       "    </tr>\n",
       "    <tr>\n",
       "      <th>24</th>\n",
       "      <td>248378ac27e1745d6a9d59392b7dc5b02a6186a6</td>\n",
       "    </tr>\n",
       "    <tr>\n",
       "      <th>25</th>\n",
       "      <td>5b7124d06fe4b027b6dff487da9ac236aa4fc3e4</td>\n",
       "    </tr>\n",
       "    <tr>\n",
       "      <th>26</th>\n",
       "      <td>6530c4fc41b9110de5d39fe0355fa103c66385f0</td>\n",
       "    </tr>\n",
       "    <tr>\n",
       "      <th>27</th>\n",
       "      <td>c732f882aa8d6db3bfaf8037d6418f27d3e07fc8</td>\n",
       "    </tr>\n",
       "    <tr>\n",
       "      <th>28</th>\n",
       "      <td>19626739e9bb38aaadd5d6664842a1235e59e5aa</td>\n",
       "    </tr>\n",
       "    <tr>\n",
       "      <th>29</th>\n",
       "      <td>b40ff7e719c613dae8505b5112e3f99fe7ced78c</td>\n",
       "    </tr>\n",
       "    <tr>\n",
       "      <th>...</th>\n",
       "      <td>...</td>\n",
       "    </tr>\n",
       "    <tr>\n",
       "      <th>109970</th>\n",
       "      <td>288365fda10d0710985e3dcf6ec8358b068e1e9f</td>\n",
       "    </tr>\n",
       "    <tr>\n",
       "      <th>109971</th>\n",
       "      <td>c8571a782f34196aaf75866fedf957ba5886e9ad</td>\n",
       "    </tr>\n",
       "    <tr>\n",
       "      <th>109972</th>\n",
       "      <td>c0754b000f22039ac1eb8b2f2d8cde1374c4650c</td>\n",
       "    </tr>\n",
       "    <tr>\n",
       "      <th>109973</th>\n",
       "      <td>4c6df9ef4d41a2dc874fa66009443bdb01d3b9f3</td>\n",
       "    </tr>\n",
       "    <tr>\n",
       "      <th>109974</th>\n",
       "      <td>fcb1c9d699953bab55a79b6c8b1f502aafb2187d</td>\n",
       "    </tr>\n",
       "    <tr>\n",
       "      <th>109975</th>\n",
       "      <td>3fce04f76996cc1c1260281ba4945037c055bd65</td>\n",
       "    </tr>\n",
       "    <tr>\n",
       "      <th>109976</th>\n",
       "      <td>ff51d9441a766775caafc5ff55358292f13b4f8d</td>\n",
       "    </tr>\n",
       "    <tr>\n",
       "      <th>109977</th>\n",
       "      <td>0fca07603b1f0919a1e34dbfdba416ec9b48b45e</td>\n",
       "    </tr>\n",
       "    <tr>\n",
       "      <th>109978</th>\n",
       "      <td>f18736e954504b7e52a9a1c2f42d58cd8793d3b4</td>\n",
       "    </tr>\n",
       "    <tr>\n",
       "      <th>109979</th>\n",
       "      <td>7884612c53ba384bfc23c12c845c483e4cc4944d</td>\n",
       "    </tr>\n",
       "    <tr>\n",
       "      <th>109980</th>\n",
       "      <td>32d65b81f82874077bd978fa129eff63a43e96f9</td>\n",
       "    </tr>\n",
       "    <tr>\n",
       "      <th>109981</th>\n",
       "      <td>9d2f78e2bda5a004879d3ee53ee7de5cdf99c730</td>\n",
       "    </tr>\n",
       "    <tr>\n",
       "      <th>109982</th>\n",
       "      <td>70ffc8736816f668bf64f2ecd72d2d38c6347f50</td>\n",
       "    </tr>\n",
       "    <tr>\n",
       "      <th>109983</th>\n",
       "      <td>a19eeedd6e5c50770430822bd8c7e5365997fb26</td>\n",
       "    </tr>\n",
       "    <tr>\n",
       "      <th>109984</th>\n",
       "      <td>35ecf74d3c3891e674fa0daf80e24720ba20335d</td>\n",
       "    </tr>\n",
       "    <tr>\n",
       "      <th>109985</th>\n",
       "      <td>ddc4f1aa2d137ddfd3b0a342d1ec7a034a26e0f0</td>\n",
       "    </tr>\n",
       "    <tr>\n",
       "      <th>109986</th>\n",
       "      <td>6f1040d86d4c98bf9141eb934e3b087b1957264e</td>\n",
       "    </tr>\n",
       "    <tr>\n",
       "      <th>109987</th>\n",
       "      <td>153832123c017bcdb1e55a9bec1eefcabd8bb2d1</td>\n",
       "    </tr>\n",
       "    <tr>\n",
       "      <th>109988</th>\n",
       "      <td>ada735bfc101da8cf65ce71615138c3e08ea0e88</td>\n",
       "    </tr>\n",
       "    <tr>\n",
       "      <th>109989</th>\n",
       "      <td>eb028a503a7812a8f514bffbb01eaa1c299dde75</td>\n",
       "    </tr>\n",
       "    <tr>\n",
       "      <th>109990</th>\n",
       "      <td>d7949413fade6c1c71d1b8540c9b3b76317248e5</td>\n",
       "    </tr>\n",
       "    <tr>\n",
       "      <th>109991</th>\n",
       "      <td>2ef6c3bd761f5749b164062d0147391707da32db</td>\n",
       "    </tr>\n",
       "    <tr>\n",
       "      <th>109992</th>\n",
       "      <td>987b654b09b239f7c47751e0cfaa2990834cbb55</td>\n",
       "    </tr>\n",
       "    <tr>\n",
       "      <th>109993</th>\n",
       "      <td>50425152daa590af3c61b517f21ec755f08b3406</td>\n",
       "    </tr>\n",
       "    <tr>\n",
       "      <th>109994</th>\n",
       "      <td>6b6d43eb0a1a6bdf471cebe380524946884746c6</td>\n",
       "    </tr>\n",
       "    <tr>\n",
       "      <th>109995</th>\n",
       "      <td>07f2f354a2a4390624e0d04e4a555ef67e98f673</td>\n",
       "    </tr>\n",
       "    <tr>\n",
       "      <th>109996</th>\n",
       "      <td>fe752b1aa2a12dbc203c37b70881d88481c655f1</td>\n",
       "    </tr>\n",
       "    <tr>\n",
       "      <th>109997</th>\n",
       "      <td>ab79461415bb9db956def3a897886d0754ddddfb</td>\n",
       "    </tr>\n",
       "    <tr>\n",
       "      <th>109998</th>\n",
       "      <td>fc072bde2043756ea30ff07e4a5311e34825b4df</td>\n",
       "    </tr>\n",
       "    <tr>\n",
       "      <th>109999</th>\n",
       "      <td>5e650759ebf89012044c6d52121eeada8b0ec814</td>\n",
       "    </tr>\n",
       "  </tbody>\n",
       "</table>\n",
       "<p>110000 rows × 1 columns</p>\n",
       "</div>"
      ],
      "text/plain": [
       "                                               0\n",
       "0       fd50c4007b68a3737fe052d5a4f78ce8aa117f3d\n",
       "1       d7083f5e1d50c264277d624340edaaf3dc16095b\n",
       "2       d68dc6fc25248234590d7668a11e3335534ae4b4\n",
       "3       9be82340a8b5ef32357fe5af957ccd54736ece95\n",
       "4       841b2394ae3a9febbd6b06497b4a8ee8eb24b7f8\n",
       "5       91b8fac7dc5e03f6cfaf6e2aa7171f14a8354d62\n",
       "6       458833ce4418010e61304b34b2c992e1cce63435\n",
       "7       c34670d9c1718361feb93068a853cead3c95b76a\n",
       "8       0f40e074aab2c5f47b7ddc2277fb0295b5b3a058\n",
       "9       ef0d21935a2f8ae90571dbfab800f87fa5b38769\n",
       "10      fdf6afb5daefb42774617cf223475c6013969724\n",
       "11      10cbcd627472477dfbec90fb75017f8df6ce84ec\n",
       "12      e9dc6b4c2b22aa6dc8260e1963021567728055b2\n",
       "13      30e4a688e6fc9c8bfe55998af3996a909ae34449\n",
       "14      18ce1da0e1017e31baaa5f80afa64ee3c7fab379\n",
       "15      0b254c684efb08fd04933add2d1e4191d2a87bac\n",
       "16      eda9bc7bcd72d18b9cf964990eb13a5b1789e78f\n",
       "17      da7bc0ec91a21a54f0b209bcc9ec5b4b49613a68\n",
       "18      3a613180775197cd08c154abe4e3f67af238a632\n",
       "19      05b9035fe02ebdf5535ae9ec07de1e935ffa43df\n",
       "20      4b9b549e84fb29bfbcf7ab34f01c0bcd1bbf93a5\n",
       "21      a42412a54fed82e8341d2edaa1f9001362acf898\n",
       "22      2ea70dc3968d4e8e523b5d73cefb7b5bd1cc8853\n",
       "23      c5006d9f41f68ccccbf5ee29212b6af494110c5e\n",
       "24      248378ac27e1745d6a9d59392b7dc5b02a6186a6\n",
       "25      5b7124d06fe4b027b6dff487da9ac236aa4fc3e4\n",
       "26      6530c4fc41b9110de5d39fe0355fa103c66385f0\n",
       "27      c732f882aa8d6db3bfaf8037d6418f27d3e07fc8\n",
       "28      19626739e9bb38aaadd5d6664842a1235e59e5aa\n",
       "29      b40ff7e719c613dae8505b5112e3f99fe7ced78c\n",
       "...                                          ...\n",
       "109970  288365fda10d0710985e3dcf6ec8358b068e1e9f\n",
       "109971  c8571a782f34196aaf75866fedf957ba5886e9ad\n",
       "109972  c0754b000f22039ac1eb8b2f2d8cde1374c4650c\n",
       "109973  4c6df9ef4d41a2dc874fa66009443bdb01d3b9f3\n",
       "109974  fcb1c9d699953bab55a79b6c8b1f502aafb2187d\n",
       "109975  3fce04f76996cc1c1260281ba4945037c055bd65\n",
       "109976  ff51d9441a766775caafc5ff55358292f13b4f8d\n",
       "109977  0fca07603b1f0919a1e34dbfdba416ec9b48b45e\n",
       "109978  f18736e954504b7e52a9a1c2f42d58cd8793d3b4\n",
       "109979  7884612c53ba384bfc23c12c845c483e4cc4944d\n",
       "109980  32d65b81f82874077bd978fa129eff63a43e96f9\n",
       "109981  9d2f78e2bda5a004879d3ee53ee7de5cdf99c730\n",
       "109982  70ffc8736816f668bf64f2ecd72d2d38c6347f50\n",
       "109983  a19eeedd6e5c50770430822bd8c7e5365997fb26\n",
       "109984  35ecf74d3c3891e674fa0daf80e24720ba20335d\n",
       "109985  ddc4f1aa2d137ddfd3b0a342d1ec7a034a26e0f0\n",
       "109986  6f1040d86d4c98bf9141eb934e3b087b1957264e\n",
       "109987  153832123c017bcdb1e55a9bec1eefcabd8bb2d1\n",
       "109988  ada735bfc101da8cf65ce71615138c3e08ea0e88\n",
       "109989  eb028a503a7812a8f514bffbb01eaa1c299dde75\n",
       "109990  d7949413fade6c1c71d1b8540c9b3b76317248e5\n",
       "109991  2ef6c3bd761f5749b164062d0147391707da32db\n",
       "109992  987b654b09b239f7c47751e0cfaa2990834cbb55\n",
       "109993  50425152daa590af3c61b517f21ec755f08b3406\n",
       "109994  6b6d43eb0a1a6bdf471cebe380524946884746c6\n",
       "109995  07f2f354a2a4390624e0d04e4a555ef67e98f673\n",
       "109996  fe752b1aa2a12dbc203c37b70881d88481c655f1\n",
       "109997  ab79461415bb9db956def3a897886d0754ddddfb\n",
       "109998  fc072bde2043756ea30ff07e4a5311e34825b4df\n",
       "109999  5e650759ebf89012044c6d52121eeada8b0ec814\n",
       "\n",
       "[110000 rows x 1 columns]"
      ]
     },
     "execution_count": 78,
     "metadata": {},
     "output_type": "execute_result"
    }
   ],
   "source": [
    "users=pd.read_csv(\"kaggle_users.txt\",header=None)"
   ]
  },
  {
   "cell_type": "code",
   "execution_count": 135,
   "metadata": {
    "collapsed": false
   },
   "outputs": [],
   "source": [
    "from sklearn import metrics\n",
    "fpr, tpr, thresholds = metrics.roc_curve([0,1,1,0], [8,6,9,3])"
   ]
  },
  {
   "cell_type": "code",
   "execution_count": 136,
   "metadata": {
    "collapsed": false
   },
   "outputs": [
    {
     "data": {
      "text/plain": [
       "0.75"
      ]
     },
     "execution_count": 136,
     "metadata": {},
     "output_type": "execute_result"
    }
   ],
   "source": [
    "metrics.auc(fpr,tpr)"
   ]
  },
  {
   "cell_type": "code",
   "execution_count": 138,
   "metadata": {
    "collapsed": false
   },
   "outputs": [
    {
     "data": {
      "text/plain": [
       "array([ 0.5,  0.5,  1. ,  1. ])"
      ]
     },
     "execution_count": 138,
     "metadata": {},
     "output_type": "execute_result"
    }
   ],
   "source": [
    "tpr"
   ]
  },
  {
   "cell_type": "code",
   "execution_count": 139,
   "metadata": {
    "collapsed": false
   },
   "outputs": [
    {
     "data": {
      "text/plain": [
       "array([ 0. ,  0.5,  0.5,  1. ])"
      ]
     },
     "execution_count": 139,
     "metadata": {},
     "output_type": "execute_result"
    }
   ],
   "source": [
    "fpr"
   ]
  },
  {
   "cell_type": "code",
   "execution_count": 61,
   "metadata": {
    "collapsed": false
   },
   "outputs": [
    {
     "data": {
      "text/plain": [
       "(4513, 49773)"
      ]
     },
     "execution_count": 61,
     "metadata": {},
     "output_type": "execute_result"
    }
   ],
   "source": [
    "train_new.shape"
   ]
  },
  {
   "cell_type": "code",
   "execution_count": 142,
   "metadata": {
    "collapsed": false
   },
   "outputs": [
    {
     "data": {
      "text/plain": [
       "<72360x1246 sparse matrix of type '<type 'numpy.float32'>'\n",
       "\twith 198963 stored elements in Compressed Sparse Row format>"
      ]
     },
     "execution_count": 142,
     "metadata": {},
     "output_type": "execute_result"
    }
   ],
   "source": [
    "data['item_features']"
   ]
  },
  {
   "cell_type": "code",
   "execution_count": 185,
   "metadata": {
    "collapsed": true
   },
   "outputs": [],
   "source": [
    "user_id=pd.read_csv(\"map_question.csv\",header=None)"
   ]
  },
  {
   "cell_type": "code",
   "execution_count": 187,
   "metadata": {
    "collapsed": false
   },
   "outputs": [
    {
     "data": {
      "text/plain": [
       "78047"
      ]
     },
     "execution_count": 187,
     "metadata": {},
     "output_type": "execute_result"
    }
   ],
   "source": [
    "len(np.unique(user_id.iloc[:,0]))"
   ]
  },
  {
   "cell_type": "code",
   "execution_count": 184,
   "metadata": {
    "collapsed": false
   },
   "outputs": [
    {
     "data": {
      "text/plain": [
       "array([0, 1, 2])"
      ]
     },
     "execution_count": 184,
     "metadata": {},
     "output_type": "execute_result"
    }
   ],
   "source": [
    "x = np.array([[[0], [1], [2]]])\n",
    "np.squeeze(x)"
   ]
  },
  {
   "cell_type": "code",
   "execution_count": 193,
   "metadata": {
    "collapsed": true
   },
   "outputs": [],
   "source": [
    "user_answers=pd.read_csv(\"mathoverflow_Recommender_System\\User_answers.csv\",header=None)"
   ]
  },
  {
   "cell_type": "code",
   "execution_count": 194,
   "metadata": {
    "collapsed": false
   },
   "outputs": [
    {
     "data": {
      "text/plain": [
       "'<p>Here\\'s a reduction to the finite dimensional case.  Let $F$ be a finite set of subspaces of $X$.  For each finite dimensional subspace $Y$ of $X$, let $u(Y)$ be the set of elements $Z$ of $F$ such that $Y$ is contained in $Z$.  By assumption, $u(Y)$ is non-empty for every $Y$.  Since any two finite dimensional subspaces are contained in a third, the intersection of the sets $u(Y)$, as $Y$ runs among all finite dimensional subspaces of $X$, is non-empty.  Hence there is at least one set in $F$ that contains every finite dimensional subspace of $X$, hence contains $X$.</p>\\r\\n\\r\\n<p>For the finite dimensional case, let $F$ be a finite set of subspaces of $X$.  By induction, every codimension 1 subspace of $X$ is contained in some $Y$ from $F$.  But there are infinitely many codimension $1$ subspaces, so some $Y$ in $F$ contains more than one such subspace.  Any two distinct codimension 1 subspaces $\\\\operatorname{span} X$ (if $\\\\dim X &gt; 1$) so $Y = X$.</p>\\r\\n <p>A variation on Ishai\\'s example is a closed embedding: its sheaf of relative differentials is <code>0</code>, hence free of finite rank, even though it needn\\'t be smooth.</p>\\r\\n\\r\\n<p>However, <code>k[e] / e^2</code> over <code>k</code> is not actually a counterexample (except in characteristic <code>2</code>).  The module of relative differentials of <code>Spec k[e] / e^2</code> over <code>Spec k</code> is not free if the characteristic of <code>k</code> is not 2.  Let <code>A = k[e]</code> and <code>B = k[e] / e^2</code>.  Then </p>\\r\\n\\r\\n<pre><code>Omega_B = Omega_A (x) B / d(e^2) = k[e] / (e^2, 2e)\\r\\n</code></pre>\\r\\n\\r\\n<p>via the isomorphism <code>Omega_A --&gt; A : dt --&gt; 1</code>.  This is not isomorphic to <code>B</code> unless <code>2 = 0</code>.</p>\\r\\n\\r\\n<p>On the other hand, you can conclude that <code>B</code> is smooth if its cotangent complex is a vector bundle in degree 0.  In the case of <code>k[e] / e^2</code>, the cotangent complex is </p>\\r\\n\\r\\n<pre><code>[ I_{B/A} / I_{B/A}^2 ---&gt; Omega_A (x) B ] = [ e^2 A / e^4 A ---&gt; B de ]\\r\\n</code></pre>\\r\\n\\r\\n<p>in degrees <code>[-1,0]</code> and the differential is the universal derivation.  (I write <code>I_{B/A}</code> for the ideal of <code>B</code> in <code>A</code>.)  Even in characteristic <code>2</code>, the differential has a kernel, so the cotangent complex is not concentrated in degree <code>0</code>.</p>\\r\\n <p>(My girlfriend explained this to me.)  After Anton\\'s observation, it\\'s sufficient to show that <code>f = id</code> if <code>f</code> fixes more than half of <code>G</code>.  But the elements of <code>G</code> fixed by an automorphism form a group and this group has index less than <code>2</code> by assumption, hence is all of <code>G</code>.</p>\\r\\n <p>I think it\\'s okay if you rephrase like this: let X be a scheme with ring of fractions R.  Then the normalization of X is the universal example of a normal scheme with ring of fractions R mapping to X.</p>\\r\\n <p>It is fruitful to think of Ext^1 as a generalization of Hom.  If A and B are objects of an abelian category, the set Hom(A,B) has the structure of an abelian group.  Here is one way to define the group law: any two maps A --> B induce a map A x A --> B x B.  This induces a sequence</p>\\r\\n\\r\\n<pre><code>A --&gt; A x A --&gt; B x B --&gt; B\\r\\n</code></pre>\\r\\n\\r\\n<p>where the first map is the diagonal and the last is the codiagonal (the addition map).  The composition is the sum.  (What we are using here is that finite products and finite direct sums coincide in an abelian category; in fact, this can be taken as the definition of an abelian category.)</p>\\r\\n\\r\\n<p>We have used three properties of Hom to construct the addition map: Hom is covariant in the second variable, contravariant in the first, and comes with a canonical map </p>\\r\\n\\r\\n<pre><code>Hom(A,B) x Hom(A\\',B\\') --&gt; Hom(A x A\\', B x B\\')\\r\\n</code></pre>\\r\\n\\r\\n<p>(plus some compatibilities which I have suppressed).  If we define Ext^1(A,B) to be the category of extensions </p>\\r\\n\\r\\n<pre><code>0 --&gt; B --&gt; E --&gt; A --&gt; 0\\r\\n</code></pre>\\r\\n\\r\\n<p>we see that it also has these properties (using base change for the variable A and pushout for the variable B).  Thus we get a group law on the <em>category</em> Ext^1(A,B).  Passing to isomorphism classes gives the usual group law on the <em>set</em> Ext^1(A,B).</p>\\r\\n\\r\\n<p>The zero object of Ext^1(A,B) also corresponds nicely to the zero object of Hom(A,B).  In the latter case it is constructed by pushing forward the unique map A --> 0 via the unique map 0 --> B.  For Ext^1(A,B), we push forward the unique extension of A by 0 </p>\\r\\n\\r\\n<pre><code>0 --&gt; 0 --&gt; A --&gt; A --&gt; 0\\r\\n</code></pre>\\r\\n\\r\\n<p>by the unique map 0 --> B and get</p>\\r\\n\\r\\n<pre><code>0 --&gt; B --&gt; B x A --&gt; A --&gt; 0.\\r\\n</code></pre>\\r\\n\\r\\n<p>So an extension of A by B is zero if and only if it admits a splitting.  Thus in the category of vector spaces over a field, Ext^1(A,B) is always zero because can always be split.</p>\\r\\n <p>Virtually every page I\\'ve read of EGA/SGA has been useful to me, and almost every page I\\'ve skimmed I\\'ve later wished I\\'d read in more detail.  The reputation for difficulty is, I think, unfounded.  They are certainly abstract, but virtually every detail is present; in many ways, that makes EGA/SGA easier to read than other sources.  Opening a volume and reading a sub-paragraph from the middle can be difficult because of all the back-references, but reading linearly can be very pleasant and rewarding.  The French language may be a barrier for some, but one doesn\\'t have to \"learn French\" to learn enough to understand EGA.</p>\\r\\n <p>A representation of G on a vector space V is a descent datum for V, viewed as a vector bundle over a point, to BG.  That is, linear representations of G are \"the same\" as vector bundles on BG.  So the question is equivalent to the analogous question about deformations of vector bundles on BG.  We could just as easily ask about deformations of vector bundles on any space X.</p>\\r\\n\\r\\n<p>Given a vector bundle V on X, consider the category of all first-order deformations of V.  An object is a vector bundle over X\\', where X\\' is an infinitesimal thickening (in the example, one may take X = BG x E where E is a local Artin ring and X\\' = BG x E\\' where E\\' is a square-zero extension whose ideal is isomorphic as a module to the residue field).  A morphism is a morphism of vector bundles on X\\' that induces the identity morphism on V over X.</p>\\r\\n\\r\\n<p>If X is allowed to vary, this category varies contravariantly with X.  Vector bundles satisfy fppf descent, so this forms a fppf stack over X.</p>\\r\\n\\r\\n<p>This stack is very special: locally it has a section (fppf locally a deformation exists) and any two sections are locally isomorphic.  It is therefore a <em>gerbe</em>.  Moreover, the isomorphism group between any two deformations of V is <em>canonically</em> a torsor under the group End(V) (this is fun to check).  </p>\\r\\n\\r\\n<p>Gerbes banded by an abelian group H are classified by H^2(X,H) (this is also fun to check); the class is zero if and only if the gerbe has a section.  If the gerbe has a section, the isomorphism classes of sections form a torsor under H^1(X,H).  The isomorphisms between any two sections form a torsor under H^0(X,H).  (This implies that the automorphism group of any section is H^0(X,H).)</p>\\r\\n\\r\\n<p>In our case, H = End(V), so we obtain a class in H^2(X,End(V)) and if this class is zero, our gerbe has a section, i.e., a deformation exists.  In this case, all deformations form a torsor under H^1(X,End(V)), and the automorphism group of a deformation is H^0(X,End(V)).</p>\\r\\n\\r\\n<p>All of the cohomology groups above are sheaf cohomology in the fppf topology.  If you are using a different definition of group cohomology, there is still something to check.</p>\\r\\n <p>Anton\\'s example can be modified to avoid the \"empty set\".  Here\\'s one way: let X be the category associated to the partially ordered set</p>\\r\\n\\r\\n<p>a &le; b &le; c &le; e</p>\\r\\n\\r\\n<p>b &le; d &le; e</p>\\r\\n\\r\\n<p>Give this the minimal topology in which c and e cover d and a covers b.  Let F be the presheaf with F(a) = 1, F(b) = F(c) = F(d) = S, F(e) = &empty;.  Then F<sup>+</sup>(b) = 1, F<sup>+</sup>(c) = F<sup>+</sup>(d) = F<sup>+</sup>(e) = S.  This is not a sheaf, since F<sup>++</sup>(e) = S x S.</p>\\r\\n\\r\\n<p>Of course, all I have done is to introduce an object a to play the role of the empty cover in Anton\\'s example.  It\\'s probably worth remarking, however, that what makes the empty <em>set</em> empty (from the point of view of sheaves) is that it is covered by the empty <em>cover</em>.  In fact, the usual topology on the category of open subsets of {p,q} can be modified so that the empty subset is not covered by the empty cover.  With respect to this topology, the presheaf F that Anton defined is already a sheaf.</p>\\r\\n <p>Let $X$ be a topological space, and $T$ its category of open sets with the usual Grothendieck topology.  Let $T\\'$ be any sieve of $T$ (a subcategory of $T$ such that if $U$ is in $T\\'$ then any subset of $U$ is also in $T\\'$).  For example, $T\\'$ might be the collection of open subsets subordinate to the open subsets in a cover $\\\\mathcal{U}$.  Any sheaf on $T$ induces a functor on $T\\'$ which can be viewed as a sheaf on $T\\'$ if $T\\'$ is given the minimal topology (the only covers are the identity maps).  This determines a morphism of topoi $f : T \\\\rightarrow T\\'$, hence a spectral sequence</p>\\r\\n\\r\\n<p>$H^p(T\\', R^q f\\\\_\\\\ast F) \\\\Rightarrow H^{p+q}(T, F)$ .</p>\\r\\n\\r\\n<p>(One could surely also convince oneself that such a spectral sequence exists without any reference to topoi.)</p>\\r\\n\\r\\n<p>The Cech cohomology of $F$ with respect to some covering family $\\\\mathcal{U}$ is </p>\\r\\n\\r\\n<p>$H^p(\\\\mathcal{U}, F) = H^p(T\\', f\\\\_\\\\ast F)$</p>\\r\\n\\r\\n<p>where $T\\' = T\\'(U)$ is the sieve associated to the cover $\\\\mathcal{U}$.  The Cech cohomology is then the filtered colimit</p>\\r\\n\\r\\n<p>$\\\\check{H}^p(T, F) = \\\\varinjlim\\\\_{(T\\',f)} H^p(T\\', f\\\\_\\\\ast F)$</p>\\r\\n\\r\\n<p>taken over the projections $f : T \\\\rightarrow T\\'$ associated as above to covering families $\\\\mathcal{U}$.</p>\\r\\n\\r\\n<p>One evidently has edge homomorphisms</p>\\r\\n\\r\\n<p>$\\\\check{H}^p(T, F) \\\\rightarrow H^p(T, F)$</p>\\r\\n\\r\\n<p>from the spectral sequence, and the question is when these induce an isomorphism.  If we could somehow eliminate the $R^p f\\\\_\\\\ast F$, $p &gt; 0$, by passing to a \"small enough\" cover we would have equality.  This condition already holds in many cases; the following condition is more general (but I haven\\'t checked carefully that it actually works!):</p>\\r\\n\\r\\n<p>For every cover $\\\\mathcal{U}$ of $X$, every $U\\\\_1, \\\\ldots, U\\\\_n \\\\in \\\\mathcal{U}$, and every class in $\\\\alpha \\\\in H^p(U\\\\_1 \\\\mathop{\\\\times}\\\\_X \\\\cdots \\\\mathop{\\\\times}\\\\_X U\\\\_n, F)$, $p &gt; 0$, there exists a refinement $\\\\mathcal{U}\\'$ of $\\\\mathcal{U}$ such that the restriction of $\\\\alpha$ under the map</p>\\r\\n\\r\\n<p>$H^p(U\\\\_1 \\\\mathop{\\\\times}\\\\_X \\\\cdots \\\\mathop{\\\\times}\\\\_X U\\\\_n, F) \\\\rightarrow H^p(U\\'\\\\_1 \\\\mathop{\\\\times}\\\\_X \\\\cdots \\\\mathop{\\\\times}\\\\_X U\\'\\\\_n, F)$</p>\\r\\n\\r\\n<p>is zero.</p>\\r\\n\\r\\n<p>To make sense of this, one must use some convention for the covers $\\\\mathcal{U}$ and $\\\\mathcal{U}\\'$ to ensure there is a map as above.  For example, one could work only with covers indexed by the points of $X$ (a cover is then a collection of neighborhoods of each point of $X$).</p>\\r\\n\\r\\n<p>A more refined version of the above condition would say that Cech cohomology equals cohomology in degrees at most $q$ if the above condition holds for $p \\\\leq q$.  Since it always holds for $p = 0,1$ this implies that</p>\\r\\n\\r\\n<p>$\\\\check{H}^1(T, F) = H^1(T, F)$ </p>\\r\\n\\r\\n<p>in general.</p>\\r\\n\\r\\n<p><strong>Edit in response to David\\'s comment:</strong></p>\\r\\n\\r\\n<p>The Cech complex always computes cohomology correctly in a presheaf category (i.e., when the topology is \"chaotic\": an object has no covers by anything except itself).  Trying to compute cohomology in an arbitrary site using the Cech complex is (heuristically) something like trying to approximate the site by a presheaf category.</p>\\r\\n\\r\\n<p>Here is how Cech cohomology computes cohomology of presheaves.  Consider any category $T\\'$.  If $F$ is a presheaf of groups on $T\\'$ then the sheaf cohomology groups of $F$ are the derived functors of the inverse limit for diagrams of shape $T\\'$.  They are also computed as</p>\\r\\n\\r\\n<p>$Ext(\\\\mathbf{Z}, F)$</p>\\r\\n\\r\\n<p>where $\\\\mathbf{Z}$ is the constant sheaf associated to the integers.  Remarkably, in a presheaf category, $\\\\mathbf{Z}$ has a canonical projective resolution associated to any cover of the final presheaf.  A cover of the final presheaf is a collection of objects $U$ of $T\\'$ such that every object of $T\\'$ has a map to at least one object of $U$.  The $i$-th term of this complex is the direct sum, over all choices of $i$ elements $U_1, ..., U_i$ of $U$, of the groups $\\\\mathbf{Z}_{U_1 \\\\times \\\\cdots \\\\times U_i}$.  (You can check this is projective by noting it is the extension by $0$ of $\\\\mathbf{Z}$ from the slice category $T\\' / U_1 \\\\times \\\\cdots \\\\times U_i$ and extension by $0$ preserves projectives (since it has an exact right adjoint) and $\\\\mathbf{Z}$ is projective on the slice category since all higher cohomology of all sheaves vanishes (since it has a final object).  It\\'s also easy to check by a direct calculation.) </p>\\r\\n\\r\\n<p>Denote this complex by $K$.  Since this is a projective resolution of $\\\\mathbf{Z}$, $\\\\mathrm{Hom}(K, F)$ computes the cohomology of $F$.  But it is also easy to see that this is just the Cech complex of $F$.</p>\\r\\n <p>A presheaf $F$ with values in $C$ is a called a sheaf if, for every object $X$ and every covering sieve $R$ of $X$, the natural maps</p>\\r\\n\\r\\n<p>$F(X) \\\\rightarrow F(Y)$</p>\\r\\n\\r\\n<p>for each Y in R induce an isomorphism</p>\\r\\n\\r\\n<p>$F(X) \\\\xrightarrow{\\\\sim} \\\\varprojlim_{Y \\\\in R} F(Y)$</p>\\r\\n\\r\\n<p>This definition makes sense without any assumptions on $C$.</p>\\r\\n\\r\\n<p>The sheafification construction makes use of filtered colimits and essentially arbitrary limits (if you are interested in sheaves on a particular topology then you might be able to restrict the class of limits that need to be considered).  It is defined by iterating the construction</p>\\r\\n\\r\\n<p>$F^+(X) = \\\\varinjlim_{R} \\\\varprojlim_{Y \\\\in R} F(Y)$</p>\\r\\n\\r\\n<p>where the $\\\\varinjlim$ is taken over covering sieves of $X$.  If $F$ is set-valued, the associated sheaf of $F$ is $F^{++}$.</p>\\r\\n\\r\\n<p>I don\\'t know what conditions on $C$ are necessary to make the sheafification of a presheaf in $C$ a sheaf, but I wouldn\\'t expect the construction to behave very well unless $C$ is a fairly special category.</p>\\r\\n\\r\\n<p>(Categories of algebraic structures on sets defined by finite inverse limits would qualify as \"special\", essentially because filtered colimits commute with finite inverse limits.)</p>\\r\\n <p>First a correction: the cotangent complex of a local complete intersection embedding is concentrated in degree -1, not in degree 1.</p>\\r\\n\\r\\n<p>In general, the cotangent complex of an algebraic space can be supported in arbitrary non-positive degrees.  The cotangent complex of an Artin stack can be nonzero in degree 1.  The degrees in which the cotangent complex is concentrated imply various things about a morphism of schemes:</p>\\r\\n\\r\\n<p>it is perfect in degree 0 if and only if the map is smooth;</p>\\r\\n\\r\\n<p>it is perfect in $[-1,0]$ if and only if the map is lci;</p>\\r\\n\\r\\n<p>$H^1 = 0$ if and only if it is a DM stack;</p>\\r\\n\\r\\n<p>$H^0 = H^1 = 0$ if and only if it is an etale local immersion.</p>\\r\\n\\r\\n<p>Other people have already said some things about the relationship to deformation theory.  The cotangent complex actually has two immediate relationships to deformation theory: one to the deformations of morphisms and one to the deformation of spaces.</p>\\r\\n\\r\\n<p>In what\\'s written below, $L_X$ is the absolute cotangent complex and $L_{X/S}$ is the relative cotangent complex.</p>\\r\\n\\r\\n<p>If $f : S \\\\to X$ is a map of schemes and $S\\'$ is a square-zero extension of $S$ with ideal $J$, there is an obstruction to extending $f$ to $S\\'$ in the group $Ext^1(f^\\\\ast L_X, J)$.  If this obstruction vanishes, such extensions have a canonical structure of a torsor under $Ext^0(f^\\\\ast L_X, J)$.</p>\\r\\n\\r\\n<p>If $p : X\\\\to S$ is a morphism, $S\\'$ is a square-zero extension with ideal $J$, and $p^\\\\ast J \\\\rightarrow I$ is a homomorphism of quasi-coherent sheaves on $X$, then the problem of finding a square-zero extension $X\\'$ with ideal $I$ and a map $X\\' \\\\to S\\'$ extending $X \\\\to S$ compatible with the given map on ideals is obstructed by a class in $Ext^2(L_{X/S}, I)$.  If this class is zero, isomorphism classes of solutions form a torsor under $Ext^1(L_{X/S}, I)$ and isomorphisms between any two solutions form a torsor under $Ext^0(L_{X/S}, I)$.</p>\\r\\n <p>Since ${\\\\bf P}^n$ is the quotient of ${\\\\bf A}^{n+1} - 0$ by the action of ${\\\\bf G}_m$, the tangent bundle of ${\\\\bf P}^n$ is the quotient of the tangent bundle of ${\\\\bf A}^{n+1} - 0$ by the action of the tangent bundle of ${\\\\bf G}_m$:</p>\\r\\n\\r\\n<p>$T {\\\\bf P}^n = T ({\\\\bf A}^{n+1} - 0) / T {\\\\bf G}_m$ .</p>\\r\\n\\r\\n<p>As a group, the tangent bundle of ${\\\\bf G}_m$ is the product of ${\\\\bf G}_m$ and a 1-dimensional vector space V.  Therefore we can take the quotient of everything on the right side above by ${\\\\bf G}_m$.  Note that $T({\\\\bf A}^{n+1}-0)$ is the product of ${\\\\bf A}^{n+1} - 0$ with the direct sum of (n+1) copies of the weight one representation of ${\\\\bf G}_m$.  Therefore its quotient by ${\\\\bf G}_m$ is $\\\\mathcal{O}_{{\\\\bf P}^n}(1)^{n+1}$.  We get</p>\\r\\n\\r\\n<p>$T {\\\\bf P}^n = \\\\mathcal{O}_{{\\\\bf P}^n}(1)^{n+1} / V$ .</p>\\r\\n\\r\\n<p>A (linear) action of a one-dimensional vector space on a vector bundle is the same thing as an exact sequence, so this gives the Euler sequence.</p>\\r\\n <p>When I\\'m stuck on a problem, I practice writing letters in various fonts.  I suppose this isn\\'t up to par with other mathematicians\\' doodles (I\\'m told Riemann would calculate the cube root of 3), but it keeps my handwriting reasonably neat.</p>\\r\\n <p>This is probably neither the sort of infinity nor the sort of simplification you\\'re looking for, but B&eacute;zout\\'s theorem is a challenge to prove, let alone state, without a line at infinity.  I don\\'t know if it would be suitable for a general audience either, but in its favor, it has a very nice statement using both the infinite and the infinitesimal (i.e., contact multiplicity).</p>\\r\\n <p>Displayed formulas can serve two roles in a math paper: as abbreviations for text that would otherwise be unreadable, and as figures (or illustrations) that are referred to by the text but are not part of it grammatically.  My opinion is that in the former case they should be punctuated, but in the latter they should not.</p>\\r\\n\\r\\n<p>Here are some examples.</p>\\r\\n\\r\\n<p>1) If $x$ and $y$ are the coordinates of a point on a circle of radius $r$ then</p>\\r\\n\\r\\n<p>$x^2 + y^2 = r^2$.</p>\\r\\n\\r\\n<p>2) The coordinates of a point of a circle of radius $r$ satisfy the following equation.</p>\\r\\n\\r\\n<p>$x^2 + y^2 = r^2$</p>\\r\\n\\r\\n<p>3) The following diagram commutes.</p>\\r\\n\\r\\n<p>(diagram without any punctuation)</p>\\r\\n\\r\\n<p>I think these examples demonstrate the necessity of distinguishing the two roles a displayed equation can play.  As Simon already pointed out above, there is no reasonable place to put a punctuation mark in a commutative diagram, presumably because a commutative diagram can\\'t be read aloud.  On the other hand, it\\'s difficult to view the sentence in the first example as complete without a period at the end of the equation.</p>\\r\\n\\r\\n<p>I suggest the following rule of thumb: if the formula can be removed from the text without breaking the flow of a sentence, then it does not need to punctuated.  Otherwise, it should be punctuated as it would be if the symbols were expanded into words.</p>\\r\\n\\r\\n<hr>\\r\\n\\r\\n<p>Many authors use a colon where I used a period in the second example and follow the equation with a period.</p>\\r\\n\\r\\n<p>2\\') The coordinates of a point on circle of radius $r$ satisfy the following equation:</p>\\r\\n\\r\\n<p>$x^2 + y^2 = r^2$.</p>\\r\\n\\r\\n<p>I don\\'t consider this incorrect, but I do consider it a completely different sentence from 2).</p>\\r\\n <p>Restriction to an open subset has an exact left adjoint (extension by zero).</p>\\r\\n <p>There\\'s a proof of the snake lemma without elements (a non-elementary proof?) on my (old) website.</p>\\r\\n\\r\\n<p><a href=\"http://math.stanford.edu/~jonathan/papers/snake.pdf\" rel=\"nofollow\">http://math.stanford.edu/~jonathan/papers/snake.pdf</a></p>\\r\\n\\r\\n<p><b>Edit</b>: I added a section about the salamander lemma.</p>\\r\\n\\r\\n<p><b>Much later edit</b>:  As Charles Rezk points out below, my proof of the salamander lemma is correct only in a special case.  I will correct the proof when I find the tex file.</p>\\r\\n\\r\\n<p>What makes working with elements in an abelian category easier than working with objects is that elements of the target of an epimorphism can be lifted to the source.  If your abelian category has enough projectives, then a proof with elements can usually be adapted to one without elements by replacing each element by a surjection from a projective object.  If you don\\'t have enough projectives, you can still get by without elements.  You have to replace the concept of \"element\" with \"epimorphism from something\"; then every \"element\" can still be lifted by passing to a more refined epimorphism.</p>\\r\\n\\r\\n<p>This is just code for working locally in the topology generated by epimorphisms.  (That it is a topology is implied by AB2.)  Since there are always enough injective sheaves of abelian groups, this gives an exact embedding of any abelian category in an abelian category with enough injectives (or, if we work with \"cotopologies\", a category with enough projectives).  This permits one to apply the simpler approach outlined above (using projectives) rather than \"pro-epimorphisms\".</p>\\r\\n\\r\\n<p>Once one has an embedding in a Grothendieck abelian category (the category of sheaves of abelian groups always is one), it is not much further to a proof of Mitchell\\'s embedding theorem anyway.</p>\\r\\n <p>Gromov--Witten invariants are designed to count the \"number\" of curves in a space in a deformation invariant way.  Since the number of curves can change under deformations, the Gromov--Witten invariants won\\'t have a direct interpretation in terms of actual numbers of curves, even taking automorphisms into account.</p>\\r\\n\\r\\n<p>Here is an example of how a negative number might come up, though strictly speaking it isn\\'t a Gromov--Witten invariant.  Let M be the moduli space of maps from P^1 to a the total space of O(-4) on P^1.  Call this space X.  Note that I said maps from P^1, not a genus zero curve, so the source curve is rigid.  That\\'s why this isn\\'t Gromov--Witten theory.  Any such map factors through the zero section (since O(-4) has no nonzero sections), so this space is the same as the space of maps from P^1 to itself.  I just want to look at degree one maps, so the moduli space is 3 dimensional.</p>\\r\\n\\r\\n<p>We could also compute the dimension using deformation theory: the deformations of a map f are classified by $H^0(f^\\\\ast T)$ where T is the tangent bundle of the target.  The target in this case is O(-4), not just P^1, and the tangent bundle restricts to O(2) + O(-4) on the zero section.  Thus $H^0(f^\\\\ast T)$ is indeed 3-dimensional, as we expected.  However, the Euler characteristic of $f^\\\\ast T$ is not 3 but 0, which means that the \"expected dimension\" is zero.</p>\\r\\n\\r\\n<p>The meaning of expected dimension is rather vague.  Roughly speaking, it is the dimension of the moduli space for a \"generic\" choice of deformation.  The trouble is that such a deformation might not actually exist.  Nevertheless, we can still pretend that a generic deformation does exist and, if the expected dimension is zero, compute the number of curves that it \"should\" have.</p>\\r\\n\\r\\n<p>What makes this possible is the obstruction bundle E on M.  Any deformation of X gives rise to a section of E and the vanishing locus of this section is the collection of curves that can be deformed to first order along with X.  Even though a generic deformation might not exist, the obstruction bundle does still exist, and we can make sense of the vanishing locus of a generic section by taking the top Chern class.</p>\\r\\n\\r\\n<p>In our situation, the (fiber of the) obstruction bundle is $H^1(f^\\\\ast T)$.  Since O(2) does not contribute to H^1, the obstruction bundle is $R^1 p_\\\\ast f^\\\\ast O_{P^1}(-4) = R^1 p_\\\\ast O_{P^3 \\\\times P^1}(-4, -4)$ where $p : P^3 \\\\times P^1 \\\\rightarrow P^3$ is the projection.  By the projection formula, this is $O(-4)^{\\\\oplus 3}$ and the top Chern class is -64.  This is the \"Gromov--Witten invariant\" of maps from P^1 to $O_{P^1}(-4)$.</p>\\r\\n\\r\\n<p>Unfortunately, I don\\'t have anything to say about what this -64 means...</p>\\r\\n <p>I\\'m just going to consider the local rings with residue field $\\\\mathbf{F}_p$.</p>\\r\\n\\r\\n<p>Suppose A\\' is an extension of $\\\\mathbf{Z}/p$ with ideal $\\\\mathbf{Z}/p$.  If we take the fiber product with $\\\\mathbf{Z}$, we get an extension of $\\\\mathbf{Z}$ with ideal $\\\\mathbf{Z}/p$.  Up to isomorphism, there is only one such extension: $B\\' = \\\\mathbf{Z}[t] / (t^2, pt)$.  The kernel of the map from B\\' to A\\' is isomorphic to $\\\\mathbf{Z}$ and reduces modulo t to the ideal generated by p.  Therefore, the square-zero extensions of $\\\\mathbf{Z}/p$ are all isomorphic to $\\\\mathbf{Z}[t] / (t^2, pt, p + \\\\lambda t)$ for some $\\\\lambda \\\\not= 0$.  If $\\\\lambda$ is not a multiple of p, we get $\\\\mathbf{Z} / p^2$; if $\\\\lambda$ is a multiple of $p$, we get $\\\\mathbf{Z}[t] / (p, tp, t^2) = \\\\mathbf{F}_p[t] / t^2$.  So these are all the length 2 finite local rings with residue field $\\\\mathbf{F}_p$.</p>\\r\\n\\r\\n<p>For length 3, we\\'ll look for extensions of $\\\\mathbf{Z} / p^2$ by $\\\\mathbf{Z} / p$.  The same analysis shows that these are all of the form $\\\\mathbf{Z}[t] / (t^2, pt, p^2 + \\\\lambda t)$.  If $\\\\lambda$ is not divisible by $p$, we get $\\\\mathbf{Z} / p^3$ and if $\\\\lambda$ is divisible by $p$ we get $\\\\mathbf{Z}[t] / (p^2, pt, t^2)$.</p>\\r\\n\\r\\n<p>We also have to look for extensions of $\\\\mathbf{F}_p[t] / t^2$.  By base change, any such extension A\\' gives an extension B\\' of $\\\\mathbf{Z}[t]$ with ideal $\\\\mathbf{Z} / p$.  Once again, there is only one of these up to isomorphism (since $\\\\mathbf{Z}[t]$ is projective, for example) and it is given by $\\\\mathbf{Z}[t,u] / (u^2, pu, tu)$.  The ideal of the map from B\\' to A\\' generates the ideal of the map from $\\\\mathbf{Z}[t]$ to $\\\\mathbf{F}_p[t] / t^2$.  Since this is generated by p and t^2 the ideal of A\\' in B\\' is generated by $(p + \\\\lambda u, t^2 + \\\\mu u)$ and A\\' is of the form</p>\\r\\n\\r\\n<p>$\\\\mathbf{Z}[t,u] / (u^2, pu, tu, p + \\\\lambda u, t^2 + \\\\mu u)$</p>\\r\\n\\r\\n<p>for some polynomials $\\\\lambda, \\\\mu \\\\in \\\\mathbf{Z}[t]$.  </p>\\r\\n\\r\\n<hr>\\r\\n\\r\\n<p>Edit: If $\\\\lambda$ is not in $(p, t)$ then it is invertible in the quotient, so we get </p>\\r\\n\\r\\n<p>$\\\\mathbf{Z}[t,u] / (p^2, tp, t^2 + \\\\mu \\\\lambda^{-1} p)$.</p>\\r\\n\\r\\n<p>There are two possibilities up to isomorphism here, depending on whether $- \\\\mu \\\\lambda^{-1}$ is a quadratic residue modulo p.</p>\\r\\n\\r\\n<p>If $\\\\lambda$ is in $(p,t)$ we get</p>\\r\\n\\r\\n<p>$\\\\mathbf{Z}[t,u] / (u^2, pu, tu, p, t^2 + \\\\mu u) = \\\\mathbf{F}_p[t,u] / (u^2, tu, t^2 + \\\\mu u)$.</p>\\r\\n\\r\\n<p>The $\\\\mu$ is also not in $(p, t)$ then we get $\\\\mathbf{F}[t] / t^3$.  If $\\\\mu$ is in $(p,t)$ we get $\\\\mathbf{F}_p[t,u] / (u^2, tu, t^2)$.</p>\\r\\n\\r\\n<p>Modulo any mistake I made above, I think a complete list is of length 3 finite local rings with residue field $\\\\mathbf{F}_p$ is</p>\\r\\n\\r\\n<ol>\\r\\n<li>$\\\\mathbf{Z} / p^3$,</li>\\r\\n<li>$\\\\mathbf{Z}[t] / (p^2, pt, t^2)$,</li>\\r\\n<li>$\\\\mathbf{Z}[t] / (t^2 - p, t^3)$,</li>\\r\\n<li>$\\\\mathbf{Z}[t] / (t^2 - \\\\alpha p, t^3)$ where $\\\\alpha$ is a non-quadratic residue modulo $p$,</li>\\r\\n<li>$\\\\mathbf{F}_p[t] / t^3$, and</li>\\r\\n<li>$\\\\mathbf{F}_p[t,u] / (t,u)^2$.</li>\\r\\n</ol>\\r\\n <p>Say X is a scheme and E is an $\\\\mathbf{A}^1$-linear scheme over X (a group scheme over X with an action of the sheaf of rings $\\\\mathbf{A}^1$).  You are asking when it is possible for E to be quasi-coherent.  If E is quasi-coherent and of finite type then it admits a surjection from a finite dimensional vector space F over X.  For any point $e \\\\in E$, </p>\\r\\n\\r\\n<p>$\\\\dim_{p(e)} E + \\\\dim_e F = \\\\dim_{p(e)} F$.</p>\\r\\n\\r\\n<p>This implies that if the dimension of a fiber of E over X jumps, the dimension of the corresponding fiber of F over E must drop, which is impossible.</p>\\r\\n <p>Fields are characterized in the category of rings by the property that an epimorphism whose source is a field must be an isomorphism.  The prime ideals of a ring can be identified with the epimorphisms from that ring to fields.  From a categorical perspective, the prime spectrum therefore seems a more natural object than the max. spectrum.</p>\\r\\n\\r\\n<p>I don\\'t have a good explanation for the Zariski topology.  It is the coarsest topology in which the maps induced by homomorphisms of rings are continuous and the origin in $\\\\mathbf{A}^1$ is closed.  This is not very satisfying, though.</p>\\r\\n\\r\\n<p>The real reason the Zariski topology is important is because descent works for lots of things.  For example, a module defined Zariski locally over a ring can be glued to give a module over the original ring.  I wonder if the Zariski topology is the finest topology (i.e., finest Grothendieck topology defined by covers by <strike>subfunctors</strike> subobjects) in which descent works for quasi-coherent sheaves.  Does anyone know?</p>\\r\\n <p>Your derivation at the origin is a map $\\\\mathrm{Spec} k[\\\\epsilon] / \\\\epsilon^2 \\\\rightarrow G$ whose restriction to $\\\\epsilon = 0$ is the inclusion of the origin.  This induces a map </p>\\r\\n\\r\\n<p>$G \\\\times_{\\\\mathrm{Spec} k} \\\\mathrm{Spec} k[\\\\epsilon]/\\\\epsilon^2 \\\\rightarrow G \\\\times G \\\\rightarrow G$</p>\\r\\n\\r\\n<p>where the first map is the product with the map described above and the second is the multiplication map.  Dually, the composed map gives a map of sheaves of algebras</p>\\r\\n\\r\\n<p>$\\\\mathcal{O}_G \\\\rightarrow \\\\mathcal{O}_G[\\\\epsilon] / \\\\epsilon^2$</p>\\r\\n\\r\\n<p>which is the same thing as a derivation from $\\\\mathcal{O}_G$ to itself.</p>\\r\\n <p>If $X$ denotes the quotient sheaf $\\\\mathbf{G}_m / \\\\mathbf{Z}$ then the inclusion</p>\\r\\n\\r\\n<p>$\\\\mathbf{G}_m \\\\times_X \\\\mathbf{G}_m \\\\rightarrow \\\\mathbf{G}_m \\\\times \\\\mathbf{G}_m$</p>\\r\\n\\r\\n<p>can be identified with the action map</p>\\r\\n\\r\\n<p>$\\\\mathbf{G}_m \\\\times \\\\mathbf{Z} \\\\rightarrow \\\\mathbf{G}_m \\\\times \\\\mathbf{G}_m$.  </p>\\r\\n\\r\\n<p>Since this map is not quasi-compact, $X$ is not quasi-separated, so it is not an algebraic space by Knutson\\'s definition.</p>\\r\\n <p>Let me rephrase the question (and Ilya\\'s answer).  Given an arbitrary collection $X_i$ of schemes, is the functor (on affine schemes, say)</p>\\r\\n\\r\\n<p>$Y \\\\mapsto \\\\prod_i Hom(Y, X_i)$</p>\\r\\n\\r\\n<p>representable by a scheme?  If the $X_i$ are all affine, the answer is yes, as explained in the statement of the question.  More generally, any filtered inverse system of schemes with essentially affine transition maps has an inverse limit in the category of schemes (this is in EGA IV.8).  The topology in that case is the inverse limit topology, by the way.</p>\\r\\n\\r\\n<p>It is easy to come up with examples of infinite products of non-separated schemes that are not representable by schemes.  This is because any scheme has a locally closed diagonal.  In other words, if $Y \\\\rightrightarrows Z$ is a pair of maps of schemes then the locus in $Y$ where the two maps coincide is locally closed in $Y$.</p>\\r\\n\\r\\n<p>Suppose $Z$ is the affine line with a doubled origin.  Every distinguished open subset of an affine scheme $Y$ occurs as the locus where two maps $Y \\\\rightrightarrows Z$ agree.  Let $X = \\\\prod_{i = 1}^\\\\infty Z$.  Every countable intersection of distinguished open subsets of $Y$ occurs as the locus where two maps $Y \\\\rightarrow X$ agree.  Not every countable intersection of open subsets is locally closed, however, so $X$ cannot be a scheme.</p>\\r\\n\\r\\n<p>Since the diagonal of an infinite product of separated schemes is closed, a more interesting question is whether an infinite product of separated schemes can be representable by a scheme.  Ilya\\'s example demonstrates that the answer is no.</p>\\r\\n\\r\\n<p>Let $Z = \\\\mathbf{A}^2 - 0$.  This represents the functor that sends $Spec A$ to the set of pairs $(x,y) \\\\in A^2$ generating the unit ideal.  The infinite product $X = \\\\prod_{i = 1}^\\\\infty Z$ represents the functor sending $A$ to the set of infinite collections of pairs $(x_i, y_i)$ generating the unit ideal.  Let $B$ be the ring $\\\\mathbf{Z}[x_i, y_i, a_i, b_i]_{i = 1}^\\\\infty / (a_i x_i + b_i y_i = 1)$.  There is an obvious map $Spec B \\\\rightarrow X$.  Any (nonempty) open subfunctor $U$ of $X$ determines an open subfunctor of $Spec B$, and this must contain a distinguished open subset defined by the invertibility of some $f \\\\in B$.  Since $f$ can involve at most finitely many of the variables, the open subset determined by $f$ must contain the pre-image of some open subset $U\\'$ in $\\\\prod_{i \\\\in I} Z$ for some finite set $I$.  Let $I\\'$ be the complement of $I$.  If we choose a closed point $t$ of $U\\'$ then $U$ contains the pre-image of $t$ as a closed subfunctor.  Since the pre-image of $t$ is $\\\\prod_{i \\\\in I\\'} Z \\\\cong X$ this shows that any open subfunctor of $X$ contains $X$ as a closed subfunctor.</p>\\r\\n\\r\\n<p>In particular, if $X$ is a scheme, any non-empty open affine contains a scheme isomorphic to $X$ as a closed subscheme.  A closed subscheme of an affine scheme is affine, so if $X$ is a scheme it is affine.</p>\\r\\n\\r\\n<p>Now we just have to show $X$ is not an affine scheme.  <strike>It is a subfunctor of $W = \\\\prod_{i = 1}^\\\\infty \\\\mathbf{A}^2$, so if $X$ is an affine scheme, it is locally closed in $W$.  Since $X$ is not contained in any closed subset of $W$ except $W$ itself, this means that $X$ is open in $W$.  But then $X$ can be defined in $W$ using only finitely many of the variables, which is impossible.</strike></p>\\r\\n\\r\\n<p><b>Edit:</b>  Laurent Moret-Bailly pointed out in the comments below that my argument above for this last point doesn\\'t make sense.  Here is a revision:  Suppose to the contrary that $X$ is an affine scheme.  Then the morphism $p : X \\\\rightarrow X$ that projects off a single factor is an affine morphism.  If we restrict this map to a closed fiber then we recover the projection from $Z$ to a point, which is certainly not affine.  Therefore $X$ could not have been affine in the first place.</p>\\r\\n <p>I don\\'t know if this is in SGA IV.5, but that\\'s a good place to look for questions about Cech cohomology.</p>\\r\\n\\r\\n<p>As I described <a href=\"http://mathoverflow.net/questions/4214/equivalence-of-grothendieck-style-versus-cech-style-sheaf-cohomology/4223#4223\">here</a>, the Cech cohomology with respect to a cover is the same as the sheaf cohomology in the sieve associated to that cover.  If $\\\\mathcal{U}$ is a cover of $X$, let $R$ be the category whose objects are maps $V \\\\rightarrow X$ that factor through some object in $\\\\mathcal{U}$.  Then</p>\\r\\n\\r\\n<p>$\\\\check{H}^p(\\\\mathcal{U}, F) = \\\\varprojlim^{(p)}_{R} F = Ext^p(\\\\mathbf{Z}_R, F)$</p>\\r\\n\\r\\n<p>where $\\\\varprojlim^{(p)}$ is the $p$-th derived functor $\\\\varprojlim$.  This can be calculated by taking a projective resolution of $\\\\mathbf{Z}_R$.  Here are two ways to do it:</p>\\r\\n\\r\\n<p>$\\\\displaystyle K_p = \\\\sum_{i_1 &lt; i_2 &lt; \\\\cdots &lt; i_p} \\\\mathbf{Z}_{U_{i_1} \\\\cap \\\\cdots \\\\cap U_{i_p}}$</p>\\r\\n\\r\\n<p>$\\\\displaystyle L_p = \\\\sum_{i_1, \\\\ldots, i_p} \\\\mathbf{Z}_{U_{i_1} \\\\cap \\\\cdots \\\\cap U_{i_p}}$.`</p>\\r\\n\\r\\n<p>One must check, of course, that these are indeed resolutions.  (I don\\'t have a slick explanation of why they are resolutions.  The best I can do is to say that these complexes are associated via the Dold--Kan correspondence to simplicial resolutions of the final presheaf on $R$.)  Taking $Hom$ into $F$ yields the two Cech complexes in question.</p>\\r\\n <p>A Deligne--Mumford stack is an &eacute;tale-locally ringed topos that is locally equivalent to the &eacute;tale-locally ringed topos of an affine scheme.  A Deligne--Mumford stack is an algebraic space if its diagonal is an embedding.</p>\\r\\n <p>I\\'m having a little trouble teasing out exactly what your question is, so I\\'ll just write some things about sheaves that seem related and hope they are helpful.</p>\\r\\n\\r\\n<p>Suppose $C$ is a site.  Let $\\\\hat{C}$ be its category of presheaves and $\\\\tilde{C}$ its category of sheaves.  The topology defined in SGA 4, II.5 is on $\\\\hat{C}$, not on $\\\\tilde{C}$ as you suggest in your question.  Its purpose is to give a topology on $\\\\hat{C}$ such that the category of sheaves on $\\\\hat{C}$ (that is, contravariant functors satisfying descent on the category of contravariant functors on $C$) should coincide with the category of sheaves on $C$ (i.e., $\\\\tilde{\\\\hat{C}} = \\\\tilde{C}$).</p>\\r\\n\\r\\n<p>You\\'ve got the condition for being bicovering backwards: a map of presheaves $H \\\\rightarrow G$ is called bicovering if it is covering (with respect to the topology on $C$) and its diagonal $H \\\\rightarrow H \\\\times_G H$ is also covering.  (What it means for a map of sheaves to be covering is that for any map $X \\\\rightarrow G$ with $X$ representable, the sieve of $X$ induced by $H \\\\times_G X$ should be covering.)</p>\\r\\n\\r\\n<p>A Grothendieck topology on $C$ is described by asking certain <i>subfunctors</i> (sieves) of objects of $C$ to be covering.  If $H$ is a subfunctor of $G$ then the relative diagonal map is automatically an epimorphism since it is an isomorphism (by definition).  The covering sieves of $X$ are the subfunctors of $X$ that become isomorphic to $X$ upon passing to associated sheaves.</p>\\r\\n\\r\\n<p>The bicovering business arises when one wants to study which arbitrary morphisms of presheaves (not just inclusions) become isomorphisms upon passing to associated sheaves.  The notion of a covering morphism of presheaves explains which morphisms become surjections of sheaves.  The question then remains: which morphisms become injections?  A map of sheaves is an injection if and only if its relative diagonal is a surjection, so the condition is that the relative diagonal be a covering map.</p>\\r\\n <p>It is representable by an fpqc sheaf (SGA I.VIII.4.4).  Also, since the inverse limit of affine schemes has the inverse limit topology (EGA IV.8), the sheaf is locally of finite presentation.  Since the open subsets of an infinitesimal thickening of a scheme are the same as those of the original scheme, this functor is even formally &eacute;tale over $\\\\mathrm{Spec} \\\\:\\\\mathbf{Z}$.  It\\'s therefore just about as close as it could be to being an algebraic space without actually being one.</p>\\r\\n\\r\\n<p>What goes wrong is algebraization.  If $X$ is an algebraic space and you have a complete local ring $R$ then $\\\\mathrm{Hom}(\\\\mathrm{Spec}\\\\:R,X) = \\\\varprojlim_n  \\\\mathrm{Hom}(\\\\mathrm{Spec}\\\\:R_n,X)$ where the $R_n$ are the quotients of $R$ by powers of the maximal ideal.  It\\'s pretty clear that this equality doesn\\'t hold for the sheaf of open subsets.</p>\\r\\n <p>I don\\'t think that Grothendieck topologies should be viewed as analogous to ordinary topologies.  It is true that a topology on a set induces various Grothendieck topologies on various categories, but so does every system of basic open neighborhoods.  In my opinion, it is more fruitful to think of a Grothendieck topology as the analogue of a system of basic open neighborhoods and a topos as the analogue of a topological space.</p>\\r\\n\\r\\n<p>Let me try to answer the following question, which may or may not be the question that is actually being asked: Why do we prefer topological spaces to systems of basic open neighborhoods, and topoi to Grothendieck topologies?  I think that the answer has to do with morphisms.</p>\\r\\n\\r\\n<p>To give a morphism of spaces with basic open neighborhoods, one must give a function that respects those neighborhoods.  One can\\'t, however, require that the pre-image of a basic open neighborhood be open.  Instead, one has to require that each point contained in the pre-image of a basic open neighborhood have a basic open neighborhood inside the pre-image.</p>\\r\\n\\r\\n<p>Not only is this definition more complicated than the one for topological spaces (and the extension to Grothendieck topologies is by no means obvious!), but there are multiple distinct but isomorphic systems of open neighborhoods on the same space.  A topology is a maximal system of open neighborhoods in a given isomorphism class, which makes it a \"best model\" for a particular notion of nearness.</p>\\r\\n\\r\\n<p>Another interpretation that makes this model appealing is that given a system of basic open neighborhoods, the open sets are the \"local properties\" (those that hold at a point if and only if they hold at all sufficiently nearby points).  (If one believes a slogan like \"there are two -1-categories: TRUE and FALSE\" then open sets are \"-1-sheaves\"; this completes the formal analogy with Grothendieck topologies and their associated topoi, which are their associated categories of \"0-sheaves\".)</p>\\r\\n <p>I\\'ve surely misunderstood your question or made a simple mistake, but it seems to me that if $X$ is allowed to vary then $Z({\\\\rm QCoh}(X))$ is a sheaf in the Zariski topology---call it $\\\\underline{Z}_X$---and there is a morphism of sheaves $\\\\mathcal{O}_X \\\\rightarrow \\\\underline{Z}_X$.  It\\'s an isomorphism in general because it\\'s an isomorphism when $X$ is affine.</p>\\r\\n\\r\\n<p><b>Edit:</b> Martin\\'s comment explains the simple mistake I made above, but I think it might be possible to salvage the argument.  I\\'m a little nervous about this though...</p>\\r\\n\\r\\n<p>Let $A_X$ be the smallest additive subcategory of the category of $\\\\mathcal{O}_X$-modules that contains ${\\\\rm QCoh}(X)$ and is closed under arbitrary products and kernels.  Any endomorphism of the identity functor of ${\\\\rm QCoh}(X)$ extends uniquely to an endomorphism of the identity functor of $A_X$ (since product and kernel are functors).  Therefore $Z(A_X) = Z({\\\\rm QCoh}(X))$.</p>\\r\\n\\r\\n<p>Since $f^{-1}$ commutes with arbitrary products and kernels, the categories $A_X$ for varying $X$ form a fibered category (actually a stack) over the Zariski site of $X$.  </p>\\r\\n\\r\\n<p>If $f : U \\\\rightarrow X$ and $G \\\\in A_U$ then $f_\\\\ast G \\\\in A_X$ (see the proof that the pushforward of a quasi-coherent sheaf under a quasi-compact, quasi-separated morphism is quasi-coherent in EGA(1971)I.6.7.1, taking into account that $f_\\\\ast$ commutes with arbitrary inverse limits).  If $U$ is an open embedding, this implies that $f^\\\\ast : A_X \\\\rightarrow A_U$ is essentially surjective (since $f^\\\\ast f_\\\\ast G = G$).  Therefore any endomorphism of the identity functor of $A_X$ can be restricted to an endomorphism of the identity functor of $A_U$.  Therefore as $X$ varies, $Z(A_X) = Z({\\\\rm QCoh}(X))$ forms a sheaf in the Zariski topology.</p>\\r\\n\\r\\n<p><b>Edit 2:</b>  I have to argue that $f_\\\\ast$ carries $A_U$ into $A_X$.  I\\'m mimicking the argument from EGA here, but I can\\'t see Martin\\'s objection.</p>\\r\\n\\r\\n<p>We can assume that $X$ is affine (since $A$ is a stack).  If $f$ is affine, this is because $f_\\\\ast$ commutes with arbitrary inverse limits and $f_\\\\ast$ carries ${\\\\rm QCoh}(U)$ into ${\\\\rm QCoh}(X)$.  </p>\\r\\n\\r\\n<p>Let $U_i$ be a cover of $U$ by open affines, and let $U_{ij}$ be the pairwise intersections.  Let $f_i$ and $f_{ij}$ be the restrictions of $f$.  Let $G_i = {f_i}_\\\\ast G_i \\\\big|_{U_i}$ and let $G_{ij} = {f_{ij}}_\\\\ast G \\\\big|_{U_{ij}}$.  Then</p>\\r\\n\\r\\n<p>$f_\\\\ast G = \\\\ker( \\\\prod_i G_i \\\\rightarrow \\\\prod_{ij} G_{ij} )$</p>\\r\\n\\r\\n<p>and the $G_i$ are in $A_X$ because $U_i \\\\rightarrow X$ are affine.  If the $G_{ij}$ are also in $A_X$ then so is $f_\\\\ast G$.  This will be the case if $f$ is separated, since then the $U_{ij}$ will be affine.  But this implies the general case because the $U_{ij}$ will be quasi-affine, hence separated, over $X$, so $G_{ij} = {f_{ij}}_\\\\ast G \\\\big|_{U_{ij}}$ will be in $A_X$ by the case mentioned above.</p>\\r\\n <p>As BCnrd points out, gluing cotangent complexes is a nontrivial thing.  You might still ask whether it is really necessary for Illusie to work in the generality of a ringed topos.  Would using a ringed space suffice?  For standard deformation problems (deformation of a morphism or deformation of a scheme) working on the underlying ringed space would be enough.  For more \"interesting\" deformation problems, like deformation of a morphism $X \\\\rightarrow Y$, where $X$, $Y$, and the morphism are all allowed to vary, one needs something more sophisticated.  Illusie constructs a ringed topos that encodes all of these data and then applies the machinery for ringed topoi that he has already developed.</p>\\r\\n <p>EGA, Chapters 5 through 12</p>\\r\\n <p>No, the embedding of schemes in the big Zariski site does not preserve colimits.  It is possible to see this in the example you suggest by computing the \"tangent space\" at the origin.  Let $X$ be the colimit in the category of schemes; the tangent space of $X$ at the origin is a $2$-dimensional vector space.  Let $Y$ be the colimit in the category of sheaves; I claim that the \"tangent space\" of $Y$ at the origin is the union of the coordinate axes inside of the tangent space of $X$.</p>\\r\\n\\r\\n<p>The tangent space of $Y$ is the space of sections of $Y$ over $Z := \\\\mathrm{Spec}\\\\: k[\\\\epsilon] / \\\\epsilon^2$.  The Zariski topology is trivial on $Z$, so sections of $Y$ over $Z$ are the same as sections of the presheaf colimit over $Z$.  The \"tangent space\" of the presheaf colimit is the union of the tangent spaces of the two copies of $\\\\mathbf{A}^1$.</p>\\r\\n <p>I will try to argue that if an product of quasi-compact schemes is a representable by a scheme, then all but finitely many of them must be affine.</p>\\r\\n\\r\\n<p><b>Edit:</b>  I rewrote the argument a little to address the comments.  I hope the argument might finally be satisfying...</p>\\r\\n\\r\\n<p><b>Lemma.</b>  If $X_i$, $i \\\\in I$ are quasi-compact schemes over a field $k$, then $\\\\prod X_i$ has a closed point (i.e., there is a map from the spectrum of some field $K$ to $X$ that is representable by closed immersions) whose image in each of the $X_i$ is also closed.</p>\\r\\n\\r\\n<p><i>Proof.</i>  For each $i$, let $x_i$ be a closed point of $X_i$ (which exists because the $X_i$ are quasi-compact).  Let $K$ be a compositum of the residue fields of the $x_i$ (i.e., the residue field at a closed point of $Z = \\\\prod_i x_i$, which exists because $Z$ is affine).  Let $X$ be the product of the $X_i$.  Then we get a map $\\\\mathrm{Spec} \\\\: K \\\\rightarrow X$, which we have to show is a closed embedding.</p>\\r\\n\\r\\n<p>It\\'s enough to argue that the map $Z \\\\rightarrow X$ is a closed embedding.  But if $Y$ is a scheme over $X$ then $Y_Z$ can be obtained as the intersection of closed subschemes $Y_{x_i} = Y \\\\times_{X_i} x_i$, which is a closed subscheme.  $\\\\Box$</p>\\r\\n\\r\\n<p>Suppose that the product of schemes $X_i$, indexed by $i \\\\in I$, is representable by a non-empty scheme $X$.  Assume that each $X_i$ is quasi-compact, so that for each $i$, we can find a Zariski cover $Y_i \\\\rightarrow X_i$ of $X_i$ by an affine scheme $Y_i$.  Then we get a map $Y = \\\\prod Y_i \\\\rightarrow X$ and the source is an affine scheme.  Let $x$ be a closed point of $X$.  Let $U$ be an affine neighborhood of $x$ in $X$.  Let $y$ be a $K$-point of $Y$ above $x$, and let $V$ be a distinguished affine open neighborhood of $y$ in $Y$, contained in the pre-image of $U$, and defined by the invertibility of some $f \\\\in \\\\Gamma(Y, {\\\\cal O}_Y)$.  Since $f$ can be expressed using functions defined on finitely many of the $Y_i$, the set $V$ must be the pre-image of a distinguished open affine $V\\' \\\\subset \\\\prod_{i \\\\in I\\'} Y_i$ where $I\\'$ is a finite subset of $I$.  Let $I\\'\\'$ be the complement of $I\\'$ in $I$ and let $X\\' = \\\\prod_{i \\\\in I\\'} X_i$ and define $X\\'\\'$, $Y\\'$, $Y\\'\\'$ analogously.  Then $V\\' \\\\times Y\\'\\'$ is an affine open neighborhood of $y$ in $Y$, contained in $V$.  If $U\\'$ denotes the image of $V\\'$ in $X\\'$ then $U\\' \\\\times X\\'\\'$ is an open neighborhood of $x$ in $X$, contained in $U$.  Let $x\\'$ be the projection of $x$ to $X\\'$, which we can safely assume is a closed point of $X\\'$, hence a closed point of $U\\'$, and let $K$ be the residue field of $x\\'$.  Therefore $\\\\{ x\\' \\\\} \\\\times X\\'\\'$ is a closed subscheme of $U$ and is therefore affine.  But $\\\\{ x\\' \\\\} \\\\times X\\'\\' = K \\\\otimes_k X\\'\\'$ so by fpqc descent for affine schemes over $k$ (SGA1.VIII.2) it follows that $X\\'\\'$ is affine.</p>\\r\\n\\r\\n<p>Replacing $I$ with $I\\'\\'$ we can now assume that $X$ is affine. Before proving that each $X_i$ is affine, I claim that each $X_i$ is separated.  We must show that for any scheme $Y$ and any two maps $Y \\\\rightrightarrows X_i$, the locus in $Y$ where the maps agree is closed.  Let $x$ be a closed $K$-point of $\\\\prod_{j \\\\not= i} X_j$ for some extension $K$ of $k$.  Then we can extend the maps $Y \\\\rightrightarrows X_i$ to maps $Y \\\\otimes_k K \\\\rightrightarrows X$.  Since $X$ is separated, the locus in $Y \\\\otimes_k K$ where these maps agree is closed.  But this is the pullback via the map $Y \\\\otimes_k K \\\\rightarrow Y$ of the locus where the maps $Y \\\\rightrightarrows X_i$ agree, so this latter subset of $Y$ must be closed by fpqc descent (see SGA1.VIII.4).</p>\\r\\n\\r\\n<p>If $X$ is affine and non-empty then it is separated, so each $X_i$ is separated.  Therefore $Z := \\\\prod_{j \\\\not= i} X_j$ is separated for each $i$.  (Note that we don\\'t yet know that $Z$ is representable by a scheme, but it still makes sense to claim that $Z$ is separated as a functor:  for any scheme $T$ and any two elements $a$ and $b$ of $Z(T)$, the locus in $T$ where $a$ and $b$ agree is closed.)  Let $z$ be a closed $K$-point of $Z$.  Then $X_i \\\\otimes_k K = X \\\\times_Z \\\\{z\\\\}$ is closed in $X$, hence is affine because we assumed $X$ to be affine.  This implies $X_i$ is affine by fpqc descent (see SGA1.VIII.2).</p>\\r\\n <p>$\\\\mathrm{Cov}(X)$ determines $X$ if $X$ is <a href=\"http://en.wikipedia.org/wiki/Sober_space\" rel=\"nofollow\">sober</a>.</p>\\r\\n <p>One does not actually need the \"power of topoi\" to make Illusie\\'s definition of the cotangent complex work.  One does need sheaves, though.  Illusie\\'s constructions would have worked equally well had he used ringed spaces instead of ringed topoi.  Some constructions related to diagrams of schemes might be easier to phrase in terms of topoi, and of course they become essential if one wants to work in, say, the &eacute;tale topology.</p>\\r\\n\\r\\n<p>Illusie makes use of the generality of his construction in a number of places.  By treating ringed topoi that are not the &eacute;tale or Zariski topoi of schemes he is able to treat the deformation theory of diagrams, which he applies to deformations of group schemes, commutative group schemes, and modules.</p>\\r\\n\\r\\n<p>I do not know if it would be useful to study deformations of the structure sheaf on the fppf topos of a scheme $S$.  Such a deformation would correspond to a consistent collection of deformations of every scheme over $S$.</p>\\r\\n <p>You can view the sheaf $\\\\mathcal{F}$ on $X \\\\times X$ instead as a map from $X$ (the first factor) to the moduli stack $M$ of sheaves on $X$ (the second factor).  This induces a map on the tangent spaces.  The tangent space to $M$ at a sheaf $F$ is the space of first order deformations of $F$, which is $\\\\mathrm{Ext}^1(F, F)$.</p>\\r\\n\\r\\n<p>Using the exact sequence</p>\\r\\n\\r\\n<p>$0 \\\\rightarrow I \\\\rightarrow \\\\mathcal{O}_X \\\\rightarrow k(x) \\\\rightarrow 0$</p>\\r\\n\\r\\n<p>you get an identification between $T_x X = \\\\mathrm{Hom}_{\\\\mathcal{O}_X}(I, k(x)) = \\\\mathrm{Ext}^1(k(x),k(x))$.  Therefore the differential gives a map</p>\\r\\n\\r\\n<p>$T_x X = \\\\mathrm{Ext}^1(k(x),k(x)) \\\\rightarrow T_{\\\\mathcal{F}_x} M = \\\\mathrm{Ext}^1(\\\\mathcal{F}_x, \\\\mathcal{F}_x)$.</p>\\r\\n <p>Let $L$ be the complex $[ f^\\\\ast \\\\Omega_X \\\\rightarrow \\\\Omega_C(D) ]$, concentrated in degrees $[-1,0]$ on $C$.</p>\\r\\n\\r\\n<p>One way to understand the obstructions is to understand the deformations for affine curves first.  Observe first that there is a canonical equivalence of categories between the category of deformations of a pointed map $f : C \\\\rightarrow X$, with $C$ not-necessarily proper, and the category of extensions</p>\\r\\n\\r\\n<p>$G(C) = \\\\mathrm{Ext}(L, \\\\mathcal{O}_C)$.</p>\\r\\n\\r\\n<p>The meaning of the category on the right is the category of extensions $E$ of $\\\\Omega_C(D)$ by $\\\\mathcal{O}_C$ together with a trivialization of the induced extension of $f^\\\\ast \\\\Omega_X$ by $\\\\mathcal{O}_C$.  One checks explicitly that the category of extensions of $\\\\Omega_C(D)$ by $\\\\mathcal{O}_C$ is canonically equivalent to the category of deformations of the pointed curve $C$ and that splitting the induced extension of $f^\\\\ast \\\\Omega_X$ is the same as extending the map $f : C \\\\rightarrow X$ to a map from the deformed curve to $X$.</p>\\r\\n\\r\\n<p>Note that $G$ is a commutative group stack (what is sometimes called a \"Picard stack\").  It is easy to check that $G$ is non-empty when $C$ is an affine curve (use the fact that deformations of nodal curves are unobstructed and the formal criterion of smoothness for $X$), which means that any obstructions to deforming a proper curve come from the failure of local deformations to glue.  There is a standard way to compute these local obstructions---e.g., by Cech cohomology, noting that mutatis mutandis, Cech cohomology still works for group stacks---and this yield a class in $H^1(C, G)$.  Cohomology of a commutative group stack is the same as cohomology of the associated complex, so we get an obstruction in</p>\\r\\n\\r\\n<p>$H^1(C, L^\\\\vee[1]) = H^2(C, L^\\\\vee) = \\\\mathrm{Ext}^2(L, \\\\mathcal{O}_C)$.</p>\\r\\n <p>Perhaps one way of reading this question is \"Why is it important to think about complexes when doing deformation theory?\"  One must certainly accept that deformation theory is cohomological in nature:  consider the standard &#268;ech construction of classes in $H^1(X, T_X)$ and $H^2(X, T_X)$ corresponding respectively to deformations and obstructions to deformations of a smooth scheme $X$; or consider the deformations of a regular embedding $X \\\\rightarrow Y$, which are parameterized by $H^0(X, N_{X/Y})$ and obstructed by $H^1(X, N_{X/Y})$.</p>\\r\\n\\r\\n<p>Let me recall the arguments that yield these classes.  Locally a smooth scheme has only one deformation up to isomorphism, so global deformations arise from gluing the local ones; the gluing data come from the tangent bundle, so deformations are classified by $H^1(X, T_X)$.  Similarly, solutions to an obstructed deformation problem exist locally and are locally unique up to isomorphism, so the obstruction comes from gluing.  One writes down the gluing condition and observes that it is a &#268;ech $2$-cocycle (or observes directly that deformations form a gerbe...).</p>\\r\\n\\r\\n<p>The argument for a regular embedding is similar.  One first gives a direct construction for the identification of $H^0(X,N_{X/Y})$ and the deformations of the embedding; then one shows that there are no local obstructions, so global obstructions arise entirely from gluing, and this gives a &#268;ech 1-cocycle with values in $N_{X/Y}$.</p>\\r\\n\\r\\n<p>What about a more general deformation problem?  For example, suppose $X$ is a local complete intersection.  A great deal of the arguments above goes through without modification:  locally, deformations of a local complete intersection are unobstructed, so obstructions should come from gluing.  One should be able to produce a &#268;ech cocycle obstructing the existence of a global deformation.  But a cocycle valued in what?</p>\\r\\n\\r\\n<p>The answer is the (shifted) tangent complex (dual to the cotangent complex mentioned in another answer).  This is a complex in in degrees $[0,1]$ that coincides with $T_X$ if $X$.  The relative tangent complex of a regular embedding $X \\\\rightarrow Y$ is $N_{X/Y}[-1]$.  Thus the tangent complex recovers the two special cases discussed above.</p>\\r\\n\\r\\n<p>For a complete intersection $X$ in a smooth scheme $Y$, the tangent complex of $X$ may be constructed as $[T_Y \\\\vert_X \\\\rightarrow N_{X/Y}]$.  If $X$ is only a local complete intersection then this construction works locally in $X$, but it\\'s not going to glue to something global.  However, the local construction is quasi-isomorphic to the restriction of something global.  At last, the derived category appears.</p>\\r\\n\\r\\n<p>All of this is vastly generalized by the cotangent complex, which works the same way as above for arbitrary schemes, without the lci restriction.  You can read more about that in Chris Brav\\'s answer.</p>\\r\\n <p>Here is a classifying problem without a coarse moduli space:  Let $F$ be the stack of line bundles with section, say over an algebraically closed field k.  That is $F(X)$ is the category of pairs $(L,s)$ where $L$ is a line bundle on $X$ and $s \\\\in \\\\Gamma(X,L)$ is a section of $L$.  Then $F$ has no coarse moduli space:  if it did, there would be two points, corresponding to $(k,1)$ and $(k,0)$ with the former specializing to the latter.  This would be an affine scheme with a closed point and a generic point, both with residue field $k$.  That\\'s impossible.</p>\\r\\n\\r\\n<p>Of course, $F$ is just a geometric description of $[\\\\mathbf{A}^1 / \\\\mathbf{G}_m]$, so we already knew it didn\\'t have a coarse moduli space.</p>\\r\\n <p>The answer is yes.  Let $[E^{-1} \\\\rightarrow E^0]$ be a perfect obstruction theory on $M$.  After localizing in $M$ we can assume that the map $E^0 \\\\rightarrow \\\\Omega_M$ is induced as $\\\\mathcal{O}_M \\\\otimes \\\\Omega_{\\\\mathbf{A}^n} \\\\rightarrow \\\\Omega_M$ for some map $M \\\\rightarrow \\\\mathbf{A}^n$.(*) As the map on differentials is surjective the relative differentials vanish and the map is unramified.  By EGA IV.18.4.7, we can (at least after localizing further in $M$) factor the map $M \\\\rightarrow \\\\mathbf{A}^n$ as a closed embedding $M \\\\rightarrow V$ followed by an &eacute;tale map $V \\\\rightarrow \\\\mathbf{A}^n$.</p>\\r\\n\\r\\n<p>Let $I$ be the ideal of $M$ inside $V$.  Then we have an exact sequence</p>\\r\\n\\r\\n<p>$I/I^2 \\\\rightarrow \\\\mathcal{O}_M \\\\otimes \\\\Omega_V \\\\rightarrow \\\\Omega_M \\\\rightarrow 0$</p>\\r\\n\\r\\n<p>where the first two terms are $\\\\tau_{\\\\geq -1} L_M$.  By the definition of an obstruction theory, we are given a map $E^{-1} \\\\rightarrow I/I^2$ inducing a surjection $H^{-1}(E) \\\\rightarrow H^{-1} L_M$.  By the 5-lemma, $E^{-1} \\\\rightarrow I/I^2$ is surjective.</p>\\r\\n\\r\\n<p>Localizing further in $V$ and $M$, we can assume that the map $E^{-1} \\\\rightarrow I/I^2$ is induced from a map $F \\\\rightarrow I$ of coherent sheaves on $V$ with $F$ locally free.  By Nakayama\\'s lemma we can assume, possibly after further localization, that $F \\\\rightarrow I$ is surjective.  Then consider the section of the vector bundle $F^\\\\vee$ dual to the composition $F \\\\rightarrow I \\\\subset \\\\mathcal{O}_V$.  The vanishing locus of this section is $M$ and the induced complex $F \\\\rightarrow \\\\mathcal{O}_M \\\\otimes \\\\Omega_V$ is the obstruction theory we started with.</p>\\r\\n\\r\\n<p>(*)  We can represent $\\\\tau_{\\\\geq -1} L_M$ as $[ J / J^2 \\\\rightarrow \\\\Omega_W ]$ for some closed embedding $M \\\\subset W$ and we are given a map of complexes $E^\\\\bullet \\\\rightarrow \\\\tau_{\\\\geq -1} L_M$.  Replacing $E^\\\\bullet$ with a quasi-isomorphic complex, we can assume that the map $E^0 \\\\rightarrow \\\\Omega_W$ is surjective.  But $E^0$ and $\\\\Omega_W$ are vector bundles, so after localizing in $M$ we can assume that $\\\\Omega_W$ is a direct summand of $E^0$.  Choosing a basis for the complementary summand, we can identify $E^0 \\\\cong \\\\Omega_{W \\\\times \\\\mathbf{A}^n}$.</p>\\r\\n <p>The answer is always.  Let $\\\\mathrm{Et}(X)$ and $\\\\mathrm{Et}(Y)$ denote the &eacute;tale sites.  There is a functor $f_! : \\\\mathrm{Et}(X) \\\\rightarrow \\\\mathrm{Et}(Y)$ sending an &eacute;tale $X$-scheme $p : U \\\\rightarrow X$ to $f \\\\circ p : U \\\\rightarrow Y$.  This functor is cocontinuous (SGA4.III.2.1) and continuous (SGA4.III.1.1).  By SGA4.III.2.6, any functor that is both continuous and cocontinuous gives rise to a morphism of topoi $(f^\\\\ast, f_\\\\ast)$ where $f^\\\\ast$ has a left adjoint.</p>\\r\\n <p>Here is how I like to understand the Weil pairing.</p>\\r\\n\\r\\n<p>The dual of an abelian variety $A$ is the scheme $\\\\hat{A} = \\\\mathrm{Hom}(A, B\\\\mathbf{G}_m)$.  Here $B\\\\mathbf{G}_m$ is the stack of line bundles and $\\\\mathrm{Hom}$ refers to homomorphisms of group stacks.  One therefore has a perfect pairing</p>\\r\\n\\r\\n<p>$A \\\\times \\\\hat{A} \\\\rightarrow B\\\\mathbf{G}_m$.</p>\\r\\n\\r\\n<p>This actually means something relatively concrete:  For each pair of points $(a, a\\') \\\\in A \\\\times \\\\hat{A}$ one has a one dimensional vector space $L(a,a\\')$, together with isomorphisms</p>\\r\\n\\r\\n<p>$L(a_1 + a_2, a\\') \\\\simeq L(a_1, a\\') \\\\otimes L(a_2, a\\')$,</p>\\r\\n\\r\\n<p>$L(a, a\\'_1 + a\\'_2) \\\\simeq L(a, a\\'_1) \\\\otimes L(a, a\\'_2)$</p>\\r\\n\\r\\n<p>satisfying some compatibility conditions (you can find the details of this definition under the heading of biextensions; there is a nice explanation in SGA7).  One of these compatibilities is that the two isomorphisms</p>\\r\\n\\r\\n<p>$L(a_1 + a_2, a\\'_1 + a\\'_2) \\\\simeq L(a_1, a\\'_1) \\\\otimes L(a_1, a\\'_2) \\\\otimes L(a_2, a\\'_1) \\\\otimes L(a_2, a\\'_2)$</p>\\r\\n\\r\\n<p>should coincide.</p>\\r\\n\\r\\n<p>One consequence of the definition is that $L(0, a\\') = L(0 + 0, a\\') \\\\simeq L(0, a\\') \\\\otimes L(0, a\\')$ which means that $L(0, a\\')$ is canonically trivialized, as is $L(a, 0)$ by symmetry.  Moreover, the two trivializations of $L(0,0)$ must be the same.</p>\\r\\n\\r\\n<p>If we choose an $n$-torsion point $a$ of $A$ then $L(a, a\\')$ will be a line bundle with a trivialization of its $n$-th tensor power.  Similarly, if $a\\'$ is also an $n$-torsion point then $L(a,a\\')^{\\\\otimes n}$ will come with <i>two</i> trivializations coming from its identification with the canonically trivialized line bundles $L(na, a\\') = L(0,a\\')$ and $L(a, na\\') = L(a,0)$.  Comparing these two trivializations, we get an element of $\\\\mathbf{G}_m$ and therefore a pairing</p>\\r\\n\\r\\n<p>$A[n] \\\\times \\\\hat{A}[n] \\\\rightarrow \\\\mathbf{G}_m$.</p>\\r\\n\\r\\n<p>However, we notice that the induced trivializations of $L^{\\\\otimes n^2} \\\\simeq L(na, na\\')$ must coincide.  Therefore the image of this map actually lands in $\\\\mathbf{G}_m[n] = \\\\mu_n$.  This gives the Weil pairing</p>\\r\\n\\r\\n<p>$A[n] \\\\times \\\\hat{A}[n] \\\\rightarrow \\\\mu_n$.</p>\\r\\n\\r\\n<p>I don\\'t know of a way to interpret the Hilbert symbol in quite this way, but I\\'d be very interested if someone could suggest one! </p>\\r\\n <p>This seems to be a statement about the classification of connections without torsion.  If $\\\\nabla$ and $\\\\nabla\\'$ are connections without torsion then $\\\\varphi = \\\\nabla - \\\\nabla\\'$ is a symmetric, linear function $S^2(TX) \\\\rightarrow TX$.  If you want to classify connections without torsion you observe that they exist locally and that the data needed to glue local instances comes from $\\\\mathrm{Hom}(S^2(TX),TX)$.  Therefore the obstruction to gluing is a &#268;ech 1-cocycle (i.e., a torsor) valued in $\\\\mathrm{Hom}(S^2(TX), TX)$.</p>\\r\\n <p>Niels already links to references that answer the question, but I\\'ll briefly summarize them.</p>\\r\\n\\r\\n<p>If $X$ is a stack presented by a groupoid $X_1 \\\\rightrightarrows X_0$ then a map from a scheme $S$ into $X$ induces a groupoid presentation $S \\\\mathop{\\\\times}_X X_1 \\\\rightrightarrows S \\\\mathop{\\\\times}_X X_0$ of $S$.  Conversely, suppose that we have a groupoid presentation $S_1 \\\\rightrightarrows S_0$ of $S$ and compatible maps $S_i \\\\rightarrow X_i$ (such that the two maps $S_1 \\\\rightarrow S_0$ are induced by pullback from the two maps $X_1 \\\\rightarrow X_0$) then there is an induced map $S \\\\rightarrow X$.</p>\\r\\n\\r\\n<p>The associated stack of the groupoid $X_\\\\bullet$ is therefore the fibered category $X$ for which $X(S)$ is the category of groupoid presentations of $S$ with a map to $X_\\\\bullet$ satisfying the above parenthetical condition.</p>\\r\\n <p>I believe the number is 12.</p>\\r\\n\\r\\n<p>I will assume the characteristic of the base field is not 2 or 3 so that I can use $\\\\overline{\\\\mathcal{M}}_{1,1} \\\\simeq \\\\mathbf{P}(4,6)$.  Recall that $\\\\mathbf{P}(4,6)$ is constructed by dividing $V = \\\\mathbf{A}^2 \\\\smallsetminus \\\\{ (0,0) \\\\}$ by the weight $(4,6)$-action of $\\\\mathbf{G}_m$.</p>\\r\\n\\r\\n<p>The line bundle $\\\\mathcal{O}(1)$ (which coincides with the Hodge bundle and generates the Picard group) can be constructed as the equivariant line bundle $V \\\\times \\\\mathbf{A}^1$ on $V$ with $\\\\mathbf{G}_m$ acting by weights $(4,6,1)$.  Then $\\\\mathcal{O}(4)$ has a canonical section $g_4$ and $\\\\mathcal{O}(6)$ has the section $g_6$.  In $\\\\mathcal{O}(12)$ we have the two sections</p>\\r\\n\\r\\n<p>$1728 g_4^3$</p>\\r\\n\\r\\n<p>$\\\\Delta = g_4^3 - 27 g_6^2$.</p>\\r\\n\\r\\n<p>This linear series defines $j : \\\\mathbf{P}(4,6) \\\\rightarrow \\\\mathbf{P}^1$.</p>\\r\\n\\r\\n<p>Note that $j$ has degree $1/2$ because of the generic automorphism on $\\\\mathbf{P}(4,6)$.  That is, $j_\\\\ast j^\\\\ast$ is multiplication by $1/2$.  Thus the Hodge class $\\\\lambda$ satisfies</p>\\r\\n\\r\\n<p>$\\\\int_{\\\\overline{\\\\mathcal{M}}_{1,1}} \\\\lambda = \\\\int_{\\\\mathbf{P}(4,6)} c_1(\\\\mathcal{O}(1))\\r\\n= \\\\frac{1}{12} \\\\int_{\\\\mathbf{P}(4,6)} c_1(j^\\\\ast \\\\mathcal{O}(1)) = \\\\frac{1}{12} \\\\int_{\\\\mathbf{P}^1} j_\\\\ast j^\\\\ast c_1(\\\\mathcal{O}(1)) = \\\\frac{1}{24}$.</p>\\r\\n\\r\\n<p>Another thing that may be confusing here is that $j$ is generically unramified, so that a local equation for a point in $\\\\mathbf{P}^1$ pulls back under $j$ to a local equation in $\\\\overline{\\\\mathcal{M}}_{1,1}$.  Thus $j^\\\\ast \\\\Delta = \\\\delta$ (if $\\\\Delta$ denotes the boundary in the coarse moduli space and $\\\\delta$ the boundary in the stack).  </p>\\r\\n <p>The algebro-geometric definition does translate, almost literally.  John Klein\\'s comment to Martin\\'s question provides one way of doing the translation.</p>\\r\\n\\r\\n<p>Let $X$ be a manifold.  Define a contravariant functor $F$ on manifolds by taking $F(Y)$ to be the set of pairs $(f, \\\\delta)$ where $f : Y \\\\rightarrow X$ is a morphism of manifolds and $\\\\delta : C^\\\\infty(X) \\\\rightarrow C^\\\\infty(Y)$ is a derivation with respect to the module structure on $C^\\\\infty(Y)$ induced from $f$.  Then $F$ is representable by $TX$.</p>\\r\\n\\r\\n<p>Alternately, you may think of an element of $F(Y)$ as an extension of $f : Y \\\\rightarrow X$ to a map of ringed spaces $Y[\\\\epsilon] \\\\rightarrow X$ where $Y[\\\\epsilon]$ is the space $Y$, ringed by $C^\\\\infty(Y)[\\\\epsilon] / (\\\\epsilon^2)$.</p>\\r\\n <p>Bhargav Bhatt has recently proved a remarkable algebraization theorem:</p>\\r\\n\\r\\n<p><a href=\"http://arxiv.org/abs/1404.7483\" rel=\"nofollow\">http://arxiv.org/abs/1404.7483</a></p>\\r\\n\\r\\n<p>It implies that formal maps into quasi-compact, quasi-separated schemes may be algebraized.  Another version of this result (with slightly different hypotheses) has been proved by Hall and Rydh:</p>\\r\\n\\r\\n<p><a href=\"http://arxiv.org/abs/1405.7680\" rel=\"nofollow\">http://arxiv.org/abs/1405.7680</a></p>\\r\\n <p>The automorphism group of $\\\\overline{\\\\mathbf Q}$ is equipped with a topology, induced by viewing it as a subset of the permutation group of an infinite set.  There is a basis of open neighborhoods in which the stabilizer of a finite subset of $\\\\overline{\\\\mathbf Q}$ is considered to be open.  This is the same as the profinite topology.</p>\\r\\n'"
      ]
     },
     "execution_count": 194,
     "metadata": {},
     "output_type": "execute_result"
    }
   ],
   "source": [
    "user_answers.iloc[6,0]"
   ]
  },
  {
   "cell_type": "code",
   "execution_count": 195,
   "metadata": {
    "collapsed": true
   },
   "outputs": [],
   "source": [
    "import re\n",
    "def cleanhtml(raw_html):\n",
    "    #clean HTML tags\n",
    "    cleanr = re.compile('<.*?>')\n",
    "    cleantext = re.sub(cleanr, ' ', raw_html)\n",
    "    return cleantext"
   ]
  },
  {
   "cell_type": "code",
   "execution_count": 196,
   "metadata": {
    "collapsed": true
   },
   "outputs": [],
   "source": [
    "user_answers.iloc[:,0]=user_answers.iloc[:,0].apply(cleanhtml)"
   ]
  },
  {
   "cell_type": "code",
   "execution_count": 197,
   "metadata": {
    "collapsed": false
   },
   "outputs": [
    {
     "data": {
      "text/plain": [
       "' Here\\'s a reduction to the finite dimensional case.  Let $F$ be a finite set of subspaces of $X$.  For each finite dimensional subspace $Y$ of $X$, let $u(Y)$ be the set of elements $Z$ of $F$ such that $Y$ is contained in $Z$.  By assumption, $u(Y)$ is non-empty for every $Y$.  Since any two finite dimensional subspaces are contained in a third, the intersection of the sets $u(Y)$, as $Y$ runs among all finite dimensional subspaces of $X$, is non-empty.  Hence there is at least one set in $F$ that contains every finite dimensional subspace of $X$, hence contains $X$. \\r\\n\\r\\n For the finite dimensional case, let $F$ be a finite set of subspaces of $X$.  By induction, every codimension 1 subspace of $X$ is contained in some $Y$ from $F$.  But there are infinitely many codimension $1$ subspaces, so some $Y$ in $F$ contains more than one such subspace.  Any two distinct codimension 1 subspaces $\\\\operatorname{span} X$ (if $\\\\dim X &gt; 1$) so $Y = X$. \\r\\n  A variation on Ishai\\'s example is a closed embedding: its sheaf of relative differentials is  0 , hence free of finite rank, even though it needn\\'t be smooth. \\r\\n\\r\\n However,  k[e] / e^2  over  k  is not actually a counterexample (except in characteristic  2 ).  The module of relative differentials of  Spec k[e] / e^2  over  Spec k  is not free if the characteristic of  k  is not 2.  Let  A = k[e]  and  B = k[e] / e^2 .  Then  \\r\\n\\r\\n  Omega_B = Omega_A (x) B / d(e^2) = k[e] / (e^2, 2e)\\r\\n  \\r\\n\\r\\n via the isomorphism  Omega_A --&gt; A : dt --&gt; 1 .  This is not isomorphic to  B  unless  2 = 0 . \\r\\n\\r\\n On the other hand, you can conclude that  B  is smooth if its cotangent complex is a vector bundle in degree 0.  In the case of  k[e] / e^2 , the cotangent complex is  \\r\\n\\r\\n  [ I_{B/A} / I_{B/A}^2 ---&gt; Omega_A (x) B ] = [ e^2 A / e^4 A ---&gt; B de ]\\r\\n  \\r\\n\\r\\n in degrees  [-1,0]  and the differential is the universal derivation.  (I write  I_{B/A}  for the ideal of  B  in  A .)  Even in characteristic  2 , the differential has a kernel, so the cotangent complex is not concentrated in degree  0 . \\r\\n  (My girlfriend explained this to me.)  After Anton\\'s observation, it\\'s sufficient to show that  f = id  if  f  fixes more than half of  G .  But the elements of  G  fixed by an automorphism form a group and this group has index less than  2  by assumption, hence is all of  G . \\r\\n  I think it\\'s okay if you rephrase like this: let X be a scheme with ring of fractions R.  Then the normalization of X is the universal example of a normal scheme with ring of fractions R mapping to X. \\r\\n  It is fruitful to think of Ext^1 as a generalization of Hom.  If A and B are objects of an abelian category, the set Hom(A,B) has the structure of an abelian group.  Here is one way to define the group law: any two maps A --> B induce a map A x A --> B x B.  This induces a sequence \\r\\n\\r\\n  A --&gt; A x A --&gt; B x B --&gt; B\\r\\n  \\r\\n\\r\\n where the first map is the diagonal and the last is the codiagonal (the addition map).  The composition is the sum.  (What we are using here is that finite products and finite direct sums coincide in an abelian category; in fact, this can be taken as the definition of an abelian category.) \\r\\n\\r\\n We have used three properties of Hom to construct the addition map: Hom is covariant in the second variable, contravariant in the first, and comes with a canonical map  \\r\\n\\r\\n  Hom(A,B) x Hom(A\\',B\\') --&gt; Hom(A x A\\', B x B\\')\\r\\n  \\r\\n\\r\\n (plus some compatibilities which I have suppressed).  If we define Ext^1(A,B) to be the category of extensions  \\r\\n\\r\\n  0 --&gt; B --&gt; E --&gt; A --&gt; 0\\r\\n  \\r\\n\\r\\n we see that it also has these properties (using base change for the variable A and pushout for the variable B).  Thus we get a group law on the  category  Ext^1(A,B).  Passing to isomorphism classes gives the usual group law on the  set  Ext^1(A,B). \\r\\n\\r\\n The zero object of Ext^1(A,B) also corresponds nicely to the zero object of Hom(A,B).  In the latter case it is constructed by pushing forward the unique map A --> 0 via the unique map 0 --> B.  For Ext^1(A,B), we push forward the unique extension of A by 0  \\r\\n\\r\\n  0 --&gt; 0 --&gt; A --&gt; A --&gt; 0\\r\\n  \\r\\n\\r\\n by the unique map 0 --> B and get \\r\\n\\r\\n  0 --&gt; B --&gt; B x A --&gt; A --&gt; 0.\\r\\n  \\r\\n\\r\\n So an extension of A by B is zero if and only if it admits a splitting.  Thus in the category of vector spaces over a field, Ext^1(A,B) is always zero because can always be split. \\r\\n  Virtually every page I\\'ve read of EGA/SGA has been useful to me, and almost every page I\\'ve skimmed I\\'ve later wished I\\'d read in more detail.  The reputation for difficulty is, I think, unfounded.  They are certainly abstract, but virtually every detail is present; in many ways, that makes EGA/SGA easier to read than other sources.  Opening a volume and reading a sub-paragraph from the middle can be difficult because of all the back-references, but reading linearly can be very pleasant and rewarding.  The French language may be a barrier for some, but one doesn\\'t have to \"learn French\" to learn enough to understand EGA. \\r\\n  A representation of G on a vector space V is a descent datum for V, viewed as a vector bundle over a point, to BG.  That is, linear representations of G are \"the same\" as vector bundles on BG.  So the question is equivalent to the analogous question about deformations of vector bundles on BG.  We could just as easily ask about deformations of vector bundles on any space X. \\r\\n\\r\\n Given a vector bundle V on X, consider the category of all first-order deformations of V.  An object is a vector bundle over X\\', where X\\' is an infinitesimal thickening (in the example, one may take X = BG x E where E is a local Artin ring and X\\' = BG x E\\' where E\\' is a square-zero extension whose ideal is isomorphic as a module to the residue field).  A morphism is a morphism of vector bundles on X\\' that induces the identity morphism on V over X. \\r\\n\\r\\n If X is allowed to vary, this category varies contravariantly with X.  Vector bundles satisfy fppf descent, so this forms a fppf stack over X. \\r\\n\\r\\n This stack is very special: locally it has a section (fppf locally a deformation exists) and any two sections are locally isomorphic.  It is therefore a  gerbe .  Moreover, the isomorphism group between any two deformations of V is  canonically  a torsor under the group End(V) (this is fun to check).   \\r\\n\\r\\n Gerbes banded by an abelian group H are classified by H^2(X,H) (this is also fun to check); the class is zero if and only if the gerbe has a section.  If the gerbe has a section, the isomorphism classes of sections form a torsor under H^1(X,H).  The isomorphisms between any two sections form a torsor under H^0(X,H).  (This implies that the automorphism group of any section is H^0(X,H).) \\r\\n\\r\\n In our case, H = End(V), so we obtain a class in H^2(X,End(V)) and if this class is zero, our gerbe has a section, i.e., a deformation exists.  In this case, all deformations form a torsor under H^1(X,End(V)), and the automorphism group of a deformation is H^0(X,End(V)). \\r\\n\\r\\n All of the cohomology groups above are sheaf cohomology in the fppf topology.  If you are using a different definition of group cohomology, there is still something to check. \\r\\n  Anton\\'s example can be modified to avoid the \"empty set\".  Here\\'s one way: let X be the category associated to the partially ordered set \\r\\n\\r\\n a &le; b &le; c &le; e \\r\\n\\r\\n b &le; d &le; e \\r\\n\\r\\n Give this the minimal topology in which c and e cover d and a covers b.  Let F be the presheaf with F(a) = 1, F(b) = F(c) = F(d) = S, F(e) = &empty;.  Then F + (b) = 1, F + (c) = F + (d) = F + (e) = S.  This is not a sheaf, since F ++ (e) = S x S. \\r\\n\\r\\n Of course, all I have done is to introduce an object a to play the role of the empty cover in Anton\\'s example.  It\\'s probably worth remarking, however, that what makes the empty  set  empty (from the point of view of sheaves) is that it is covered by the empty  cover .  In fact, the usual topology on the category of open subsets of {p,q} can be modified so that the empty subset is not covered by the empty cover.  With respect to this topology, the presheaf F that Anton defined is already a sheaf. \\r\\n  Let $X$ be a topological space, and $T$ its category of open sets with the usual Grothendieck topology.  Let $T\\'$ be any sieve of $T$ (a subcategory of $T$ such that if $U$ is in $T\\'$ then any subset of $U$ is also in $T\\'$).  For example, $T\\'$ might be the collection of open subsets subordinate to the open subsets in a cover $\\\\mathcal{U}$.  Any sheaf on $T$ induces a functor on $T\\'$ which can be viewed as a sheaf on $T\\'$ if $T\\'$ is given the minimal topology (the only covers are the identity maps).  This determines a morphism of topoi $f : T \\\\rightarrow T\\'$, hence a spectral sequence \\r\\n\\r\\n $H^p(T\\', R^q f\\\\_\\\\ast F) \\\\Rightarrow H^{p+q}(T, F)$ . \\r\\n\\r\\n (One could surely also convince oneself that such a spectral sequence exists without any reference to topoi.) \\r\\n\\r\\n The Cech cohomology of $F$ with respect to some covering family $\\\\mathcal{U}$ is  \\r\\n\\r\\n $H^p(\\\\mathcal{U}, F) = H^p(T\\', f\\\\_\\\\ast F)$ \\r\\n\\r\\n where $T\\' = T\\'(U)$ is the sieve associated to the cover $\\\\mathcal{U}$.  The Cech cohomology is then the filtered colimit \\r\\n\\r\\n $\\\\check{H}^p(T, F) = \\\\varinjlim\\\\_{(T\\',f)} H^p(T\\', f\\\\_\\\\ast F)$ \\r\\n\\r\\n taken over the projections $f : T \\\\rightarrow T\\'$ associated as above to covering families $\\\\mathcal{U}$. \\r\\n\\r\\n One evidently has edge homomorphisms \\r\\n\\r\\n $\\\\check{H}^p(T, F) \\\\rightarrow H^p(T, F)$ \\r\\n\\r\\n from the spectral sequence, and the question is when these induce an isomorphism.  If we could somehow eliminate the $R^p f\\\\_\\\\ast F$, $p &gt; 0$, by passing to a \"small enough\" cover we would have equality.  This condition already holds in many cases; the following condition is more general (but I haven\\'t checked carefully that it actually works!): \\r\\n\\r\\n For every cover $\\\\mathcal{U}$ of $X$, every $U\\\\_1, \\\\ldots, U\\\\_n \\\\in \\\\mathcal{U}$, and every class in $\\\\alpha \\\\in H^p(U\\\\_1 \\\\mathop{\\\\times}\\\\_X \\\\cdots \\\\mathop{\\\\times}\\\\_X U\\\\_n, F)$, $p &gt; 0$, there exists a refinement $\\\\mathcal{U}\\'$ of $\\\\mathcal{U}$ such that the restriction of $\\\\alpha$ under the map \\r\\n\\r\\n $H^p(U\\\\_1 \\\\mathop{\\\\times}\\\\_X \\\\cdots \\\\mathop{\\\\times}\\\\_X U\\\\_n, F) \\\\rightarrow H^p(U\\'\\\\_1 \\\\mathop{\\\\times}\\\\_X \\\\cdots \\\\mathop{\\\\times}\\\\_X U\\'\\\\_n, F)$ \\r\\n\\r\\n is zero. \\r\\n\\r\\n To make sense of this, one must use some convention for the covers $\\\\mathcal{U}$ and $\\\\mathcal{U}\\'$ to ensure there is a map as above.  For example, one could work only with covers indexed by the points of $X$ (a cover is then a collection of neighborhoods of each point of $X$). \\r\\n\\r\\n A more refined version of the above condition would say that Cech cohomology equals cohomology in degrees at most $q$ if the above condition holds for $p \\\\leq q$.  Since it always holds for $p = 0,1$ this implies that \\r\\n\\r\\n $\\\\check{H}^1(T, F) = H^1(T, F)$  \\r\\n\\r\\n in general. \\r\\n\\r\\n  Edit in response to David\\'s comment:  \\r\\n\\r\\n The Cech complex always computes cohomology correctly in a presheaf category (i.e., when the topology is \"chaotic\": an object has no covers by anything except itself).  Trying to compute cohomology in an arbitrary site using the Cech complex is (heuristically) something like trying to approximate the site by a presheaf category. \\r\\n\\r\\n Here is how Cech cohomology computes cohomology of presheaves.  Consider any category $T\\'$.  If $F$ is a presheaf of groups on $T\\'$ then the sheaf cohomology groups of $F$ are the derived functors of the inverse limit for diagrams of shape $T\\'$.  They are also computed as \\r\\n\\r\\n $Ext(\\\\mathbf{Z}, F)$ \\r\\n\\r\\n where $\\\\mathbf{Z}$ is the constant sheaf associated to the integers.  Remarkably, in a presheaf category, $\\\\mathbf{Z}$ has a canonical projective resolution associated to any cover of the final presheaf.  A cover of the final presheaf is a collection of objects $U$ of $T\\'$ such that every object of $T\\'$ has a map to at least one object of $U$.  The $i$-th term of this complex is the direct sum, over all choices of $i$ elements $U_1, ..., U_i$ of $U$, of the groups $\\\\mathbf{Z}_{U_1 \\\\times \\\\cdots \\\\times U_i}$.  (You can check this is projective by noting it is the extension by $0$ of $\\\\mathbf{Z}$ from the slice category $T\\' / U_1 \\\\times \\\\cdots \\\\times U_i$ and extension by $0$ preserves projectives (since it has an exact right adjoint) and $\\\\mathbf{Z}$ is projective on the slice category since all higher cohomology of all sheaves vanishes (since it has a final object).  It\\'s also easy to check by a direct calculation.)  \\r\\n\\r\\n Denote this complex by $K$.  Since this is a projective resolution of $\\\\mathbf{Z}$, $\\\\mathrm{Hom}(K, F)$ computes the cohomology of $F$.  But it is also easy to see that this is just the Cech complex of $F$. \\r\\n  A presheaf $F$ with values in $C$ is a called a sheaf if, for every object $X$ and every covering sieve $R$ of $X$, the natural maps \\r\\n\\r\\n $F(X) \\\\rightarrow F(Y)$ \\r\\n\\r\\n for each Y in R induce an isomorphism \\r\\n\\r\\n $F(X) \\\\xrightarrow{\\\\sim} \\\\varprojlim_{Y \\\\in R} F(Y)$ \\r\\n\\r\\n This definition makes sense without any assumptions on $C$. \\r\\n\\r\\n The sheafification construction makes use of filtered colimits and essentially arbitrary limits (if you are interested in sheaves on a particular topology then you might be able to restrict the class of limits that need to be considered).  It is defined by iterating the construction \\r\\n\\r\\n $F^+(X) = \\\\varinjlim_{R} \\\\varprojlim_{Y \\\\in R} F(Y)$ \\r\\n\\r\\n where the $\\\\varinjlim$ is taken over covering sieves of $X$.  If $F$ is set-valued, the associated sheaf of $F$ is $F^{++}$. \\r\\n\\r\\n I don\\'t know what conditions on $C$ are necessary to make the sheafification of a presheaf in $C$ a sheaf, but I wouldn\\'t expect the construction to behave very well unless $C$ is a fairly special category. \\r\\n\\r\\n (Categories of algebraic structures on sets defined by finite inverse limits would qualify as \"special\", essentially because filtered colimits commute with finite inverse limits.) \\r\\n  First a correction: the cotangent complex of a local complete intersection embedding is concentrated in degree -1, not in degree 1. \\r\\n\\r\\n In general, the cotangent complex of an algebraic space can be supported in arbitrary non-positive degrees.  The cotangent complex of an Artin stack can be nonzero in degree 1.  The degrees in which the cotangent complex is concentrated imply various things about a morphism of schemes: \\r\\n\\r\\n it is perfect in degree 0 if and only if the map is smooth; \\r\\n\\r\\n it is perfect in $[-1,0]$ if and only if the map is lci; \\r\\n\\r\\n $H^1 = 0$ if and only if it is a DM stack; \\r\\n\\r\\n $H^0 = H^1 = 0$ if and only if it is an etale local immersion. \\r\\n\\r\\n Other people have already said some things about the relationship to deformation theory.  The cotangent complex actually has two immediate relationships to deformation theory: one to the deformations of morphisms and one to the deformation of spaces. \\r\\n\\r\\n In what\\'s written below, $L_X$ is the absolute cotangent complex and $L_{X/S}$ is the relative cotangent complex. \\r\\n\\r\\n If $f : S \\\\to X$ is a map of schemes and $S\\'$ is a square-zero extension of $S$ with ideal $J$, there is an obstruction to extending $f$ to $S\\'$ in the group $Ext^1(f^\\\\ast L_X, J)$.  If this obstruction vanishes, such extensions have a canonical structure of a torsor under $Ext^0(f^\\\\ast L_X, J)$. \\r\\n\\r\\n If $p : X\\\\to S$ is a morphism, $S\\'$ is a square-zero extension with ideal $J$, and $p^\\\\ast J \\\\rightarrow I$ is a homomorphism of quasi-coherent sheaves on $X$, then the problem of finding a square-zero extension $X\\'$ with ideal $I$ and a map $X\\' \\\\to S\\'$ extending $X \\\\to S$ compatible with the given map on ideals is obstructed by a class in $Ext^2(L_{X/S}, I)$.  If this class is zero, isomorphism classes of solutions form a torsor under $Ext^1(L_{X/S}, I)$ and isomorphisms between any two solutions form a torsor under $Ext^0(L_{X/S}, I)$. \\r\\n  Since ${\\\\bf P}^n$ is the quotient of ${\\\\bf A}^{n+1} - 0$ by the action of ${\\\\bf G}_m$, the tangent bundle of ${\\\\bf P}^n$ is the quotient of the tangent bundle of ${\\\\bf A}^{n+1} - 0$ by the action of the tangent bundle of ${\\\\bf G}_m$: \\r\\n\\r\\n $T {\\\\bf P}^n = T ({\\\\bf A}^{n+1} - 0) / T {\\\\bf G}_m$ . \\r\\n\\r\\n As a group, the tangent bundle of ${\\\\bf G}_m$ is the product of ${\\\\bf G}_m$ and a 1-dimensional vector space V.  Therefore we can take the quotient of everything on the right side above by ${\\\\bf G}_m$.  Note that $T({\\\\bf A}^{n+1}-0)$ is the product of ${\\\\bf A}^{n+1} - 0$ with the direct sum of (n+1) copies of the weight one representation of ${\\\\bf G}_m$.  Therefore its quotient by ${\\\\bf G}_m$ is $\\\\mathcal{O}_{{\\\\bf P}^n}(1)^{n+1}$.  We get \\r\\n\\r\\n $T {\\\\bf P}^n = \\\\mathcal{O}_{{\\\\bf P}^n}(1)^{n+1} / V$ . \\r\\n\\r\\n A (linear) action of a one-dimensional vector space on a vector bundle is the same thing as an exact sequence, so this gives the Euler sequence. \\r\\n  When I\\'m stuck on a problem, I practice writing letters in various fonts.  I suppose this isn\\'t up to par with other mathematicians\\' doodles (I\\'m told Riemann would calculate the cube root of 3), but it keeps my handwriting reasonably neat. \\r\\n  This is probably neither the sort of infinity nor the sort of simplification you\\'re looking for, but B&eacute;zout\\'s theorem is a challenge to prove, let alone state, without a line at infinity.  I don\\'t know if it would be suitable for a general audience either, but in its favor, it has a very nice statement using both the infinite and the infinitesimal (i.e., contact multiplicity). \\r\\n  Displayed formulas can serve two roles in a math paper: as abbreviations for text that would otherwise be unreadable, and as figures (or illustrations) that are referred to by the text but are not part of it grammatically.  My opinion is that in the former case they should be punctuated, but in the latter they should not. \\r\\n\\r\\n Here are some examples. \\r\\n\\r\\n 1) If $x$ and $y$ are the coordinates of a point on a circle of radius $r$ then \\r\\n\\r\\n $x^2 + y^2 = r^2$. \\r\\n\\r\\n 2) The coordinates of a point of a circle of radius $r$ satisfy the following equation. \\r\\n\\r\\n $x^2 + y^2 = r^2$ \\r\\n\\r\\n 3) The following diagram commutes. \\r\\n\\r\\n (diagram without any punctuation) \\r\\n\\r\\n I think these examples demonstrate the necessity of distinguishing the two roles a displayed equation can play.  As Simon already pointed out above, there is no reasonable place to put a punctuation mark in a commutative diagram, presumably because a commutative diagram can\\'t be read aloud.  On the other hand, it\\'s difficult to view the sentence in the first example as complete without a period at the end of the equation. \\r\\n\\r\\n I suggest the following rule of thumb: if the formula can be removed from the text without breaking the flow of a sentence, then it does not need to punctuated.  Otherwise, it should be punctuated as it would be if the symbols were expanded into words. \\r\\n\\r\\n \\r\\n\\r\\n Many authors use a colon where I used a period in the second example and follow the equation with a period. \\r\\n\\r\\n 2\\') The coordinates of a point on circle of radius $r$ satisfy the following equation: \\r\\n\\r\\n $x^2 + y^2 = r^2$. \\r\\n\\r\\n I don\\'t consider this incorrect, but I do consider it a completely different sentence from 2). \\r\\n  Restriction to an open subset has an exact left adjoint (extension by zero). \\r\\n  There\\'s a proof of the snake lemma without elements (a non-elementary proof?) on my (old) website. \\r\\n\\r\\n  http://math.stanford.edu/~jonathan/papers/snake.pdf  \\r\\n\\r\\n  Edit : I added a section about the salamander lemma. \\r\\n\\r\\n  Much later edit :  As Charles Rezk points out below, my proof of the salamander lemma is correct only in a special case.  I will correct the proof when I find the tex file. \\r\\n\\r\\n What makes working with elements in an abelian category easier than working with objects is that elements of the target of an epimorphism can be lifted to the source.  If your abelian category has enough projectives, then a proof with elements can usually be adapted to one without elements by replacing each element by a surjection from a projective object.  If you don\\'t have enough projectives, you can still get by without elements.  You have to replace the concept of \"element\" with \"epimorphism from something\"; then every \"element\" can still be lifted by passing to a more refined epimorphism. \\r\\n\\r\\n This is just code for working locally in the topology generated by epimorphisms.  (That it is a topology is implied by AB2.)  Since there are always enough injective sheaves of abelian groups, this gives an exact embedding of any abelian category in an abelian category with enough injectives (or, if we work with \"cotopologies\", a category with enough projectives).  This permits one to apply the simpler approach outlined above (using projectives) rather than \"pro-epimorphisms\". \\r\\n\\r\\n Once one has an embedding in a Grothendieck abelian category (the category of sheaves of abelian groups always is one), it is not much further to a proof of Mitchell\\'s embedding theorem anyway. \\r\\n  Gromov--Witten invariants are designed to count the \"number\" of curves in a space in a deformation invariant way.  Since the number of curves can change under deformations, the Gromov--Witten invariants won\\'t have a direct interpretation in terms of actual numbers of curves, even taking automorphisms into account. \\r\\n\\r\\n Here is an example of how a negative number might come up, though strictly speaking it isn\\'t a Gromov--Witten invariant.  Let M be the moduli space of maps from P^1 to a the total space of O(-4) on P^1.  Call this space X.  Note that I said maps from P^1, not a genus zero curve, so the source curve is rigid.  That\\'s why this isn\\'t Gromov--Witten theory.  Any such map factors through the zero section (since O(-4) has no nonzero sections), so this space is the same as the space of maps from P^1 to itself.  I just want to look at degree one maps, so the moduli space is 3 dimensional. \\r\\n\\r\\n We could also compute the dimension using deformation theory: the deformations of a map f are classified by $H^0(f^\\\\ast T)$ where T is the tangent bundle of the target.  The target in this case is O(-4), not just P^1, and the tangent bundle restricts to O(2) + O(-4) on the zero section.  Thus $H^0(f^\\\\ast T)$ is indeed 3-dimensional, as we expected.  However, the Euler characteristic of $f^\\\\ast T$ is not 3 but 0, which means that the \"expected dimension\" is zero. \\r\\n\\r\\n The meaning of expected dimension is rather vague.  Roughly speaking, it is the dimension of the moduli space for a \"generic\" choice of deformation.  The trouble is that such a deformation might not actually exist.  Nevertheless, we can still pretend that a generic deformation does exist and, if the expected dimension is zero, compute the number of curves that it \"should\" have. \\r\\n\\r\\n What makes this possible is the obstruction bundle E on M.  Any deformation of X gives rise to a section of E and the vanishing locus of this section is the collection of curves that can be deformed to first order along with X.  Even though a generic deformation might not exist, the obstruction bundle does still exist, and we can make sense of the vanishing locus of a generic section by taking the top Chern class. \\r\\n\\r\\n In our situation, the (fiber of the) obstruction bundle is $H^1(f^\\\\ast T)$.  Since O(2) does not contribute to H^1, the obstruction bundle is $R^1 p_\\\\ast f^\\\\ast O_{P^1}(-4) = R^1 p_\\\\ast O_{P^3 \\\\times P^1}(-4, -4)$ where $p : P^3 \\\\times P^1 \\\\rightarrow P^3$ is the projection.  By the projection formula, this is $O(-4)^{\\\\oplus 3}$ and the top Chern class is -64.  This is the \"Gromov--Witten invariant\" of maps from P^1 to $O_{P^1}(-4)$. \\r\\n\\r\\n Unfortunately, I don\\'t have anything to say about what this -64 means... \\r\\n  I\\'m just going to consider the local rings with residue field $\\\\mathbf{F}_p$. \\r\\n\\r\\n Suppose A\\' is an extension of $\\\\mathbf{Z}/p$ with ideal $\\\\mathbf{Z}/p$.  If we take the fiber product with $\\\\mathbf{Z}$, we get an extension of $\\\\mathbf{Z}$ with ideal $\\\\mathbf{Z}/p$.  Up to isomorphism, there is only one such extension: $B\\' = \\\\mathbf{Z}[t] / (t^2, pt)$.  The kernel of the map from B\\' to A\\' is isomorphic to $\\\\mathbf{Z}$ and reduces modulo t to the ideal generated by p.  Therefore, the square-zero extensions of $\\\\mathbf{Z}/p$ are all isomorphic to $\\\\mathbf{Z}[t] / (t^2, pt, p + \\\\lambda t)$ for some $\\\\lambda \\\\not= 0$.  If $\\\\lambda$ is not a multiple of p, we get $\\\\mathbf{Z} / p^2$; if $\\\\lambda$ is a multiple of $p$, we get $\\\\mathbf{Z}[t] / (p, tp, t^2) = \\\\mathbf{F}_p[t] / t^2$.  So these are all the length 2 finite local rings with residue field $\\\\mathbf{F}_p$. \\r\\n\\r\\n For length 3, we\\'ll look for extensions of $\\\\mathbf{Z} / p^2$ by $\\\\mathbf{Z} / p$.  The same analysis shows that these are all of the form $\\\\mathbf{Z}[t] / (t^2, pt, p^2 + \\\\lambda t)$.  If $\\\\lambda$ is not divisible by $p$, we get $\\\\mathbf{Z} / p^3$ and if $\\\\lambda$ is divisible by $p$ we get $\\\\mathbf{Z}[t] / (p^2, pt, t^2)$. \\r\\n\\r\\n We also have to look for extensions of $\\\\mathbf{F}_p[t] / t^2$.  By base change, any such extension A\\' gives an extension B\\' of $\\\\mathbf{Z}[t]$ with ideal $\\\\mathbf{Z} / p$.  Once again, there is only one of these up to isomorphism (since $\\\\mathbf{Z}[t]$ is projective, for example) and it is given by $\\\\mathbf{Z}[t,u] / (u^2, pu, tu)$.  The ideal of the map from B\\' to A\\' generates the ideal of the map from $\\\\mathbf{Z}[t]$ to $\\\\mathbf{F}_p[t] / t^2$.  Since this is generated by p and t^2 the ideal of A\\' in B\\' is generated by $(p + \\\\lambda u, t^2 + \\\\mu u)$ and A\\' is of the form \\r\\n\\r\\n $\\\\mathbf{Z}[t,u] / (u^2, pu, tu, p + \\\\lambda u, t^2 + \\\\mu u)$ \\r\\n\\r\\n for some polynomials $\\\\lambda, \\\\mu \\\\in \\\\mathbf{Z}[t]$.   \\r\\n\\r\\n \\r\\n\\r\\n Edit: If $\\\\lambda$ is not in $(p, t)$ then it is invertible in the quotient, so we get  \\r\\n\\r\\n $\\\\mathbf{Z}[t,u] / (p^2, tp, t^2 + \\\\mu \\\\lambda^{-1} p)$. \\r\\n\\r\\n There are two possibilities up to isomorphism here, depending on whether $- \\\\mu \\\\lambda^{-1}$ is a quadratic residue modulo p. \\r\\n\\r\\n If $\\\\lambda$ is in $(p,t)$ we get \\r\\n\\r\\n $\\\\mathbf{Z}[t,u] / (u^2, pu, tu, p, t^2 + \\\\mu u) = \\\\mathbf{F}_p[t,u] / (u^2, tu, t^2 + \\\\mu u)$. \\r\\n\\r\\n The $\\\\mu$ is also not in $(p, t)$ then we get $\\\\mathbf{F}[t] / t^3$.  If $\\\\mu$ is in $(p,t)$ we get $\\\\mathbf{F}_p[t,u] / (u^2, tu, t^2)$. \\r\\n\\r\\n Modulo any mistake I made above, I think a complete list is of length 3 finite local rings with residue field $\\\\mathbf{F}_p$ is \\r\\n\\r\\n \\r\\n $\\\\mathbf{Z} / p^3$, \\r\\n $\\\\mathbf{Z}[t] / (p^2, pt, t^2)$, \\r\\n $\\\\mathbf{Z}[t] / (t^2 - p, t^3)$, \\r\\n $\\\\mathbf{Z}[t] / (t^2 - \\\\alpha p, t^3)$ where $\\\\alpha$ is a non-quadratic residue modulo $p$, \\r\\n $\\\\mathbf{F}_p[t] / t^3$, and \\r\\n $\\\\mathbf{F}_p[t,u] / (t,u)^2$. \\r\\n \\r\\n  Say X is a scheme and E is an $\\\\mathbf{A}^1$-linear scheme over X (a group scheme over X with an action of the sheaf of rings $\\\\mathbf{A}^1$).  You are asking when it is possible for E to be quasi-coherent.  If E is quasi-coherent and of finite type then it admits a surjection from a finite dimensional vector space F over X.  For any point $e \\\\in E$,  \\r\\n\\r\\n $\\\\dim_{p(e)} E + \\\\dim_e F = \\\\dim_{p(e)} F$. \\r\\n\\r\\n This implies that if the dimension of a fiber of E over X jumps, the dimension of the corresponding fiber of F over E must drop, which is impossible. \\r\\n  Fields are characterized in the category of rings by the property that an epimorphism whose source is a field must be an isomorphism.  The prime ideals of a ring can be identified with the epimorphisms from that ring to fields.  From a categorical perspective, the prime spectrum therefore seems a more natural object than the max. spectrum. \\r\\n\\r\\n I don\\'t have a good explanation for the Zariski topology.  It is the coarsest topology in which the maps induced by homomorphisms of rings are continuous and the origin in $\\\\mathbf{A}^1$ is closed.  This is not very satisfying, though. \\r\\n\\r\\n The real reason the Zariski topology is important is because descent works for lots of things.  For example, a module defined Zariski locally over a ring can be glued to give a module over the original ring.  I wonder if the Zariski topology is the finest topology (i.e., finest Grothendieck topology defined by covers by  subfunctors  subobjects) in which descent works for quasi-coherent sheaves.  Does anyone know? \\r\\n  Your derivation at the origin is a map $\\\\mathrm{Spec} k[\\\\epsilon] / \\\\epsilon^2 \\\\rightarrow G$ whose restriction to $\\\\epsilon = 0$ is the inclusion of the origin.  This induces a map  \\r\\n\\r\\n $G \\\\times_{\\\\mathrm{Spec} k} \\\\mathrm{Spec} k[\\\\epsilon]/\\\\epsilon^2 \\\\rightarrow G \\\\times G \\\\rightarrow G$ \\r\\n\\r\\n where the first map is the product with the map described above and the second is the multiplication map.  Dually, the composed map gives a map of sheaves of algebras \\r\\n\\r\\n $\\\\mathcal{O}_G \\\\rightarrow \\\\mathcal{O}_G[\\\\epsilon] / \\\\epsilon^2$ \\r\\n\\r\\n which is the same thing as a derivation from $\\\\mathcal{O}_G$ to itself. \\r\\n  If $X$ denotes the quotient sheaf $\\\\mathbf{G}_m / \\\\mathbf{Z}$ then the inclusion \\r\\n\\r\\n $\\\\mathbf{G}_m \\\\times_X \\\\mathbf{G}_m \\\\rightarrow \\\\mathbf{G}_m \\\\times \\\\mathbf{G}_m$ \\r\\n\\r\\n can be identified with the action map \\r\\n\\r\\n $\\\\mathbf{G}_m \\\\times \\\\mathbf{Z} \\\\rightarrow \\\\mathbf{G}_m \\\\times \\\\mathbf{G}_m$.   \\r\\n\\r\\n Since this map is not quasi-compact, $X$ is not quasi-separated, so it is not an algebraic space by Knutson\\'s definition. \\r\\n  Let me rephrase the question (and Ilya\\'s answer).  Given an arbitrary collection $X_i$ of schemes, is the functor (on affine schemes, say) \\r\\n\\r\\n $Y \\\\mapsto \\\\prod_i Hom(Y, X_i)$ \\r\\n\\r\\n representable by a scheme?  If the $X_i$ are all affine, the answer is yes, as explained in the statement of the question.  More generally, any filtered inverse system of schemes with essentially affine transition maps has an inverse limit in the category of schemes (this is in EGA IV.8).  The topology in that case is the inverse limit topology, by the way. \\r\\n\\r\\n It is easy to come up with examples of infinite products of non-separated schemes that are not representable by schemes.  This is because any scheme has a locally closed diagonal.  In other words, if $Y \\\\rightrightarrows Z$ is a pair of maps of schemes then the locus in $Y$ where the two maps coincide is locally closed in $Y$. \\r\\n\\r\\n Suppose $Z$ is the affine line with a doubled origin.  Every distinguished open subset of an affine scheme $Y$ occurs as the locus where two maps $Y \\\\rightrightarrows Z$ agree.  Let $X = \\\\prod_{i = 1}^\\\\infty Z$.  Every countable intersection of distinguished open subsets of $Y$ occurs as the locus where two maps $Y \\\\rightarrow X$ agree.  Not every countable intersection of open subsets is locally closed, however, so $X$ cannot be a scheme. \\r\\n\\r\\n Since the diagonal of an infinite product of separated schemes is closed, a more interesting question is whether an infinite product of separated schemes can be representable by a scheme.  Ilya\\'s example demonstrates that the answer is no. \\r\\n\\r\\n Let $Z = \\\\mathbf{A}^2 - 0$.  This represents the functor that sends $Spec A$ to the set of pairs $(x,y) \\\\in A^2$ generating the unit ideal.  The infinite product $X = \\\\prod_{i = 1}^\\\\infty Z$ represents the functor sending $A$ to the set of infinite collections of pairs $(x_i, y_i)$ generating the unit ideal.  Let $B$ be the ring $\\\\mathbf{Z}[x_i, y_i, a_i, b_i]_{i = 1}^\\\\infty / (a_i x_i + b_i y_i = 1)$.  There is an obvious map $Spec B \\\\rightarrow X$.  Any (nonempty) open subfunctor $U$ of $X$ determines an open subfunctor of $Spec B$, and this must contain a distinguished open subset defined by the invertibility of some $f \\\\in B$.  Since $f$ can involve at most finitely many of the variables, the open subset determined by $f$ must contain the pre-image of some open subset $U\\'$ in $\\\\prod_{i \\\\in I} Z$ for some finite set $I$.  Let $I\\'$ be the complement of $I$.  If we choose a closed point $t$ of $U\\'$ then $U$ contains the pre-image of $t$ as a closed subfunctor.  Since the pre-image of $t$ is $\\\\prod_{i \\\\in I\\'} Z \\\\cong X$ this shows that any open subfunctor of $X$ contains $X$ as a closed subfunctor. \\r\\n\\r\\n In particular, if $X$ is a scheme, any non-empty open affine contains a scheme isomorphic to $X$ as a closed subscheme.  A closed subscheme of an affine scheme is affine, so if $X$ is a scheme it is affine. \\r\\n\\r\\n Now we just have to show $X$ is not an affine scheme.   It is a subfunctor of $W = \\\\prod_{i = 1}^\\\\infty \\\\mathbf{A}^2$, so if $X$ is an affine scheme, it is locally closed in $W$.  Since $X$ is not contained in any closed subset of $W$ except $W$ itself, this means that $X$ is open in $W$.  But then $X$ can be defined in $W$ using only finitely many of the variables, which is impossible.  \\r\\n\\r\\n  Edit:   Laurent Moret-Bailly pointed out in the comments below that my argument above for this last point doesn\\'t make sense.  Here is a revision:  Suppose to the contrary that $X$ is an affine scheme.  Then the morphism $p : X \\\\rightarrow X$ that projects off a single factor is an affine morphism.  If we restrict this map to a closed fiber then we recover the projection from $Z$ to a point, which is certainly not affine.  Therefore $X$ could not have been affine in the first place. \\r\\n  I don\\'t know if this is in SGA IV.5, but that\\'s a good place to look for questions about Cech cohomology. \\r\\n\\r\\n As I described  here , the Cech cohomology with respect to a cover is the same as the sheaf cohomology in the sieve associated to that cover.  If $\\\\mathcal{U}$ is a cover of $X$, let $R$ be the category whose objects are maps $V \\\\rightarrow X$ that factor through some object in $\\\\mathcal{U}$.  Then \\r\\n\\r\\n $\\\\check{H}^p(\\\\mathcal{U}, F) = \\\\varprojlim^{(p)}_{R} F = Ext^p(\\\\mathbf{Z}_R, F)$ \\r\\n\\r\\n where $\\\\varprojlim^{(p)}$ is the $p$-th derived functor $\\\\varprojlim$.  This can be calculated by taking a projective resolution of $\\\\mathbf{Z}_R$.  Here are two ways to do it: \\r\\n\\r\\n $\\\\displaystyle K_p = \\\\sum_{i_1 &lt; i_2 &lt; \\\\cdots &lt; i_p} \\\\mathbf{Z}_{U_{i_1} \\\\cap \\\\cdots \\\\cap U_{i_p}}$ \\r\\n\\r\\n $\\\\displaystyle L_p = \\\\sum_{i_1, \\\\ldots, i_p} \\\\mathbf{Z}_{U_{i_1} \\\\cap \\\\cdots \\\\cap U_{i_p}}$.` \\r\\n\\r\\n One must check, of course, that these are indeed resolutions.  (I don\\'t have a slick explanation of why they are resolutions.  The best I can do is to say that these complexes are associated via the Dold--Kan correspondence to simplicial resolutions of the final presheaf on $R$.)  Taking $Hom$ into $F$ yields the two Cech complexes in question. \\r\\n  A Deligne--Mumford stack is an &eacute;tale-locally ringed topos that is locally equivalent to the &eacute;tale-locally ringed topos of an affine scheme.  A Deligne--Mumford stack is an algebraic space if its diagonal is an embedding. \\r\\n  I\\'m having a little trouble teasing out exactly what your question is, so I\\'ll just write some things about sheaves that seem related and hope they are helpful. \\r\\n\\r\\n Suppose $C$ is a site.  Let $\\\\hat{C}$ be its category of presheaves and $\\\\tilde{C}$ its category of sheaves.  The topology defined in SGA 4, II.5 is on $\\\\hat{C}$, not on $\\\\tilde{C}$ as you suggest in your question.  Its purpose is to give a topology on $\\\\hat{C}$ such that the category of sheaves on $\\\\hat{C}$ (that is, contravariant functors satisfying descent on the category of contravariant functors on $C$) should coincide with the category of sheaves on $C$ (i.e., $\\\\tilde{\\\\hat{C}} = \\\\tilde{C}$). \\r\\n\\r\\n You\\'ve got the condition for being bicovering backwards: a map of presheaves $H \\\\rightarrow G$ is called bicovering if it is covering (with respect to the topology on $C$) and its diagonal $H \\\\rightarrow H \\\\times_G H$ is also covering.  (What it means for a map of sheaves to be covering is that for any map $X \\\\rightarrow G$ with $X$ representable, the sieve of $X$ induced by $H \\\\times_G X$ should be covering.) \\r\\n\\r\\n A Grothendieck topology on $C$ is described by asking certain  subfunctors  (sieves) of objects of $C$ to be covering.  If $H$ is a subfunctor of $G$ then the relative diagonal map is automatically an epimorphism since it is an isomorphism (by definition).  The covering sieves of $X$ are the subfunctors of $X$ that become isomorphic to $X$ upon passing to associated sheaves. \\r\\n\\r\\n The bicovering business arises when one wants to study which arbitrary morphisms of presheaves (not just inclusions) become isomorphisms upon passing to associated sheaves.  The notion of a covering morphism of presheaves explains which morphisms become surjections of sheaves.  The question then remains: which morphisms become injections?  A map of sheaves is an injection if and only if its relative diagonal is a surjection, so the condition is that the relative diagonal be a covering map. \\r\\n  It is representable by an fpqc sheaf (SGA I.VIII.4.4).  Also, since the inverse limit of affine schemes has the inverse limit topology (EGA IV.8), the sheaf is locally of finite presentation.  Since the open subsets of an infinitesimal thickening of a scheme are the same as those of the original scheme, this functor is even formally &eacute;tale over $\\\\mathrm{Spec} \\\\:\\\\mathbf{Z}$.  It\\'s therefore just about as close as it could be to being an algebraic space without actually being one. \\r\\n\\r\\n What goes wrong is algebraization.  If $X$ is an algebraic space and you have a complete local ring $R$ then $\\\\mathrm{Hom}(\\\\mathrm{Spec}\\\\:R,X) = \\\\varprojlim_n  \\\\mathrm{Hom}(\\\\mathrm{Spec}\\\\:R_n,X)$ where the $R_n$ are the quotients of $R$ by powers of the maximal ideal.  It\\'s pretty clear that this equality doesn\\'t hold for the sheaf of open subsets. \\r\\n  I don\\'t think that Grothendieck topologies should be viewed as analogous to ordinary topologies.  It is true that a topology on a set induces various Grothendieck topologies on various categories, but so does every system of basic open neighborhoods.  In my opinion, it is more fruitful to think of a Grothendieck topology as the analogue of a system of basic open neighborhoods and a topos as the analogue of a topological space. \\r\\n\\r\\n Let me try to answer the following question, which may or may not be the question that is actually being asked: Why do we prefer topological spaces to systems of basic open neighborhoods, and topoi to Grothendieck topologies?  I think that the answer has to do with morphisms. \\r\\n\\r\\n To give a morphism of spaces with basic open neighborhoods, one must give a function that respects those neighborhoods.  One can\\'t, however, require that the pre-image of a basic open neighborhood be open.  Instead, one has to require that each point contained in the pre-image of a basic open neighborhood have a basic open neighborhood inside the pre-image. \\r\\n\\r\\n Not only is this definition more complicated than the one for topological spaces (and the extension to Grothendieck topologies is by no means obvious!), but there are multiple distinct but isomorphic systems of open neighborhoods on the same space.  A topology is a maximal system of open neighborhoods in a given isomorphism class, which makes it a \"best model\" for a particular notion of nearness. \\r\\n\\r\\n Another interpretation that makes this model appealing is that given a system of basic open neighborhoods, the open sets are the \"local properties\" (those that hold at a point if and only if they hold at all sufficiently nearby points).  (If one believes a slogan like \"there are two -1-categories: TRUE and FALSE\" then open sets are \"-1-sheaves\"; this completes the formal analogy with Grothendieck topologies and their associated topoi, which are their associated categories of \"0-sheaves\".) \\r\\n  I\\'ve surely misunderstood your question or made a simple mistake, but it seems to me that if $X$ is allowed to vary then $Z({\\\\rm QCoh}(X))$ is a sheaf in the Zariski topology---call it $\\\\underline{Z}_X$---and there is a morphism of sheaves $\\\\mathcal{O}_X \\\\rightarrow \\\\underline{Z}_X$.  It\\'s an isomorphism in general because it\\'s an isomorphism when $X$ is affine. \\r\\n\\r\\n  Edit:  Martin\\'s comment explains the simple mistake I made above, but I think it might be possible to salvage the argument.  I\\'m a little nervous about this though... \\r\\n\\r\\n Let $A_X$ be the smallest additive subcategory of the category of $\\\\mathcal{O}_X$-modules that contains ${\\\\rm QCoh}(X)$ and is closed under arbitrary products and kernels.  Any endomorphism of the identity functor of ${\\\\rm QCoh}(X)$ extends uniquely to an endomorphism of the identity functor of $A_X$ (since product and kernel are functors).  Therefore $Z(A_X) = Z({\\\\rm QCoh}(X))$. \\r\\n\\r\\n Since $f^{-1}$ commutes with arbitrary products and kernels, the categories $A_X$ for varying $X$ form a fibered category (actually a stack) over the Zariski site of $X$.   \\r\\n\\r\\n If $f : U \\\\rightarrow X$ and $G \\\\in A_U$ then $f_\\\\ast G \\\\in A_X$ (see the proof that the pushforward of a quasi-coherent sheaf under a quasi-compact, quasi-separated morphism is quasi-coherent in EGA(1971)I.6.7.1, taking into account that $f_\\\\ast$ commutes with arbitrary inverse limits).  If $U$ is an open embedding, this implies that $f^\\\\ast : A_X \\\\rightarrow A_U$ is essentially surjective (since $f^\\\\ast f_\\\\ast G = G$).  Therefore any endomorphism of the identity functor of $A_X$ can be restricted to an endomorphism of the identity functor of $A_U$.  Therefore as $X$ varies, $Z(A_X) = Z({\\\\rm QCoh}(X))$ forms a sheaf in the Zariski topology. \\r\\n\\r\\n  Edit 2:   I have to argue that $f_\\\\ast$ carries $A_U$ into $A_X$.  I\\'m mimicking the argument from EGA here, but I can\\'t see Martin\\'s objection. \\r\\n\\r\\n We can assume that $X$ is affine (since $A$ is a stack).  If $f$ is affine, this is because $f_\\\\ast$ commutes with arbitrary inverse limits and $f_\\\\ast$ carries ${\\\\rm QCoh}(U)$ into ${\\\\rm QCoh}(X)$.   \\r\\n\\r\\n Let $U_i$ be a cover of $U$ by open affines, and let $U_{ij}$ be the pairwise intersections.  Let $f_i$ and $f_{ij}$ be the restrictions of $f$.  Let $G_i = {f_i}_\\\\ast G_i \\\\big|_{U_i}$ and let $G_{ij} = {f_{ij}}_\\\\ast G \\\\big|_{U_{ij}}$.  Then \\r\\n\\r\\n $f_\\\\ast G = \\\\ker( \\\\prod_i G_i \\\\rightarrow \\\\prod_{ij} G_{ij} )$ \\r\\n\\r\\n and the $G_i$ are in $A_X$ because $U_i \\\\rightarrow X$ are affine.  If the $G_{ij}$ are also in $A_X$ then so is $f_\\\\ast G$.  This will be the case if $f$ is separated, since then the $U_{ij}$ will be affine.  But this implies the general case because the $U_{ij}$ will be quasi-affine, hence separated, over $X$, so $G_{ij} = {f_{ij}}_\\\\ast G \\\\big|_{U_{ij}}$ will be in $A_X$ by the case mentioned above. \\r\\n  As BCnrd points out, gluing cotangent complexes is a nontrivial thing.  You might still ask whether it is really necessary for Illusie to work in the generality of a ringed topos.  Would using a ringed space suffice?  For standard deformation problems (deformation of a morphism or deformation of a scheme) working on the underlying ringed space would be enough.  For more \"interesting\" deformation problems, like deformation of a morphism $X \\\\rightarrow Y$, where $X$, $Y$, and the morphism are all allowed to vary, one needs something more sophisticated.  Illusie constructs a ringed topos that encodes all of these data and then applies the machinery for ringed topoi that he has already developed. \\r\\n  EGA, Chapters 5 through 12 \\r\\n  No, the embedding of schemes in the big Zariski site does not preserve colimits.  It is possible to see this in the example you suggest by computing the \"tangent space\" at the origin.  Let $X$ be the colimit in the category of schemes; the tangent space of $X$ at the origin is a $2$-dimensional vector space.  Let $Y$ be the colimit in the category of sheaves; I claim that the \"tangent space\" of $Y$ at the origin is the union of the coordinate axes inside of the tangent space of $X$. \\r\\n\\r\\n The tangent space of $Y$ is the space of sections of $Y$ over $Z := \\\\mathrm{Spec}\\\\: k[\\\\epsilon] / \\\\epsilon^2$.  The Zariski topology is trivial on $Z$, so sections of $Y$ over $Z$ are the same as sections of the presheaf colimit over $Z$.  The \"tangent space\" of the presheaf colimit is the union of the tangent spaces of the two copies of $\\\\mathbf{A}^1$. \\r\\n  I will try to argue that if an product of quasi-compact schemes is a representable by a scheme, then all but finitely many of them must be affine. \\r\\n\\r\\n  Edit:   I rewrote the argument a little to address the comments.  I hope the argument might finally be satisfying... \\r\\n\\r\\n  Lemma.   If $X_i$, $i \\\\in I$ are quasi-compact schemes over a field $k$, then $\\\\prod X_i$ has a closed point (i.e., there is a map from the spectrum of some field $K$ to $X$ that is representable by closed immersions) whose image in each of the $X_i$ is also closed. \\r\\n\\r\\n  Proof.   For each $i$, let $x_i$ be a closed point of $X_i$ (which exists because the $X_i$ are quasi-compact).  Let $K$ be a compositum of the residue fields of the $x_i$ (i.e., the residue field at a closed point of $Z = \\\\prod_i x_i$, which exists because $Z$ is affine).  Let $X$ be the product of the $X_i$.  Then we get a map $\\\\mathrm{Spec} \\\\: K \\\\rightarrow X$, which we have to show is a closed embedding. \\r\\n\\r\\n It\\'s enough to argue that the map $Z \\\\rightarrow X$ is a closed embedding.  But if $Y$ is a scheme over $X$ then $Y_Z$ can be obtained as the intersection of closed subschemes $Y_{x_i} = Y \\\\times_{X_i} x_i$, which is a closed subscheme.  $\\\\Box$ \\r\\n\\r\\n Suppose that the product of schemes $X_i$, indexed by $i \\\\in I$, is representable by a non-empty scheme $X$.  Assume that each $X_i$ is quasi-compact, so that for each $i$, we can find a Zariski cover $Y_i \\\\rightarrow X_i$ of $X_i$ by an affine scheme $Y_i$.  Then we get a map $Y = \\\\prod Y_i \\\\rightarrow X$ and the source is an affine scheme.  Let $x$ be a closed point of $X$.  Let $U$ be an affine neighborhood of $x$ in $X$.  Let $y$ be a $K$-point of $Y$ above $x$, and let $V$ be a distinguished affine open neighborhood of $y$ in $Y$, contained in the pre-image of $U$, and defined by the invertibility of some $f \\\\in \\\\Gamma(Y, {\\\\cal O}_Y)$.  Since $f$ can be expressed using functions defined on finitely many of the $Y_i$, the set $V$ must be the pre-image of a distinguished open affine $V\\' \\\\subset \\\\prod_{i \\\\in I\\'} Y_i$ where $I\\'$ is a finite subset of $I$.  Let $I\\'\\'$ be the complement of $I\\'$ in $I$ and let $X\\' = \\\\prod_{i \\\\in I\\'} X_i$ and define $X\\'\\'$, $Y\\'$, $Y\\'\\'$ analogously.  Then $V\\' \\\\times Y\\'\\'$ is an affine open neighborhood of $y$ in $Y$, contained in $V$.  If $U\\'$ denotes the image of $V\\'$ in $X\\'$ then $U\\' \\\\times X\\'\\'$ is an open neighborhood of $x$ in $X$, contained in $U$.  Let $x\\'$ be the projection of $x$ to $X\\'$, which we can safely assume is a closed point of $X\\'$, hence a closed point of $U\\'$, and let $K$ be the residue field of $x\\'$.  Therefore $\\\\{ x\\' \\\\} \\\\times X\\'\\'$ is a closed subscheme of $U$ and is therefore affine.  But $\\\\{ x\\' \\\\} \\\\times X\\'\\' = K \\\\otimes_k X\\'\\'$ so by fpqc descent for affine schemes over $k$ (SGA1.VIII.2) it follows that $X\\'\\'$ is affine. \\r\\n\\r\\n Replacing $I$ with $I\\'\\'$ we can now assume that $X$ is affine. Before proving that each $X_i$ is affine, I claim that each $X_i$ is separated.  We must show that for any scheme $Y$ and any two maps $Y \\\\rightrightarrows X_i$, the locus in $Y$ where the maps agree is closed.  Let $x$ be a closed $K$-point of $\\\\prod_{j \\\\not= i} X_j$ for some extension $K$ of $k$.  Then we can extend the maps $Y \\\\rightrightarrows X_i$ to maps $Y \\\\otimes_k K \\\\rightrightarrows X$.  Since $X$ is separated, the locus in $Y \\\\otimes_k K$ where these maps agree is closed.  But this is the pullback via the map $Y \\\\otimes_k K \\\\rightarrow Y$ of the locus where the maps $Y \\\\rightrightarrows X_i$ agree, so this latter subset of $Y$ must be closed by fpqc descent (see SGA1.VIII.4). \\r\\n\\r\\n If $X$ is affine and non-empty then it is separated, so each $X_i$ is separated.  Therefore $Z := \\\\prod_{j \\\\not= i} X_j$ is separated for each $i$.  (Note that we don\\'t yet know that $Z$ is representable by a scheme, but it still makes sense to claim that $Z$ is separated as a functor:  for any scheme $T$ and any two elements $a$ and $b$ of $Z(T)$, the locus in $T$ where $a$ and $b$ agree is closed.)  Let $z$ be a closed $K$-point of $Z$.  Then $X_i \\\\otimes_k K = X \\\\times_Z \\\\{z\\\\}$ is closed in $X$, hence is affine because we assumed $X$ to be affine.  This implies $X_i$ is affine by fpqc descent (see SGA1.VIII.2). \\r\\n  $\\\\mathrm{Cov}(X)$ determines $X$ if $X$ is  sober . \\r\\n  One does not actually need the \"power of topoi\" to make Illusie\\'s definition of the cotangent complex work.  One does need sheaves, though.  Illusie\\'s constructions would have worked equally well had he used ringed spaces instead of ringed topoi.  Some constructions related to diagrams of schemes might be easier to phrase in terms of topoi, and of course they become essential if one wants to work in, say, the &eacute;tale topology. \\r\\n\\r\\n Illusie makes use of the generality of his construction in a number of places.  By treating ringed topoi that are not the &eacute;tale or Zariski topoi of schemes he is able to treat the deformation theory of diagrams, which he applies to deformations of group schemes, commutative group schemes, and modules. \\r\\n\\r\\n I do not know if it would be useful to study deformations of the structure sheaf on the fppf topos of a scheme $S$.  Such a deformation would correspond to a consistent collection of deformations of every scheme over $S$. \\r\\n  You can view the sheaf $\\\\mathcal{F}$ on $X \\\\times X$ instead as a map from $X$ (the first factor) to the moduli stack $M$ of sheaves on $X$ (the second factor).  This induces a map on the tangent spaces.  The tangent space to $M$ at a sheaf $F$ is the space of first order deformations of $F$, which is $\\\\mathrm{Ext}^1(F, F)$. \\r\\n\\r\\n Using the exact sequence \\r\\n\\r\\n $0 \\\\rightarrow I \\\\rightarrow \\\\mathcal{O}_X \\\\rightarrow k(x) \\\\rightarrow 0$ \\r\\n\\r\\n you get an identification between $T_x X = \\\\mathrm{Hom}_{\\\\mathcal{O}_X}(I, k(x)) = \\\\mathrm{Ext}^1(k(x),k(x))$.  Therefore the differential gives a map \\r\\n\\r\\n $T_x X = \\\\mathrm{Ext}^1(k(x),k(x)) \\\\rightarrow T_{\\\\mathcal{F}_x} M = \\\\mathrm{Ext}^1(\\\\mathcal{F}_x, \\\\mathcal{F}_x)$. \\r\\n  Let $L$ be the complex $[ f^\\\\ast \\\\Omega_X \\\\rightarrow \\\\Omega_C(D) ]$, concentrated in degrees $[-1,0]$ on $C$. \\r\\n\\r\\n One way to understand the obstructions is to understand the deformations for affine curves first.  Observe first that there is a canonical equivalence of categories between the category of deformations of a pointed map $f : C \\\\rightarrow X$, with $C$ not-necessarily proper, and the category of extensions \\r\\n\\r\\n $G(C) = \\\\mathrm{Ext}(L, \\\\mathcal{O}_C)$. \\r\\n\\r\\n The meaning of the category on the right is the category of extensions $E$ of $\\\\Omega_C(D)$ by $\\\\mathcal{O}_C$ together with a trivialization of the induced extension of $f^\\\\ast \\\\Omega_X$ by $\\\\mathcal{O}_C$.  One checks explicitly that the category of extensions of $\\\\Omega_C(D)$ by $\\\\mathcal{O}_C$ is canonically equivalent to the category of deformations of the pointed curve $C$ and that splitting the induced extension of $f^\\\\ast \\\\Omega_X$ is the same as extending the map $f : C \\\\rightarrow X$ to a map from the deformed curve to $X$. \\r\\n\\r\\n Note that $G$ is a commutative group stack (what is sometimes called a \"Picard stack\").  It is easy to check that $G$ is non-empty when $C$ is an affine curve (use the fact that deformations of nodal curves are unobstructed and the formal criterion of smoothness for $X$), which means that any obstructions to deforming a proper curve come from the failure of local deformations to glue.  There is a standard way to compute these local obstructions---e.g., by Cech cohomology, noting that mutatis mutandis, Cech cohomology still works for group stacks---and this yield a class in $H^1(C, G)$.  Cohomology of a commutative group stack is the same as cohomology of the associated complex, so we get an obstruction in \\r\\n\\r\\n $H^1(C, L^\\\\vee[1]) = H^2(C, L^\\\\vee) = \\\\mathrm{Ext}^2(L, \\\\mathcal{O}_C)$. \\r\\n  Perhaps one way of reading this question is \"Why is it important to think about complexes when doing deformation theory?\"  One must certainly accept that deformation theory is cohomological in nature:  consider the standard &#268;ech construction of classes in $H^1(X, T_X)$ and $H^2(X, T_X)$ corresponding respectively to deformations and obstructions to deformations of a smooth scheme $X$; or consider the deformations of a regular embedding $X \\\\rightarrow Y$, which are parameterized by $H^0(X, N_{X/Y})$ and obstructed by $H^1(X, N_{X/Y})$. \\r\\n\\r\\n Let me recall the arguments that yield these classes.  Locally a smooth scheme has only one deformation up to isomorphism, so global deformations arise from gluing the local ones; the gluing data come from the tangent bundle, so deformations are classified by $H^1(X, T_X)$.  Similarly, solutions to an obstructed deformation problem exist locally and are locally unique up to isomorphism, so the obstruction comes from gluing.  One writes down the gluing condition and observes that it is a &#268;ech $2$-cocycle (or observes directly that deformations form a gerbe...). \\r\\n\\r\\n The argument for a regular embedding is similar.  One first gives a direct construction for the identification of $H^0(X,N_{X/Y})$ and the deformations of the embedding; then one shows that there are no local obstructions, so global obstructions arise entirely from gluing, and this gives a &#268;ech 1-cocycle with values in $N_{X/Y}$. \\r\\n\\r\\n What about a more general deformation problem?  For example, suppose $X$ is a local complete intersection.  A great deal of the arguments above goes through without modification:  locally, deformations of a local complete intersection are unobstructed, so obstructions should come from gluing.  One should be able to produce a &#268;ech cocycle obstructing the existence of a global deformation.  But a cocycle valued in what? \\r\\n\\r\\n The answer is the (shifted) tangent complex (dual to the cotangent complex mentioned in another answer).  This is a complex in in degrees $[0,1]$ that coincides with $T_X$ if $X$.  The relative tangent complex of a regular embedding $X \\\\rightarrow Y$ is $N_{X/Y}[-1]$.  Thus the tangent complex recovers the two special cases discussed above. \\r\\n\\r\\n For a complete intersection $X$ in a smooth scheme $Y$, the tangent complex of $X$ may be constructed as $[T_Y \\\\vert_X \\\\rightarrow N_{X/Y}]$.  If $X$ is only a local complete intersection then this construction works locally in $X$, but it\\'s not going to glue to something global.  However, the local construction is quasi-isomorphic to the restriction of something global.  At last, the derived category appears. \\r\\n\\r\\n All of this is vastly generalized by the cotangent complex, which works the same way as above for arbitrary schemes, without the lci restriction.  You can read more about that in Chris Brav\\'s answer. \\r\\n  Here is a classifying problem without a coarse moduli space:  Let $F$ be the stack of line bundles with section, say over an algebraically closed field k.  That is $F(X)$ is the category of pairs $(L,s)$ where $L$ is a line bundle on $X$ and $s \\\\in \\\\Gamma(X,L)$ is a section of $L$.  Then $F$ has no coarse moduli space:  if it did, there would be two points, corresponding to $(k,1)$ and $(k,0)$ with the former specializing to the latter.  This would be an affine scheme with a closed point and a generic point, both with residue field $k$.  That\\'s impossible. \\r\\n\\r\\n Of course, $F$ is just a geometric description of $[\\\\mathbf{A}^1 / \\\\mathbf{G}_m]$, so we already knew it didn\\'t have a coarse moduli space. \\r\\n  The answer is yes.  Let $[E^{-1} \\\\rightarrow E^0]$ be a perfect obstruction theory on $M$.  After localizing in $M$ we can assume that the map $E^0 \\\\rightarrow \\\\Omega_M$ is induced as $\\\\mathcal{O}_M \\\\otimes \\\\Omega_{\\\\mathbf{A}^n} \\\\rightarrow \\\\Omega_M$ for some map $M \\\\rightarrow \\\\mathbf{A}^n$.(*) As the map on differentials is surjective the relative differentials vanish and the map is unramified.  By EGA IV.18.4.7, we can (at least after localizing further in $M$) factor the map $M \\\\rightarrow \\\\mathbf{A}^n$ as a closed embedding $M \\\\rightarrow V$ followed by an &eacute;tale map $V \\\\rightarrow \\\\mathbf{A}^n$. \\r\\n\\r\\n Let $I$ be the ideal of $M$ inside $V$.  Then we have an exact sequence \\r\\n\\r\\n $I/I^2 \\\\rightarrow \\\\mathcal{O}_M \\\\otimes \\\\Omega_V \\\\rightarrow \\\\Omega_M \\\\rightarrow 0$ \\r\\n\\r\\n where the first two terms are $\\\\tau_{\\\\geq -1} L_M$.  By the definition of an obstruction theory, we are given a map $E^{-1} \\\\rightarrow I/I^2$ inducing a surjection $H^{-1}(E) \\\\rightarrow H^{-1} L_M$.  By the 5-lemma, $E^{-1} \\\\rightarrow I/I^2$ is surjective. \\r\\n\\r\\n Localizing further in $V$ and $M$, we can assume that the map $E^{-1} \\\\rightarrow I/I^2$ is induced from a map $F \\\\rightarrow I$ of coherent sheaves on $V$ with $F$ locally free.  By Nakayama\\'s lemma we can assume, possibly after further localization, that $F \\\\rightarrow I$ is surjective.  Then consider the section of the vector bundle $F^\\\\vee$ dual to the composition $F \\\\rightarrow I \\\\subset \\\\mathcal{O}_V$.  The vanishing locus of this section is $M$ and the induced complex $F \\\\rightarrow \\\\mathcal{O}_M \\\\otimes \\\\Omega_V$ is the obstruction theory we started with. \\r\\n\\r\\n (*)  We can represent $\\\\tau_{\\\\geq -1} L_M$ as $[ J / J^2 \\\\rightarrow \\\\Omega_W ]$ for some closed embedding $M \\\\subset W$ and we are given a map of complexes $E^\\\\bullet \\\\rightarrow \\\\tau_{\\\\geq -1} L_M$.  Replacing $E^\\\\bullet$ with a quasi-isomorphic complex, we can assume that the map $E^0 \\\\rightarrow \\\\Omega_W$ is surjective.  But $E^0$ and $\\\\Omega_W$ are vector bundles, so after localizing in $M$ we can assume that $\\\\Omega_W$ is a direct summand of $E^0$.  Choosing a basis for the complementary summand, we can identify $E^0 \\\\cong \\\\Omega_{W \\\\times \\\\mathbf{A}^n}$. \\r\\n  The answer is always.  Let $\\\\mathrm{Et}(X)$ and $\\\\mathrm{Et}(Y)$ denote the &eacute;tale sites.  There is a functor $f_! : \\\\mathrm{Et}(X) \\\\rightarrow \\\\mathrm{Et}(Y)$ sending an &eacute;tale $X$-scheme $p : U \\\\rightarrow X$ to $f \\\\circ p : U \\\\rightarrow Y$.  This functor is cocontinuous (SGA4.III.2.1) and continuous (SGA4.III.1.1).  By SGA4.III.2.6, any functor that is both continuous and cocontinuous gives rise to a morphism of topoi $(f^\\\\ast, f_\\\\ast)$ where $f^\\\\ast$ has a left adjoint. \\r\\n  Here is how I like to understand the Weil pairing. \\r\\n\\r\\n The dual of an abelian variety $A$ is the scheme $\\\\hat{A} = \\\\mathrm{Hom}(A, B\\\\mathbf{G}_m)$.  Here $B\\\\mathbf{G}_m$ is the stack of line bundles and $\\\\mathrm{Hom}$ refers to homomorphisms of group stacks.  One therefore has a perfect pairing \\r\\n\\r\\n $A \\\\times \\\\hat{A} \\\\rightarrow B\\\\mathbf{G}_m$. \\r\\n\\r\\n This actually means something relatively concrete:  For each pair of points $(a, a\\') \\\\in A \\\\times \\\\hat{A}$ one has a one dimensional vector space $L(a,a\\')$, together with isomorphisms \\r\\n\\r\\n $L(a_1 + a_2, a\\') \\\\simeq L(a_1, a\\') \\\\otimes L(a_2, a\\')$, \\r\\n\\r\\n $L(a, a\\'_1 + a\\'_2) \\\\simeq L(a, a\\'_1) \\\\otimes L(a, a\\'_2)$ \\r\\n\\r\\n satisfying some compatibility conditions (you can find the details of this definition under the heading of biextensions; there is a nice explanation in SGA7).  One of these compatibilities is that the two isomorphisms \\r\\n\\r\\n $L(a_1 + a_2, a\\'_1 + a\\'_2) \\\\simeq L(a_1, a\\'_1) \\\\otimes L(a_1, a\\'_2) \\\\otimes L(a_2, a\\'_1) \\\\otimes L(a_2, a\\'_2)$ \\r\\n\\r\\n should coincide. \\r\\n\\r\\n One consequence of the definition is that $L(0, a\\') = L(0 + 0, a\\') \\\\simeq L(0, a\\') \\\\otimes L(0, a\\')$ which means that $L(0, a\\')$ is canonically trivialized, as is $L(a, 0)$ by symmetry.  Moreover, the two trivializations of $L(0,0)$ must be the same. \\r\\n\\r\\n If we choose an $n$-torsion point $a$ of $A$ then $L(a, a\\')$ will be a line bundle with a trivialization of its $n$-th tensor power.  Similarly, if $a\\'$ is also an $n$-torsion point then $L(a,a\\')^{\\\\otimes n}$ will come with  two  trivializations coming from its identification with the canonically trivialized line bundles $L(na, a\\') = L(0,a\\')$ and $L(a, na\\') = L(a,0)$.  Comparing these two trivializations, we get an element of $\\\\mathbf{G}_m$ and therefore a pairing \\r\\n\\r\\n $A[n] \\\\times \\\\hat{A}[n] \\\\rightarrow \\\\mathbf{G}_m$. \\r\\n\\r\\n However, we notice that the induced trivializations of $L^{\\\\otimes n^2} \\\\simeq L(na, na\\')$ must coincide.  Therefore the image of this map actually lands in $\\\\mathbf{G}_m[n] = \\\\mu_n$.  This gives the Weil pairing \\r\\n\\r\\n $A[n] \\\\times \\\\hat{A}[n] \\\\rightarrow \\\\mu_n$. \\r\\n\\r\\n I don\\'t know of a way to interpret the Hilbert symbol in quite this way, but I\\'d be very interested if someone could suggest one!  \\r\\n  This seems to be a statement about the classification of connections without torsion.  If $\\\\nabla$ and $\\\\nabla\\'$ are connections without torsion then $\\\\varphi = \\\\nabla - \\\\nabla\\'$ is a symmetric, linear function $S^2(TX) \\\\rightarrow TX$.  If you want to classify connections without torsion you observe that they exist locally and that the data needed to glue local instances comes from $\\\\mathrm{Hom}(S^2(TX),TX)$.  Therefore the obstruction to gluing is a &#268;ech 1-cocycle (i.e., a torsor) valued in $\\\\mathrm{Hom}(S^2(TX), TX)$. \\r\\n  Niels already links to references that answer the question, but I\\'ll briefly summarize them. \\r\\n\\r\\n If $X$ is a stack presented by a groupoid $X_1 \\\\rightrightarrows X_0$ then a map from a scheme $S$ into $X$ induces a groupoid presentation $S \\\\mathop{\\\\times}_X X_1 \\\\rightrightarrows S \\\\mathop{\\\\times}_X X_0$ of $S$.  Conversely, suppose that we have a groupoid presentation $S_1 \\\\rightrightarrows S_0$ of $S$ and compatible maps $S_i \\\\rightarrow X_i$ (such that the two maps $S_1 \\\\rightarrow S_0$ are induced by pullback from the two maps $X_1 \\\\rightarrow X_0$) then there is an induced map $S \\\\rightarrow X$. \\r\\n\\r\\n The associated stack of the groupoid $X_\\\\bullet$ is therefore the fibered category $X$ for which $X(S)$ is the category of groupoid presentations of $S$ with a map to $X_\\\\bullet$ satisfying the above parenthetical condition. \\r\\n  I believe the number is 12. \\r\\n\\r\\n I will assume the characteristic of the base field is not 2 or 3 so that I can use $\\\\overline{\\\\mathcal{M}}_{1,1} \\\\simeq \\\\mathbf{P}(4,6)$.  Recall that $\\\\mathbf{P}(4,6)$ is constructed by dividing $V = \\\\mathbf{A}^2 \\\\smallsetminus \\\\{ (0,0) \\\\}$ by the weight $(4,6)$-action of $\\\\mathbf{G}_m$. \\r\\n\\r\\n The line bundle $\\\\mathcal{O}(1)$ (which coincides with the Hodge bundle and generates the Picard group) can be constructed as the equivariant line bundle $V \\\\times \\\\mathbf{A}^1$ on $V$ with $\\\\mathbf{G}_m$ acting by weights $(4,6,1)$.  Then $\\\\mathcal{O}(4)$ has a canonical section $g_4$ and $\\\\mathcal{O}(6)$ has the section $g_6$.  In $\\\\mathcal{O}(12)$ we have the two sections \\r\\n\\r\\n $1728 g_4^3$ \\r\\n\\r\\n $\\\\Delta = g_4^3 - 27 g_6^2$. \\r\\n\\r\\n This linear series defines $j : \\\\mathbf{P}(4,6) \\\\rightarrow \\\\mathbf{P}^1$. \\r\\n\\r\\n Note that $j$ has degree $1/2$ because of the generic automorphism on $\\\\mathbf{P}(4,6)$.  That is, $j_\\\\ast j^\\\\ast$ is multiplication by $1/2$.  Thus the Hodge class $\\\\lambda$ satisfies \\r\\n\\r\\n $\\\\int_{\\\\overline{\\\\mathcal{M}}_{1,1}} \\\\lambda = \\\\int_{\\\\mathbf{P}(4,6)} c_1(\\\\mathcal{O}(1))\\r\\n= \\\\frac{1}{12} \\\\int_{\\\\mathbf{P}(4,6)} c_1(j^\\\\ast \\\\mathcal{O}(1)) = \\\\frac{1}{12} \\\\int_{\\\\mathbf{P}^1} j_\\\\ast j^\\\\ast c_1(\\\\mathcal{O}(1)) = \\\\frac{1}{24}$. \\r\\n\\r\\n Another thing that may be confusing here is that $j$ is generically unramified, so that a local equation for a point in $\\\\mathbf{P}^1$ pulls back under $j$ to a local equation in $\\\\overline{\\\\mathcal{M}}_{1,1}$.  Thus $j^\\\\ast \\\\Delta = \\\\delta$ (if $\\\\Delta$ denotes the boundary in the coarse moduli space and $\\\\delta$ the boundary in the stack).   \\r\\n  The algebro-geometric definition does translate, almost literally.  John Klein\\'s comment to Martin\\'s question provides one way of doing the translation. \\r\\n\\r\\n Let $X$ be a manifold.  Define a contravariant functor $F$ on manifolds by taking $F(Y)$ to be the set of pairs $(f, \\\\delta)$ where $f : Y \\\\rightarrow X$ is a morphism of manifolds and $\\\\delta : C^\\\\infty(X) \\\\rightarrow C^\\\\infty(Y)$ is a derivation with respect to the module structure on $C^\\\\infty(Y)$ induced from $f$.  Then $F$ is representable by $TX$. \\r\\n\\r\\n Alternately, you may think of an element of $F(Y)$ as an extension of $f : Y \\\\rightarrow X$ to a map of ringed spaces $Y[\\\\epsilon] \\\\rightarrow X$ where $Y[\\\\epsilon]$ is the space $Y$, ringed by $C^\\\\infty(Y)[\\\\epsilon] / (\\\\epsilon^2)$. \\r\\n  Bhargav Bhatt has recently proved a remarkable algebraization theorem: \\r\\n\\r\\n  http://arxiv.org/abs/1404.7483  \\r\\n\\r\\n It implies that formal maps into quasi-compact, quasi-separated schemes may be algebraized.  Another version of this result (with slightly different hypotheses) has been proved by Hall and Rydh: \\r\\n\\r\\n  http://arxiv.org/abs/1405.7680  \\r\\n  The automorphism group of $\\\\overline{\\\\mathbf Q}$ is equipped with a topology, induced by viewing it as a subset of the permutation group of an infinite set.  There is a basis of open neighborhoods in which the stabilizer of a finite subset of $\\\\overline{\\\\mathbf Q}$ is considered to be open.  This is the same as the profinite topology. \\r\\n'"
      ]
     },
     "execution_count": 197,
     "metadata": {},
     "output_type": "execute_result"
    }
   ],
   "source": [
    "user_answers.iloc[6,0]"
   ]
  },
  {
   "cell_type": "code",
   "execution_count": 198,
   "metadata": {
    "collapsed": false
   },
   "outputs": [
    {
     "ename": "LookupError",
     "evalue": "\n**********************************************************************\n  Resource u'corpora/stopwords' not found.  Please use the NLTK\n  Downloader to obtain the resource:  >>> nltk.download()\n  Searched in:\n    - 'C:\\\\Users\\\\songyifn/nltk_data'\n    - 'C:\\\\nltk_data'\n    - 'D:\\\\nltk_data'\n    - 'E:\\\\nltk_data'\n    - 'C:\\\\Users\\\\songyifn\\\\Anaconda2\\\\nltk_data'\n    - 'C:\\\\Users\\\\songyifn\\\\Anaconda2\\\\lib\\\\nltk_data'\n    - 'C:\\\\Users\\\\songyifn\\\\AppData\\\\Roaming\\\\nltk_data'\n**********************************************************************",
     "output_type": "error",
     "traceback": [
      "\u001b[0;31m---------------------------------------------------------------------------\u001b[0m",
      "\u001b[0;31mLookupError\u001b[0m                               Traceback (most recent call last)",
      "\u001b[0;32m<ipython-input-198-e6f6387767f1>\u001b[0m in \u001b[0;36m<module>\u001b[0;34m()\u001b[0m\n\u001b[1;32m      2\u001b[0m \u001b[1;32mfrom\u001b[0m \u001b[0mnltk\u001b[0m\u001b[1;33m.\u001b[0m\u001b[0mstem\u001b[0m\u001b[1;33m.\u001b[0m\u001b[0mwordnet\u001b[0m \u001b[1;32mimport\u001b[0m \u001b[0mWordNetLemmatizer\u001b[0m\u001b[1;33m\u001b[0m\u001b[0m\n\u001b[1;32m      3\u001b[0m \u001b[1;32mimport\u001b[0m \u001b[0mstring\u001b[0m\u001b[1;33m\u001b[0m\u001b[0m\n\u001b[0;32m----> 4\u001b[0;31m \u001b[0mstop\u001b[0m \u001b[1;33m=\u001b[0m \u001b[0mset\u001b[0m\u001b[1;33m(\u001b[0m\u001b[0mstopwords\u001b[0m\u001b[1;33m.\u001b[0m\u001b[0mwords\u001b[0m\u001b[1;33m(\u001b[0m\u001b[1;34m'english'\u001b[0m\u001b[1;33m)\u001b[0m\u001b[1;33m)\u001b[0m\u001b[1;33m\u001b[0m\u001b[0m\n\u001b[0m\u001b[1;32m      5\u001b[0m \u001b[0mexclude\u001b[0m \u001b[1;33m=\u001b[0m \u001b[0mset\u001b[0m\u001b[1;33m(\u001b[0m\u001b[0mstring\u001b[0m\u001b[1;33m.\u001b[0m\u001b[0mpunctuation\u001b[0m\u001b[1;33m)\u001b[0m\u001b[1;33m\u001b[0m\u001b[0m\n\u001b[1;32m      6\u001b[0m \u001b[0mlemma\u001b[0m \u001b[1;33m=\u001b[0m \u001b[0mWordNetLemmatizer\u001b[0m\u001b[1;33m(\u001b[0m\u001b[1;33m)\u001b[0m\u001b[1;33m\u001b[0m\u001b[0m\n",
      "\u001b[0;32mC:\\Users\\songyifn\\Anaconda2\\lib\\site-packages\\nltk\\corpus\\util.pyc\u001b[0m in \u001b[0;36m__getattr__\u001b[0;34m(self, attr)\u001b[0m\n\u001b[1;32m    114\u001b[0m             \u001b[1;32mraise\u001b[0m \u001b[0mAttributeError\u001b[0m\u001b[1;33m(\u001b[0m\u001b[1;34m\"LazyCorpusLoader object has no attribute '__bases__'\"\u001b[0m\u001b[1;33m)\u001b[0m\u001b[1;33m\u001b[0m\u001b[0m\n\u001b[1;32m    115\u001b[0m \u001b[1;33m\u001b[0m\u001b[0m\n\u001b[0;32m--> 116\u001b[0;31m         \u001b[0mself\u001b[0m\u001b[1;33m.\u001b[0m\u001b[0m__load\u001b[0m\u001b[1;33m(\u001b[0m\u001b[1;33m)\u001b[0m\u001b[1;33m\u001b[0m\u001b[0m\n\u001b[0m\u001b[1;32m    117\u001b[0m         \u001b[1;31m# This looks circular, but its not, since __load() changes our\u001b[0m\u001b[1;33m\u001b[0m\u001b[1;33m\u001b[0m\u001b[0m\n\u001b[1;32m    118\u001b[0m         \u001b[1;31m# __class__ to something new:\u001b[0m\u001b[1;33m\u001b[0m\u001b[1;33m\u001b[0m\u001b[0m\n",
      "\u001b[0;32mC:\\Users\\songyifn\\Anaconda2\\lib\\site-packages\\nltk\\corpus\\util.pyc\u001b[0m in \u001b[0;36m__load\u001b[0;34m(self)\u001b[0m\n\u001b[1;32m     79\u001b[0m             \u001b[1;32mexcept\u001b[0m \u001b[0mLookupError\u001b[0m \u001b[1;32mas\u001b[0m \u001b[0me\u001b[0m\u001b[1;33m:\u001b[0m\u001b[1;33m\u001b[0m\u001b[0m\n\u001b[1;32m     80\u001b[0m                 \u001b[1;32mtry\u001b[0m\u001b[1;33m:\u001b[0m \u001b[0mroot\u001b[0m \u001b[1;33m=\u001b[0m \u001b[0mnltk\u001b[0m\u001b[1;33m.\u001b[0m\u001b[0mdata\u001b[0m\u001b[1;33m.\u001b[0m\u001b[0mfind\u001b[0m\u001b[1;33m(\u001b[0m\u001b[1;34m'{}/{}'\u001b[0m\u001b[1;33m.\u001b[0m\u001b[0mformat\u001b[0m\u001b[1;33m(\u001b[0m\u001b[0mself\u001b[0m\u001b[1;33m.\u001b[0m\u001b[0msubdir\u001b[0m\u001b[1;33m,\u001b[0m \u001b[0mzip_name\u001b[0m\u001b[1;33m)\u001b[0m\u001b[1;33m)\u001b[0m\u001b[1;33m\u001b[0m\u001b[0m\n\u001b[0;32m---> 81\u001b[0;31m                 \u001b[1;32mexcept\u001b[0m \u001b[0mLookupError\u001b[0m\u001b[1;33m:\u001b[0m \u001b[1;32mraise\u001b[0m \u001b[0me\u001b[0m\u001b[1;33m\u001b[0m\u001b[0m\n\u001b[0m\u001b[1;32m     82\u001b[0m \u001b[1;33m\u001b[0m\u001b[0m\n\u001b[1;32m     83\u001b[0m         \u001b[1;31m# Load the corpus.\u001b[0m\u001b[1;33m\u001b[0m\u001b[1;33m\u001b[0m\u001b[0m\n",
      "\u001b[0;31mLookupError\u001b[0m: \n**********************************************************************\n  Resource u'corpora/stopwords' not found.  Please use the NLTK\n  Downloader to obtain the resource:  >>> nltk.download()\n  Searched in:\n    - 'C:\\\\Users\\\\songyifn/nltk_data'\n    - 'C:\\\\nltk_data'\n    - 'D:\\\\nltk_data'\n    - 'E:\\\\nltk_data'\n    - 'C:\\\\Users\\\\songyifn\\\\Anaconda2\\\\nltk_data'\n    - 'C:\\\\Users\\\\songyifn\\\\Anaconda2\\\\lib\\\\nltk_data'\n    - 'C:\\\\Users\\\\songyifn\\\\AppData\\\\Roaming\\\\nltk_data'\n**********************************************************************"
     ]
    }
   ],
   "source": [
    "from nltk.corpus import stopwords \n",
    "from nltk.stem.wordnet import WordNetLemmatizer\n",
    "import string\n",
    "stop = set(stopwords.words('english'))\n",
    "exclude = set(string.punctuation) \n",
    "lemma = WordNetLemmatizer()\n",
    "def clean(doc):\n",
    "    stop_free = \" \".join([i for i in doc.lower().split() if i not in stop])\n",
    "    punc_free = ''.join(ch for ch in stop_free if ch not in exclude)\n",
    "    normalized = \" \".join(lemma.lemmatize(word) for word in punc_free.split())\n",
    "    return normalized"
   ]
  },
  {
   "cell_type": "code",
   "execution_count": 200,
   "metadata": {
    "collapsed": false
   },
   "outputs": [
    {
     "name": "stdout",
     "output_type": "stream",
     "text": [
      "showing info https://raw.githubusercontent.com/nltk/nltk_data/gh-pages/index.xml\n"
     ]
    },
    {
     "data": {
      "text/plain": [
       "True"
      ]
     },
     "execution_count": 200,
     "metadata": {},
     "output_type": "execute_result"
    }
   ],
   "source": [
    "import nltk\n",
    "nltk.download()"
   ]
  },
  {
   "cell_type": "code",
   "execution_count": 38,
   "metadata": {
    "collapsed": false
   },
   "outputs": [
    {
     "data": {
      "text/html": [
       "<div>\n",
       "<table border=\"1\" class=\"dataframe\">\n",
       "  <thead>\n",
       "    <tr style=\"text-align: right;\">\n",
       "      <th></th>\n",
       "      <th>0</th>\n",
       "      <th>1</th>\n",
       "      <th>2</th>\n",
       "    </tr>\n",
       "  </thead>\n",
       "  <tbody>\n",
       "    <tr>\n",
       "      <th>0</th>\n",
       "      <td>1</td>\n",
       "      <td>2</td>\n",
       "      <td>3</td>\n",
       "    </tr>\n",
       "    <tr>\n",
       "      <th>1</th>\n",
       "      <td>4</td>\n",
       "      <td>5</td>\n",
       "      <td>6</td>\n",
       "    </tr>\n",
       "  </tbody>\n",
       "</table>\n",
       "</div>"
      ],
      "text/plain": [
       "   0  1  2\n",
       "0  1  2  3\n",
       "1  4  5  6"
      ]
     },
     "execution_count": 38,
     "metadata": {},
     "output_type": "execute_result"
    }
   ],
   "source": [
    "pd.DataFrame([[1,2,3],[4,5,6]])"
   ]
  },
  {
   "cell_type": "code",
   "execution_count": null,
   "metadata": {
    "collapsed": true
   },
   "outputs": [],
   "source": [
    "doc_clean = [clean(doc).split() for doc in doc_complete]"
   ]
  }
 ],
 "metadata": {
  "anaconda-cloud": {},
  "kernelspec": {
   "display_name": "Python 2",
   "language": "python",
   "name": "python2"
  },
  "language_info": {
   "codemirror_mode": {
    "name": "ipython",
    "version": 2
   },
   "file_extension": ".py",
   "mimetype": "text/x-python",
   "name": "python",
   "nbconvert_exporter": "python",
   "pygments_lexer": "ipython2",
   "version": "2.7.12"
  }
 },
 "nbformat": 4,
 "nbformat_minor": 2
}
