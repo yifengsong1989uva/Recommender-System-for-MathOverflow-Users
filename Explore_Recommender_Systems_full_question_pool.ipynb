{
 "cells": [
  {
   "cell_type": "code",
   "execution_count": 36,
   "metadata": {
    "collapsed": false
   },
   "outputs": [
    {
     "name": "stderr",
     "output_type": "stream",
     "text": [
      "C:\\Users\\songyifn\\Anaconda2\\lib\\site-packages\\lightfm\\_lightfm_fast.py:9: UserWarning: LightFM was compiled without OpenMP support. Only a single thread will be used.\n",
      "  warnings.warn('LightFM was compiled without OpenMP support. '\n"
     ]
    }
   ],
   "source": [
    "import os\n",
    "os.chdir('C:\\\\Users\\songyifn\\Desktop\\mathoverflow_Recommender_System')\n",
    "\n",
    "import numpy as np\n",
    "import pandas as pd\n",
    "\n",
    "import fetch_mathoverflow as fm\n",
    "\n",
    "data = fm.fetch_mathoverflow('mathoverflow',\n",
    "                           test_set_fraction=0.1,\n",
    "                           indicator_features=False,\n",
    "                           tag_features=True)\n",
    "\n",
    "#entire = data['entire_data']\n",
    "train = data['train']\n",
    "test = data['test']"
   ]
  },
  {
   "cell_type": "code",
   "execution_count": 37,
   "metadata": {
    "collapsed": false
   },
   "outputs": [
    {
     "name": "stdout",
     "output_type": "stream",
     "text": [
      "The dataset has 4513 users and 78048 items, with 9129 interactions in the test and 96667 interactions in the training set.\n"
     ]
    }
   ],
   "source": [
    "print('The dataset has %s users and %s items, '\n",
    "      'with %s interactions in the test and %s interactions in the training set.'\n",
    "      % (train.shape[0], train.shape[1], test.getnnz(), train.getnnz()))"
   ]
  },
  {
   "cell_type": "code",
   "execution_count": 38,
   "metadata": {
    "collapsed": false
   },
   "outputs": [
    {
     "data": {
      "text/plain": [
       "array([(0L, 1L), (0L, 2L), (0L, 7L), ..., (4511L, 65500L), (4512L, 37286L),\n",
       "       (4512L, 60032L)], dtype=object)"
      ]
     },
     "execution_count": 38,
     "metadata": {},
     "output_type": "execute_result"
    }
   ],
   "source": [
    "np.array(pd.SparseSeries.from_coo(train).to_dense().index)"
   ]
  },
  {
   "cell_type": "code",
   "execution_count": 115,
   "metadata": {
    "collapsed": false
   },
   "outputs": [],
   "source": [
    "train_zero=np.where(train.getnnz(axis=0)==0)[0]"
   ]
  },
  {
   "cell_type": "code",
   "execution_count": 120,
   "metadata": {
    "collapsed": false
   },
   "outputs": [],
   "source": [
    "test_non_zero=np.where(test.getnnz(axis=0)!=0)[0]"
   ]
  },
  {
   "cell_type": "code",
   "execution_count": 122,
   "metadata": {
    "collapsed": false
   },
   "outputs": [
    {
     "data": {
      "text/plain": [
       "array([ 1107,  3593,  4586, ..., 78036, 78037, 78040], dtype=int64)"
      ]
     },
     "execution_count": 122,
     "metadata": {},
     "output_type": "execute_result"
    }
   ],
   "source": [
    "intersect=np.intersect1d(test_non_zero,train_zero)\n",
    "intersect"
   ]
  },
  {
   "cell_type": "code",
   "execution_count": 124,
   "metadata": {
    "collapsed": false
   },
   "outputs": [
    {
     "data": {
      "text/plain": [
       "8476"
      ]
     },
     "execution_count": 124,
     "metadata": {},
     "output_type": "execute_result"
    }
   ],
   "source": [
    "sum(test.getnnz(axis=0)[intersect])"
   ]
  },
  {
   "cell_type": "markdown",
   "metadata": {},
   "source": [
    "#### Pure collaborative filtering, without any item features"
   ]
  },
  {
   "cell_type": "code",
   "execution_count": 39,
   "metadata": {
    "collapsed": false
   },
   "outputs": [
    {
     "name": "stdout",
     "output_type": "stream",
     "text": [
      "Wall time: 4.42 s\n"
     ]
    }
   ],
   "source": [
    "# Import the model\n",
    "from lightfm import LightFM\n",
    "\n",
    "# Set the number of threads; you can increase this\n",
    "# ify you have more physical cores available.\n",
    "NUM_THREADS = 2\n",
    "NUM_COMPONENTS = 30\n",
    "NUM_EPOCHS = 3\n",
    "ITEM_ALPHA = 1e-6\n",
    "\n",
    "# Let's fit a WARP model: these generally have the best performance.\n",
    "model = LightFM(loss='warp',\n",
    "                item_alpha=ITEM_ALPHA,\n",
    "               no_components=NUM_COMPONENTS)\n",
    "\n",
    "# Run 3 epochs and time it.\n",
    "%time model = model.fit(train, epochs=NUM_EPOCHS, num_threads=NUM_THREADS)"
   ]
  },
  {
   "cell_type": "code",
   "execution_count": 82,
   "metadata": {
    "collapsed": true
   },
   "outputs": [],
   "source": [
    "# Import the evaluation routines\n",
    "from lightfm.evaluation import auc_score, precision_at_k"
   ]
  },
  {
   "cell_type": "code",
   "execution_count": 40,
   "metadata": {
    "collapsed": false
   },
   "outputs": [
    {
     "name": "stdout",
     "output_type": "stream",
     "text": [
      "Collaborative filtering train AUC: 0.892098\n"
     ]
    }
   ],
   "source": [
    "\n",
    "\n",
    "# Compute and print the AUC score\n",
    "train_auc = auc_score(model, train, num_threads=NUM_THREADS).mean()\n",
    "print('Collaborative filtering train AUC: %s' % train_auc)"
   ]
  },
  {
   "cell_type": "code",
   "execution_count": 41,
   "metadata": {
    "collapsed": false
   },
   "outputs": [
    {
     "name": "stdout",
     "output_type": "stream",
     "text": [
      "Collaborative filtering test AUC: 0.341801\n"
     ]
    }
   ],
   "source": [
    "# We pass in the train interactions to exclude them from predictions.\n",
    "# This is to simulate a recommender system where we do not\n",
    "# re-recommend things the user has already interacted with in the train\n",
    "# set.\n",
    "test_auc = auc_score(model, test, train_interactions=train, num_threads=NUM_THREADS).mean()\n",
    "print('Collaborative filtering test AUC: %s' % test_auc)"
   ]
  },
  {
   "cell_type": "code",
   "execution_count": 95,
   "metadata": {
    "collapsed": false
   },
   "outputs": [
    {
     "data": {
      "text/plain": [
       "96667"
      ]
     },
     "execution_count": 95,
     "metadata": {},
     "output_type": "execute_result"
    }
   ],
   "source": [
    "len(pd.SparseSeries.from_coo(train).index)"
   ]
  },
  {
   "cell_type": "code",
   "execution_count": 42,
   "metadata": {
    "collapsed": false
   },
   "outputs": [
    {
     "name": "stdout",
     "output_type": "stream",
     "text": [
      "Collaborative filtering test AUC: 0.517812\n"
     ]
    }
   ],
   "source": [
    "# Set biases to zero\n",
    "model.item_biases *= 0.0\n",
    "\n",
    "test_auc = auc_score(model, test, train_interactions=train, num_threads=NUM_THREADS).mean()\n",
    "print('Collaborative filtering test AUC: %s' % test_auc)"
   ]
  },
  {
   "cell_type": "code",
   "execution_count": 43,
   "metadata": {
    "collapsed": false
   },
   "outputs": [
    {
     "name": "stdout",
     "output_type": "stream",
     "text": [
      "There are 1380 distinct tags, with values like [u'ag.algebraic-geometry', u'at.algebraic-topology', u'ca.analysis-and-odes'].\n"
     ]
    }
   ],
   "source": [
    "item_features = data['item_features']\n",
    "tag_labels = data['item_feature_labels']\n",
    "\n",
    "print('There are %s distinct tags, with values like %s.' % (item_features.shape[1], tag_labels[:3].tolist()))"
   ]
  },
  {
   "cell_type": "code",
   "execution_count": 97,
   "metadata": {
    "collapsed": false
   },
   "outputs": [
    {
     "data": {
      "text/plain": [
       "<78048x1380 sparse matrix of type '<type 'numpy.float32'>'\n",
       "\twith 199855 stored elements in Compressed Sparse Row format>"
      ]
     },
     "execution_count": 97,
     "metadata": {},
     "output_type": "execute_result"
    }
   ],
   "source": [
    "item_features#.shape"
   ]
  },
  {
   "cell_type": "code",
   "execution_count": 154,
   "metadata": {
    "collapsed": false
   },
   "outputs": [
    {
     "data": {
      "text/plain": [
       "array([u'population', u'forecasting', u'census'], \n",
       "      dtype='<U50')"
      ]
     },
     "execution_count": 154,
     "metadata": {},
     "output_type": "execute_result"
    }
   ],
   "source": [
    "tag_labels[item_features[10,:].toarray()[0].astype(bool)]#.astype(bool)"
   ]
  },
  {
   "cell_type": "code",
   "execution_count": 155,
   "metadata": {
    "collapsed": false
   },
   "outputs": [],
   "source": [
    "train_csc=train.tocsc()"
   ]
  },
  {
   "cell_type": "code",
   "execution_count": 156,
   "metadata": {
    "collapsed": false
   },
   "outputs": [
    {
     "data": {
      "text/plain": [
       "109.0"
      ]
     },
     "execution_count": 156,
     "metadata": {},
     "output_type": "execute_result"
    }
   ],
   "source": [
    "sum(train_csc[4,:].toarray()[0])"
   ]
  },
  {
   "cell_type": "markdown",
   "metadata": {},
   "source": [
    "#### Only use the tags information as the item features"
   ]
  },
  {
   "cell_type": "code",
   "execution_count": 44,
   "metadata": {
    "collapsed": false
   },
   "outputs": [
    {
     "ename": "SyntaxError",
     "evalue": "keyword argument repeated (<ipython-input-44-e76f0a3bce36>, line 6)",
     "output_type": "error",
     "traceback": [
      "\u001b[0;36m  File \u001b[0;32m\"<ipython-input-44-e76f0a3bce36>\"\u001b[0;36m, line \u001b[0;32m6\u001b[0m\n\u001b[0;31m    item_alpha=1e-6)\u001b[0m\n\u001b[0;31mSyntaxError\u001b[0m\u001b[0;31m:\u001b[0m keyword argument repeated\n"
     ]
    }
   ],
   "source": [
    "# Define a new model instance\n",
    "model = LightFM(loss='warp',\n",
    "                #item_alpha=ITEM_ALPHA,\n",
    "                no_components=NUM_COMPONENTS,\n",
    "                max_sampled=30,\n",
    "                item_alpha=1e-6)\n",
    "\n",
    "# Fit the hybrid model. Note that this time, we pass\n",
    "# in the item features matrix.\n",
    "model = model.fit(train,\n",
    "                item_features=item_features,\n",
    "                #user_features=user_features,\n",
    "                epochs=15,\n",
    "                num_threads=NUM_THREADS)"
   ]
  },
  {
   "cell_type": "code",
   "execution_count": 117,
   "metadata": {
    "collapsed": false
   },
   "outputs": [
    {
     "name": "stdout",
     "output_type": "stream",
     "text": [
      "Hybrid training set AUC: 0.966631\n"
     ]
    }
   ],
   "source": [
    "# Don't forget the pass in the item features again!\n",
    "train_auc = auc_score(model,\n",
    "                      train,\n",
    "                      item_features=item_features,\n",
    "                      #user_features=user_features,\n",
    "                      num_threads=NUM_THREADS).mean()\n",
    "print('Hybrid training set AUC: %s' % train_auc)"
   ]
  },
  {
   "cell_type": "code",
   "execution_count": 118,
   "metadata": {
    "collapsed": false
   },
   "outputs": [
    {
     "name": "stdout",
     "output_type": "stream",
     "text": [
      "Hybrid test set AUC: 0.868726\n"
     ]
    }
   ],
   "source": [
    "test_auc = auc_score(model,\n",
    "                    test,\n",
    "                    train_interactions=train,\n",
    "                    item_features=item_features,\n",
    "                    #user_features=user_features,\n",
    "                    num_threads=NUM_THREADS).mean()\n",
    "print('Hybrid test set AUC: %s' % test_auc)"
   ]
  },
  {
   "cell_type": "markdown",
   "metadata": {},
   "source": [
    "#### Include the 50 new item features from topic modeling (tags + topics)"
   ]
  },
  {
   "cell_type": "code",
   "execution_count": 80,
   "metadata": {
    "collapsed": false
   },
   "outputs": [
    {
     "name": "stdout",
     "output_type": "stream",
     "text": [
      "Hybrid training set AUC: 0.97054\n",
      "Hybrid test set AUC: 0.879372\n"
     ]
    }
   ],
   "source": [
    "# Define a new model instance\n",
    "model1 = LightFM(loss='warp',\n",
    "                #item_alpha=ITEM_ALPHA,\n",
    "                no_components=NUM_COMPONENTS,\n",
    "                max_sampled=30,\n",
    "                item_alpha=1e-6)\n",
    "\n",
    "# Fit the hybrid model. Note that this time, we pass\n",
    "# in the item features matrix.\n",
    "model1 = model1.fit(train,\n",
    "                item_features=item_features_enhanced,\n",
    "                #user_features=user_features,\n",
    "                epochs=15,\n",
    "                num_threads=NUM_THREADS)\n",
    "\n",
    "\n",
    "# Don't forget the pass in the item features again!\n",
    "train_auc = auc_score(model1,\n",
    "                      train,\n",
    "                      item_features=item_features_enhanced,\n",
    "                      #user_features=user_features,\n",
    "                      num_threads=NUM_THREADS).mean()\n",
    "print('Hybrid training set AUC: %s' % train_auc)\n",
    "\n",
    "\n",
    "test_auc = auc_score(model1,\n",
    "                    test,\n",
    "                    train_interactions=train,\n",
    "                    item_features=item_features_enhanced,\n",
    "                    #user_features=user_features,\n",
    "                    num_threads=NUM_THREADS).mean()\n",
    "print('Hybrid test set AUC: %s' % test_auc)"
   ]
  },
  {
   "cell_type": "code",
   "execution_count": 83,
   "metadata": {
    "collapsed": false
   },
   "outputs": [
    {
     "name": "stdout",
     "output_type": "stream",
     "text": [
      "Hybrid test set AUC: 0.00819257\n"
     ]
    }
   ],
   "source": [
    "test_precision_at_k = precision_at_k(model1,\n",
    "                                    test,\n",
    "                                    train_interactions=train,\n",
    "                                    k=10,\n",
    "                                    item_features=item_features_enhanced,\n",
    "                                    #user_features=user_features,\n",
    "                                    num_threads=NUM_THREADS).mean()\n",
    "print('Hybrid test set AUC: %s' % test_precision_at_k)"
   ]
  },
  {
   "cell_type": "code",
   "execution_count": 110,
   "metadata": {
    "collapsed": false
   },
   "outputs": [
    {
     "name": "stdout",
     "output_type": "stream",
     "text": [
      "('k=', 10, ': Accuracy is ', 0.074324324324324328)\n",
      "('k=', 20, ': Accuracy is ', 0.10557432432432433)\n",
      "('k=', 30, ': Accuracy is ', 0.13175675675675674)\n",
      "('k=', 40, ': Accuracy is ', 0.1545608108108108)\n",
      "('k=', 50, ': Accuracy is ', 0.18158783783783783)\n",
      "('k=', 60, ': Accuracy is ', 0.19510135135135134)\n",
      "('k=', 70, ': Accuracy is ', 0.21452702702702703)\n",
      "('k=', 80, ': Accuracy is ', 0.23226351351351351)\n",
      "('k=', 90, ': Accuracy is ', 0.24577702702702703)\n",
      "('k=', 100, ': Accuracy is ', 0.25760135135135137)\n"
     ]
    }
   ],
   "source": [
    "for k in range(10,110,10):\n",
    "    test_precision_at_k_all = precision_at_k(model1,\n",
    "                                        test,\n",
    "                                        train_interactions=train,\n",
    "                                        k=k,\n",
    "                                        item_features=item_features_enhanced,\n",
    "                                        #user_features=user_features,\n",
    "                                        num_threads=NUM_THREADS)\n",
    "    print('k=',k,': Accuracy is ',sum(test_precision_at_k_all>0)*1.0/len(test_precision_at_k_all))"
   ]
  },
  {
   "cell_type": "code",
   "execution_count": 90,
   "metadata": {
    "collapsed": false
   },
   "outputs": [
    {
     "data": {
      "text/plain": [
       "0.074324324324324328"
      ]
     },
     "execution_count": 90,
     "metadata": {},
     "output_type": "execute_result"
    }
   ],
   "source": [
    "sum(test_precision_at_k_all>0)*1.0/len(test_precision_at_k_all)"
   ]
  },
  {
   "cell_type": "code",
   "execution_count": 84,
   "metadata": {
    "collapsed": false
   },
   "outputs": [
    {
     "name": "stdout",
     "output_type": "stream",
     "text": [
      "Hybrid test set AUC: 0.0052027\n"
     ]
    }
   ],
   "source": [
    "test_precision_at_k = precision_at_k(model1,\n",
    "                                    test,\n",
    "                                    train_interactions=train,\n",
    "                                    k=50,\n",
    "                                    item_features=item_features_enhanced,\n",
    "                                    #user_features=user_features,\n",
    "                                    num_threads=NUM_THREADS).mean()\n",
    "print('Hybrid test set AUC: %s' % test_precision_at_k)"
   ]
  },
  {
   "cell_type": "markdown",
   "metadata": {},
   "source": [
    "#### Only use the 50 new item features from topic modeling"
   ]
  },
  {
   "cell_type": "code",
   "execution_count": 50,
   "metadata": {
    "collapsed": false
   },
   "outputs": [
    {
     "name": "stdout",
     "output_type": "stream",
     "text": [
      "Hybrid training set AUC: 0.921795\n",
      "Hybrid test set AUC: 0.820131\n"
     ]
    }
   ],
   "source": [
    "model2 = LightFM(loss='warp',\n",
    "                #item_alpha=ITEM_ALPHA,\n",
    "                no_components=NUM_COMPONENTS,\n",
    "                max_sampled=30,\n",
    "                item_alpha=1e-6)\n",
    "\n",
    "# Fit the hybrid model. Note that this time, we pass\n",
    "# in the item features matrix.\n",
    "model2 = model2.fit(train,\n",
    "                item_features=m1_csr,\n",
    "                #user_features=user_features,\n",
    "                epochs=15,\n",
    "                num_threads=NUM_THREADS)\n",
    "\n",
    "\n",
    "# Don't forget the pass in the item features again!\n",
    "train_auc = auc_score(model2,\n",
    "                      train,\n",
    "                      item_features=m1_csr,\n",
    "                      #user_features=user_features,\n",
    "                      num_threads=NUM_THREADS).mean()\n",
    "print('Hybrid training set AUC: %s' % train_auc)\n",
    "\n",
    "test_auc = auc_score(model2,\n",
    "                    test,\n",
    "                    train_interactions=train,\n",
    "                    item_features=m1_csr,\n",
    "                    #user_features=user_features,\n",
    "                    num_threads=NUM_THREADS).mean()\n",
    "print('Hybrid test set AUC: %s' % test_auc)"
   ]
  },
  {
   "cell_type": "markdown",
   "metadata": {},
   "source": [
    "#### Use both item features (enhanced) and user features (topics)"
   ]
  },
  {
   "cell_type": "code",
   "execution_count": 79,
   "metadata": {
    "collapsed": false
   },
   "outputs": [
    {
     "name": "stdout",
     "output_type": "stream",
     "text": [
      "Hybrid training set AUC: 0.866863\n",
      "Hybrid test set AUC: 0.838811\n"
     ]
    }
   ],
   "source": [
    "# Define a new model instance\n",
    "model1 = LightFM(loss='warp',\n",
    "                #item_alpha=ITEM_ALPHA,\n",
    "                no_components=NUM_COMPONENTS,\n",
    "                max_sampled=30,\n",
    "                item_alpha=1e-6)\n",
    "\n",
    "# Fit the hybrid model. Note that this time, we pass\n",
    "# in the item features matrix.\n",
    "model1 = model1.fit(train,\n",
    "                item_features=item_features_enhanced,\n",
    "                user_features=user_features_1,\n",
    "                epochs=15,\n",
    "                num_threads=NUM_THREADS)\n",
    "\n",
    "\n",
    "# Don't forget the pass in the item features again!\n",
    "train_auc = auc_score(model1,\n",
    "                      train,\n",
    "                      item_features=item_features_enhanced,\n",
    "                      user_features=user_features_1,\n",
    "                      num_threads=NUM_THREADS).mean()\n",
    "print('Hybrid training set AUC: %s' % train_auc)\n",
    "\n",
    "\n",
    "test_auc = auc_score(model1,\n",
    "                    test,\n",
    "                    train_interactions=train,\n",
    "                    item_features=item_features_enhanced,\n",
    "                    user_features=user_features_1,\n",
    "                    num_threads=NUM_THREADS).mean()\n",
    "print('Hybrid test set AUC: %s' % test_auc)"
   ]
  },
  {
   "cell_type": "markdown",
   "metadata": {},
   "source": [
    "#### Use both item features (enhanced) and user features (aboutme)"
   ]
  },
  {
   "cell_type": "code",
   "execution_count": 109,
   "metadata": {
    "collapsed": false
   },
   "outputs": [
    {
     "name": "stdout",
     "output_type": "stream",
     "text": [
      "Hybrid training set AUC: 0.666054\n",
      "Hybrid test set AUC: 0.551742\n"
     ]
    }
   ],
   "source": [
    "# Define a new model instance\n",
    "model3 = LightFM(loss='warp',\n",
    "                #item_alpha=ITEM_ALPHA,\n",
    "                no_components=NUM_COMPONENTS,\n",
    "                max_sampled=30,\n",
    "                item_alpha=1e-6)\n",
    "\n",
    "# Fit the hybrid model. Note that this time, we pass\n",
    "# in the item features matrix.\n",
    "model3 = model3.fit(train,\n",
    "                item_features=item_features_enhanced,\n",
    "                user_features=user_features_2,\n",
    "                epochs=15,\n",
    "                num_threads=NUM_THREADS)\n",
    "\n",
    "\n",
    "# Don't forget the pass in the item features again!\n",
    "train_auc = auc_score(model3,\n",
    "                      train,\n",
    "                      item_features=item_features_enhanced,\n",
    "                      user_features=user_features_2,\n",
    "                      num_threads=NUM_THREADS).mean()\n",
    "print('Hybrid training set AUC: %s' % train_auc)\n",
    "\n",
    "\n",
    "test_auc = auc_score(model3,\n",
    "                    test,\n",
    "                    train_interactions=train,\n",
    "                    item_features=item_features_enhanced,\n",
    "                    user_features=user_features_2,\n",
    "                    num_threads=NUM_THREADS).mean()\n",
    "print('Hybrid test set AUC: %s' % test_auc)"
   ]
  },
  {
   "cell_type": "code",
   "execution_count": null,
   "metadata": {
    "collapsed": true
   },
   "outputs": [],
   "source": []
  },
  {
   "cell_type": "code",
   "execution_count": null,
   "metadata": {
    "collapsed": true
   },
   "outputs": [],
   "source": []
  },
  {
   "cell_type": "code",
   "execution_count": null,
   "metadata": {
    "collapsed": true
   },
   "outputs": [],
   "source": []
  },
  {
   "cell_type": "code",
   "execution_count": 71,
   "metadata": {
    "collapsed": false
   },
   "outputs": [],
   "source": [
    "import scipy.io\n",
    "mat = scipy.io.loadmat('kaggle77b_trainset.mat')"
   ]
  },
  {
   "cell_type": "code",
   "execution_count": 74,
   "metadata": {
    "collapsed": false
   },
   "outputs": [
    {
     "data": {
      "text/plain": [
       "(21983L, 100L)"
      ]
     },
     "execution_count": 74,
     "metadata": {},
     "output_type": "execute_result"
    }
   ],
   "source": [
    "mat['trainset'].shape"
   ]
  },
  {
   "cell_type": "code",
   "execution_count": 1,
   "metadata": {
    "collapsed": true
   },
   "outputs": [],
   "source": [
    "import os\n",
    "os.chdir('C:\\\\Users\\\\songyifn\\\\Desktop')\n",
    "\n",
    "import pandas as pd\n",
    "import numpy as np"
   ]
  },
  {
   "cell_type": "code",
   "execution_count": 2,
   "metadata": {
    "collapsed": false
   },
   "outputs": [],
   "source": [
    "users=pd.read_csv(\"kaggle_users.txt\",header=None)"
   ]
  },
  {
   "cell_type": "code",
   "execution_count": 84,
   "metadata": {
    "collapsed": true
   },
   "outputs": [],
   "source": [
    "triplets=pd.read_csv('kaggle_visible_evaluation_triplets.txt', header=None, sep='\\t')"
   ]
  },
  {
   "cell_type": "code",
   "execution_count": 135,
   "metadata": {
    "collapsed": false
   },
   "outputs": [],
   "source": [
    "from sklearn import metrics\n",
    "fpr, tpr, thresholds = metrics.roc_curve([0,1,1,0], [8,6,9,3])"
   ]
  },
  {
   "cell_type": "code",
   "execution_count": 136,
   "metadata": {
    "collapsed": false
   },
   "outputs": [
    {
     "data": {
      "text/plain": [
       "0.75"
      ]
     },
     "execution_count": 136,
     "metadata": {},
     "output_type": "execute_result"
    }
   ],
   "source": [
    "metrics.auc(fpr,tpr)"
   ]
  },
  {
   "cell_type": "code",
   "execution_count": 138,
   "metadata": {
    "collapsed": false
   },
   "outputs": [
    {
     "data": {
      "text/plain": [
       "array([ 0.5,  0.5,  1. ,  1. ])"
      ]
     },
     "execution_count": 138,
     "metadata": {},
     "output_type": "execute_result"
    }
   ],
   "source": [
    "tpr"
   ]
  },
  {
   "cell_type": "code",
   "execution_count": 139,
   "metadata": {
    "collapsed": false
   },
   "outputs": [
    {
     "data": {
      "text/plain": [
       "array([ 0. ,  0.5,  0.5,  1. ])"
      ]
     },
     "execution_count": 139,
     "metadata": {},
     "output_type": "execute_result"
    }
   ],
   "source": [
    "fpr"
   ]
  },
  {
   "cell_type": "code",
   "execution_count": 140,
   "metadata": {
    "collapsed": false
   },
   "outputs": [
    {
     "ename": "TypeError",
     "evalue": "sparse matrix length is ambiguous; use getnnz() or shape[0]",
     "output_type": "error",
     "traceback": [
      "\u001b[0;31m---------------------------------------------------------------------------\u001b[0m",
      "\u001b[0;31mTypeError\u001b[0m                                 Traceback (most recent call last)",
      "\u001b[0;32m<ipython-input-140-b4be6196e99f>\u001b[0m in \u001b[0;36m<module>\u001b[0;34m()\u001b[0m\n\u001b[0;32m----> 1\u001b[0;31m \u001b[0mlen\u001b[0m\u001b[1;33m(\u001b[0m\u001b[0mtrain\u001b[0m\u001b[1;33m)\u001b[0m\u001b[1;33m\u001b[0m\u001b[0m\n\u001b[0m",
      "\u001b[0;32mC:\\Users\\songyifn\\Anaconda2\\lib\\site-packages\\scipy\\sparse\\base.pyc\u001b[0m in \u001b[0;36m__len__\u001b[0;34m(self)\u001b[0m\n\u001b[1;32m    231\u001b[0m     \u001b[1;31m# non-zeros is more important.  For now, raise an exception!\u001b[0m\u001b[1;33m\u001b[0m\u001b[1;33m\u001b[0m\u001b[0m\n\u001b[1;32m    232\u001b[0m     \u001b[1;32mdef\u001b[0m \u001b[0m__len__\u001b[0m\u001b[1;33m(\u001b[0m\u001b[0mself\u001b[0m\u001b[1;33m)\u001b[0m\u001b[1;33m:\u001b[0m\u001b[1;33m\u001b[0m\u001b[0m\n\u001b[0;32m--> 233\u001b[0;31m         raise TypeError(\"sparse matrix length is ambiguous; use getnnz()\"\n\u001b[0m\u001b[1;32m    234\u001b[0m                         \" or shape[0]\")\n\u001b[1;32m    235\u001b[0m \u001b[1;33m\u001b[0m\u001b[0m\n",
      "\u001b[0;31mTypeError\u001b[0m: sparse matrix length is ambiguous; use getnnz() or shape[0]"
     ]
    }
   ],
   "source": [
    "train"
   ]
  },
  {
   "cell_type": "code",
   "execution_count": 142,
   "metadata": {
    "collapsed": false
   },
   "outputs": [
    {
     "data": {
      "text/plain": [
       "<72360x1246 sparse matrix of type '<type 'numpy.float32'>'\n",
       "\twith 198963 stored elements in Compressed Sparse Row format>"
      ]
     },
     "execution_count": 142,
     "metadata": {},
     "output_type": "execute_result"
    }
   ],
   "source": [
    "data['item_features']"
   ]
  },
  {
   "cell_type": "code",
   "execution_count": 185,
   "metadata": {
    "collapsed": true
   },
   "outputs": [],
   "source": [
    "user_id=pd.read_csv(\"map_question.csv\",header=None)"
   ]
  },
  {
   "cell_type": "code",
   "execution_count": 187,
   "metadata": {
    "collapsed": false
   },
   "outputs": [
    {
     "data": {
      "text/plain": [
       "78047"
      ]
     },
     "execution_count": 187,
     "metadata": {},
     "output_type": "execute_result"
    }
   ],
   "source": [
    "len(np.unique(user_id.iloc[:,0]))"
   ]
  },
  {
   "cell_type": "code",
   "execution_count": 184,
   "metadata": {
    "collapsed": false
   },
   "outputs": [
    {
     "data": {
      "text/plain": [
       "array([0, 1, 2])"
      ]
     },
     "execution_count": 184,
     "metadata": {},
     "output_type": "execute_result"
    }
   ],
   "source": [
    "x = np.array([[[0], [1], [2]]])\n",
    "np.squeeze(x)"
   ]
  },
  {
   "cell_type": "markdown",
   "metadata": {},
   "source": [
    "### Topic Modeling for User Answers"
   ]
  },
  {
   "cell_type": "code",
   "execution_count": 57,
   "metadata": {
    "collapsed": false
   },
   "outputs": [
    {
     "data": {
      "text/plain": [
       "'C:\\\\Users\\\\songyifn\\\\Desktop\\\\mathoverflow_Recommender_System'"
      ]
     },
     "execution_count": 57,
     "metadata": {},
     "output_type": "execute_result"
    }
   ],
   "source": [
    "import os\n",
    "os.getcwd()"
   ]
  },
  {
   "cell_type": "code",
   "execution_count": 58,
   "metadata": {
    "collapsed": false
   },
   "outputs": [],
   "source": [
    "user_answers=pd.read_csv(\"User_answers.csv\",header=None)"
   ]
  },
  {
   "cell_type": "code",
   "execution_count": 60,
   "metadata": {
    "collapsed": false
   },
   "outputs": [
    {
     "data": {
      "text/plain": [
       "'<p>Here\\'s a reduction to the finite dimensional case.  Let $F$ be a finite set of subspaces of $X$.  For each finite dimensional subspace $Y$ of $X$, let $u(Y)$ be the set of elements $Z$ of $F$ such that $Y$ is contained in $Z$.  By assumption, $u(Y)$ is non-empty for every $Y$.  Since any two finite dimensional subspaces are contained in a third, the intersection of the sets $u(Y)$, as $Y$ runs among all finite dimensional subspaces of $X$, is non-empty.  Hence there is at least one set in $F$ that contains every finite dimensional subspace of $X$, hence contains $X$.</p>\\r\\n\\r\\n<p>For the finite dimensional case, let $F$ be a finite set of subspaces of $X$.  By induction, every codimension 1 subspace of $X$ is contained in some $Y$ from $F$.  But there are infinitely many codimension $1$ subspaces, so some $Y$ in $F$ contains more than one such subspace.  Any two distinct codimension 1 subspaces $\\\\operatorname{span} X$ (if $\\\\dim X &gt; 1$) so $Y = X$.</p>\\r\\n <p>A variation on Ishai\\'s example is a closed embedding: its sheaf of relative differentials is <code>0</code>, hence free of finite rank, even though it needn\\'t be smooth.</p>\\r\\n\\r\\n<p>However, <code>k[e] / e^2</code> over <code>k</code> is not actually a counterexample (except in characteristic <code>2</code>).  The module of relative differentials of <code>Spec k[e] / e^2</code> over <code>Spec k</code> is not free if the characteristic of <code>k</code> is not 2.  Let <code>A = k[e]</code> and <code>B = k[e] / e^2</code>.  Then </p>\\r\\n\\r\\n<pre><code>Omega_B = Omega_A (x) B / d(e^2) = k[e] / (e^2, 2e)\\r\\n</code></pre>\\r\\n\\r\\n<p>via the isomorphism <code>Omega_A --&gt; A : dt --&gt; 1</code>.  This is not isomorphic to <code>B</code> unless <code>2 = 0</code>.</p>\\r\\n\\r\\n<p>On the other hand, you can conclude that <code>B</code> is smooth if its cotangent complex is a vector bundle in degree 0.  In the case of <code>k[e] / e^2</code>, the cotangent complex is </p>\\r\\n\\r\\n<pre><code>[ I_{B/A} / I_{B/A}^2 ---&gt; Omega_A (x) B ] = [ e^2 A / e^4 A ---&gt; B de ]\\r\\n</code></pre>\\r\\n\\r\\n<p>in degrees <code>[-1,0]</code> and the differential is the universal derivation.  (I write <code>I_{B/A}</code> for the ideal of <code>B</code> in <code>A</code>.)  Even in characteristic <code>2</code>, the differential has a kernel, so the cotangent complex is not concentrated in degree <code>0</code>.</p>\\r\\n <p>(My girlfriend explained this to me.)  After Anton\\'s observation, it\\'s sufficient to show that <code>f = id</code> if <code>f</code> fixes more than half of <code>G</code>.  But the elements of <code>G</code> fixed by an automorphism form a group and this group has index less than <code>2</code> by assumption, hence is all of <code>G</code>.</p>\\r\\n <p>I think it\\'s okay if you rephrase like this: let X be a scheme with ring of fractions R.  Then the normalization of X is the universal example of a normal scheme with ring of fractions R mapping to X.</p>\\r\\n <p>It is fruitful to think of Ext^1 as a generalization of Hom.  If A and B are objects of an abelian category, the set Hom(A,B) has the structure of an abelian group.  Here is one way to define the group law: any two maps A --> B induce a map A x A --> B x B.  This induces a sequence</p>\\r\\n\\r\\n<pre><code>A --&gt; A x A --&gt; B x B --&gt; B\\r\\n</code></pre>\\r\\n\\r\\n<p>where the first map is the diagonal and the last is the codiagonal (the addition map).  The composition is the sum.  (What we are using here is that finite products and finite direct sums coincide in an abelian category; in fact, this can be taken as the definition of an abelian category.)</p>\\r\\n\\r\\n<p>We have used three properties of Hom to construct the addition map: Hom is covariant in the second variable, contravariant in the first, and comes with a canonical map </p>\\r\\n\\r\\n<pre><code>Hom(A,B) x Hom(A\\',B\\') --&gt; Hom(A x A\\', B x B\\')\\r\\n</code></pre>\\r\\n\\r\\n<p>(plus some compatibilities which I have suppressed).  If we define Ext^1(A,B) to be the category of extensions </p>\\r\\n\\r\\n<pre><code>0 --&gt; B --&gt; E --&gt; A --&gt; 0\\r\\n</code></pre>\\r\\n\\r\\n<p>we see that it also has these properties (using base change for the variable A and pushout for the variable B).  Thus we get a group law on the <em>category</em> Ext^1(A,B).  Passing to isomorphism classes gives the usual group law on the <em>set</em> Ext^1(A,B).</p>\\r\\n\\r\\n<p>The zero object of Ext^1(A,B) also corresponds nicely to the zero object of Hom(A,B).  In the latter case it is constructed by pushing forward the unique map A --> 0 via the unique map 0 --> B.  For Ext^1(A,B), we push forward the unique extension of A by 0 </p>\\r\\n\\r\\n<pre><code>0 --&gt; 0 --&gt; A --&gt; A --&gt; 0\\r\\n</code></pre>\\r\\n\\r\\n<p>by the unique map 0 --> B and get</p>\\r\\n\\r\\n<pre><code>0 --&gt; B --&gt; B x A --&gt; A --&gt; 0.\\r\\n</code></pre>\\r\\n\\r\\n<p>So an extension of A by B is zero if and only if it admits a splitting.  Thus in the category of vector spaces over a field, Ext^1(A,B) is always zero because can always be split.</p>\\r\\n <p>Virtually every page I\\'ve read of EGA/SGA has been useful to me, and almost every page I\\'ve skimmed I\\'ve later wished I\\'d read in more detail.  The reputation for difficulty is, I think, unfounded.  They are certainly abstract, but virtually every detail is present; in many ways, that makes EGA/SGA easier to read than other sources.  Opening a volume and reading a sub-paragraph from the middle can be difficult because of all the back-references, but reading linearly can be very pleasant and rewarding.  The French language may be a barrier for some, but one doesn\\'t have to \"learn French\" to learn enough to understand EGA.</p>\\r\\n <p>A representation of G on a vector space V is a descent datum for V, viewed as a vector bundle over a point, to BG.  That is, linear representations of G are \"the same\" as vector bundles on BG.  So the question is equivalent to the analogous question about deformations of vector bundles on BG.  We could just as easily ask about deformations of vector bundles on any space X.</p>\\r\\n\\r\\n<p>Given a vector bundle V on X, consider the category of all first-order deformations of V.  An object is a vector bundle over X\\', where X\\' is an infinitesimal thickening (in the example, one may take X = BG x E where E is a local Artin ring and X\\' = BG x E\\' where E\\' is a square-zero extension whose ideal is isomorphic as a module to the residue field).  A morphism is a morphism of vector bundles on X\\' that induces the identity morphism on V over X.</p>\\r\\n\\r\\n<p>If X is allowed to vary, this category varies contravariantly with X.  Vector bundles satisfy fppf descent, so this forms a fppf stack over X.</p>\\r\\n\\r\\n<p>This stack is very special: locally it has a section (fppf locally a deformation exists) and any two sections are locally isomorphic.  It is therefore a <em>gerbe</em>.  Moreover, the isomorphism group between any two deformations of V is <em>canonically</em> a torsor under the group End(V) (this is fun to check).  </p>\\r\\n\\r\\n<p>Gerbes banded by an abelian group H are classified by H^2(X,H) (this is also fun to check); the class is zero if and only if the gerbe has a section.  If the gerbe has a section, the isomorphism classes of sections form a torsor under H^1(X,H).  The isomorphisms between any two sections form a torsor under H^0(X,H).  (This implies that the automorphism group of any section is H^0(X,H).)</p>\\r\\n\\r\\n<p>In our case, H = End(V), so we obtain a class in H^2(X,End(V)) and if this class is zero, our gerbe has a section, i.e., a deformation exists.  In this case, all deformations form a torsor under H^1(X,End(V)), and the automorphism group of a deformation is H^0(X,End(V)).</p>\\r\\n\\r\\n<p>All of the cohomology groups above are sheaf cohomology in the fppf topology.  If you are using a different definition of group cohomology, there is still something to check.</p>\\r\\n <p>Anton\\'s example can be modified to avoid the \"empty set\".  Here\\'s one way: let X be the category associated to the partially ordered set</p>\\r\\n\\r\\n<p>a &le; b &le; c &le; e</p>\\r\\n\\r\\n<p>b &le; d &le; e</p>\\r\\n\\r\\n<p>Give this the minimal topology in which c and e cover d and a covers b.  Let F be the presheaf with F(a) = 1, F(b) = F(c) = F(d) = S, F(e) = &empty;.  Then F<sup>+</sup>(b) = 1, F<sup>+</sup>(c) = F<sup>+</sup>(d) = F<sup>+</sup>(e) = S.  This is not a sheaf, since F<sup>++</sup>(e) = S x S.</p>\\r\\n\\r\\n<p>Of course, all I have done is to introduce an object a to play the role of the empty cover in Anton\\'s example.  It\\'s probably worth remarking, however, that what makes the empty <em>set</em> empty (from the point of view of sheaves) is that it is covered by the empty <em>cover</em>.  In fact, the usual topology on the category of open subsets of {p,q} can be modified so that the empty subset is not covered by the empty cover.  With respect to this topology, the presheaf F that Anton defined is already a sheaf.</p>\\r\\n <p>Let $X$ be a topological space, and $T$ its category of open sets with the usual Grothendieck topology.  Let $T\\'$ be any sieve of $T$ (a subcategory of $T$ such that if $U$ is in $T\\'$ then any subset of $U$ is also in $T\\'$).  For example, $T\\'$ might be the collection of open subsets subordinate to the open subsets in a cover $\\\\mathcal{U}$.  Any sheaf on $T$ induces a functor on $T\\'$ which can be viewed as a sheaf on $T\\'$ if $T\\'$ is given the minimal topology (the only covers are the identity maps).  This determines a morphism of topoi $f : T \\\\rightarrow T\\'$, hence a spectral sequence</p>\\r\\n\\r\\n<p>$H^p(T\\', R^q f\\\\_\\\\ast F) \\\\Rightarrow H^{p+q}(T, F)$ .</p>\\r\\n\\r\\n<p>(One could surely also convince oneself that such a spectral sequence exists without any reference to topoi.)</p>\\r\\n\\r\\n<p>The Cech cohomology of $F$ with respect to some covering family $\\\\mathcal{U}$ is </p>\\r\\n\\r\\n<p>$H^p(\\\\mathcal{U}, F) = H^p(T\\', f\\\\_\\\\ast F)$</p>\\r\\n\\r\\n<p>where $T\\' = T\\'(U)$ is the sieve associated to the cover $\\\\mathcal{U}$.  The Cech cohomology is then the filtered colimit</p>\\r\\n\\r\\n<p>$\\\\check{H}^p(T, F) = \\\\varinjlim\\\\_{(T\\',f)} H^p(T\\', f\\\\_\\\\ast F)$</p>\\r\\n\\r\\n<p>taken over the projections $f : T \\\\rightarrow T\\'$ associated as above to covering families $\\\\mathcal{U}$.</p>\\r\\n\\r\\n<p>One evidently has edge homomorphisms</p>\\r\\n\\r\\n<p>$\\\\check{H}^p(T, F) \\\\rightarrow H^p(T, F)$</p>\\r\\n\\r\\n<p>from the spectral sequence, and the question is when these induce an isomorphism.  If we could somehow eliminate the $R^p f\\\\_\\\\ast F$, $p &gt; 0$, by passing to a \"small enough\" cover we would have equality.  This condition already holds in many cases; the following condition is more general (but I haven\\'t checked carefully that it actually works!):</p>\\r\\n\\r\\n<p>For every cover $\\\\mathcal{U}$ of $X$, every $U\\\\_1, \\\\ldots, U\\\\_n \\\\in \\\\mathcal{U}$, and every class in $\\\\alpha \\\\in H^p(U\\\\_1 \\\\mathop{\\\\times}\\\\_X \\\\cdots \\\\mathop{\\\\times}\\\\_X U\\\\_n, F)$, $p &gt; 0$, there exists a refinement $\\\\mathcal{U}\\'$ of $\\\\mathcal{U}$ such that the restriction of $\\\\alpha$ under the map</p>\\r\\n\\r\\n<p>$H^p(U\\\\_1 \\\\mathop{\\\\times}\\\\_X \\\\cdots \\\\mathop{\\\\times}\\\\_X U\\\\_n, F) \\\\rightarrow H^p(U\\'\\\\_1 \\\\mathop{\\\\times}\\\\_X \\\\cdots \\\\mathop{\\\\times}\\\\_X U\\'\\\\_n, F)$</p>\\r\\n\\r\\n<p>is zero.</p>\\r\\n\\r\\n<p>To make sense of this, one must use some convention for the covers $\\\\mathcal{U}$ and $\\\\mathcal{U}\\'$ to ensure there is a map as above.  For example, one could work only with covers indexed by the points of $X$ (a cover is then a collection of neighborhoods of each point of $X$).</p>\\r\\n\\r\\n<p>A more refined version of the above condition would say that Cech cohomology equals cohomology in degrees at most $q$ if the above condition holds for $p \\\\leq q$.  Since it always holds for $p = 0,1$ this implies that</p>\\r\\n\\r\\n<p>$\\\\check{H}^1(T, F) = H^1(T, F)$ </p>\\r\\n\\r\\n<p>in general.</p>\\r\\n\\r\\n<p><strong>Edit in response to David\\'s comment:</strong></p>\\r\\n\\r\\n<p>The Cech complex always computes cohomology correctly in a presheaf category (i.e., when the topology is \"chaotic\": an object has no covers by anything except itself).  Trying to compute cohomology in an arbitrary site using the Cech complex is (heuristically) something like trying to approximate the site by a presheaf category.</p>\\r\\n\\r\\n<p>Here is how Cech cohomology computes cohomology of presheaves.  Consider any category $T\\'$.  If $F$ is a presheaf of groups on $T\\'$ then the sheaf cohomology groups of $F$ are the derived functors of the inverse limit for diagrams of shape $T\\'$.  They are also computed as</p>\\r\\n\\r\\n<p>$Ext(\\\\mathbf{Z}, F)$</p>\\r\\n\\r\\n<p>where $\\\\mathbf{Z}$ is the constant sheaf associated to the integers.  Remarkably, in a presheaf category, $\\\\mathbf{Z}$ has a canonical projective resolution associated to any cover of the final presheaf.  A cover of the final presheaf is a collection of objects $U$ of $T\\'$ such that every object of $T\\'$ has a map to at least one object of $U$.  The $i$-th term of this complex is the direct sum, over all choices of $i$ elements $U_1, ..., U_i$ of $U$, of the groups $\\\\mathbf{Z}_{U_1 \\\\times \\\\cdots \\\\times U_i}$.  (You can check this is projective by noting it is the extension by $0$ of $\\\\mathbf{Z}$ from the slice category $T\\' / U_1 \\\\times \\\\cdots \\\\times U_i$ and extension by $0$ preserves projectives (since it has an exact right adjoint) and $\\\\mathbf{Z}$ is projective on the slice category since all higher cohomology of all sheaves vanishes (since it has a final object).  It\\'s also easy to check by a direct calculation.) </p>\\r\\n\\r\\n<p>Denote this complex by $K$.  Since this is a projective resolution of $\\\\mathbf{Z}$, $\\\\mathrm{Hom}(K, F)$ computes the cohomology of $F$.  But it is also easy to see that this is just the Cech complex of $F$.</p>\\r\\n <p>A presheaf $F$ with values in $C$ is a called a sheaf if, for every object $X$ and every covering sieve $R$ of $X$, the natural maps</p>\\r\\n\\r\\n<p>$F(X) \\\\rightarrow F(Y)$</p>\\r\\n\\r\\n<p>for each Y in R induce an isomorphism</p>\\r\\n\\r\\n<p>$F(X) \\\\xrightarrow{\\\\sim} \\\\varprojlim_{Y \\\\in R} F(Y)$</p>\\r\\n\\r\\n<p>This definition makes sense without any assumptions on $C$.</p>\\r\\n\\r\\n<p>The sheafification construction makes use of filtered colimits and essentially arbitrary limits (if you are interested in sheaves on a particular topology then you might be able to restrict the class of limits that need to be considered).  It is defined by iterating the construction</p>\\r\\n\\r\\n<p>$F^+(X) = \\\\varinjlim_{R} \\\\varprojlim_{Y \\\\in R} F(Y)$</p>\\r\\n\\r\\n<p>where the $\\\\varinjlim$ is taken over covering sieves of $X$.  If $F$ is set-valued, the associated sheaf of $F$ is $F^{++}$.</p>\\r\\n\\r\\n<p>I don\\'t know what conditions on $C$ are necessary to make the sheafification of a presheaf in $C$ a sheaf, but I wouldn\\'t expect the construction to behave very well unless $C$ is a fairly special category.</p>\\r\\n\\r\\n<p>(Categories of algebraic structures on sets defined by finite inverse limits would qualify as \"special\", essentially because filtered colimits commute with finite inverse limits.)</p>\\r\\n <p>First a correction: the cotangent complex of a local complete intersection embedding is concentrated in degree -1, not in degree 1.</p>\\r\\n\\r\\n<p>In general, the cotangent complex of an algebraic space can be supported in arbitrary non-positive degrees.  The cotangent complex of an Artin stack can be nonzero in degree 1.  The degrees in which the cotangent complex is concentrated imply various things about a morphism of schemes:</p>\\r\\n\\r\\n<p>it is perfect in degree 0 if and only if the map is smooth;</p>\\r\\n\\r\\n<p>it is perfect in $[-1,0]$ if and only if the map is lci;</p>\\r\\n\\r\\n<p>$H^1 = 0$ if and only if it is a DM stack;</p>\\r\\n\\r\\n<p>$H^0 = H^1 = 0$ if and only if it is an etale local immersion.</p>\\r\\n\\r\\n<p>Other people have already said some things about the relationship to deformation theory.  The cotangent complex actually has two immediate relationships to deformation theory: one to the deformations of morphisms and one to the deformation of spaces.</p>\\r\\n\\r\\n<p>In what\\'s written below, $L_X$ is the absolute cotangent complex and $L_{X/S}$ is the relative cotangent complex.</p>\\r\\n\\r\\n<p>If $f : S \\\\to X$ is a map of schemes and $S\\'$ is a square-zero extension of $S$ with ideal $J$, there is an obstruction to extending $f$ to $S\\'$ in the group $Ext^1(f^\\\\ast L_X, J)$.  If this obstruction vanishes, such extensions have a canonical structure of a torsor under $Ext^0(f^\\\\ast L_X, J)$.</p>\\r\\n\\r\\n<p>If $p : X\\\\to S$ is a morphism, $S\\'$ is a square-zero extension with ideal $J$, and $p^\\\\ast J \\\\rightarrow I$ is a homomorphism of quasi-coherent sheaves on $X$, then the problem of finding a square-zero extension $X\\'$ with ideal $I$ and a map $X\\' \\\\to S\\'$ extending $X \\\\to S$ compatible with the given map on ideals is obstructed by a class in $Ext^2(L_{X/S}, I)$.  If this class is zero, isomorphism classes of solutions form a torsor under $Ext^1(L_{X/S}, I)$ and isomorphisms between any two solutions form a torsor under $Ext^0(L_{X/S}, I)$.</p>\\r\\n <p>Since ${\\\\bf P}^n$ is the quotient of ${\\\\bf A}^{n+1} - 0$ by the action of ${\\\\bf G}_m$, the tangent bundle of ${\\\\bf P}^n$ is the quotient of the tangent bundle of ${\\\\bf A}^{n+1} - 0$ by the action of the tangent bundle of ${\\\\bf G}_m$:</p>\\r\\n\\r\\n<p>$T {\\\\bf P}^n = T ({\\\\bf A}^{n+1} - 0) / T {\\\\bf G}_m$ .</p>\\r\\n\\r\\n<p>As a group, the tangent bundle of ${\\\\bf G}_m$ is the product of ${\\\\bf G}_m$ and a 1-dimensional vector space V.  Therefore we can take the quotient of everything on the right side above by ${\\\\bf G}_m$.  Note that $T({\\\\bf A}^{n+1}-0)$ is the product of ${\\\\bf A}^{n+1} - 0$ with the direct sum of (n+1) copies of the weight one representation of ${\\\\bf G}_m$.  Therefore its quotient by ${\\\\bf G}_m$ is $\\\\mathcal{O}_{{\\\\bf P}^n}(1)^{n+1}$.  We get</p>\\r\\n\\r\\n<p>$T {\\\\bf P}^n = \\\\mathcal{O}_{{\\\\bf P}^n}(1)^{n+1} / V$ .</p>\\r\\n\\r\\n<p>A (linear) action of a one-dimensional vector space on a vector bundle is the same thing as an exact sequence, so this gives the Euler sequence.</p>\\r\\n <p>When I\\'m stuck on a problem, I practice writing letters in various fonts.  I suppose this isn\\'t up to par with other mathematicians\\' doodles (I\\'m told Riemann would calculate the cube root of 3), but it keeps my handwriting reasonably neat.</p>\\r\\n <p>This is probably neither the sort of infinity nor the sort of simplification you\\'re looking for, but B&eacute;zout\\'s theorem is a challenge to prove, let alone state, without a line at infinity.  I don\\'t know if it would be suitable for a general audience either, but in its favor, it has a very nice statement using both the infinite and the infinitesimal (i.e., contact multiplicity).</p>\\r\\n <p>Displayed formulas can serve two roles in a math paper: as abbreviations for text that would otherwise be unreadable, and as figures (or illustrations) that are referred to by the text but are not part of it grammatically.  My opinion is that in the former case they should be punctuated, but in the latter they should not.</p>\\r\\n\\r\\n<p>Here are some examples.</p>\\r\\n\\r\\n<p>1) If $x$ and $y$ are the coordinates of a point on a circle of radius $r$ then</p>\\r\\n\\r\\n<p>$x^2 + y^2 = r^2$.</p>\\r\\n\\r\\n<p>2) The coordinates of a point of a circle of radius $r$ satisfy the following equation.</p>\\r\\n\\r\\n<p>$x^2 + y^2 = r^2$</p>\\r\\n\\r\\n<p>3) The following diagram commutes.</p>\\r\\n\\r\\n<p>(diagram without any punctuation)</p>\\r\\n\\r\\n<p>I think these examples demonstrate the necessity of distinguishing the two roles a displayed equation can play.  As Simon already pointed out above, there is no reasonable place to put a punctuation mark in a commutative diagram, presumably because a commutative diagram can\\'t be read aloud.  On the other hand, it\\'s difficult to view the sentence in the first example as complete without a period at the end of the equation.</p>\\r\\n\\r\\n<p>I suggest the following rule of thumb: if the formula can be removed from the text without breaking the flow of a sentence, then it does not need to punctuated.  Otherwise, it should be punctuated as it would be if the symbols were expanded into words.</p>\\r\\n\\r\\n<hr>\\r\\n\\r\\n<p>Many authors use a colon where I used a period in the second example and follow the equation with a period.</p>\\r\\n\\r\\n<p>2\\') The coordinates of a point on circle of radius $r$ satisfy the following equation:</p>\\r\\n\\r\\n<p>$x^2 + y^2 = r^2$.</p>\\r\\n\\r\\n<p>I don\\'t consider this incorrect, but I do consider it a completely different sentence from 2).</p>\\r\\n <p>Restriction to an open subset has an exact left adjoint (extension by zero).</p>\\r\\n <p>There\\'s a proof of the snake lemma without elements (a non-elementary proof?) on my (old) website.</p>\\r\\n\\r\\n<p><a href=\"http://math.stanford.edu/~jonathan/papers/snake.pdf\" rel=\"nofollow\">http://math.stanford.edu/~jonathan/papers/snake.pdf</a></p>\\r\\n\\r\\n<p><b>Edit</b>: I added a section about the salamander lemma.</p>\\r\\n\\r\\n<p><b>Much later edit</b>:  As Charles Rezk points out below, my proof of the salamander lemma is correct only in a special case.  I will correct the proof when I find the tex file.</p>\\r\\n\\r\\n<p>What makes working with elements in an abelian category easier than working with objects is that elements of the target of an epimorphism can be lifted to the source.  If your abelian category has enough projectives, then a proof with elements can usually be adapted to one without elements by replacing each element by a surjection from a projective object.  If you don\\'t have enough projectives, you can still get by without elements.  You have to replace the concept of \"element\" with \"epimorphism from something\"; then every \"element\" can still be lifted by passing to a more refined epimorphism.</p>\\r\\n\\r\\n<p>This is just code for working locally in the topology generated by epimorphisms.  (That it is a topology is implied by AB2.)  Since there are always enough injective sheaves of abelian groups, this gives an exact embedding of any abelian category in an abelian category with enough injectives (or, if we work with \"cotopologies\", a category with enough projectives).  This permits one to apply the simpler approach outlined above (using projectives) rather than \"pro-epimorphisms\".</p>\\r\\n\\r\\n<p>Once one has an embedding in a Grothendieck abelian category (the category of sheaves of abelian groups always is one), it is not much further to a proof of Mitchell\\'s embedding theorem anyway.</p>\\r\\n <p>Gromov--Witten invariants are designed to count the \"number\" of curves in a space in a deformation invariant way.  Since the number of curves can change under deformations, the Gromov--Witten invariants won\\'t have a direct interpretation in terms of actual numbers of curves, even taking automorphisms into account.</p>\\r\\n\\r\\n<p>Here is an example of how a negative number might come up, though strictly speaking it isn\\'t a Gromov--Witten invariant.  Let M be the moduli space of maps from P^1 to a the total space of O(-4) on P^1.  Call this space X.  Note that I said maps from P^1, not a genus zero curve, so the source curve is rigid.  That\\'s why this isn\\'t Gromov--Witten theory.  Any such map factors through the zero section (since O(-4) has no nonzero sections), so this space is the same as the space of maps from P^1 to itself.  I just want to look at degree one maps, so the moduli space is 3 dimensional.</p>\\r\\n\\r\\n<p>We could also compute the dimension using deformation theory: the deformations of a map f are classified by $H^0(f^\\\\ast T)$ where T is the tangent bundle of the target.  The target in this case is O(-4), not just P^1, and the tangent bundle restricts to O(2) + O(-4) on the zero section.  Thus $H^0(f^\\\\ast T)$ is indeed 3-dimensional, as we expected.  However, the Euler characteristic of $f^\\\\ast T$ is not 3 but 0, which means that the \"expected dimension\" is zero.</p>\\r\\n\\r\\n<p>The meaning of expected dimension is rather vague.  Roughly speaking, it is the dimension of the moduli space for a \"generic\" choice of deformation.  The trouble is that such a deformation might not actually exist.  Nevertheless, we can still pretend that a generic deformation does exist and, if the expected dimension is zero, compute the number of curves that it \"should\" have.</p>\\r\\n\\r\\n<p>What makes this possible is the obstruction bundle E on M.  Any deformation of X gives rise to a section of E and the vanishing locus of this section is the collection of curves that can be deformed to first order along with X.  Even though a generic deformation might not exist, the obstruction bundle does still exist, and we can make sense of the vanishing locus of a generic section by taking the top Chern class.</p>\\r\\n\\r\\n<p>In our situation, the (fiber of the) obstruction bundle is $H^1(f^\\\\ast T)$.  Since O(2) does not contribute to H^1, the obstruction bundle is $R^1 p_\\\\ast f^\\\\ast O_{P^1}(-4) = R^1 p_\\\\ast O_{P^3 \\\\times P^1}(-4, -4)$ where $p : P^3 \\\\times P^1 \\\\rightarrow P^3$ is the projection.  By the projection formula, this is $O(-4)^{\\\\oplus 3}$ and the top Chern class is -64.  This is the \"Gromov--Witten invariant\" of maps from P^1 to $O_{P^1}(-4)$.</p>\\r\\n\\r\\n<p>Unfortunately, I don\\'t have anything to say about what this -64 means...</p>\\r\\n <p>I\\'m just going to consider the local rings with residue field $\\\\mathbf{F}_p$.</p>\\r\\n\\r\\n<p>Suppose A\\' is an extension of $\\\\mathbf{Z}/p$ with ideal $\\\\mathbf{Z}/p$.  If we take the fiber product with $\\\\mathbf{Z}$, we get an extension of $\\\\mathbf{Z}$ with ideal $\\\\mathbf{Z}/p$.  Up to isomorphism, there is only one such extension: $B\\' = \\\\mathbf{Z}[t] / (t^2, pt)$.  The kernel of the map from B\\' to A\\' is isomorphic to $\\\\mathbf{Z}$ and reduces modulo t to the ideal generated by p.  Therefore, the square-zero extensions of $\\\\mathbf{Z}/p$ are all isomorphic to $\\\\mathbf{Z}[t] / (t^2, pt, p + \\\\lambda t)$ for some $\\\\lambda \\\\not= 0$.  If $\\\\lambda$ is not a multiple of p, we get $\\\\mathbf{Z} / p^2$; if $\\\\lambda$ is a multiple of $p$, we get $\\\\mathbf{Z}[t] / (p, tp, t^2) = \\\\mathbf{F}_p[t] / t^2$.  So these are all the length 2 finite local rings with residue field $\\\\mathbf{F}_p$.</p>\\r\\n\\r\\n<p>For length 3, we\\'ll look for extensions of $\\\\mathbf{Z} / p^2$ by $\\\\mathbf{Z} / p$.  The same analysis shows that these are all of the form $\\\\mathbf{Z}[t] / (t^2, pt, p^2 + \\\\lambda t)$.  If $\\\\lambda$ is not divisible by $p$, we get $\\\\mathbf{Z} / p^3$ and if $\\\\lambda$ is divisible by $p$ we get $\\\\mathbf{Z}[t] / (p^2, pt, t^2)$.</p>\\r\\n\\r\\n<p>We also have to look for extensions of $\\\\mathbf{F}_p[t] / t^2$.  By base change, any such extension A\\' gives an extension B\\' of $\\\\mathbf{Z}[t]$ with ideal $\\\\mathbf{Z} / p$.  Once again, there is only one of these up to isomorphism (since $\\\\mathbf{Z}[t]$ is projective, for example) and it is given by $\\\\mathbf{Z}[t,u] / (u^2, pu, tu)$.  The ideal of the map from B\\' to A\\' generates the ideal of the map from $\\\\mathbf{Z}[t]$ to $\\\\mathbf{F}_p[t] / t^2$.  Since this is generated by p and t^2 the ideal of A\\' in B\\' is generated by $(p + \\\\lambda u, t^2 + \\\\mu u)$ and A\\' is of the form</p>\\r\\n\\r\\n<p>$\\\\mathbf{Z}[t,u] / (u^2, pu, tu, p + \\\\lambda u, t^2 + \\\\mu u)$</p>\\r\\n\\r\\n<p>for some polynomials $\\\\lambda, \\\\mu \\\\in \\\\mathbf{Z}[t]$.  </p>\\r\\n\\r\\n<hr>\\r\\n\\r\\n<p>Edit: If $\\\\lambda$ is not in $(p, t)$ then it is invertible in the quotient, so we get </p>\\r\\n\\r\\n<p>$\\\\mathbf{Z}[t,u] / (p^2, tp, t^2 + \\\\mu \\\\lambda^{-1} p)$.</p>\\r\\n\\r\\n<p>There are two possibilities up to isomorphism here, depending on whether $- \\\\mu \\\\lambda^{-1}$ is a quadratic residue modulo p.</p>\\r\\n\\r\\n<p>If $\\\\lambda$ is in $(p,t)$ we get</p>\\r\\n\\r\\n<p>$\\\\mathbf{Z}[t,u] / (u^2, pu, tu, p, t^2 + \\\\mu u) = \\\\mathbf{F}_p[t,u] / (u^2, tu, t^2 + \\\\mu u)$.</p>\\r\\n\\r\\n<p>The $\\\\mu$ is also not in $(p, t)$ then we get $\\\\mathbf{F}[t] / t^3$.  If $\\\\mu$ is in $(p,t)$ we get $\\\\mathbf{F}_p[t,u] / (u^2, tu, t^2)$.</p>\\r\\n\\r\\n<p>Modulo any mistake I made above, I think a complete list is of length 3 finite local rings with residue field $\\\\mathbf{F}_p$ is</p>\\r\\n\\r\\n<ol>\\r\\n<li>$\\\\mathbf{Z} / p^3$,</li>\\r\\n<li>$\\\\mathbf{Z}[t] / (p^2, pt, t^2)$,</li>\\r\\n<li>$\\\\mathbf{Z}[t] / (t^2 - p, t^3)$,</li>\\r\\n<li>$\\\\mathbf{Z}[t] / (t^2 - \\\\alpha p, t^3)$ where $\\\\alpha$ is a non-quadratic residue modulo $p$,</li>\\r\\n<li>$\\\\mathbf{F}_p[t] / t^3$, and</li>\\r\\n<li>$\\\\mathbf{F}_p[t,u] / (t,u)^2$.</li>\\r\\n</ol>\\r\\n <p>Say X is a scheme and E is an $\\\\mathbf{A}^1$-linear scheme over X (a group scheme over X with an action of the sheaf of rings $\\\\mathbf{A}^1$).  You are asking when it is possible for E to be quasi-coherent.  If E is quasi-coherent and of finite type then it admits a surjection from a finite dimensional vector space F over X.  For any point $e \\\\in E$, </p>\\r\\n\\r\\n<p>$\\\\dim_{p(e)} E + \\\\dim_e F = \\\\dim_{p(e)} F$.</p>\\r\\n\\r\\n<p>This implies that if the dimension of a fiber of E over X jumps, the dimension of the corresponding fiber of F over E must drop, which is impossible.</p>\\r\\n <p>Fields are characterized in the category of rings by the property that an epimorphism whose source is a field must be an isomorphism.  The prime ideals of a ring can be identified with the epimorphisms from that ring to fields.  From a categorical perspective, the prime spectrum therefore seems a more natural object than the max. spectrum.</p>\\r\\n\\r\\n<p>I don\\'t have a good explanation for the Zariski topology.  It is the coarsest topology in which the maps induced by homomorphisms of rings are continuous and the origin in $\\\\mathbf{A}^1$ is closed.  This is not very satisfying, though.</p>\\r\\n\\r\\n<p>The real reason the Zariski topology is important is because descent works for lots of things.  For example, a module defined Zariski locally over a ring can be glued to give a module over the original ring.  I wonder if the Zariski topology is the finest topology (i.e., finest Grothendieck topology defined by covers by <strike>subfunctors</strike> subobjects) in which descent works for quasi-coherent sheaves.  Does anyone know?</p>\\r\\n <p>Your derivation at the origin is a map $\\\\mathrm{Spec} k[\\\\epsilon] / \\\\epsilon^2 \\\\rightarrow G$ whose restriction to $\\\\epsilon = 0$ is the inclusion of the origin.  This induces a map </p>\\r\\n\\r\\n<p>$G \\\\times_{\\\\mathrm{Spec} k} \\\\mathrm{Spec} k[\\\\epsilon]/\\\\epsilon^2 \\\\rightarrow G \\\\times G \\\\rightarrow G$</p>\\r\\n\\r\\n<p>where the first map is the product with the map described above and the second is the multiplication map.  Dually, the composed map gives a map of sheaves of algebras</p>\\r\\n\\r\\n<p>$\\\\mathcal{O}_G \\\\rightarrow \\\\mathcal{O}_G[\\\\epsilon] / \\\\epsilon^2$</p>\\r\\n\\r\\n<p>which is the same thing as a derivation from $\\\\mathcal{O}_G$ to itself.</p>\\r\\n <p>If $X$ denotes the quotient sheaf $\\\\mathbf{G}_m / \\\\mathbf{Z}$ then the inclusion</p>\\r\\n\\r\\n<p>$\\\\mathbf{G}_m \\\\times_X \\\\mathbf{G}_m \\\\rightarrow \\\\mathbf{G}_m \\\\times \\\\mathbf{G}_m$</p>\\r\\n\\r\\n<p>can be identified with the action map</p>\\r\\n\\r\\n<p>$\\\\mathbf{G}_m \\\\times \\\\mathbf{Z} \\\\rightarrow \\\\mathbf{G}_m \\\\times \\\\mathbf{G}_m$.  </p>\\r\\n\\r\\n<p>Since this map is not quasi-compact, $X$ is not quasi-separated, so it is not an algebraic space by Knutson\\'s definition.</p>\\r\\n <p>Let me rephrase the question (and Ilya\\'s answer).  Given an arbitrary collection $X_i$ of schemes, is the functor (on affine schemes, say)</p>\\r\\n\\r\\n<p>$Y \\\\mapsto \\\\prod_i Hom(Y, X_i)$</p>\\r\\n\\r\\n<p>representable by a scheme?  If the $X_i$ are all affine, the answer is yes, as explained in the statement of the question.  More generally, any filtered inverse system of schemes with essentially affine transition maps has an inverse limit in the category of schemes (this is in EGA IV.8).  The topology in that case is the inverse limit topology, by the way.</p>\\r\\n\\r\\n<p>It is easy to come up with examples of infinite products of non-separated schemes that are not representable by schemes.  This is because any scheme has a locally closed diagonal.  In other words, if $Y \\\\rightrightarrows Z$ is a pair of maps of schemes then the locus in $Y$ where the two maps coincide is locally closed in $Y$.</p>\\r\\n\\r\\n<p>Suppose $Z$ is the affine line with a doubled origin.  Every distinguished open subset of an affine scheme $Y$ occurs as the locus where two maps $Y \\\\rightrightarrows Z$ agree.  Let $X = \\\\prod_{i = 1}^\\\\infty Z$.  Every countable intersection of distinguished open subsets of $Y$ occurs as the locus where two maps $Y \\\\rightarrow X$ agree.  Not every countable intersection of open subsets is locally closed, however, so $X$ cannot be a scheme.</p>\\r\\n\\r\\n<p>Since the diagonal of an infinite product of separated schemes is closed, a more interesting question is whether an infinite product of separated schemes can be representable by a scheme.  Ilya\\'s example demonstrates that the answer is no.</p>\\r\\n\\r\\n<p>Let $Z = \\\\mathbf{A}^2 - 0$.  This represents the functor that sends $Spec A$ to the set of pairs $(x,y) \\\\in A^2$ generating the unit ideal.  The infinite product $X = \\\\prod_{i = 1}^\\\\infty Z$ represents the functor sending $A$ to the set of infinite collections of pairs $(x_i, y_i)$ generating the unit ideal.  Let $B$ be the ring $\\\\mathbf{Z}[x_i, y_i, a_i, b_i]_{i = 1}^\\\\infty / (a_i x_i + b_i y_i = 1)$.  There is an obvious map $Spec B \\\\rightarrow X$.  Any (nonempty) open subfunctor $U$ of $X$ determines an open subfunctor of $Spec B$, and this must contain a distinguished open subset defined by the invertibility of some $f \\\\in B$.  Since $f$ can involve at most finitely many of the variables, the open subset determined by $f$ must contain the pre-image of some open subset $U\\'$ in $\\\\prod_{i \\\\in I} Z$ for some finite set $I$.  Let $I\\'$ be the complement of $I$.  If we choose a closed point $t$ of $U\\'$ then $U$ contains the pre-image of $t$ as a closed subfunctor.  Since the pre-image of $t$ is $\\\\prod_{i \\\\in I\\'} Z \\\\cong X$ this shows that any open subfunctor of $X$ contains $X$ as a closed subfunctor.</p>\\r\\n\\r\\n<p>In particular, if $X$ is a scheme, any non-empty open affine contains a scheme isomorphic to $X$ as a closed subscheme.  A closed subscheme of an affine scheme is affine, so if $X$ is a scheme it is affine.</p>\\r\\n\\r\\n<p>Now we just have to show $X$ is not an affine scheme.  <strike>It is a subfunctor of $W = \\\\prod_{i = 1}^\\\\infty \\\\mathbf{A}^2$, so if $X$ is an affine scheme, it is locally closed in $W$.  Since $X$ is not contained in any closed subset of $W$ except $W$ itself, this means that $X$ is open in $W$.  But then $X$ can be defined in $W$ using only finitely many of the variables, which is impossible.</strike></p>\\r\\n\\r\\n<p><b>Edit:</b>  Laurent Moret-Bailly pointed out in the comments below that my argument above for this last point doesn\\'t make sense.  Here is a revision:  Suppose to the contrary that $X$ is an affine scheme.  Then the morphism $p : X \\\\rightarrow X$ that projects off a single factor is an affine morphism.  If we restrict this map to a closed fiber then we recover the projection from $Z$ to a point, which is certainly not affine.  Therefore $X$ could not have been affine in the first place.</p>\\r\\n <p>I don\\'t know if this is in SGA IV.5, but that\\'s a good place to look for questions about Cech cohomology.</p>\\r\\n\\r\\n<p>As I described <a href=\"http://mathoverflow.net/questions/4214/equivalence-of-grothendieck-style-versus-cech-style-sheaf-cohomology/4223#4223\">here</a>, the Cech cohomology with respect to a cover is the same as the sheaf cohomology in the sieve associated to that cover.  If $\\\\mathcal{U}$ is a cover of $X$, let $R$ be the category whose objects are maps $V \\\\rightarrow X$ that factor through some object in $\\\\mathcal{U}$.  Then</p>\\r\\n\\r\\n<p>$\\\\check{H}^p(\\\\mathcal{U}, F) = \\\\varprojlim^{(p)}_{R} F = Ext^p(\\\\mathbf{Z}_R, F)$</p>\\r\\n\\r\\n<p>where $\\\\varprojlim^{(p)}$ is the $p$-th derived functor $\\\\varprojlim$.  This can be calculated by taking a projective resolution of $\\\\mathbf{Z}_R$.  Here are two ways to do it:</p>\\r\\n\\r\\n<p>$\\\\displaystyle K_p = \\\\sum_{i_1 &lt; i_2 &lt; \\\\cdots &lt; i_p} \\\\mathbf{Z}_{U_{i_1} \\\\cap \\\\cdots \\\\cap U_{i_p}}$</p>\\r\\n\\r\\n<p>$\\\\displaystyle L_p = \\\\sum_{i_1, \\\\ldots, i_p} \\\\mathbf{Z}_{U_{i_1} \\\\cap \\\\cdots \\\\cap U_{i_p}}$.`</p>\\r\\n\\r\\n<p>One must check, of course, that these are indeed resolutions.  (I don\\'t have a slick explanation of why they are resolutions.  The best I can do is to say that these complexes are associated via the Dold--Kan correspondence to simplicial resolutions of the final presheaf on $R$.)  Taking $Hom$ into $F$ yields the two Cech complexes in question.</p>\\r\\n <p>A Deligne--Mumford stack is an &eacute;tale-locally ringed topos that is locally equivalent to the &eacute;tale-locally ringed topos of an affine scheme.  A Deligne--Mumford stack is an algebraic space if its diagonal is an embedding.</p>\\r\\n <p>I\\'m having a little trouble teasing out exactly what your question is, so I\\'ll just write some things about sheaves that seem related and hope they are helpful.</p>\\r\\n\\r\\n<p>Suppose $C$ is a site.  Let $\\\\hat{C}$ be its category of presheaves and $\\\\tilde{C}$ its category of sheaves.  The topology defined in SGA 4, II.5 is on $\\\\hat{C}$, not on $\\\\tilde{C}$ as you suggest in your question.  Its purpose is to give a topology on $\\\\hat{C}$ such that the category of sheaves on $\\\\hat{C}$ (that is, contravariant functors satisfying descent on the category of contravariant functors on $C$) should coincide with the category of sheaves on $C$ (i.e., $\\\\tilde{\\\\hat{C}} = \\\\tilde{C}$).</p>\\r\\n\\r\\n<p>You\\'ve got the condition for being bicovering backwards: a map of presheaves $H \\\\rightarrow G$ is called bicovering if it is covering (with respect to the topology on $C$) and its diagonal $H \\\\rightarrow H \\\\times_G H$ is also covering.  (What it means for a map of sheaves to be covering is that for any map $X \\\\rightarrow G$ with $X$ representable, the sieve of $X$ induced by $H \\\\times_G X$ should be covering.)</p>\\r\\n\\r\\n<p>A Grothendieck topology on $C$ is described by asking certain <i>subfunctors</i> (sieves) of objects of $C$ to be covering.  If $H$ is a subfunctor of $G$ then the relative diagonal map is automatically an epimorphism since it is an isomorphism (by definition).  The covering sieves of $X$ are the subfunctors of $X$ that become isomorphic to $X$ upon passing to associated sheaves.</p>\\r\\n\\r\\n<p>The bicovering business arises when one wants to study which arbitrary morphisms of presheaves (not just inclusions) become isomorphisms upon passing to associated sheaves.  The notion of a covering morphism of presheaves explains which morphisms become surjections of sheaves.  The question then remains: which morphisms become injections?  A map of sheaves is an injection if and only if its relative diagonal is a surjection, so the condition is that the relative diagonal be a covering map.</p>\\r\\n <p>It is representable by an fpqc sheaf (SGA I.VIII.4.4).  Also, since the inverse limit of affine schemes has the inverse limit topology (EGA IV.8), the sheaf is locally of finite presentation.  Since the open subsets of an infinitesimal thickening of a scheme are the same as those of the original scheme, this functor is even formally &eacute;tale over $\\\\mathrm{Spec} \\\\:\\\\mathbf{Z}$.  It\\'s therefore just about as close as it could be to being an algebraic space without actually being one.</p>\\r\\n\\r\\n<p>What goes wrong is algebraization.  If $X$ is an algebraic space and you have a complete local ring $R$ then $\\\\mathrm{Hom}(\\\\mathrm{Spec}\\\\:R,X) = \\\\varprojlim_n  \\\\mathrm{Hom}(\\\\mathrm{Spec}\\\\:R_n,X)$ where the $R_n$ are the quotients of $R$ by powers of the maximal ideal.  It\\'s pretty clear that this equality doesn\\'t hold for the sheaf of open subsets.</p>\\r\\n <p>I don\\'t think that Grothendieck topologies should be viewed as analogous to ordinary topologies.  It is true that a topology on a set induces various Grothendieck topologies on various categories, but so does every system of basic open neighborhoods.  In my opinion, it is more fruitful to think of a Grothendieck topology as the analogue of a system of basic open neighborhoods and a topos as the analogue of a topological space.</p>\\r\\n\\r\\n<p>Let me try to answer the following question, which may or may not be the question that is actually being asked: Why do we prefer topological spaces to systems of basic open neighborhoods, and topoi to Grothendieck topologies?  I think that the answer has to do with morphisms.</p>\\r\\n\\r\\n<p>To give a morphism of spaces with basic open neighborhoods, one must give a function that respects those neighborhoods.  One can\\'t, however, require that the pre-image of a basic open neighborhood be open.  Instead, one has to require that each point contained in the pre-image of a basic open neighborhood have a basic open neighborhood inside the pre-image.</p>\\r\\n\\r\\n<p>Not only is this definition more complicated than the one for topological spaces (and the extension to Grothendieck topologies is by no means obvious!), but there are multiple distinct but isomorphic systems of open neighborhoods on the same space.  A topology is a maximal system of open neighborhoods in a given isomorphism class, which makes it a \"best model\" for a particular notion of nearness.</p>\\r\\n\\r\\n<p>Another interpretation that makes this model appealing is that given a system of basic open neighborhoods, the open sets are the \"local properties\" (those that hold at a point if and only if they hold at all sufficiently nearby points).  (If one believes a slogan like \"there are two -1-categories: TRUE and FALSE\" then open sets are \"-1-sheaves\"; this completes the formal analogy with Grothendieck topologies and their associated topoi, which are their associated categories of \"0-sheaves\".)</p>\\r\\n <p>I\\'ve surely misunderstood your question or made a simple mistake, but it seems to me that if $X$ is allowed to vary then $Z({\\\\rm QCoh}(X))$ is a sheaf in the Zariski topology---call it $\\\\underline{Z}_X$---and there is a morphism of sheaves $\\\\mathcal{O}_X \\\\rightarrow \\\\underline{Z}_X$.  It\\'s an isomorphism in general because it\\'s an isomorphism when $X$ is affine.</p>\\r\\n\\r\\n<p><b>Edit:</b> Martin\\'s comment explains the simple mistake I made above, but I think it might be possible to salvage the argument.  I\\'m a little nervous about this though...</p>\\r\\n\\r\\n<p>Let $A_X$ be the smallest additive subcategory of the category of $\\\\mathcal{O}_X$-modules that contains ${\\\\rm QCoh}(X)$ and is closed under arbitrary products and kernels.  Any endomorphism of the identity functor of ${\\\\rm QCoh}(X)$ extends uniquely to an endomorphism of the identity functor of $A_X$ (since product and kernel are functors).  Therefore $Z(A_X) = Z({\\\\rm QCoh}(X))$.</p>\\r\\n\\r\\n<p>Since $f^{-1}$ commutes with arbitrary products and kernels, the categories $A_X$ for varying $X$ form a fibered category (actually a stack) over the Zariski site of $X$.  </p>\\r\\n\\r\\n<p>If $f : U \\\\rightarrow X$ and $G \\\\in A_U$ then $f_\\\\ast G \\\\in A_X$ (see the proof that the pushforward of a quasi-coherent sheaf under a quasi-compact, quasi-separated morphism is quasi-coherent in EGA(1971)I.6.7.1, taking into account that $f_\\\\ast$ commutes with arbitrary inverse limits).  If $U$ is an open embedding, this implies that $f^\\\\ast : A_X \\\\rightarrow A_U$ is essentially surjective (since $f^\\\\ast f_\\\\ast G = G$).  Therefore any endomorphism of the identity functor of $A_X$ can be restricted to an endomorphism of the identity functor of $A_U$.  Therefore as $X$ varies, $Z(A_X) = Z({\\\\rm QCoh}(X))$ forms a sheaf in the Zariski topology.</p>\\r\\n\\r\\n<p><b>Edit 2:</b>  I have to argue that $f_\\\\ast$ carries $A_U$ into $A_X$.  I\\'m mimicking the argument from EGA here, but I can\\'t see Martin\\'s objection.</p>\\r\\n\\r\\n<p>We can assume that $X$ is affine (since $A$ is a stack).  If $f$ is affine, this is because $f_\\\\ast$ commutes with arbitrary inverse limits and $f_\\\\ast$ carries ${\\\\rm QCoh}(U)$ into ${\\\\rm QCoh}(X)$.  </p>\\r\\n\\r\\n<p>Let $U_i$ be a cover of $U$ by open affines, and let $U_{ij}$ be the pairwise intersections.  Let $f_i$ and $f_{ij}$ be the restrictions of $f$.  Let $G_i = {f_i}_\\\\ast G_i \\\\big|_{U_i}$ and let $G_{ij} = {f_{ij}}_\\\\ast G \\\\big|_{U_{ij}}$.  Then</p>\\r\\n\\r\\n<p>$f_\\\\ast G = \\\\ker( \\\\prod_i G_i \\\\rightarrow \\\\prod_{ij} G_{ij} )$</p>\\r\\n\\r\\n<p>and the $G_i$ are in $A_X$ because $U_i \\\\rightarrow X$ are affine.  If the $G_{ij}$ are also in $A_X$ then so is $f_\\\\ast G$.  This will be the case if $f$ is separated, since then the $U_{ij}$ will be affine.  But this implies the general case because the $U_{ij}$ will be quasi-affine, hence separated, over $X$, so $G_{ij} = {f_{ij}}_\\\\ast G \\\\big|_{U_{ij}}$ will be in $A_X$ by the case mentioned above.</p>\\r\\n <p>As BCnrd points out, gluing cotangent complexes is a nontrivial thing.  You might still ask whether it is really necessary for Illusie to work in the generality of a ringed topos.  Would using a ringed space suffice?  For standard deformation problems (deformation of a morphism or deformation of a scheme) working on the underlying ringed space would be enough.  For more \"interesting\" deformation problems, like deformation of a morphism $X \\\\rightarrow Y$, where $X$, $Y$, and the morphism are all allowed to vary, one needs something more sophisticated.  Illusie constructs a ringed topos that encodes all of these data and then applies the machinery for ringed topoi that he has already developed.</p>\\r\\n <p>EGA, Chapters 5 through 12</p>\\r\\n <p>No, the embedding of schemes in the big Zariski site does not preserve colimits.  It is possible to see this in the example you suggest by computing the \"tangent space\" at the origin.  Let $X$ be the colimit in the category of schemes; the tangent space of $X$ at the origin is a $2$-dimensional vector space.  Let $Y$ be the colimit in the category of sheaves; I claim that the \"tangent space\" of $Y$ at the origin is the union of the coordinate axes inside of the tangent space of $X$.</p>\\r\\n\\r\\n<p>The tangent space of $Y$ is the space of sections of $Y$ over $Z := \\\\mathrm{Spec}\\\\: k[\\\\epsilon] / \\\\epsilon^2$.  The Zariski topology is trivial on $Z$, so sections of $Y$ over $Z$ are the same as sections of the presheaf colimit over $Z$.  The \"tangent space\" of the presheaf colimit is the union of the tangent spaces of the two copies of $\\\\mathbf{A}^1$.</p>\\r\\n <p>I will try to argue that if an product of quasi-compact schemes is a representable by a scheme, then all but finitely many of them must be affine.</p>\\r\\n\\r\\n<p><b>Edit:</b>  I rewrote the argument a little to address the comments.  I hope the argument might finally be satisfying...</p>\\r\\n\\r\\n<p><b>Lemma.</b>  If $X_i$, $i \\\\in I$ are quasi-compact schemes over a field $k$, then $\\\\prod X_i$ has a closed point (i.e., there is a map from the spectrum of some field $K$ to $X$ that is representable by closed immersions) whose image in each of the $X_i$ is also closed.</p>\\r\\n\\r\\n<p><i>Proof.</i>  For each $i$, let $x_i$ be a closed point of $X_i$ (which exists because the $X_i$ are quasi-compact).  Let $K$ be a compositum of the residue fields of the $x_i$ (i.e., the residue field at a closed point of $Z = \\\\prod_i x_i$, which exists because $Z$ is affine).  Let $X$ be the product of the $X_i$.  Then we get a map $\\\\mathrm{Spec} \\\\: K \\\\rightarrow X$, which we have to show is a closed embedding.</p>\\r\\n\\r\\n<p>It\\'s enough to argue that the map $Z \\\\rightarrow X$ is a closed embedding.  But if $Y$ is a scheme over $X$ then $Y_Z$ can be obtained as the intersection of closed subschemes $Y_{x_i} = Y \\\\times_{X_i} x_i$, which is a closed subscheme.  $\\\\Box$</p>\\r\\n\\r\\n<p>Suppose that the product of schemes $X_i$, indexed by $i \\\\in I$, is representable by a non-empty scheme $X$.  Assume that each $X_i$ is quasi-compact, so that for each $i$, we can find a Zariski cover $Y_i \\\\rightarrow X_i$ of $X_i$ by an affine scheme $Y_i$.  Then we get a map $Y = \\\\prod Y_i \\\\rightarrow X$ and the source is an affine scheme.  Let $x$ be a closed point of $X$.  Let $U$ be an affine neighborhood of $x$ in $X$.  Let $y$ be a $K$-point of $Y$ above $x$, and let $V$ be a distinguished affine open neighborhood of $y$ in $Y$, contained in the pre-image of $U$, and defined by the invertibility of some $f \\\\in \\\\Gamma(Y, {\\\\cal O}_Y)$.  Since $f$ can be expressed using functions defined on finitely many of the $Y_i$, the set $V$ must be the pre-image of a distinguished open affine $V\\' \\\\subset \\\\prod_{i \\\\in I\\'} Y_i$ where $I\\'$ is a finite subset of $I$.  Let $I\\'\\'$ be the complement of $I\\'$ in $I$ and let $X\\' = \\\\prod_{i \\\\in I\\'} X_i$ and define $X\\'\\'$, $Y\\'$, $Y\\'\\'$ analogously.  Then $V\\' \\\\times Y\\'\\'$ is an affine open neighborhood of $y$ in $Y$, contained in $V$.  If $U\\'$ denotes the image of $V\\'$ in $X\\'$ then $U\\' \\\\times X\\'\\'$ is an open neighborhood of $x$ in $X$, contained in $U$.  Let $x\\'$ be the projection of $x$ to $X\\'$, which we can safely assume is a closed point of $X\\'$, hence a closed point of $U\\'$, and let $K$ be the residue field of $x\\'$.  Therefore $\\\\{ x\\' \\\\} \\\\times X\\'\\'$ is a closed subscheme of $U$ and is therefore affine.  But $\\\\{ x\\' \\\\} \\\\times X\\'\\' = K \\\\otimes_k X\\'\\'$ so by fpqc descent for affine schemes over $k$ (SGA1.VIII.2) it follows that $X\\'\\'$ is affine.</p>\\r\\n\\r\\n<p>Replacing $I$ with $I\\'\\'$ we can now assume that $X$ is affine. Before proving that each $X_i$ is affine, I claim that each $X_i$ is separated.  We must show that for any scheme $Y$ and any two maps $Y \\\\rightrightarrows X_i$, the locus in $Y$ where the maps agree is closed.  Let $x$ be a closed $K$-point of $\\\\prod_{j \\\\not= i} X_j$ for some extension $K$ of $k$.  Then we can extend the maps $Y \\\\rightrightarrows X_i$ to maps $Y \\\\otimes_k K \\\\rightrightarrows X$.  Since $X$ is separated, the locus in $Y \\\\otimes_k K$ where these maps agree is closed.  But this is the pullback via the map $Y \\\\otimes_k K \\\\rightarrow Y$ of the locus where the maps $Y \\\\rightrightarrows X_i$ agree, so this latter subset of $Y$ must be closed by fpqc descent (see SGA1.VIII.4).</p>\\r\\n\\r\\n<p>If $X$ is affine and non-empty then it is separated, so each $X_i$ is separated.  Therefore $Z := \\\\prod_{j \\\\not= i} X_j$ is separated for each $i$.  (Note that we don\\'t yet know that $Z$ is representable by a scheme, but it still makes sense to claim that $Z$ is separated as a functor:  for any scheme $T$ and any two elements $a$ and $b$ of $Z(T)$, the locus in $T$ where $a$ and $b$ agree is closed.)  Let $z$ be a closed $K$-point of $Z$.  Then $X_i \\\\otimes_k K = X \\\\times_Z \\\\{z\\\\}$ is closed in $X$, hence is affine because we assumed $X$ to be affine.  This implies $X_i$ is affine by fpqc descent (see SGA1.VIII.2).</p>\\r\\n <p>$\\\\mathrm{Cov}(X)$ determines $X$ if $X$ is <a href=\"http://en.wikipedia.org/wiki/Sober_space\" rel=\"nofollow\">sober</a>.</p>\\r\\n <p>One does not actually need the \"power of topoi\" to make Illusie\\'s definition of the cotangent complex work.  One does need sheaves, though.  Illusie\\'s constructions would have worked equally well had he used ringed spaces instead of ringed topoi.  Some constructions related to diagrams of schemes might be easier to phrase in terms of topoi, and of course they become essential if one wants to work in, say, the &eacute;tale topology.</p>\\r\\n\\r\\n<p>Illusie makes use of the generality of his construction in a number of places.  By treating ringed topoi that are not the &eacute;tale or Zariski topoi of schemes he is able to treat the deformation theory of diagrams, which he applies to deformations of group schemes, commutative group schemes, and modules.</p>\\r\\n\\r\\n<p>I do not know if it would be useful to study deformations of the structure sheaf on the fppf topos of a scheme $S$.  Such a deformation would correspond to a consistent collection of deformations of every scheme over $S$.</p>\\r\\n <p>You can view the sheaf $\\\\mathcal{F}$ on $X \\\\times X$ instead as a map from $X$ (the first factor) to the moduli stack $M$ of sheaves on $X$ (the second factor).  This induces a map on the tangent spaces.  The tangent space to $M$ at a sheaf $F$ is the space of first order deformations of $F$, which is $\\\\mathrm{Ext}^1(F, F)$.</p>\\r\\n\\r\\n<p>Using the exact sequence</p>\\r\\n\\r\\n<p>$0 \\\\rightarrow I \\\\rightarrow \\\\mathcal{O}_X \\\\rightarrow k(x) \\\\rightarrow 0$</p>\\r\\n\\r\\n<p>you get an identification between $T_x X = \\\\mathrm{Hom}_{\\\\mathcal{O}_X}(I, k(x)) = \\\\mathrm{Ext}^1(k(x),k(x))$.  Therefore the differential gives a map</p>\\r\\n\\r\\n<p>$T_x X = \\\\mathrm{Ext}^1(k(x),k(x)) \\\\rightarrow T_{\\\\mathcal{F}_x} M = \\\\mathrm{Ext}^1(\\\\mathcal{F}_x, \\\\mathcal{F}_x)$.</p>\\r\\n <p>Let $L$ be the complex $[ f^\\\\ast \\\\Omega_X \\\\rightarrow \\\\Omega_C(D) ]$, concentrated in degrees $[-1,0]$ on $C$.</p>\\r\\n\\r\\n<p>One way to understand the obstructions is to understand the deformations for affine curves first.  Observe first that there is a canonical equivalence of categories between the category of deformations of a pointed map $f : C \\\\rightarrow X$, with $C$ not-necessarily proper, and the category of extensions</p>\\r\\n\\r\\n<p>$G(C) = \\\\mathrm{Ext}(L, \\\\mathcal{O}_C)$.</p>\\r\\n\\r\\n<p>The meaning of the category on the right is the category of extensions $E$ of $\\\\Omega_C(D)$ by $\\\\mathcal{O}_C$ together with a trivialization of the induced extension of $f^\\\\ast \\\\Omega_X$ by $\\\\mathcal{O}_C$.  One checks explicitly that the category of extensions of $\\\\Omega_C(D)$ by $\\\\mathcal{O}_C$ is canonically equivalent to the category of deformations of the pointed curve $C$ and that splitting the induced extension of $f^\\\\ast \\\\Omega_X$ is the same as extending the map $f : C \\\\rightarrow X$ to a map from the deformed curve to $X$.</p>\\r\\n\\r\\n<p>Note that $G$ is a commutative group stack (what is sometimes called a \"Picard stack\").  It is easy to check that $G$ is non-empty when $C$ is an affine curve (use the fact that deformations of nodal curves are unobstructed and the formal criterion of smoothness for $X$), which means that any obstructions to deforming a proper curve come from the failure of local deformations to glue.  There is a standard way to compute these local obstructions---e.g., by Cech cohomology, noting that mutatis mutandis, Cech cohomology still works for group stacks---and this yield a class in $H^1(C, G)$.  Cohomology of a commutative group stack is the same as cohomology of the associated complex, so we get an obstruction in</p>\\r\\n\\r\\n<p>$H^1(C, L^\\\\vee[1]) = H^2(C, L^\\\\vee) = \\\\mathrm{Ext}^2(L, \\\\mathcal{O}_C)$.</p>\\r\\n <p>Perhaps one way of reading this question is \"Why is it important to think about complexes when doing deformation theory?\"  One must certainly accept that deformation theory is cohomological in nature:  consider the standard &#268;ech construction of classes in $H^1(X, T_X)$ and $H^2(X, T_X)$ corresponding respectively to deformations and obstructions to deformations of a smooth scheme $X$; or consider the deformations of a regular embedding $X \\\\rightarrow Y$, which are parameterized by $H^0(X, N_{X/Y})$ and obstructed by $H^1(X, N_{X/Y})$.</p>\\r\\n\\r\\n<p>Let me recall the arguments that yield these classes.  Locally a smooth scheme has only one deformation up to isomorphism, so global deformations arise from gluing the local ones; the gluing data come from the tangent bundle, so deformations are classified by $H^1(X, T_X)$.  Similarly, solutions to an obstructed deformation problem exist locally and are locally unique up to isomorphism, so the obstruction comes from gluing.  One writes down the gluing condition and observes that it is a &#268;ech $2$-cocycle (or observes directly that deformations form a gerbe...).</p>\\r\\n\\r\\n<p>The argument for a regular embedding is similar.  One first gives a direct construction for the identification of $H^0(X,N_{X/Y})$ and the deformations of the embedding; then one shows that there are no local obstructions, so global obstructions arise entirely from gluing, and this gives a &#268;ech 1-cocycle with values in $N_{X/Y}$.</p>\\r\\n\\r\\n<p>What about a more general deformation problem?  For example, suppose $X$ is a local complete intersection.  A great deal of the arguments above goes through without modification:  locally, deformations of a local complete intersection are unobstructed, so obstructions should come from gluing.  One should be able to produce a &#268;ech cocycle obstructing the existence of a global deformation.  But a cocycle valued in what?</p>\\r\\n\\r\\n<p>The answer is the (shifted) tangent complex (dual to the cotangent complex mentioned in another answer).  This is a complex in in degrees $[0,1]$ that coincides with $T_X$ if $X$.  The relative tangent complex of a regular embedding $X \\\\rightarrow Y$ is $N_{X/Y}[-1]$.  Thus the tangent complex recovers the two special cases discussed above.</p>\\r\\n\\r\\n<p>For a complete intersection $X$ in a smooth scheme $Y$, the tangent complex of $X$ may be constructed as $[T_Y \\\\vert_X \\\\rightarrow N_{X/Y}]$.  If $X$ is only a local complete intersection then this construction works locally in $X$, but it\\'s not going to glue to something global.  However, the local construction is quasi-isomorphic to the restriction of something global.  At last, the derived category appears.</p>\\r\\n\\r\\n<p>All of this is vastly generalized by the cotangent complex, which works the same way as above for arbitrary schemes, without the lci restriction.  You can read more about that in Chris Brav\\'s answer.</p>\\r\\n <p>Here is a classifying problem without a coarse moduli space:  Let $F$ be the stack of line bundles with section, say over an algebraically closed field k.  That is $F(X)$ is the category of pairs $(L,s)$ where $L$ is a line bundle on $X$ and $s \\\\in \\\\Gamma(X,L)$ is a section of $L$.  Then $F$ has no coarse moduli space:  if it did, there would be two points, corresponding to $(k,1)$ and $(k,0)$ with the former specializing to the latter.  This would be an affine scheme with a closed point and a generic point, both with residue field $k$.  That\\'s impossible.</p>\\r\\n\\r\\n<p>Of course, $F$ is just a geometric description of $[\\\\mathbf{A}^1 / \\\\mathbf{G}_m]$, so we already knew it didn\\'t have a coarse moduli space.</p>\\r\\n <p>The answer is yes.  Let $[E^{-1} \\\\rightarrow E^0]$ be a perfect obstruction theory on $M$.  After localizing in $M$ we can assume that the map $E^0 \\\\rightarrow \\\\Omega_M$ is induced as $\\\\mathcal{O}_M \\\\otimes \\\\Omega_{\\\\mathbf{A}^n} \\\\rightarrow \\\\Omega_M$ for some map $M \\\\rightarrow \\\\mathbf{A}^n$.(*) As the map on differentials is surjective the relative differentials vanish and the map is unramified.  By EGA IV.18.4.7, we can (at least after localizing further in $M$) factor the map $M \\\\rightarrow \\\\mathbf{A}^n$ as a closed embedding $M \\\\rightarrow V$ followed by an &eacute;tale map $V \\\\rightarrow \\\\mathbf{A}^n$.</p>\\r\\n\\r\\n<p>Let $I$ be the ideal of $M$ inside $V$.  Then we have an exact sequence</p>\\r\\n\\r\\n<p>$I/I^2 \\\\rightarrow \\\\mathcal{O}_M \\\\otimes \\\\Omega_V \\\\rightarrow \\\\Omega_M \\\\rightarrow 0$</p>\\r\\n\\r\\n<p>where the first two terms are $\\\\tau_{\\\\geq -1} L_M$.  By the definition of an obstruction theory, we are given a map $E^{-1} \\\\rightarrow I/I^2$ inducing a surjection $H^{-1}(E) \\\\rightarrow H^{-1} L_M$.  By the 5-lemma, $E^{-1} \\\\rightarrow I/I^2$ is surjective.</p>\\r\\n\\r\\n<p>Localizing further in $V$ and $M$, we can assume that the map $E^{-1} \\\\rightarrow I/I^2$ is induced from a map $F \\\\rightarrow I$ of coherent sheaves on $V$ with $F$ locally free.  By Nakayama\\'s lemma we can assume, possibly after further localization, that $F \\\\rightarrow I$ is surjective.  Then consider the section of the vector bundle $F^\\\\vee$ dual to the composition $F \\\\rightarrow I \\\\subset \\\\mathcal{O}_V$.  The vanishing locus of this section is $M$ and the induced complex $F \\\\rightarrow \\\\mathcal{O}_M \\\\otimes \\\\Omega_V$ is the obstruction theory we started with.</p>\\r\\n\\r\\n<p>(*)  We can represent $\\\\tau_{\\\\geq -1} L_M$ as $[ J / J^2 \\\\rightarrow \\\\Omega_W ]$ for some closed embedding $M \\\\subset W$ and we are given a map of complexes $E^\\\\bullet \\\\rightarrow \\\\tau_{\\\\geq -1} L_M$.  Replacing $E^\\\\bullet$ with a quasi-isomorphic complex, we can assume that the map $E^0 \\\\rightarrow \\\\Omega_W$ is surjective.  But $E^0$ and $\\\\Omega_W$ are vector bundles, so after localizing in $M$ we can assume that $\\\\Omega_W$ is a direct summand of $E^0$.  Choosing a basis for the complementary summand, we can identify $E^0 \\\\cong \\\\Omega_{W \\\\times \\\\mathbf{A}^n}$.</p>\\r\\n <p>The answer is always.  Let $\\\\mathrm{Et}(X)$ and $\\\\mathrm{Et}(Y)$ denote the &eacute;tale sites.  There is a functor $f_! : \\\\mathrm{Et}(X) \\\\rightarrow \\\\mathrm{Et}(Y)$ sending an &eacute;tale $X$-scheme $p : U \\\\rightarrow X$ to $f \\\\circ p : U \\\\rightarrow Y$.  This functor is cocontinuous (SGA4.III.2.1) and continuous (SGA4.III.1.1).  By SGA4.III.2.6, any functor that is both continuous and cocontinuous gives rise to a morphism of topoi $(f^\\\\ast, f_\\\\ast)$ where $f^\\\\ast$ has a left adjoint.</p>\\r\\n <p>Here is how I like to understand the Weil pairing.</p>\\r\\n\\r\\n<p>The dual of an abelian variety $A$ is the scheme $\\\\hat{A} = \\\\mathrm{Hom}(A, B\\\\mathbf{G}_m)$.  Here $B\\\\mathbf{G}_m$ is the stack of line bundles and $\\\\mathrm{Hom}$ refers to homomorphisms of group stacks.  One therefore has a perfect pairing</p>\\r\\n\\r\\n<p>$A \\\\times \\\\hat{A} \\\\rightarrow B\\\\mathbf{G}_m$.</p>\\r\\n\\r\\n<p>This actually means something relatively concrete:  For each pair of points $(a, a\\') \\\\in A \\\\times \\\\hat{A}$ one has a one dimensional vector space $L(a,a\\')$, together with isomorphisms</p>\\r\\n\\r\\n<p>$L(a_1 + a_2, a\\') \\\\simeq L(a_1, a\\') \\\\otimes L(a_2, a\\')$,</p>\\r\\n\\r\\n<p>$L(a, a\\'_1 + a\\'_2) \\\\simeq L(a, a\\'_1) \\\\otimes L(a, a\\'_2)$</p>\\r\\n\\r\\n<p>satisfying some compatibility conditions (you can find the details of this definition under the heading of biextensions; there is a nice explanation in SGA7).  One of these compatibilities is that the two isomorphisms</p>\\r\\n\\r\\n<p>$L(a_1 + a_2, a\\'_1 + a\\'_2) \\\\simeq L(a_1, a\\'_1) \\\\otimes L(a_1, a\\'_2) \\\\otimes L(a_2, a\\'_1) \\\\otimes L(a_2, a\\'_2)$</p>\\r\\n\\r\\n<p>should coincide.</p>\\r\\n\\r\\n<p>One consequence of the definition is that $L(0, a\\') = L(0 + 0, a\\') \\\\simeq L(0, a\\') \\\\otimes L(0, a\\')$ which means that $L(0, a\\')$ is canonically trivialized, as is $L(a, 0)$ by symmetry.  Moreover, the two trivializations of $L(0,0)$ must be the same.</p>\\r\\n\\r\\n<p>If we choose an $n$-torsion point $a$ of $A$ then $L(a, a\\')$ will be a line bundle with a trivialization of its $n$-th tensor power.  Similarly, if $a\\'$ is also an $n$-torsion point then $L(a,a\\')^{\\\\otimes n}$ will come with <i>two</i> trivializations coming from its identification with the canonically trivialized line bundles $L(na, a\\') = L(0,a\\')$ and $L(a, na\\') = L(a,0)$.  Comparing these two trivializations, we get an element of $\\\\mathbf{G}_m$ and therefore a pairing</p>\\r\\n\\r\\n<p>$A[n] \\\\times \\\\hat{A}[n] \\\\rightarrow \\\\mathbf{G}_m$.</p>\\r\\n\\r\\n<p>However, we notice that the induced trivializations of $L^{\\\\otimes n^2} \\\\simeq L(na, na\\')$ must coincide.  Therefore the image of this map actually lands in $\\\\mathbf{G}_m[n] = \\\\mu_n$.  This gives the Weil pairing</p>\\r\\n\\r\\n<p>$A[n] \\\\times \\\\hat{A}[n] \\\\rightarrow \\\\mu_n$.</p>\\r\\n\\r\\n<p>I don\\'t know of a way to interpret the Hilbert symbol in quite this way, but I\\'d be very interested if someone could suggest one! </p>\\r\\n <p>This seems to be a statement about the classification of connections without torsion.  If $\\\\nabla$ and $\\\\nabla\\'$ are connections without torsion then $\\\\varphi = \\\\nabla - \\\\nabla\\'$ is a symmetric, linear function $S^2(TX) \\\\rightarrow TX$.  If you want to classify connections without torsion you observe that they exist locally and that the data needed to glue local instances comes from $\\\\mathrm{Hom}(S^2(TX),TX)$.  Therefore the obstruction to gluing is a &#268;ech 1-cocycle (i.e., a torsor) valued in $\\\\mathrm{Hom}(S^2(TX), TX)$.</p>\\r\\n <p>Niels already links to references that answer the question, but I\\'ll briefly summarize them.</p>\\r\\n\\r\\n<p>If $X$ is a stack presented by a groupoid $X_1 \\\\rightrightarrows X_0$ then a map from a scheme $S$ into $X$ induces a groupoid presentation $S \\\\mathop{\\\\times}_X X_1 \\\\rightrightarrows S \\\\mathop{\\\\times}_X X_0$ of $S$.  Conversely, suppose that we have a groupoid presentation $S_1 \\\\rightrightarrows S_0$ of $S$ and compatible maps $S_i \\\\rightarrow X_i$ (such that the two maps $S_1 \\\\rightarrow S_0$ are induced by pullback from the two maps $X_1 \\\\rightarrow X_0$) then there is an induced map $S \\\\rightarrow X$.</p>\\r\\n\\r\\n<p>The associated stack of the groupoid $X_\\\\bullet$ is therefore the fibered category $X$ for which $X(S)$ is the category of groupoid presentations of $S$ with a map to $X_\\\\bullet$ satisfying the above parenthetical condition.</p>\\r\\n <p>I believe the number is 12.</p>\\r\\n\\r\\n<p>I will assume the characteristic of the base field is not 2 or 3 so that I can use $\\\\overline{\\\\mathcal{M}}_{1,1} \\\\simeq \\\\mathbf{P}(4,6)$.  Recall that $\\\\mathbf{P}(4,6)$ is constructed by dividing $V = \\\\mathbf{A}^2 \\\\smallsetminus \\\\{ (0,0) \\\\}$ by the weight $(4,6)$-action of $\\\\mathbf{G}_m$.</p>\\r\\n\\r\\n<p>The line bundle $\\\\mathcal{O}(1)$ (which coincides with the Hodge bundle and generates the Picard group) can be constructed as the equivariant line bundle $V \\\\times \\\\mathbf{A}^1$ on $V$ with $\\\\mathbf{G}_m$ acting by weights $(4,6,1)$.  Then $\\\\mathcal{O}(4)$ has a canonical section $g_4$ and $\\\\mathcal{O}(6)$ has the section $g_6$.  In $\\\\mathcal{O}(12)$ we have the two sections</p>\\r\\n\\r\\n<p>$1728 g_4^3$</p>\\r\\n\\r\\n<p>$\\\\Delta = g_4^3 - 27 g_6^2$.</p>\\r\\n\\r\\n<p>This linear series defines $j : \\\\mathbf{P}(4,6) \\\\rightarrow \\\\mathbf{P}^1$.</p>\\r\\n\\r\\n<p>Note that $j$ has degree $1/2$ because of the generic automorphism on $\\\\mathbf{P}(4,6)$.  That is, $j_\\\\ast j^\\\\ast$ is multiplication by $1/2$.  Thus the Hodge class $\\\\lambda$ satisfies</p>\\r\\n\\r\\n<p>$\\\\int_{\\\\overline{\\\\mathcal{M}}_{1,1}} \\\\lambda = \\\\int_{\\\\mathbf{P}(4,6)} c_1(\\\\mathcal{O}(1))\\r\\n= \\\\frac{1}{12} \\\\int_{\\\\mathbf{P}(4,6)} c_1(j^\\\\ast \\\\mathcal{O}(1)) = \\\\frac{1}{12} \\\\int_{\\\\mathbf{P}^1} j_\\\\ast j^\\\\ast c_1(\\\\mathcal{O}(1)) = \\\\frac{1}{24}$.</p>\\r\\n\\r\\n<p>Another thing that may be confusing here is that $j$ is generically unramified, so that a local equation for a point in $\\\\mathbf{P}^1$ pulls back under $j$ to a local equation in $\\\\overline{\\\\mathcal{M}}_{1,1}$.  Thus $j^\\\\ast \\\\Delta = \\\\delta$ (if $\\\\Delta$ denotes the boundary in the coarse moduli space and $\\\\delta$ the boundary in the stack).  </p>\\r\\n <p>The algebro-geometric definition does translate, almost literally.  John Klein\\'s comment to Martin\\'s question provides one way of doing the translation.</p>\\r\\n\\r\\n<p>Let $X$ be a manifold.  Define a contravariant functor $F$ on manifolds by taking $F(Y)$ to be the set of pairs $(f, \\\\delta)$ where $f : Y \\\\rightarrow X$ is a morphism of manifolds and $\\\\delta : C^\\\\infty(X) \\\\rightarrow C^\\\\infty(Y)$ is a derivation with respect to the module structure on $C^\\\\infty(Y)$ induced from $f$.  Then $F$ is representable by $TX$.</p>\\r\\n\\r\\n<p>Alternately, you may think of an element of $F(Y)$ as an extension of $f : Y \\\\rightarrow X$ to a map of ringed spaces $Y[\\\\epsilon] \\\\rightarrow X$ where $Y[\\\\epsilon]$ is the space $Y$, ringed by $C^\\\\infty(Y)[\\\\epsilon] / (\\\\epsilon^2)$.</p>\\r\\n <p>Bhargav Bhatt has recently proved a remarkable algebraization theorem:</p>\\r\\n\\r\\n<p><a href=\"http://arxiv.org/abs/1404.7483\" rel=\"nofollow\">http://arxiv.org/abs/1404.7483</a></p>\\r\\n\\r\\n<p>It implies that formal maps into quasi-compact, quasi-separated schemes may be algebraized.  Another version of this result (with slightly different hypotheses) has been proved by Hall and Rydh:</p>\\r\\n\\r\\n<p><a href=\"http://arxiv.org/abs/1405.7680\" rel=\"nofollow\">http://arxiv.org/abs/1405.7680</a></p>\\r\\n <p>The automorphism group of $\\\\overline{\\\\mathbf Q}$ is equipped with a topology, induced by viewing it as a subset of the permutation group of an infinite set.  There is a basis of open neighborhoods in which the stabilizer of a finite subset of $\\\\overline{\\\\mathbf Q}$ is considered to be open.  This is the same as the profinite topology.</p>\\r\\n'"
      ]
     },
     "execution_count": 60,
     "metadata": {},
     "output_type": "execute_result"
    }
   ],
   "source": [
    "user_answers.iloc[6,0]"
   ]
  },
  {
   "cell_type": "code",
   "execution_count": 61,
   "metadata": {
    "collapsed": true
   },
   "outputs": [],
   "source": [
    "import re\n",
    "def cleanhtml(raw_html):\n",
    "    #clean HTML tags\n",
    "    cleanr = re.compile('<.*?>')\n",
    "    cleantext = re.sub(cleanr, ' ', raw_html)\n",
    "    return cleantext"
   ]
  },
  {
   "cell_type": "code",
   "execution_count": 62,
   "metadata": {
    "collapsed": true
   },
   "outputs": [],
   "source": [
    "user_answers.iloc[:,0]=user_answers.iloc[:,0].apply(cleanhtml)"
   ]
  },
  {
   "cell_type": "code",
   "execution_count": 63,
   "metadata": {
    "collapsed": false
   },
   "outputs": [
    {
     "data": {
      "text/plain": [
       "' Here\\'s a reduction to the finite dimensional case.  Let $F$ be a finite set of subspaces of $X$.  For each finite dimensional subspace $Y$ of $X$, let $u(Y)$ be the set of elements $Z$ of $F$ such that $Y$ is contained in $Z$.  By assumption, $u(Y)$ is non-empty for every $Y$.  Since any two finite dimensional subspaces are contained in a third, the intersection of the sets $u(Y)$, as $Y$ runs among all finite dimensional subspaces of $X$, is non-empty.  Hence there is at least one set in $F$ that contains every finite dimensional subspace of $X$, hence contains $X$. \\r\\n\\r\\n For the finite dimensional case, let $F$ be a finite set of subspaces of $X$.  By induction, every codimension 1 subspace of $X$ is contained in some $Y$ from $F$.  But there are infinitely many codimension $1$ subspaces, so some $Y$ in $F$ contains more than one such subspace.  Any two distinct codimension 1 subspaces $\\\\operatorname{span} X$ (if $\\\\dim X &gt; 1$) so $Y = X$. \\r\\n  A variation on Ishai\\'s example is a closed embedding: its sheaf of relative differentials is  0 , hence free of finite rank, even though it needn\\'t be smooth. \\r\\n\\r\\n However,  k[e] / e^2  over  k  is not actually a counterexample (except in characteristic  2 ).  The module of relative differentials of  Spec k[e] / e^2  over  Spec k  is not free if the characteristic of  k  is not 2.  Let  A = k[e]  and  B = k[e] / e^2 .  Then  \\r\\n\\r\\n  Omega_B = Omega_A (x) B / d(e^2) = k[e] / (e^2, 2e)\\r\\n  \\r\\n\\r\\n via the isomorphism  Omega_A --&gt; A : dt --&gt; 1 .  This is not isomorphic to  B  unless  2 = 0 . \\r\\n\\r\\n On the other hand, you can conclude that  B  is smooth if its cotangent complex is a vector bundle in degree 0.  In the case of  k[e] / e^2 , the cotangent complex is  \\r\\n\\r\\n  [ I_{B/A} / I_{B/A}^2 ---&gt; Omega_A (x) B ] = [ e^2 A / e^4 A ---&gt; B de ]\\r\\n  \\r\\n\\r\\n in degrees  [-1,0]  and the differential is the universal derivation.  (I write  I_{B/A}  for the ideal of  B  in  A .)  Even in characteristic  2 , the differential has a kernel, so the cotangent complex is not concentrated in degree  0 . \\r\\n  (My girlfriend explained this to me.)  After Anton\\'s observation, it\\'s sufficient to show that  f = id  if  f  fixes more than half of  G .  But the elements of  G  fixed by an automorphism form a group and this group has index less than  2  by assumption, hence is all of  G . \\r\\n  I think it\\'s okay if you rephrase like this: let X be a scheme with ring of fractions R.  Then the normalization of X is the universal example of a normal scheme with ring of fractions R mapping to X. \\r\\n  It is fruitful to think of Ext^1 as a generalization of Hom.  If A and B are objects of an abelian category, the set Hom(A,B) has the structure of an abelian group.  Here is one way to define the group law: any two maps A --> B induce a map A x A --> B x B.  This induces a sequence \\r\\n\\r\\n  A --&gt; A x A --&gt; B x B --&gt; B\\r\\n  \\r\\n\\r\\n where the first map is the diagonal and the last is the codiagonal (the addition map).  The composition is the sum.  (What we are using here is that finite products and finite direct sums coincide in an abelian category; in fact, this can be taken as the definition of an abelian category.) \\r\\n\\r\\n We have used three properties of Hom to construct the addition map: Hom is covariant in the second variable, contravariant in the first, and comes with a canonical map  \\r\\n\\r\\n  Hom(A,B) x Hom(A\\',B\\') --&gt; Hom(A x A\\', B x B\\')\\r\\n  \\r\\n\\r\\n (plus some compatibilities which I have suppressed).  If we define Ext^1(A,B) to be the category of extensions  \\r\\n\\r\\n  0 --&gt; B --&gt; E --&gt; A --&gt; 0\\r\\n  \\r\\n\\r\\n we see that it also has these properties (using base change for the variable A and pushout for the variable B).  Thus we get a group law on the  category  Ext^1(A,B).  Passing to isomorphism classes gives the usual group law on the  set  Ext^1(A,B). \\r\\n\\r\\n The zero object of Ext^1(A,B) also corresponds nicely to the zero object of Hom(A,B).  In the latter case it is constructed by pushing forward the unique map A --> 0 via the unique map 0 --> B.  For Ext^1(A,B), we push forward the unique extension of A by 0  \\r\\n\\r\\n  0 --&gt; 0 --&gt; A --&gt; A --&gt; 0\\r\\n  \\r\\n\\r\\n by the unique map 0 --> B and get \\r\\n\\r\\n  0 --&gt; B --&gt; B x A --&gt; A --&gt; 0.\\r\\n  \\r\\n\\r\\n So an extension of A by B is zero if and only if it admits a splitting.  Thus in the category of vector spaces over a field, Ext^1(A,B) is always zero because can always be split. \\r\\n  Virtually every page I\\'ve read of EGA/SGA has been useful to me, and almost every page I\\'ve skimmed I\\'ve later wished I\\'d read in more detail.  The reputation for difficulty is, I think, unfounded.  They are certainly abstract, but virtually every detail is present; in many ways, that makes EGA/SGA easier to read than other sources.  Opening a volume and reading a sub-paragraph from the middle can be difficult because of all the back-references, but reading linearly can be very pleasant and rewarding.  The French language may be a barrier for some, but one doesn\\'t have to \"learn French\" to learn enough to understand EGA. \\r\\n  A representation of G on a vector space V is a descent datum for V, viewed as a vector bundle over a point, to BG.  That is, linear representations of G are \"the same\" as vector bundles on BG.  So the question is equivalent to the analogous question about deformations of vector bundles on BG.  We could just as easily ask about deformations of vector bundles on any space X. \\r\\n\\r\\n Given a vector bundle V on X, consider the category of all first-order deformations of V.  An object is a vector bundle over X\\', where X\\' is an infinitesimal thickening (in the example, one may take X = BG x E where E is a local Artin ring and X\\' = BG x E\\' where E\\' is a square-zero extension whose ideal is isomorphic as a module to the residue field).  A morphism is a morphism of vector bundles on X\\' that induces the identity morphism on V over X. \\r\\n\\r\\n If X is allowed to vary, this category varies contravariantly with X.  Vector bundles satisfy fppf descent, so this forms a fppf stack over X. \\r\\n\\r\\n This stack is very special: locally it has a section (fppf locally a deformation exists) and any two sections are locally isomorphic.  It is therefore a  gerbe .  Moreover, the isomorphism group between any two deformations of V is  canonically  a torsor under the group End(V) (this is fun to check).   \\r\\n\\r\\n Gerbes banded by an abelian group H are classified by H^2(X,H) (this is also fun to check); the class is zero if and only if the gerbe has a section.  If the gerbe has a section, the isomorphism classes of sections form a torsor under H^1(X,H).  The isomorphisms between any two sections form a torsor under H^0(X,H).  (This implies that the automorphism group of any section is H^0(X,H).) \\r\\n\\r\\n In our case, H = End(V), so we obtain a class in H^2(X,End(V)) and if this class is zero, our gerbe has a section, i.e., a deformation exists.  In this case, all deformations form a torsor under H^1(X,End(V)), and the automorphism group of a deformation is H^0(X,End(V)). \\r\\n\\r\\n All of the cohomology groups above are sheaf cohomology in the fppf topology.  If you are using a different definition of group cohomology, there is still something to check. \\r\\n  Anton\\'s example can be modified to avoid the \"empty set\".  Here\\'s one way: let X be the category associated to the partially ordered set \\r\\n\\r\\n a &le; b &le; c &le; e \\r\\n\\r\\n b &le; d &le; e \\r\\n\\r\\n Give this the minimal topology in which c and e cover d and a covers b.  Let F be the presheaf with F(a) = 1, F(b) = F(c) = F(d) = S, F(e) = &empty;.  Then F + (b) = 1, F + (c) = F + (d) = F + (e) = S.  This is not a sheaf, since F ++ (e) = S x S. \\r\\n\\r\\n Of course, all I have done is to introduce an object a to play the role of the empty cover in Anton\\'s example.  It\\'s probably worth remarking, however, that what makes the empty  set  empty (from the point of view of sheaves) is that it is covered by the empty  cover .  In fact, the usual topology on the category of open subsets of {p,q} can be modified so that the empty subset is not covered by the empty cover.  With respect to this topology, the presheaf F that Anton defined is already a sheaf. \\r\\n  Let $X$ be a topological space, and $T$ its category of open sets with the usual Grothendieck topology.  Let $T\\'$ be any sieve of $T$ (a subcategory of $T$ such that if $U$ is in $T\\'$ then any subset of $U$ is also in $T\\'$).  For example, $T\\'$ might be the collection of open subsets subordinate to the open subsets in a cover $\\\\mathcal{U}$.  Any sheaf on $T$ induces a functor on $T\\'$ which can be viewed as a sheaf on $T\\'$ if $T\\'$ is given the minimal topology (the only covers are the identity maps).  This determines a morphism of topoi $f : T \\\\rightarrow T\\'$, hence a spectral sequence \\r\\n\\r\\n $H^p(T\\', R^q f\\\\_\\\\ast F) \\\\Rightarrow H^{p+q}(T, F)$ . \\r\\n\\r\\n (One could surely also convince oneself that such a spectral sequence exists without any reference to topoi.) \\r\\n\\r\\n The Cech cohomology of $F$ with respect to some covering family $\\\\mathcal{U}$ is  \\r\\n\\r\\n $H^p(\\\\mathcal{U}, F) = H^p(T\\', f\\\\_\\\\ast F)$ \\r\\n\\r\\n where $T\\' = T\\'(U)$ is the sieve associated to the cover $\\\\mathcal{U}$.  The Cech cohomology is then the filtered colimit \\r\\n\\r\\n $\\\\check{H}^p(T, F) = \\\\varinjlim\\\\_{(T\\',f)} H^p(T\\', f\\\\_\\\\ast F)$ \\r\\n\\r\\n taken over the projections $f : T \\\\rightarrow T\\'$ associated as above to covering families $\\\\mathcal{U}$. \\r\\n\\r\\n One evidently has edge homomorphisms \\r\\n\\r\\n $\\\\check{H}^p(T, F) \\\\rightarrow H^p(T, F)$ \\r\\n\\r\\n from the spectral sequence, and the question is when these induce an isomorphism.  If we could somehow eliminate the $R^p f\\\\_\\\\ast F$, $p &gt; 0$, by passing to a \"small enough\" cover we would have equality.  This condition already holds in many cases; the following condition is more general (but I haven\\'t checked carefully that it actually works!): \\r\\n\\r\\n For every cover $\\\\mathcal{U}$ of $X$, every $U\\\\_1, \\\\ldots, U\\\\_n \\\\in \\\\mathcal{U}$, and every class in $\\\\alpha \\\\in H^p(U\\\\_1 \\\\mathop{\\\\times}\\\\_X \\\\cdots \\\\mathop{\\\\times}\\\\_X U\\\\_n, F)$, $p &gt; 0$, there exists a refinement $\\\\mathcal{U}\\'$ of $\\\\mathcal{U}$ such that the restriction of $\\\\alpha$ under the map \\r\\n\\r\\n $H^p(U\\\\_1 \\\\mathop{\\\\times}\\\\_X \\\\cdots \\\\mathop{\\\\times}\\\\_X U\\\\_n, F) \\\\rightarrow H^p(U\\'\\\\_1 \\\\mathop{\\\\times}\\\\_X \\\\cdots \\\\mathop{\\\\times}\\\\_X U\\'\\\\_n, F)$ \\r\\n\\r\\n is zero. \\r\\n\\r\\n To make sense of this, one must use some convention for the covers $\\\\mathcal{U}$ and $\\\\mathcal{U}\\'$ to ensure there is a map as above.  For example, one could work only with covers indexed by the points of $X$ (a cover is then a collection of neighborhoods of each point of $X$). \\r\\n\\r\\n A more refined version of the above condition would say that Cech cohomology equals cohomology in degrees at most $q$ if the above condition holds for $p \\\\leq q$.  Since it always holds for $p = 0,1$ this implies that \\r\\n\\r\\n $\\\\check{H}^1(T, F) = H^1(T, F)$  \\r\\n\\r\\n in general. \\r\\n\\r\\n  Edit in response to David\\'s comment:  \\r\\n\\r\\n The Cech complex always computes cohomology correctly in a presheaf category (i.e., when the topology is \"chaotic\": an object has no covers by anything except itself).  Trying to compute cohomology in an arbitrary site using the Cech complex is (heuristically) something like trying to approximate the site by a presheaf category. \\r\\n\\r\\n Here is how Cech cohomology computes cohomology of presheaves.  Consider any category $T\\'$.  If $F$ is a presheaf of groups on $T\\'$ then the sheaf cohomology groups of $F$ are the derived functors of the inverse limit for diagrams of shape $T\\'$.  They are also computed as \\r\\n\\r\\n $Ext(\\\\mathbf{Z}, F)$ \\r\\n\\r\\n where $\\\\mathbf{Z}$ is the constant sheaf associated to the integers.  Remarkably, in a presheaf category, $\\\\mathbf{Z}$ has a canonical projective resolution associated to any cover of the final presheaf.  A cover of the final presheaf is a collection of objects $U$ of $T\\'$ such that every object of $T\\'$ has a map to at least one object of $U$.  The $i$-th term of this complex is the direct sum, over all choices of $i$ elements $U_1, ..., U_i$ of $U$, of the groups $\\\\mathbf{Z}_{U_1 \\\\times \\\\cdots \\\\times U_i}$.  (You can check this is projective by noting it is the extension by $0$ of $\\\\mathbf{Z}$ from the slice category $T\\' / U_1 \\\\times \\\\cdots \\\\times U_i$ and extension by $0$ preserves projectives (since it has an exact right adjoint) and $\\\\mathbf{Z}$ is projective on the slice category since all higher cohomology of all sheaves vanishes (since it has a final object).  It\\'s also easy to check by a direct calculation.)  \\r\\n\\r\\n Denote this complex by $K$.  Since this is a projective resolution of $\\\\mathbf{Z}$, $\\\\mathrm{Hom}(K, F)$ computes the cohomology of $F$.  But it is also easy to see that this is just the Cech complex of $F$. \\r\\n  A presheaf $F$ with values in $C$ is a called a sheaf if, for every object $X$ and every covering sieve $R$ of $X$, the natural maps \\r\\n\\r\\n $F(X) \\\\rightarrow F(Y)$ \\r\\n\\r\\n for each Y in R induce an isomorphism \\r\\n\\r\\n $F(X) \\\\xrightarrow{\\\\sim} \\\\varprojlim_{Y \\\\in R} F(Y)$ \\r\\n\\r\\n This definition makes sense without any assumptions on $C$. \\r\\n\\r\\n The sheafification construction makes use of filtered colimits and essentially arbitrary limits (if you are interested in sheaves on a particular topology then you might be able to restrict the class of limits that need to be considered).  It is defined by iterating the construction \\r\\n\\r\\n $F^+(X) = \\\\varinjlim_{R} \\\\varprojlim_{Y \\\\in R} F(Y)$ \\r\\n\\r\\n where the $\\\\varinjlim$ is taken over covering sieves of $X$.  If $F$ is set-valued, the associated sheaf of $F$ is $F^{++}$. \\r\\n\\r\\n I don\\'t know what conditions on $C$ are necessary to make the sheafification of a presheaf in $C$ a sheaf, but I wouldn\\'t expect the construction to behave very well unless $C$ is a fairly special category. \\r\\n\\r\\n (Categories of algebraic structures on sets defined by finite inverse limits would qualify as \"special\", essentially because filtered colimits commute with finite inverse limits.) \\r\\n  First a correction: the cotangent complex of a local complete intersection embedding is concentrated in degree -1, not in degree 1. \\r\\n\\r\\n In general, the cotangent complex of an algebraic space can be supported in arbitrary non-positive degrees.  The cotangent complex of an Artin stack can be nonzero in degree 1.  The degrees in which the cotangent complex is concentrated imply various things about a morphism of schemes: \\r\\n\\r\\n it is perfect in degree 0 if and only if the map is smooth; \\r\\n\\r\\n it is perfect in $[-1,0]$ if and only if the map is lci; \\r\\n\\r\\n $H^1 = 0$ if and only if it is a DM stack; \\r\\n\\r\\n $H^0 = H^1 = 0$ if and only if it is an etale local immersion. \\r\\n\\r\\n Other people have already said some things about the relationship to deformation theory.  The cotangent complex actually has two immediate relationships to deformation theory: one to the deformations of morphisms and one to the deformation of spaces. \\r\\n\\r\\n In what\\'s written below, $L_X$ is the absolute cotangent complex and $L_{X/S}$ is the relative cotangent complex. \\r\\n\\r\\n If $f : S \\\\to X$ is a map of schemes and $S\\'$ is a square-zero extension of $S$ with ideal $J$, there is an obstruction to extending $f$ to $S\\'$ in the group $Ext^1(f^\\\\ast L_X, J)$.  If this obstruction vanishes, such extensions have a canonical structure of a torsor under $Ext^0(f^\\\\ast L_X, J)$. \\r\\n\\r\\n If $p : X\\\\to S$ is a morphism, $S\\'$ is a square-zero extension with ideal $J$, and $p^\\\\ast J \\\\rightarrow I$ is a homomorphism of quasi-coherent sheaves on $X$, then the problem of finding a square-zero extension $X\\'$ with ideal $I$ and a map $X\\' \\\\to S\\'$ extending $X \\\\to S$ compatible with the given map on ideals is obstructed by a class in $Ext^2(L_{X/S}, I)$.  If this class is zero, isomorphism classes of solutions form a torsor under $Ext^1(L_{X/S}, I)$ and isomorphisms between any two solutions form a torsor under $Ext^0(L_{X/S}, I)$. \\r\\n  Since ${\\\\bf P}^n$ is the quotient of ${\\\\bf A}^{n+1} - 0$ by the action of ${\\\\bf G}_m$, the tangent bundle of ${\\\\bf P}^n$ is the quotient of the tangent bundle of ${\\\\bf A}^{n+1} - 0$ by the action of the tangent bundle of ${\\\\bf G}_m$: \\r\\n\\r\\n $T {\\\\bf P}^n = T ({\\\\bf A}^{n+1} - 0) / T {\\\\bf G}_m$ . \\r\\n\\r\\n As a group, the tangent bundle of ${\\\\bf G}_m$ is the product of ${\\\\bf G}_m$ and a 1-dimensional vector space V.  Therefore we can take the quotient of everything on the right side above by ${\\\\bf G}_m$.  Note that $T({\\\\bf A}^{n+1}-0)$ is the product of ${\\\\bf A}^{n+1} - 0$ with the direct sum of (n+1) copies of the weight one representation of ${\\\\bf G}_m$.  Therefore its quotient by ${\\\\bf G}_m$ is $\\\\mathcal{O}_{{\\\\bf P}^n}(1)^{n+1}$.  We get \\r\\n\\r\\n $T {\\\\bf P}^n = \\\\mathcal{O}_{{\\\\bf P}^n}(1)^{n+1} / V$ . \\r\\n\\r\\n A (linear) action of a one-dimensional vector space on a vector bundle is the same thing as an exact sequence, so this gives the Euler sequence. \\r\\n  When I\\'m stuck on a problem, I practice writing letters in various fonts.  I suppose this isn\\'t up to par with other mathematicians\\' doodles (I\\'m told Riemann would calculate the cube root of 3), but it keeps my handwriting reasonably neat. \\r\\n  This is probably neither the sort of infinity nor the sort of simplification you\\'re looking for, but B&eacute;zout\\'s theorem is a challenge to prove, let alone state, without a line at infinity.  I don\\'t know if it would be suitable for a general audience either, but in its favor, it has a very nice statement using both the infinite and the infinitesimal (i.e., contact multiplicity). \\r\\n  Displayed formulas can serve two roles in a math paper: as abbreviations for text that would otherwise be unreadable, and as figures (or illustrations) that are referred to by the text but are not part of it grammatically.  My opinion is that in the former case they should be punctuated, but in the latter they should not. \\r\\n\\r\\n Here are some examples. \\r\\n\\r\\n 1) If $x$ and $y$ are the coordinates of a point on a circle of radius $r$ then \\r\\n\\r\\n $x^2 + y^2 = r^2$. \\r\\n\\r\\n 2) The coordinates of a point of a circle of radius $r$ satisfy the following equation. \\r\\n\\r\\n $x^2 + y^2 = r^2$ \\r\\n\\r\\n 3) The following diagram commutes. \\r\\n\\r\\n (diagram without any punctuation) \\r\\n\\r\\n I think these examples demonstrate the necessity of distinguishing the two roles a displayed equation can play.  As Simon already pointed out above, there is no reasonable place to put a punctuation mark in a commutative diagram, presumably because a commutative diagram can\\'t be read aloud.  On the other hand, it\\'s difficult to view the sentence in the first example as complete without a period at the end of the equation. \\r\\n\\r\\n I suggest the following rule of thumb: if the formula can be removed from the text without breaking the flow of a sentence, then it does not need to punctuated.  Otherwise, it should be punctuated as it would be if the symbols were expanded into words. \\r\\n\\r\\n \\r\\n\\r\\n Many authors use a colon where I used a period in the second example and follow the equation with a period. \\r\\n\\r\\n 2\\') The coordinates of a point on circle of radius $r$ satisfy the following equation: \\r\\n\\r\\n $x^2 + y^2 = r^2$. \\r\\n\\r\\n I don\\'t consider this incorrect, but I do consider it a completely different sentence from 2). \\r\\n  Restriction to an open subset has an exact left adjoint (extension by zero). \\r\\n  There\\'s a proof of the snake lemma without elements (a non-elementary proof?) on my (old) website. \\r\\n\\r\\n  http://math.stanford.edu/~jonathan/papers/snake.pdf  \\r\\n\\r\\n  Edit : I added a section about the salamander lemma. \\r\\n\\r\\n  Much later edit :  As Charles Rezk points out below, my proof of the salamander lemma is correct only in a special case.  I will correct the proof when I find the tex file. \\r\\n\\r\\n What makes working with elements in an abelian category easier than working with objects is that elements of the target of an epimorphism can be lifted to the source.  If your abelian category has enough projectives, then a proof with elements can usually be adapted to one without elements by replacing each element by a surjection from a projective object.  If you don\\'t have enough projectives, you can still get by without elements.  You have to replace the concept of \"element\" with \"epimorphism from something\"; then every \"element\" can still be lifted by passing to a more refined epimorphism. \\r\\n\\r\\n This is just code for working locally in the topology generated by epimorphisms.  (That it is a topology is implied by AB2.)  Since there are always enough injective sheaves of abelian groups, this gives an exact embedding of any abelian category in an abelian category with enough injectives (or, if we work with \"cotopologies\", a category with enough projectives).  This permits one to apply the simpler approach outlined above (using projectives) rather than \"pro-epimorphisms\". \\r\\n\\r\\n Once one has an embedding in a Grothendieck abelian category (the category of sheaves of abelian groups always is one), it is not much further to a proof of Mitchell\\'s embedding theorem anyway. \\r\\n  Gromov--Witten invariants are designed to count the \"number\" of curves in a space in a deformation invariant way.  Since the number of curves can change under deformations, the Gromov--Witten invariants won\\'t have a direct interpretation in terms of actual numbers of curves, even taking automorphisms into account. \\r\\n\\r\\n Here is an example of how a negative number might come up, though strictly speaking it isn\\'t a Gromov--Witten invariant.  Let M be the moduli space of maps from P^1 to a the total space of O(-4) on P^1.  Call this space X.  Note that I said maps from P^1, not a genus zero curve, so the source curve is rigid.  That\\'s why this isn\\'t Gromov--Witten theory.  Any such map factors through the zero section (since O(-4) has no nonzero sections), so this space is the same as the space of maps from P^1 to itself.  I just want to look at degree one maps, so the moduli space is 3 dimensional. \\r\\n\\r\\n We could also compute the dimension using deformation theory: the deformations of a map f are classified by $H^0(f^\\\\ast T)$ where T is the tangent bundle of the target.  The target in this case is O(-4), not just P^1, and the tangent bundle restricts to O(2) + O(-4) on the zero section.  Thus $H^0(f^\\\\ast T)$ is indeed 3-dimensional, as we expected.  However, the Euler characteristic of $f^\\\\ast T$ is not 3 but 0, which means that the \"expected dimension\" is zero. \\r\\n\\r\\n The meaning of expected dimension is rather vague.  Roughly speaking, it is the dimension of the moduli space for a \"generic\" choice of deformation.  The trouble is that such a deformation might not actually exist.  Nevertheless, we can still pretend that a generic deformation does exist and, if the expected dimension is zero, compute the number of curves that it \"should\" have. \\r\\n\\r\\n What makes this possible is the obstruction bundle E on M.  Any deformation of X gives rise to a section of E and the vanishing locus of this section is the collection of curves that can be deformed to first order along with X.  Even though a generic deformation might not exist, the obstruction bundle does still exist, and we can make sense of the vanishing locus of a generic section by taking the top Chern class. \\r\\n\\r\\n In our situation, the (fiber of the) obstruction bundle is $H^1(f^\\\\ast T)$.  Since O(2) does not contribute to H^1, the obstruction bundle is $R^1 p_\\\\ast f^\\\\ast O_{P^1}(-4) = R^1 p_\\\\ast O_{P^3 \\\\times P^1}(-4, -4)$ where $p : P^3 \\\\times P^1 \\\\rightarrow P^3$ is the projection.  By the projection formula, this is $O(-4)^{\\\\oplus 3}$ and the top Chern class is -64.  This is the \"Gromov--Witten invariant\" of maps from P^1 to $O_{P^1}(-4)$. \\r\\n\\r\\n Unfortunately, I don\\'t have anything to say about what this -64 means... \\r\\n  I\\'m just going to consider the local rings with residue field $\\\\mathbf{F}_p$. \\r\\n\\r\\n Suppose A\\' is an extension of $\\\\mathbf{Z}/p$ with ideal $\\\\mathbf{Z}/p$.  If we take the fiber product with $\\\\mathbf{Z}$, we get an extension of $\\\\mathbf{Z}$ with ideal $\\\\mathbf{Z}/p$.  Up to isomorphism, there is only one such extension: $B\\' = \\\\mathbf{Z}[t] / (t^2, pt)$.  The kernel of the map from B\\' to A\\' is isomorphic to $\\\\mathbf{Z}$ and reduces modulo t to the ideal generated by p.  Therefore, the square-zero extensions of $\\\\mathbf{Z}/p$ are all isomorphic to $\\\\mathbf{Z}[t] / (t^2, pt, p + \\\\lambda t)$ for some $\\\\lambda \\\\not= 0$.  If $\\\\lambda$ is not a multiple of p, we get $\\\\mathbf{Z} / p^2$; if $\\\\lambda$ is a multiple of $p$, we get $\\\\mathbf{Z}[t] / (p, tp, t^2) = \\\\mathbf{F}_p[t] / t^2$.  So these are all the length 2 finite local rings with residue field $\\\\mathbf{F}_p$. \\r\\n\\r\\n For length 3, we\\'ll look for extensions of $\\\\mathbf{Z} / p^2$ by $\\\\mathbf{Z} / p$.  The same analysis shows that these are all of the form $\\\\mathbf{Z}[t] / (t^2, pt, p^2 + \\\\lambda t)$.  If $\\\\lambda$ is not divisible by $p$, we get $\\\\mathbf{Z} / p^3$ and if $\\\\lambda$ is divisible by $p$ we get $\\\\mathbf{Z}[t] / (p^2, pt, t^2)$. \\r\\n\\r\\n We also have to look for extensions of $\\\\mathbf{F}_p[t] / t^2$.  By base change, any such extension A\\' gives an extension B\\' of $\\\\mathbf{Z}[t]$ with ideal $\\\\mathbf{Z} / p$.  Once again, there is only one of these up to isomorphism (since $\\\\mathbf{Z}[t]$ is projective, for example) and it is given by $\\\\mathbf{Z}[t,u] / (u^2, pu, tu)$.  The ideal of the map from B\\' to A\\' generates the ideal of the map from $\\\\mathbf{Z}[t]$ to $\\\\mathbf{F}_p[t] / t^2$.  Since this is generated by p and t^2 the ideal of A\\' in B\\' is generated by $(p + \\\\lambda u, t^2 + \\\\mu u)$ and A\\' is of the form \\r\\n\\r\\n $\\\\mathbf{Z}[t,u] / (u^2, pu, tu, p + \\\\lambda u, t^2 + \\\\mu u)$ \\r\\n\\r\\n for some polynomials $\\\\lambda, \\\\mu \\\\in \\\\mathbf{Z}[t]$.   \\r\\n\\r\\n \\r\\n\\r\\n Edit: If $\\\\lambda$ is not in $(p, t)$ then it is invertible in the quotient, so we get  \\r\\n\\r\\n $\\\\mathbf{Z}[t,u] / (p^2, tp, t^2 + \\\\mu \\\\lambda^{-1} p)$. \\r\\n\\r\\n There are two possibilities up to isomorphism here, depending on whether $- \\\\mu \\\\lambda^{-1}$ is a quadratic residue modulo p. \\r\\n\\r\\n If $\\\\lambda$ is in $(p,t)$ we get \\r\\n\\r\\n $\\\\mathbf{Z}[t,u] / (u^2, pu, tu, p, t^2 + \\\\mu u) = \\\\mathbf{F}_p[t,u] / (u^2, tu, t^2 + \\\\mu u)$. \\r\\n\\r\\n The $\\\\mu$ is also not in $(p, t)$ then we get $\\\\mathbf{F}[t] / t^3$.  If $\\\\mu$ is in $(p,t)$ we get $\\\\mathbf{F}_p[t,u] / (u^2, tu, t^2)$. \\r\\n\\r\\n Modulo any mistake I made above, I think a complete list is of length 3 finite local rings with residue field $\\\\mathbf{F}_p$ is \\r\\n\\r\\n \\r\\n $\\\\mathbf{Z} / p^3$, \\r\\n $\\\\mathbf{Z}[t] / (p^2, pt, t^2)$, \\r\\n $\\\\mathbf{Z}[t] / (t^2 - p, t^3)$, \\r\\n $\\\\mathbf{Z}[t] / (t^2 - \\\\alpha p, t^3)$ where $\\\\alpha$ is a non-quadratic residue modulo $p$, \\r\\n $\\\\mathbf{F}_p[t] / t^3$, and \\r\\n $\\\\mathbf{F}_p[t,u] / (t,u)^2$. \\r\\n \\r\\n  Say X is a scheme and E is an $\\\\mathbf{A}^1$-linear scheme over X (a group scheme over X with an action of the sheaf of rings $\\\\mathbf{A}^1$).  You are asking when it is possible for E to be quasi-coherent.  If E is quasi-coherent and of finite type then it admits a surjection from a finite dimensional vector space F over X.  For any point $e \\\\in E$,  \\r\\n\\r\\n $\\\\dim_{p(e)} E + \\\\dim_e F = \\\\dim_{p(e)} F$. \\r\\n\\r\\n This implies that if the dimension of a fiber of E over X jumps, the dimension of the corresponding fiber of F over E must drop, which is impossible. \\r\\n  Fields are characterized in the category of rings by the property that an epimorphism whose source is a field must be an isomorphism.  The prime ideals of a ring can be identified with the epimorphisms from that ring to fields.  From a categorical perspective, the prime spectrum therefore seems a more natural object than the max. spectrum. \\r\\n\\r\\n I don\\'t have a good explanation for the Zariski topology.  It is the coarsest topology in which the maps induced by homomorphisms of rings are continuous and the origin in $\\\\mathbf{A}^1$ is closed.  This is not very satisfying, though. \\r\\n\\r\\n The real reason the Zariski topology is important is because descent works for lots of things.  For example, a module defined Zariski locally over a ring can be glued to give a module over the original ring.  I wonder if the Zariski topology is the finest topology (i.e., finest Grothendieck topology defined by covers by  subfunctors  subobjects) in which descent works for quasi-coherent sheaves.  Does anyone know? \\r\\n  Your derivation at the origin is a map $\\\\mathrm{Spec} k[\\\\epsilon] / \\\\epsilon^2 \\\\rightarrow G$ whose restriction to $\\\\epsilon = 0$ is the inclusion of the origin.  This induces a map  \\r\\n\\r\\n $G \\\\times_{\\\\mathrm{Spec} k} \\\\mathrm{Spec} k[\\\\epsilon]/\\\\epsilon^2 \\\\rightarrow G \\\\times G \\\\rightarrow G$ \\r\\n\\r\\n where the first map is the product with the map described above and the second is the multiplication map.  Dually, the composed map gives a map of sheaves of algebras \\r\\n\\r\\n $\\\\mathcal{O}_G \\\\rightarrow \\\\mathcal{O}_G[\\\\epsilon] / \\\\epsilon^2$ \\r\\n\\r\\n which is the same thing as a derivation from $\\\\mathcal{O}_G$ to itself. \\r\\n  If $X$ denotes the quotient sheaf $\\\\mathbf{G}_m / \\\\mathbf{Z}$ then the inclusion \\r\\n\\r\\n $\\\\mathbf{G}_m \\\\times_X \\\\mathbf{G}_m \\\\rightarrow \\\\mathbf{G}_m \\\\times \\\\mathbf{G}_m$ \\r\\n\\r\\n can be identified with the action map \\r\\n\\r\\n $\\\\mathbf{G}_m \\\\times \\\\mathbf{Z} \\\\rightarrow \\\\mathbf{G}_m \\\\times \\\\mathbf{G}_m$.   \\r\\n\\r\\n Since this map is not quasi-compact, $X$ is not quasi-separated, so it is not an algebraic space by Knutson\\'s definition. \\r\\n  Let me rephrase the question (and Ilya\\'s answer).  Given an arbitrary collection $X_i$ of schemes, is the functor (on affine schemes, say) \\r\\n\\r\\n $Y \\\\mapsto \\\\prod_i Hom(Y, X_i)$ \\r\\n\\r\\n representable by a scheme?  If the $X_i$ are all affine, the answer is yes, as explained in the statement of the question.  More generally, any filtered inverse system of schemes with essentially affine transition maps has an inverse limit in the category of schemes (this is in EGA IV.8).  The topology in that case is the inverse limit topology, by the way. \\r\\n\\r\\n It is easy to come up with examples of infinite products of non-separated schemes that are not representable by schemes.  This is because any scheme has a locally closed diagonal.  In other words, if $Y \\\\rightrightarrows Z$ is a pair of maps of schemes then the locus in $Y$ where the two maps coincide is locally closed in $Y$. \\r\\n\\r\\n Suppose $Z$ is the affine line with a doubled origin.  Every distinguished open subset of an affine scheme $Y$ occurs as the locus where two maps $Y \\\\rightrightarrows Z$ agree.  Let $X = \\\\prod_{i = 1}^\\\\infty Z$.  Every countable intersection of distinguished open subsets of $Y$ occurs as the locus where two maps $Y \\\\rightarrow X$ agree.  Not every countable intersection of open subsets is locally closed, however, so $X$ cannot be a scheme. \\r\\n\\r\\n Since the diagonal of an infinite product of separated schemes is closed, a more interesting question is whether an infinite product of separated schemes can be representable by a scheme.  Ilya\\'s example demonstrates that the answer is no. \\r\\n\\r\\n Let $Z = \\\\mathbf{A}^2 - 0$.  This represents the functor that sends $Spec A$ to the set of pairs $(x,y) \\\\in A^2$ generating the unit ideal.  The infinite product $X = \\\\prod_{i = 1}^\\\\infty Z$ represents the functor sending $A$ to the set of infinite collections of pairs $(x_i, y_i)$ generating the unit ideal.  Let $B$ be the ring $\\\\mathbf{Z}[x_i, y_i, a_i, b_i]_{i = 1}^\\\\infty / (a_i x_i + b_i y_i = 1)$.  There is an obvious map $Spec B \\\\rightarrow X$.  Any (nonempty) open subfunctor $U$ of $X$ determines an open subfunctor of $Spec B$, and this must contain a distinguished open subset defined by the invertibility of some $f \\\\in B$.  Since $f$ can involve at most finitely many of the variables, the open subset determined by $f$ must contain the pre-image of some open subset $U\\'$ in $\\\\prod_{i \\\\in I} Z$ for some finite set $I$.  Let $I\\'$ be the complement of $I$.  If we choose a closed point $t$ of $U\\'$ then $U$ contains the pre-image of $t$ as a closed subfunctor.  Since the pre-image of $t$ is $\\\\prod_{i \\\\in I\\'} Z \\\\cong X$ this shows that any open subfunctor of $X$ contains $X$ as a closed subfunctor. \\r\\n\\r\\n In particular, if $X$ is a scheme, any non-empty open affine contains a scheme isomorphic to $X$ as a closed subscheme.  A closed subscheme of an affine scheme is affine, so if $X$ is a scheme it is affine. \\r\\n\\r\\n Now we just have to show $X$ is not an affine scheme.   It is a subfunctor of $W = \\\\prod_{i = 1}^\\\\infty \\\\mathbf{A}^2$, so if $X$ is an affine scheme, it is locally closed in $W$.  Since $X$ is not contained in any closed subset of $W$ except $W$ itself, this means that $X$ is open in $W$.  But then $X$ can be defined in $W$ using only finitely many of the variables, which is impossible.  \\r\\n\\r\\n  Edit:   Laurent Moret-Bailly pointed out in the comments below that my argument above for this last point doesn\\'t make sense.  Here is a revision:  Suppose to the contrary that $X$ is an affine scheme.  Then the morphism $p : X \\\\rightarrow X$ that projects off a single factor is an affine morphism.  If we restrict this map to a closed fiber then we recover the projection from $Z$ to a point, which is certainly not affine.  Therefore $X$ could not have been affine in the first place. \\r\\n  I don\\'t know if this is in SGA IV.5, but that\\'s a good place to look for questions about Cech cohomology. \\r\\n\\r\\n As I described  here , the Cech cohomology with respect to a cover is the same as the sheaf cohomology in the sieve associated to that cover.  If $\\\\mathcal{U}$ is a cover of $X$, let $R$ be the category whose objects are maps $V \\\\rightarrow X$ that factor through some object in $\\\\mathcal{U}$.  Then \\r\\n\\r\\n $\\\\check{H}^p(\\\\mathcal{U}, F) = \\\\varprojlim^{(p)}_{R} F = Ext^p(\\\\mathbf{Z}_R, F)$ \\r\\n\\r\\n where $\\\\varprojlim^{(p)}$ is the $p$-th derived functor $\\\\varprojlim$.  This can be calculated by taking a projective resolution of $\\\\mathbf{Z}_R$.  Here are two ways to do it: \\r\\n\\r\\n $\\\\displaystyle K_p = \\\\sum_{i_1 &lt; i_2 &lt; \\\\cdots &lt; i_p} \\\\mathbf{Z}_{U_{i_1} \\\\cap \\\\cdots \\\\cap U_{i_p}}$ \\r\\n\\r\\n $\\\\displaystyle L_p = \\\\sum_{i_1, \\\\ldots, i_p} \\\\mathbf{Z}_{U_{i_1} \\\\cap \\\\cdots \\\\cap U_{i_p}}$.` \\r\\n\\r\\n One must check, of course, that these are indeed resolutions.  (I don\\'t have a slick explanation of why they are resolutions.  The best I can do is to say that these complexes are associated via the Dold--Kan correspondence to simplicial resolutions of the final presheaf on $R$.)  Taking $Hom$ into $F$ yields the two Cech complexes in question. \\r\\n  A Deligne--Mumford stack is an &eacute;tale-locally ringed topos that is locally equivalent to the &eacute;tale-locally ringed topos of an affine scheme.  A Deligne--Mumford stack is an algebraic space if its diagonal is an embedding. \\r\\n  I\\'m having a little trouble teasing out exactly what your question is, so I\\'ll just write some things about sheaves that seem related and hope they are helpful. \\r\\n\\r\\n Suppose $C$ is a site.  Let $\\\\hat{C}$ be its category of presheaves and $\\\\tilde{C}$ its category of sheaves.  The topology defined in SGA 4, II.5 is on $\\\\hat{C}$, not on $\\\\tilde{C}$ as you suggest in your question.  Its purpose is to give a topology on $\\\\hat{C}$ such that the category of sheaves on $\\\\hat{C}$ (that is, contravariant functors satisfying descent on the category of contravariant functors on $C$) should coincide with the category of sheaves on $C$ (i.e., $\\\\tilde{\\\\hat{C}} = \\\\tilde{C}$). \\r\\n\\r\\n You\\'ve got the condition for being bicovering backwards: a map of presheaves $H \\\\rightarrow G$ is called bicovering if it is covering (with respect to the topology on $C$) and its diagonal $H \\\\rightarrow H \\\\times_G H$ is also covering.  (What it means for a map of sheaves to be covering is that for any map $X \\\\rightarrow G$ with $X$ representable, the sieve of $X$ induced by $H \\\\times_G X$ should be covering.) \\r\\n\\r\\n A Grothendieck topology on $C$ is described by asking certain  subfunctors  (sieves) of objects of $C$ to be covering.  If $H$ is a subfunctor of $G$ then the relative diagonal map is automatically an epimorphism since it is an isomorphism (by definition).  The covering sieves of $X$ are the subfunctors of $X$ that become isomorphic to $X$ upon passing to associated sheaves. \\r\\n\\r\\n The bicovering business arises when one wants to study which arbitrary morphisms of presheaves (not just inclusions) become isomorphisms upon passing to associated sheaves.  The notion of a covering morphism of presheaves explains which morphisms become surjections of sheaves.  The question then remains: which morphisms become injections?  A map of sheaves is an injection if and only if its relative diagonal is a surjection, so the condition is that the relative diagonal be a covering map. \\r\\n  It is representable by an fpqc sheaf (SGA I.VIII.4.4).  Also, since the inverse limit of affine schemes has the inverse limit topology (EGA IV.8), the sheaf is locally of finite presentation.  Since the open subsets of an infinitesimal thickening of a scheme are the same as those of the original scheme, this functor is even formally &eacute;tale over $\\\\mathrm{Spec} \\\\:\\\\mathbf{Z}$.  It\\'s therefore just about as close as it could be to being an algebraic space without actually being one. \\r\\n\\r\\n What goes wrong is algebraization.  If $X$ is an algebraic space and you have a complete local ring $R$ then $\\\\mathrm{Hom}(\\\\mathrm{Spec}\\\\:R,X) = \\\\varprojlim_n  \\\\mathrm{Hom}(\\\\mathrm{Spec}\\\\:R_n,X)$ where the $R_n$ are the quotients of $R$ by powers of the maximal ideal.  It\\'s pretty clear that this equality doesn\\'t hold for the sheaf of open subsets. \\r\\n  I don\\'t think that Grothendieck topologies should be viewed as analogous to ordinary topologies.  It is true that a topology on a set induces various Grothendieck topologies on various categories, but so does every system of basic open neighborhoods.  In my opinion, it is more fruitful to think of a Grothendieck topology as the analogue of a system of basic open neighborhoods and a topos as the analogue of a topological space. \\r\\n\\r\\n Let me try to answer the following question, which may or may not be the question that is actually being asked: Why do we prefer topological spaces to systems of basic open neighborhoods, and topoi to Grothendieck topologies?  I think that the answer has to do with morphisms. \\r\\n\\r\\n To give a morphism of spaces with basic open neighborhoods, one must give a function that respects those neighborhoods.  One can\\'t, however, require that the pre-image of a basic open neighborhood be open.  Instead, one has to require that each point contained in the pre-image of a basic open neighborhood have a basic open neighborhood inside the pre-image. \\r\\n\\r\\n Not only is this definition more complicated than the one for topological spaces (and the extension to Grothendieck topologies is by no means obvious!), but there are multiple distinct but isomorphic systems of open neighborhoods on the same space.  A topology is a maximal system of open neighborhoods in a given isomorphism class, which makes it a \"best model\" for a particular notion of nearness. \\r\\n\\r\\n Another interpretation that makes this model appealing is that given a system of basic open neighborhoods, the open sets are the \"local properties\" (those that hold at a point if and only if they hold at all sufficiently nearby points).  (If one believes a slogan like \"there are two -1-categories: TRUE and FALSE\" then open sets are \"-1-sheaves\"; this completes the formal analogy with Grothendieck topologies and their associated topoi, which are their associated categories of \"0-sheaves\".) \\r\\n  I\\'ve surely misunderstood your question or made a simple mistake, but it seems to me that if $X$ is allowed to vary then $Z({\\\\rm QCoh}(X))$ is a sheaf in the Zariski topology---call it $\\\\underline{Z}_X$---and there is a morphism of sheaves $\\\\mathcal{O}_X \\\\rightarrow \\\\underline{Z}_X$.  It\\'s an isomorphism in general because it\\'s an isomorphism when $X$ is affine. \\r\\n\\r\\n  Edit:  Martin\\'s comment explains the simple mistake I made above, but I think it might be possible to salvage the argument.  I\\'m a little nervous about this though... \\r\\n\\r\\n Let $A_X$ be the smallest additive subcategory of the category of $\\\\mathcal{O}_X$-modules that contains ${\\\\rm QCoh}(X)$ and is closed under arbitrary products and kernels.  Any endomorphism of the identity functor of ${\\\\rm QCoh}(X)$ extends uniquely to an endomorphism of the identity functor of $A_X$ (since product and kernel are functors).  Therefore $Z(A_X) = Z({\\\\rm QCoh}(X))$. \\r\\n\\r\\n Since $f^{-1}$ commutes with arbitrary products and kernels, the categories $A_X$ for varying $X$ form a fibered category (actually a stack) over the Zariski site of $X$.   \\r\\n\\r\\n If $f : U \\\\rightarrow X$ and $G \\\\in A_U$ then $f_\\\\ast G \\\\in A_X$ (see the proof that the pushforward of a quasi-coherent sheaf under a quasi-compact, quasi-separated morphism is quasi-coherent in EGA(1971)I.6.7.1, taking into account that $f_\\\\ast$ commutes with arbitrary inverse limits).  If $U$ is an open embedding, this implies that $f^\\\\ast : A_X \\\\rightarrow A_U$ is essentially surjective (since $f^\\\\ast f_\\\\ast G = G$).  Therefore any endomorphism of the identity functor of $A_X$ can be restricted to an endomorphism of the identity functor of $A_U$.  Therefore as $X$ varies, $Z(A_X) = Z({\\\\rm QCoh}(X))$ forms a sheaf in the Zariski topology. \\r\\n\\r\\n  Edit 2:   I have to argue that $f_\\\\ast$ carries $A_U$ into $A_X$.  I\\'m mimicking the argument from EGA here, but I can\\'t see Martin\\'s objection. \\r\\n\\r\\n We can assume that $X$ is affine (since $A$ is a stack).  If $f$ is affine, this is because $f_\\\\ast$ commutes with arbitrary inverse limits and $f_\\\\ast$ carries ${\\\\rm QCoh}(U)$ into ${\\\\rm QCoh}(X)$.   \\r\\n\\r\\n Let $U_i$ be a cover of $U$ by open affines, and let $U_{ij}$ be the pairwise intersections.  Let $f_i$ and $f_{ij}$ be the restrictions of $f$.  Let $G_i = {f_i}_\\\\ast G_i \\\\big|_{U_i}$ and let $G_{ij} = {f_{ij}}_\\\\ast G \\\\big|_{U_{ij}}$.  Then \\r\\n\\r\\n $f_\\\\ast G = \\\\ker( \\\\prod_i G_i \\\\rightarrow \\\\prod_{ij} G_{ij} )$ \\r\\n\\r\\n and the $G_i$ are in $A_X$ because $U_i \\\\rightarrow X$ are affine.  If the $G_{ij}$ are also in $A_X$ then so is $f_\\\\ast G$.  This will be the case if $f$ is separated, since then the $U_{ij}$ will be affine.  But this implies the general case because the $U_{ij}$ will be quasi-affine, hence separated, over $X$, so $G_{ij} = {f_{ij}}_\\\\ast G \\\\big|_{U_{ij}}$ will be in $A_X$ by the case mentioned above. \\r\\n  As BCnrd points out, gluing cotangent complexes is a nontrivial thing.  You might still ask whether it is really necessary for Illusie to work in the generality of a ringed topos.  Would using a ringed space suffice?  For standard deformation problems (deformation of a morphism or deformation of a scheme) working on the underlying ringed space would be enough.  For more \"interesting\" deformation problems, like deformation of a morphism $X \\\\rightarrow Y$, where $X$, $Y$, and the morphism are all allowed to vary, one needs something more sophisticated.  Illusie constructs a ringed topos that encodes all of these data and then applies the machinery for ringed topoi that he has already developed. \\r\\n  EGA, Chapters 5 through 12 \\r\\n  No, the embedding of schemes in the big Zariski site does not preserve colimits.  It is possible to see this in the example you suggest by computing the \"tangent space\" at the origin.  Let $X$ be the colimit in the category of schemes; the tangent space of $X$ at the origin is a $2$-dimensional vector space.  Let $Y$ be the colimit in the category of sheaves; I claim that the \"tangent space\" of $Y$ at the origin is the union of the coordinate axes inside of the tangent space of $X$. \\r\\n\\r\\n The tangent space of $Y$ is the space of sections of $Y$ over $Z := \\\\mathrm{Spec}\\\\: k[\\\\epsilon] / \\\\epsilon^2$.  The Zariski topology is trivial on $Z$, so sections of $Y$ over $Z$ are the same as sections of the presheaf colimit over $Z$.  The \"tangent space\" of the presheaf colimit is the union of the tangent spaces of the two copies of $\\\\mathbf{A}^1$. \\r\\n  I will try to argue that if an product of quasi-compact schemes is a representable by a scheme, then all but finitely many of them must be affine. \\r\\n\\r\\n  Edit:   I rewrote the argument a little to address the comments.  I hope the argument might finally be satisfying... \\r\\n\\r\\n  Lemma.   If $X_i$, $i \\\\in I$ are quasi-compact schemes over a field $k$, then $\\\\prod X_i$ has a closed point (i.e., there is a map from the spectrum of some field $K$ to $X$ that is representable by closed immersions) whose image in each of the $X_i$ is also closed. \\r\\n\\r\\n  Proof.   For each $i$, let $x_i$ be a closed point of $X_i$ (which exists because the $X_i$ are quasi-compact).  Let $K$ be a compositum of the residue fields of the $x_i$ (i.e., the residue field at a closed point of $Z = \\\\prod_i x_i$, which exists because $Z$ is affine).  Let $X$ be the product of the $X_i$.  Then we get a map $\\\\mathrm{Spec} \\\\: K \\\\rightarrow X$, which we have to show is a closed embedding. \\r\\n\\r\\n It\\'s enough to argue that the map $Z \\\\rightarrow X$ is a closed embedding.  But if $Y$ is a scheme over $X$ then $Y_Z$ can be obtained as the intersection of closed subschemes $Y_{x_i} = Y \\\\times_{X_i} x_i$, which is a closed subscheme.  $\\\\Box$ \\r\\n\\r\\n Suppose that the product of schemes $X_i$, indexed by $i \\\\in I$, is representable by a non-empty scheme $X$.  Assume that each $X_i$ is quasi-compact, so that for each $i$, we can find a Zariski cover $Y_i \\\\rightarrow X_i$ of $X_i$ by an affine scheme $Y_i$.  Then we get a map $Y = \\\\prod Y_i \\\\rightarrow X$ and the source is an affine scheme.  Let $x$ be a closed point of $X$.  Let $U$ be an affine neighborhood of $x$ in $X$.  Let $y$ be a $K$-point of $Y$ above $x$, and let $V$ be a distinguished affine open neighborhood of $y$ in $Y$, contained in the pre-image of $U$, and defined by the invertibility of some $f \\\\in \\\\Gamma(Y, {\\\\cal O}_Y)$.  Since $f$ can be expressed using functions defined on finitely many of the $Y_i$, the set $V$ must be the pre-image of a distinguished open affine $V\\' \\\\subset \\\\prod_{i \\\\in I\\'} Y_i$ where $I\\'$ is a finite subset of $I$.  Let $I\\'\\'$ be the complement of $I\\'$ in $I$ and let $X\\' = \\\\prod_{i \\\\in I\\'} X_i$ and define $X\\'\\'$, $Y\\'$, $Y\\'\\'$ analogously.  Then $V\\' \\\\times Y\\'\\'$ is an affine open neighborhood of $y$ in $Y$, contained in $V$.  If $U\\'$ denotes the image of $V\\'$ in $X\\'$ then $U\\' \\\\times X\\'\\'$ is an open neighborhood of $x$ in $X$, contained in $U$.  Let $x\\'$ be the projection of $x$ to $X\\'$, which we can safely assume is a closed point of $X\\'$, hence a closed point of $U\\'$, and let $K$ be the residue field of $x\\'$.  Therefore $\\\\{ x\\' \\\\} \\\\times X\\'\\'$ is a closed subscheme of $U$ and is therefore affine.  But $\\\\{ x\\' \\\\} \\\\times X\\'\\' = K \\\\otimes_k X\\'\\'$ so by fpqc descent for affine schemes over $k$ (SGA1.VIII.2) it follows that $X\\'\\'$ is affine. \\r\\n\\r\\n Replacing $I$ with $I\\'\\'$ we can now assume that $X$ is affine. Before proving that each $X_i$ is affine, I claim that each $X_i$ is separated.  We must show that for any scheme $Y$ and any two maps $Y \\\\rightrightarrows X_i$, the locus in $Y$ where the maps agree is closed.  Let $x$ be a closed $K$-point of $\\\\prod_{j \\\\not= i} X_j$ for some extension $K$ of $k$.  Then we can extend the maps $Y \\\\rightrightarrows X_i$ to maps $Y \\\\otimes_k K \\\\rightrightarrows X$.  Since $X$ is separated, the locus in $Y \\\\otimes_k K$ where these maps agree is closed.  But this is the pullback via the map $Y \\\\otimes_k K \\\\rightarrow Y$ of the locus where the maps $Y \\\\rightrightarrows X_i$ agree, so this latter subset of $Y$ must be closed by fpqc descent (see SGA1.VIII.4). \\r\\n\\r\\n If $X$ is affine and non-empty then it is separated, so each $X_i$ is separated.  Therefore $Z := \\\\prod_{j \\\\not= i} X_j$ is separated for each $i$.  (Note that we don\\'t yet know that $Z$ is representable by a scheme, but it still makes sense to claim that $Z$ is separated as a functor:  for any scheme $T$ and any two elements $a$ and $b$ of $Z(T)$, the locus in $T$ where $a$ and $b$ agree is closed.)  Let $z$ be a closed $K$-point of $Z$.  Then $X_i \\\\otimes_k K = X \\\\times_Z \\\\{z\\\\}$ is closed in $X$, hence is affine because we assumed $X$ to be affine.  This implies $X_i$ is affine by fpqc descent (see SGA1.VIII.2). \\r\\n  $\\\\mathrm{Cov}(X)$ determines $X$ if $X$ is  sober . \\r\\n  One does not actually need the \"power of topoi\" to make Illusie\\'s definition of the cotangent complex work.  One does need sheaves, though.  Illusie\\'s constructions would have worked equally well had he used ringed spaces instead of ringed topoi.  Some constructions related to diagrams of schemes might be easier to phrase in terms of topoi, and of course they become essential if one wants to work in, say, the &eacute;tale topology. \\r\\n\\r\\n Illusie makes use of the generality of his construction in a number of places.  By treating ringed topoi that are not the &eacute;tale or Zariski topoi of schemes he is able to treat the deformation theory of diagrams, which he applies to deformations of group schemes, commutative group schemes, and modules. \\r\\n\\r\\n I do not know if it would be useful to study deformations of the structure sheaf on the fppf topos of a scheme $S$.  Such a deformation would correspond to a consistent collection of deformations of every scheme over $S$. \\r\\n  You can view the sheaf $\\\\mathcal{F}$ on $X \\\\times X$ instead as a map from $X$ (the first factor) to the moduli stack $M$ of sheaves on $X$ (the second factor).  This induces a map on the tangent spaces.  The tangent space to $M$ at a sheaf $F$ is the space of first order deformations of $F$, which is $\\\\mathrm{Ext}^1(F, F)$. \\r\\n\\r\\n Using the exact sequence \\r\\n\\r\\n $0 \\\\rightarrow I \\\\rightarrow \\\\mathcal{O}_X \\\\rightarrow k(x) \\\\rightarrow 0$ \\r\\n\\r\\n you get an identification between $T_x X = \\\\mathrm{Hom}_{\\\\mathcal{O}_X}(I, k(x)) = \\\\mathrm{Ext}^1(k(x),k(x))$.  Therefore the differential gives a map \\r\\n\\r\\n $T_x X = \\\\mathrm{Ext}^1(k(x),k(x)) \\\\rightarrow T_{\\\\mathcal{F}_x} M = \\\\mathrm{Ext}^1(\\\\mathcal{F}_x, \\\\mathcal{F}_x)$. \\r\\n  Let $L$ be the complex $[ f^\\\\ast \\\\Omega_X \\\\rightarrow \\\\Omega_C(D) ]$, concentrated in degrees $[-1,0]$ on $C$. \\r\\n\\r\\n One way to understand the obstructions is to understand the deformations for affine curves first.  Observe first that there is a canonical equivalence of categories between the category of deformations of a pointed map $f : C \\\\rightarrow X$, with $C$ not-necessarily proper, and the category of extensions \\r\\n\\r\\n $G(C) = \\\\mathrm{Ext}(L, \\\\mathcal{O}_C)$. \\r\\n\\r\\n The meaning of the category on the right is the category of extensions $E$ of $\\\\Omega_C(D)$ by $\\\\mathcal{O}_C$ together with a trivialization of the induced extension of $f^\\\\ast \\\\Omega_X$ by $\\\\mathcal{O}_C$.  One checks explicitly that the category of extensions of $\\\\Omega_C(D)$ by $\\\\mathcal{O}_C$ is canonically equivalent to the category of deformations of the pointed curve $C$ and that splitting the induced extension of $f^\\\\ast \\\\Omega_X$ is the same as extending the map $f : C \\\\rightarrow X$ to a map from the deformed curve to $X$. \\r\\n\\r\\n Note that $G$ is a commutative group stack (what is sometimes called a \"Picard stack\").  It is easy to check that $G$ is non-empty when $C$ is an affine curve (use the fact that deformations of nodal curves are unobstructed and the formal criterion of smoothness for $X$), which means that any obstructions to deforming a proper curve come from the failure of local deformations to glue.  There is a standard way to compute these local obstructions---e.g., by Cech cohomology, noting that mutatis mutandis, Cech cohomology still works for group stacks---and this yield a class in $H^1(C, G)$.  Cohomology of a commutative group stack is the same as cohomology of the associated complex, so we get an obstruction in \\r\\n\\r\\n $H^1(C, L^\\\\vee[1]) = H^2(C, L^\\\\vee) = \\\\mathrm{Ext}^2(L, \\\\mathcal{O}_C)$. \\r\\n  Perhaps one way of reading this question is \"Why is it important to think about complexes when doing deformation theory?\"  One must certainly accept that deformation theory is cohomological in nature:  consider the standard &#268;ech construction of classes in $H^1(X, T_X)$ and $H^2(X, T_X)$ corresponding respectively to deformations and obstructions to deformations of a smooth scheme $X$; or consider the deformations of a regular embedding $X \\\\rightarrow Y$, which are parameterized by $H^0(X, N_{X/Y})$ and obstructed by $H^1(X, N_{X/Y})$. \\r\\n\\r\\n Let me recall the arguments that yield these classes.  Locally a smooth scheme has only one deformation up to isomorphism, so global deformations arise from gluing the local ones; the gluing data come from the tangent bundle, so deformations are classified by $H^1(X, T_X)$.  Similarly, solutions to an obstructed deformation problem exist locally and are locally unique up to isomorphism, so the obstruction comes from gluing.  One writes down the gluing condition and observes that it is a &#268;ech $2$-cocycle (or observes directly that deformations form a gerbe...). \\r\\n\\r\\n The argument for a regular embedding is similar.  One first gives a direct construction for the identification of $H^0(X,N_{X/Y})$ and the deformations of the embedding; then one shows that there are no local obstructions, so global obstructions arise entirely from gluing, and this gives a &#268;ech 1-cocycle with values in $N_{X/Y}$. \\r\\n\\r\\n What about a more general deformation problem?  For example, suppose $X$ is a local complete intersection.  A great deal of the arguments above goes through without modification:  locally, deformations of a local complete intersection are unobstructed, so obstructions should come from gluing.  One should be able to produce a &#268;ech cocycle obstructing the existence of a global deformation.  But a cocycle valued in what? \\r\\n\\r\\n The answer is the (shifted) tangent complex (dual to the cotangent complex mentioned in another answer).  This is a complex in in degrees $[0,1]$ that coincides with $T_X$ if $X$.  The relative tangent complex of a regular embedding $X \\\\rightarrow Y$ is $N_{X/Y}[-1]$.  Thus the tangent complex recovers the two special cases discussed above. \\r\\n\\r\\n For a complete intersection $X$ in a smooth scheme $Y$, the tangent complex of $X$ may be constructed as $[T_Y \\\\vert_X \\\\rightarrow N_{X/Y}]$.  If $X$ is only a local complete intersection then this construction works locally in $X$, but it\\'s not going to glue to something global.  However, the local construction is quasi-isomorphic to the restriction of something global.  At last, the derived category appears. \\r\\n\\r\\n All of this is vastly generalized by the cotangent complex, which works the same way as above for arbitrary schemes, without the lci restriction.  You can read more about that in Chris Brav\\'s answer. \\r\\n  Here is a classifying problem without a coarse moduli space:  Let $F$ be the stack of line bundles with section, say over an algebraically closed field k.  That is $F(X)$ is the category of pairs $(L,s)$ where $L$ is a line bundle on $X$ and $s \\\\in \\\\Gamma(X,L)$ is a section of $L$.  Then $F$ has no coarse moduli space:  if it did, there would be two points, corresponding to $(k,1)$ and $(k,0)$ with the former specializing to the latter.  This would be an affine scheme with a closed point and a generic point, both with residue field $k$.  That\\'s impossible. \\r\\n\\r\\n Of course, $F$ is just a geometric description of $[\\\\mathbf{A}^1 / \\\\mathbf{G}_m]$, so we already knew it didn\\'t have a coarse moduli space. \\r\\n  The answer is yes.  Let $[E^{-1} \\\\rightarrow E^0]$ be a perfect obstruction theory on $M$.  After localizing in $M$ we can assume that the map $E^0 \\\\rightarrow \\\\Omega_M$ is induced as $\\\\mathcal{O}_M \\\\otimes \\\\Omega_{\\\\mathbf{A}^n} \\\\rightarrow \\\\Omega_M$ for some map $M \\\\rightarrow \\\\mathbf{A}^n$.(*) As the map on differentials is surjective the relative differentials vanish and the map is unramified.  By EGA IV.18.4.7, we can (at least after localizing further in $M$) factor the map $M \\\\rightarrow \\\\mathbf{A}^n$ as a closed embedding $M \\\\rightarrow V$ followed by an &eacute;tale map $V \\\\rightarrow \\\\mathbf{A}^n$. \\r\\n\\r\\n Let $I$ be the ideal of $M$ inside $V$.  Then we have an exact sequence \\r\\n\\r\\n $I/I^2 \\\\rightarrow \\\\mathcal{O}_M \\\\otimes \\\\Omega_V \\\\rightarrow \\\\Omega_M \\\\rightarrow 0$ \\r\\n\\r\\n where the first two terms are $\\\\tau_{\\\\geq -1} L_M$.  By the definition of an obstruction theory, we are given a map $E^{-1} \\\\rightarrow I/I^2$ inducing a surjection $H^{-1}(E) \\\\rightarrow H^{-1} L_M$.  By the 5-lemma, $E^{-1} \\\\rightarrow I/I^2$ is surjective. \\r\\n\\r\\n Localizing further in $V$ and $M$, we can assume that the map $E^{-1} \\\\rightarrow I/I^2$ is induced from a map $F \\\\rightarrow I$ of coherent sheaves on $V$ with $F$ locally free.  By Nakayama\\'s lemma we can assume, possibly after further localization, that $F \\\\rightarrow I$ is surjective.  Then consider the section of the vector bundle $F^\\\\vee$ dual to the composition $F \\\\rightarrow I \\\\subset \\\\mathcal{O}_V$.  The vanishing locus of this section is $M$ and the induced complex $F \\\\rightarrow \\\\mathcal{O}_M \\\\otimes \\\\Omega_V$ is the obstruction theory we started with. \\r\\n\\r\\n (*)  We can represent $\\\\tau_{\\\\geq -1} L_M$ as $[ J / J^2 \\\\rightarrow \\\\Omega_W ]$ for some closed embedding $M \\\\subset W$ and we are given a map of complexes $E^\\\\bullet \\\\rightarrow \\\\tau_{\\\\geq -1} L_M$.  Replacing $E^\\\\bullet$ with a quasi-isomorphic complex, we can assume that the map $E^0 \\\\rightarrow \\\\Omega_W$ is surjective.  But $E^0$ and $\\\\Omega_W$ are vector bundles, so after localizing in $M$ we can assume that $\\\\Omega_W$ is a direct summand of $E^0$.  Choosing a basis for the complementary summand, we can identify $E^0 \\\\cong \\\\Omega_{W \\\\times \\\\mathbf{A}^n}$. \\r\\n  The answer is always.  Let $\\\\mathrm{Et}(X)$ and $\\\\mathrm{Et}(Y)$ denote the &eacute;tale sites.  There is a functor $f_! : \\\\mathrm{Et}(X) \\\\rightarrow \\\\mathrm{Et}(Y)$ sending an &eacute;tale $X$-scheme $p : U \\\\rightarrow X$ to $f \\\\circ p : U \\\\rightarrow Y$.  This functor is cocontinuous (SGA4.III.2.1) and continuous (SGA4.III.1.1).  By SGA4.III.2.6, any functor that is both continuous and cocontinuous gives rise to a morphism of topoi $(f^\\\\ast, f_\\\\ast)$ where $f^\\\\ast$ has a left adjoint. \\r\\n  Here is how I like to understand the Weil pairing. \\r\\n\\r\\n The dual of an abelian variety $A$ is the scheme $\\\\hat{A} = \\\\mathrm{Hom}(A, B\\\\mathbf{G}_m)$.  Here $B\\\\mathbf{G}_m$ is the stack of line bundles and $\\\\mathrm{Hom}$ refers to homomorphisms of group stacks.  One therefore has a perfect pairing \\r\\n\\r\\n $A \\\\times \\\\hat{A} \\\\rightarrow B\\\\mathbf{G}_m$. \\r\\n\\r\\n This actually means something relatively concrete:  For each pair of points $(a, a\\') \\\\in A \\\\times \\\\hat{A}$ one has a one dimensional vector space $L(a,a\\')$, together with isomorphisms \\r\\n\\r\\n $L(a_1 + a_2, a\\') \\\\simeq L(a_1, a\\') \\\\otimes L(a_2, a\\')$, \\r\\n\\r\\n $L(a, a\\'_1 + a\\'_2) \\\\simeq L(a, a\\'_1) \\\\otimes L(a, a\\'_2)$ \\r\\n\\r\\n satisfying some compatibility conditions (you can find the details of this definition under the heading of biextensions; there is a nice explanation in SGA7).  One of these compatibilities is that the two isomorphisms \\r\\n\\r\\n $L(a_1 + a_2, a\\'_1 + a\\'_2) \\\\simeq L(a_1, a\\'_1) \\\\otimes L(a_1, a\\'_2) \\\\otimes L(a_2, a\\'_1) \\\\otimes L(a_2, a\\'_2)$ \\r\\n\\r\\n should coincide. \\r\\n\\r\\n One consequence of the definition is that $L(0, a\\') = L(0 + 0, a\\') \\\\simeq L(0, a\\') \\\\otimes L(0, a\\')$ which means that $L(0, a\\')$ is canonically trivialized, as is $L(a, 0)$ by symmetry.  Moreover, the two trivializations of $L(0,0)$ must be the same. \\r\\n\\r\\n If we choose an $n$-torsion point $a$ of $A$ then $L(a, a\\')$ will be a line bundle with a trivialization of its $n$-th tensor power.  Similarly, if $a\\'$ is also an $n$-torsion point then $L(a,a\\')^{\\\\otimes n}$ will come with  two  trivializations coming from its identification with the canonically trivialized line bundles $L(na, a\\') = L(0,a\\')$ and $L(a, na\\') = L(a,0)$.  Comparing these two trivializations, we get an element of $\\\\mathbf{G}_m$ and therefore a pairing \\r\\n\\r\\n $A[n] \\\\times \\\\hat{A}[n] \\\\rightarrow \\\\mathbf{G}_m$. \\r\\n\\r\\n However, we notice that the induced trivializations of $L^{\\\\otimes n^2} \\\\simeq L(na, na\\')$ must coincide.  Therefore the image of this map actually lands in $\\\\mathbf{G}_m[n] = \\\\mu_n$.  This gives the Weil pairing \\r\\n\\r\\n $A[n] \\\\times \\\\hat{A}[n] \\\\rightarrow \\\\mu_n$. \\r\\n\\r\\n I don\\'t know of a way to interpret the Hilbert symbol in quite this way, but I\\'d be very interested if someone could suggest one!  \\r\\n  This seems to be a statement about the classification of connections without torsion.  If $\\\\nabla$ and $\\\\nabla\\'$ are connections without torsion then $\\\\varphi = \\\\nabla - \\\\nabla\\'$ is a symmetric, linear function $S^2(TX) \\\\rightarrow TX$.  If you want to classify connections without torsion you observe that they exist locally and that the data needed to glue local instances comes from $\\\\mathrm{Hom}(S^2(TX),TX)$.  Therefore the obstruction to gluing is a &#268;ech 1-cocycle (i.e., a torsor) valued in $\\\\mathrm{Hom}(S^2(TX), TX)$. \\r\\n  Niels already links to references that answer the question, but I\\'ll briefly summarize them. \\r\\n\\r\\n If $X$ is a stack presented by a groupoid $X_1 \\\\rightrightarrows X_0$ then a map from a scheme $S$ into $X$ induces a groupoid presentation $S \\\\mathop{\\\\times}_X X_1 \\\\rightrightarrows S \\\\mathop{\\\\times}_X X_0$ of $S$.  Conversely, suppose that we have a groupoid presentation $S_1 \\\\rightrightarrows S_0$ of $S$ and compatible maps $S_i \\\\rightarrow X_i$ (such that the two maps $S_1 \\\\rightarrow S_0$ are induced by pullback from the two maps $X_1 \\\\rightarrow X_0$) then there is an induced map $S \\\\rightarrow X$. \\r\\n\\r\\n The associated stack of the groupoid $X_\\\\bullet$ is therefore the fibered category $X$ for which $X(S)$ is the category of groupoid presentations of $S$ with a map to $X_\\\\bullet$ satisfying the above parenthetical condition. \\r\\n  I believe the number is 12. \\r\\n\\r\\n I will assume the characteristic of the base field is not 2 or 3 so that I can use $\\\\overline{\\\\mathcal{M}}_{1,1} \\\\simeq \\\\mathbf{P}(4,6)$.  Recall that $\\\\mathbf{P}(4,6)$ is constructed by dividing $V = \\\\mathbf{A}^2 \\\\smallsetminus \\\\{ (0,0) \\\\}$ by the weight $(4,6)$-action of $\\\\mathbf{G}_m$. \\r\\n\\r\\n The line bundle $\\\\mathcal{O}(1)$ (which coincides with the Hodge bundle and generates the Picard group) can be constructed as the equivariant line bundle $V \\\\times \\\\mathbf{A}^1$ on $V$ with $\\\\mathbf{G}_m$ acting by weights $(4,6,1)$.  Then $\\\\mathcal{O}(4)$ has a canonical section $g_4$ and $\\\\mathcal{O}(6)$ has the section $g_6$.  In $\\\\mathcal{O}(12)$ we have the two sections \\r\\n\\r\\n $1728 g_4^3$ \\r\\n\\r\\n $\\\\Delta = g_4^3 - 27 g_6^2$. \\r\\n\\r\\n This linear series defines $j : \\\\mathbf{P}(4,6) \\\\rightarrow \\\\mathbf{P}^1$. \\r\\n\\r\\n Note that $j$ has degree $1/2$ because of the generic automorphism on $\\\\mathbf{P}(4,6)$.  That is, $j_\\\\ast j^\\\\ast$ is multiplication by $1/2$.  Thus the Hodge class $\\\\lambda$ satisfies \\r\\n\\r\\n $\\\\int_{\\\\overline{\\\\mathcal{M}}_{1,1}} \\\\lambda = \\\\int_{\\\\mathbf{P}(4,6)} c_1(\\\\mathcal{O}(1))\\r\\n= \\\\frac{1}{12} \\\\int_{\\\\mathbf{P}(4,6)} c_1(j^\\\\ast \\\\mathcal{O}(1)) = \\\\frac{1}{12} \\\\int_{\\\\mathbf{P}^1} j_\\\\ast j^\\\\ast c_1(\\\\mathcal{O}(1)) = \\\\frac{1}{24}$. \\r\\n\\r\\n Another thing that may be confusing here is that $j$ is generically unramified, so that a local equation for a point in $\\\\mathbf{P}^1$ pulls back under $j$ to a local equation in $\\\\overline{\\\\mathcal{M}}_{1,1}$.  Thus $j^\\\\ast \\\\Delta = \\\\delta$ (if $\\\\Delta$ denotes the boundary in the coarse moduli space and $\\\\delta$ the boundary in the stack).   \\r\\n  The algebro-geometric definition does translate, almost literally.  John Klein\\'s comment to Martin\\'s question provides one way of doing the translation. \\r\\n\\r\\n Let $X$ be a manifold.  Define a contravariant functor $F$ on manifolds by taking $F(Y)$ to be the set of pairs $(f, \\\\delta)$ where $f : Y \\\\rightarrow X$ is a morphism of manifolds and $\\\\delta : C^\\\\infty(X) \\\\rightarrow C^\\\\infty(Y)$ is a derivation with respect to the module structure on $C^\\\\infty(Y)$ induced from $f$.  Then $F$ is representable by $TX$. \\r\\n\\r\\n Alternately, you may think of an element of $F(Y)$ as an extension of $f : Y \\\\rightarrow X$ to a map of ringed spaces $Y[\\\\epsilon] \\\\rightarrow X$ where $Y[\\\\epsilon]$ is the space $Y$, ringed by $C^\\\\infty(Y)[\\\\epsilon] / (\\\\epsilon^2)$. \\r\\n  Bhargav Bhatt has recently proved a remarkable algebraization theorem: \\r\\n\\r\\n  http://arxiv.org/abs/1404.7483  \\r\\n\\r\\n It implies that formal maps into quasi-compact, quasi-separated schemes may be algebraized.  Another version of this result (with slightly different hypotheses) has been proved by Hall and Rydh: \\r\\n\\r\\n  http://arxiv.org/abs/1405.7680  \\r\\n  The automorphism group of $\\\\overline{\\\\mathbf Q}$ is equipped with a topology, induced by viewing it as a subset of the permutation group of an infinite set.  There is a basis of open neighborhoods in which the stabilizer of a finite subset of $\\\\overline{\\\\mathbf Q}$ is considered to be open.  This is the same as the profinite topology. \\r\\n'"
      ]
     },
     "execution_count": 63,
     "metadata": {},
     "output_type": "execute_result"
    }
   ],
   "source": [
    "user_answers.iloc[6,0]"
   ]
  },
  {
   "cell_type": "code",
   "execution_count": 64,
   "metadata": {
    "collapsed": false
   },
   "outputs": [],
   "source": [
    "from nltk.corpus import stopwords \n",
    "from nltk.stem.wordnet import WordNetLemmatizer\n",
    "import string\n",
    "stop = set(stopwords.words('english'))\n",
    "stop2 = set(pd.read_csv(\"stopword_list.txt\",header=None).iloc[:,0])\n",
    "exclude = set(string.punctuation) \n",
    "lemma = WordNetLemmatizer()\n",
    "def clean(doc):\n",
    "    stop_free = \" \".join([i for i in doc.lower().split() if i not in stop and i not in stop2])\n",
    "    punc_free = ''.join(ch for ch in stop_free if ch not in exclude)\n",
    "    to_be_normalized=[]\n",
    "    for word in punc_free.split():\n",
    "        try:\n",
    "            cleaned_word=lemma.lemmatize(word)\n",
    "            if len(cleaned_word)>2:\n",
    "                to_be_normalized.append(cleaned_word)\n",
    "        except UnicodeDecodeError:\n",
    "            pass\n",
    "    normalized = \" \".join(to_be_normalized)\n",
    "    return normalized"
   ]
  },
  {
   "cell_type": "code",
   "execution_count": 65,
   "metadata": {
    "collapsed": true
   },
   "outputs": [],
   "source": [
    "stop3=[u'set',\n",
    " u'space',\n",
    " u'map',\n",
    " u'finite',\n",
    " u'mathbb',\n",
    " u'function',\n",
    " u'example',\n",
    " u'question',\n",
    " u'theory',\n",
    " u'theorem',\n",
    " u'answer',\n",
    " u'paper',\n",
    " u'amp',\n",
    " u'form',\n",
    " u'time',\n",
    " u'result',\n",
    " u'book',\n",
    " u'using',\n",
    " u'note',\n",
    " u'dont',\n",
    " u'consider',\n",
    " u'following',\n",
    " u'this',\n",
    " u'term',\n",
    " u'follows',\n",
    " u'hence',\n",
    " u'case',\n",
    " u'look',\n",
    " u'comment',\n",
    " u'true',\n",
    " u'type',\n",
    " u'the',\n",
    " u'and',\n",
    " u'defined',\n",
    " u'extension',\n",
    " u'reference',\n",
    " u'point',\n",
    " u'section',\n",
    " u'variety',\n",
    " u'system',\n",
    " u'math',\n",
    " u'one',\n",
    " u'define',\n",
    " u'free',\n",
    " u'however',\n",
    " u'sense',\n",
    " u'exists',\n",
    " u'action',\n",
    " u'idea',\n",
    " u'actually',\n",
    " u'that',\n",
    " u'ideal',\n",
    " u'leq',\n",
    " u'sheaf',\n",
    " u'relation',\n",
    " u'alpha',\n",
    " u'method',\n",
    " u'limit',\n",
    " u'equal',\n",
    " u'edit',\n",
    " u'indeed',\n",
    " u'hold',\n",
    " u'nice',\n",
    " u'there',\n",
    " u'hand',\n",
    " u'found',\n",
    " u'exactly',\n",
    " u'choice',\n",
    " u'problem',\n",
    " u'called',\n",
    " u'write',\n",
    " u'functor',\n",
    " u'mathcal',\n",
    " u'which',\n",
    " u'page',\n",
    " u'see',\n",
    " u'word',\n",
    " u'yes',\n",
    " u'probably',\n",
    " u'now',\n",
    " u'way',\n",
    " u'reason',\n",
    " u'for',\n",
    " u'right',\n",
    " u'bit',\n",
    " u'cover',\n",
    " u'rightarrow',\n",
    " u'above',\n",
    " u'doesnt',\n",
    " u'lot',\n",
    " u'mathematical',\n",
    " u'check',\n",
    " u'detail',\n",
    " u'claim',\n",
    " u'taking',\n",
    " u'otimes',\n",
    " u'article',\n",
    " u'approach',\n",
    " u'special',\n",
    " u'start',\n",
    " u'exact',\n",
    " u'classical',\n",
    " u'try',\n",
    " u'looking',\n",
    " u'alpha',\n",
    " u'omega',\n",
    " u'gamma',\n",
    " u'phi',\n",
    " u'fact',\n",
    " u'fiber',\n",
    " u'not',\n",
    " u'path',\n",
    " u'application',\n",
    " u'mentioned',\n",
    " u'well',\n",
    " u'character',\n",
    " u'sigma',\n",
    " u'simply',\n",
    " u'useful',\n",
    " u'thus',\n",
    " u'step',\n",
    " u'usual',\n",
    " u'believe',\n",
    " u'people',\n",
    " u'exist',\n",
    " u'say',\n",
    " u'via',\n",
    " u'geq',\n",
    " u'cant']"
   ]
  },
  {
   "cell_type": "code",
   "execution_count": 66,
   "metadata": {
    "collapsed": false
   },
   "outputs": [],
   "source": [
    "user_answers_clean_1 = [clean(doc).split() for doc in user_answers.iloc[:,0]]\n",
    "user_answers_clean_2 = [[i for i in doc if i not in stop3 and i not in stop2 and i not in stop] for doc in user_answers_clean_1]\n",
    "#"
   ]
  },
  {
   "cell_type": "code",
   "execution_count": 67,
   "metadata": {
    "collapsed": false
   },
   "outputs": [],
   "source": [
    "from collections import Counter\n",
    "term_frequency=Counter(x for sublist in user_answers_clean_2 for x in sublist)"
   ]
  },
  {
   "cell_type": "code",
   "execution_count": 68,
   "metadata": {
    "collapsed": false
   },
   "outputs": [
    {
     "data": {
      "text/plain": [
       "[u'proof',\n",
       " u'algebra',\n",
       " u'category',\n",
       " u'field',\n",
       " u'element',\n",
       " u'class',\n",
       " u'curve',\n",
       " u'structure',\n",
       " u'sequence',\n",
       " u'product',\n",
       " u'matrix',\n",
       " u'polynomial',\n",
       " u'model',\n",
       " u'complex',\n",
       " u'vector',\n",
       " u'algebraic',\n",
       " u'prime',\n",
       " u'representation',\n",
       " u'real',\n",
       " u'ring',\n",
       " u'sum',\n",
       " u'dimension',\n",
       " u'property',\n",
       " u'graph',\n",
       " u'mean',\n",
       " u'particular',\n",
       " u'subset',\n",
       " u'condition',\n",
       " u'equation',\n",
       " u'closed',\n",
       " u'degree',\n",
       " u'lie',\n",
       " u'line',\n",
       " u'zero',\n",
       " u'linear',\n",
       " u'solution',\n",
       " u'subgroup',\n",
       " u'manifold',\n",
       " u'bundle',\n",
       " u'value',\n",
       " u'formula',\n",
       " u'smooth',\n",
       " u'course',\n",
       " u'object',\n",
       " u'definition',\n",
       " u'positive',\n",
       " u'argument',\n",
       " u'compact',\n",
       " u'integer',\n",
       " u'simple',\n",
       " u'measure',\n",
       " u'equivalent',\n",
       " u'surface',\n",
       " u'natural',\n",
       " u'prove',\n",
       " u'assume',\n",
       " u'left',\n",
       " u'topology',\n",
       " u'vertex',\n",
       " u'cohomology',\n",
       " u'homotopy',\n",
       " u'bound',\n",
       " u'isomorphism',\n",
       " u'geometry',\n",
       " u'constant',\n",
       " u'construction',\n",
       " u'connected',\n",
       " u'suppose',\n",
       " u'generated',\n",
       " u'infinite',\n",
       " u'easy',\n",
       " u'operator',\n",
       " u'metric',\n",
       " u'conjecture',\n",
       " u'rational',\n",
       " u'standard',\n",
       " u'statement',\n",
       " u'root',\n",
       " u'integral',\n",
       " u'trivial',\n",
       " u'square',\n",
       " u'local',\n",
       " u'abelian',\n",
       " u'coefficient',\n",
       " u'implies',\n",
       " u'continuous',\n",
       " u'mathematics',\n",
       " u'probability',\n",
       " u'factor',\n",
       " u'fixed',\n",
       " u'characteristic',\n",
       " u'invariant',\n",
       " u'contains',\n",
       " u'complete',\n",
       " u'power',\n",
       " u'series',\n",
       " u'projective',\n",
       " u'quotient',\n",
       " u'isomorphic',\n",
       " u'image',\n",
       " u'finitely',\n",
       " u'version',\n",
       " u'equivalence',\n",
       " u'scheme',\n",
       " u'topological',\n",
       " u'locally',\n",
       " u'module',\n",
       " u'identity',\n",
       " u'pair',\n",
       " u'symmetric',\n",
       " u'variable',\n",
       " u'length',\n",
       " u'edge',\n",
       " u'corresponding',\n",
       " u'normal',\n",
       " u'lemma',\n",
       " u'unit',\n",
       " u'original',\n",
       " u'differential',\n",
       " u'irreducible',\n",
       " u'related',\n",
       " u'bounded',\n",
       " u'lambda',\n",
       " u'proved',\n",
       " u'instance',\n",
       " u'rank',\n",
       " u'random',\n",
       " u'axiom',\n",
       " u'similar',\n",
       " u'boundary',\n",
       " u'algorithm',\n",
       " u'family',\n",
       " u'choose',\n",
       " u'distribution',\n",
       " u'nontrivial',\n",
       " u'unique',\n",
       " u'maximal',\n",
       " u'notion',\n",
       " u'size',\n",
       " u'delta',\n",
       " u'component',\n",
       " u'intersection',\n",
       " u'basis',\n",
       " u'analysis',\n",
       " u'plane',\n",
       " u'regular',\n",
       " u'fundamental',\n",
       " u'partial',\n",
       " u'affine',\n",
       " u'geometric',\n",
       " u'cardinal',\n",
       " u'lattice',\n",
       " u'coordinate',\n",
       " u'inequality',\n",
       " u'countable',\n",
       " u'log',\n",
       " u'nonzero',\n",
       " u'base',\n",
       " u'circle',\n",
       " u'elliptic',\n",
       " u'add',\n",
       " u'odd',\n",
       " u'construct',\n",
       " u'index',\n",
       " u'compute',\n",
       " u'sphere',\n",
       " u'existence',\n",
       " u'eigenvalue',\n",
       " u'elementary',\n",
       " u'morphism',\n",
       " u'interval',\n",
       " u'hard',\n",
       " u'direct',\n",
       " u'commutative',\n",
       " u'change',\n",
       " u'instead',\n",
       " u'arbitrary',\n",
       " u'understand',\n",
       " u'galois',\n",
       " u'counterexample',\n",
       " u'convex',\n",
       " u'universal',\n",
       " u'union',\n",
       " u'canonical',\n",
       " u'quadratic',\n",
       " u'written',\n",
       " u'generator',\n",
       " u'chapter',\n",
       " u'divisor',\n",
       " u'homology',\n",
       " u'explicit',\n",
       " u'assumption',\n",
       " u'read',\n",
       " u'weight',\n",
       " u'precisely',\n",
       " u'domain',\n",
       " u'subspace',\n",
       " u'respect',\n",
       " u'denote',\n",
       " u'independent',\n",
       " u'tensor',\n",
       " u'maybe',\n",
       " u'little',\n",
       " u'norm',\n",
       " u'langle',\n",
       " u'arithmetic',\n",
       " u'level',\n",
       " u'dimensional',\n",
       " u'projection',\n",
       " u'minimal',\n",
       " u'information',\n",
       " u'discrete',\n",
       " u'link',\n",
       " u'act',\n",
       " u'proper',\n",
       " u'connection',\n",
       " u'associated',\n",
       " u'youre',\n",
       " u'cdot',\n",
       " u'essentially',\n",
       " u'language',\n",
       " u'basic',\n",
       " u'analytic',\n",
       " u'call',\n",
       " u'computation',\n",
       " u'etc',\n",
       " u'situation',\n",
       " u'embedding',\n",
       " u'obvious',\n",
       " u'kappa',\n",
       " u'dual',\n",
       " u'volume',\n",
       " u'easily',\n",
       " u'derivative',\n",
       " u'distance',\n",
       " u'view',\n",
       " u'diagram',\n",
       " u'spectrum',\n",
       " u'logic',\n",
       " u'satisfies',\n",
       " u'student',\n",
       " u'upper',\n",
       " u'namely',\n",
       " u'due',\n",
       " u'study',\n",
       " u'obtain',\n",
       " u'weak',\n",
       " u'ill',\n",
       " u'tree',\n",
       " u'correct',\n",
       " u'operation',\n",
       " u'infty',\n",
       " u'direction',\n",
       " u'short',\n",
       " u'hilbert',\n",
       " u'kernel',\n",
       " u'quantum',\n",
       " u'homomorphism',\n",
       " u'list',\n",
       " u'hypothesis',\n",
       " u'ldots',\n",
       " u'diagonal',\n",
       " u'torus',\n",
       " u'lower',\n",
       " u'help',\n",
       " u'curvature',\n",
       " u'various',\n",
       " u'otherwise',\n",
       " u'obtained',\n",
       " u'remark',\n",
       " u'zfc',\n",
       " u'forcing',\n",
       " u'inverse',\n",
       " u'usually',\n",
       " u'guess',\n",
       " u'cong',\n",
       " u'decomposition',\n",
       " u'dense',\n",
       " u'orbit',\n",
       " u'tell',\n",
       " u'singular',\n",
       " u'fix',\n",
       " u'genus',\n",
       " u'cap',\n",
       " u'mod',\n",
       " u'principle',\n",
       " u'automorphism',\n",
       " u'generic',\n",
       " u'difference',\n",
       " u'completely',\n",
       " u'partition',\n",
       " u'riemann',\n",
       " u'triangle',\n",
       " u'tangent',\n",
       " u'iff',\n",
       " u'negative',\n",
       " u'formal',\n",
       " u'copy',\n",
       " u'mention',\n",
       " u'ball']"
      ]
     },
     "execution_count": 68,
     "metadata": {},
     "output_type": "execute_result"
    }
   ],
   "source": [
    "list(pd.DataFrame.from_dict(term_frequency,orient='index').sort_values([0],ascending=False).head(300).index)"
   ]
  },
  {
   "cell_type": "code",
   "execution_count": 69,
   "metadata": {
    "collapsed": false
   },
   "outputs": [],
   "source": [
    "import gensim\n",
    "from gensim import corpora\n",
    "\n",
    "# Creating the term dictionary of our courpus, where every unique term is assigned an index.\n",
    "dictionary = corpora.Dictionary(user_answers_clean_2)\n",
    "\n",
    "# Converting list of documents (corpus) into Document Term Matrix using dictionary prepared above.\n",
    "doc_term_matrix = [dictionary.doc2bow(doc) for doc in user_answers_clean_2]"
   ]
  },
  {
   "cell_type": "code",
   "execution_count": 70,
   "metadata": {
    "collapsed": false
   },
   "outputs": [
    {
     "data": {
      "text/plain": [
       "4513"
      ]
     },
     "execution_count": 70,
     "metadata": {},
     "output_type": "execute_result"
    }
   ],
   "source": [
    "len(doc_term_matrix)"
   ]
  },
  {
   "cell_type": "code",
   "execution_count": 37,
   "metadata": {
    "collapsed": false
   },
   "outputs": [
    {
     "data": {
      "text/plain": [
       "'\\nlow_value = 0.1\\nlow_value_words = []\\ntfidf_sum\\nfor bow in corpus:\\n    low_value_words += [id for id, value in tfidf[bow]]#]\\n'"
      ]
     },
     "execution_count": 37,
     "metadata": {},
     "output_type": "execute_result"
    }
   ],
   "source": [
    "from gensim.models.tfidfmodel import *\n",
    "tfidf = TfidfModel(doc_term_matrix, id2word=dictionary)\n",
    "\n",
    "#idf=gensim.models.tfidfmodel.df2idf(doc_term_matrix, 4513, log_base=2.0, add=0.0)\n",
    "'''\n",
    "low_value = 0.1\n",
    "low_value_words = []\n",
    "tfidf_sum\n",
    "for bow in corpus:\n",
    "    low_value_words += [id for id, value in tfidf[bow]]#]\n",
    "'''\n",
    "    "
   ]
  },
  {
   "cell_type": "code",
   "execution_count": 71,
   "metadata": {
    "collapsed": false
   },
   "outputs": [],
   "source": [
    "# Creating the object for LDA model using gensim library\n",
    "Lda = gensim.models.ldamodel.LdaModel\n",
    "\n",
    "# Running and Trainign LDA model on the document term matrix.\n",
    "ldamodel2 = Lda(doc_term_matrix, num_topics=50, alpha='auto', id2word = dictionary, random_state=1)"
   ]
  },
  {
   "cell_type": "code",
   "execution_count": 73,
   "metadata": {
    "collapsed": false
   },
   "outputs": [
    {
     "name": "stdout",
     "output_type": "stream",
     "text": [
      "[(0, u'0.010*\"prime\" + 0.007*\"log\" + 0.005*\"sum\" + 0.005*\"integer\" + 0.004*\"bound\"'), (1, u'0.008*\"bundle\" + 0.004*\"complex\" + 0.004*\"manifold\" + 0.004*\"class\" + 0.004*\"field\"'), (2, u'0.007*\"model\" + 0.005*\"algebra\" + 0.004*\"kappa\" + 0.004*\"category\" + 0.004*\"structure\"'), (3, u'0.005*\"category\" + 0.005*\"ring\" + 0.004*\"field\" + 0.003*\"algebra\" + 0.003*\"proof\"'), (4, u'0.010*\"field\" + 0.004*\"isomorphism\" + 0.004*\"class\" + 0.004*\"scheme\" + 0.004*\"lie\"'), (5, u'0.003*\"beginalign\" + 0.003*\"endalign\" + 0.003*\"proof\" + 0.002*\"graph\" + 0.002*\"equation\"'), (6, u'0.008*\"manifold\" + 0.007*\"lagrangian\" + 0.007*\"bundle\" + 0.006*\"structure\" + 0.006*\"symplectic\"'), (7, u'0.005*\"polynomial\" + 0.004*\"graph\" + 0.004*\"element\" + 0.003*\"field\" + 0.003*\"class\"'), (8, u'0.003*\"field\" + 0.003*\"algebra\" + 0.003*\"matrix\" + 0.003*\"proof\" + 0.003*\"category\"'), (9, u'0.004*\"process\" + 0.004*\"equation\" + 0.003*\"field\" + 0.003*\"vector\" + 0.003*\"matrix\"'), (10, u'0.010*\"representation\" + 0.005*\"subgroup\" + 0.005*\"proof\" + 0.004*\"algebra\" + 0.004*\"simple\"'), (11, u'0.012*\"bundle\" + 0.009*\"category\" + 0.006*\"class\" + 0.006*\"structure\" + 0.006*\"homotopy\"'), (12, u'0.003*\"category\" + 0.003*\"proof\" + 0.003*\"manifold\" + 0.002*\"graph\" + 0.002*\"matrix\"'), (13, u'0.006*\"algebra\" + 0.004*\"element\" + 0.004*\"class\" + 0.004*\"ring\" + 0.004*\"field\"'), (14, u'0.003*\"proof\" + 0.002*\"field\" + 0.002*\"real\" + 0.002*\"manifold\" + 0.002*\"sequence\"'), (15, u'0.008*\"algebra\" + 0.007*\"subgroup\" + 0.006*\"element\" + 0.006*\"generated\" + 0.005*\"ring\"'), (16, u'0.004*\"subset\" + 0.004*\"model\" + 0.004*\"category\" + 0.003*\"compact\" + 0.003*\"proof\"'), (17, u'0.012*\"field\" + 0.009*\"connected\" + 0.005*\"ring\" + 0.005*\"scheme\" + 0.005*\"algebraic\"'), (18, u'0.005*\"element\" + 0.005*\"algebra\" + 0.004*\"ring\" + 0.004*\"field\" + 0.003*\"matrix\"'), (19, u'0.010*\"category\" + 0.006*\"model\" + 0.006*\"object\" + 0.004*\"proof\" + 0.003*\"structure\"'), (20, u'0.008*\"subgroup\" + 0.005*\"element\" + 0.004*\"proof\" + 0.003*\"prime\" + 0.003*\"representation\"'), (21, u'0.008*\"curve\" + 0.005*\"graph\" + 0.004*\"degree\" + 0.004*\"line\" + 0.004*\"dimension\"'), (22, u'0.004*\"category\" + 0.002*\"proof\" + 0.002*\"curve\" + 0.002*\"sequence\" + 0.002*\"structure\"'), (23, u'0.003*\"proof\" + 0.003*\"curve\" + 0.003*\"sum\" + 0.002*\"algebraic\" + 0.002*\"algebra\"'), (24, u'0.006*\"equation\" + 0.006*\"solution\" + 0.004*\"operator\" + 0.004*\"nabla\" + 0.004*\"vector\"'), (25, u'0.003*\"bundle\" + 0.003*\"vector\" + 0.003*\"proof\" + 0.003*\"structure\" + 0.002*\"class\"'), (26, u'0.003*\"field\" + 0.002*\"proof\" + 0.002*\"left\" + 0.002*\"class\" + 0.002*\"value\"'), (27, u'0.006*\"smooth\" + 0.005*\"field\" + 0.004*\"cohomology\" + 0.004*\"scheme\" + 0.003*\"etale\"'), (28, u'0.005*\"representation\" + 0.004*\"vector\" + 0.004*\"measure\" + 0.004*\"field\" + 0.004*\"operator\"'), (29, u'0.008*\"proof\" + 0.004*\"probability\" + 0.004*\"subset\" + 0.004*\"model\" + 0.003*\"element\"'), (30, u'0.010*\"matrix\" + 0.005*\"solution\" + 0.004*\"vector\" + 0.004*\"value\" + 0.004*\"positive\"'), (31, u'0.003*\"proof\" + 0.003*\"solution\" + 0.003*\"equation\" + 0.003*\"element\" + 0.002*\"sum\"'), (32, u'0.006*\"field\" + 0.004*\"subgroup\" + 0.004*\"element\" + 0.003*\"algebra\" + 0.003*\"class\"'), (33, u'0.008*\"algebra\" + 0.004*\"graph\" + 0.004*\"model\" + 0.004*\"proof\" + 0.004*\"element\"'), (34, u'0.005*\"proof\" + 0.004*\"algebraic\" + 0.004*\"manifold\" + 0.004*\"field\" + 0.003*\"equation\"'), (35, u'0.006*\"topology\" + 0.004*\"subset\" + 0.004*\"compact\" + 0.004*\"proof\" + 0.003*\"sequence\"'), (36, u'0.006*\"category\" + 0.003*\"class\" + 0.003*\"field\" + 0.003*\"proof\" + 0.003*\"graph\"'), (37, u'0.018*\"category\" + 0.007*\"model\" + 0.006*\"object\" + 0.005*\"structure\" + 0.005*\"homotopy\"'), (38, u'0.005*\"model\" + 0.004*\"cardinal\" + 0.004*\"structure\" + 0.004*\"proof\" + 0.004*\"manifold\"'), (39, u'0.005*\"matrix\" + 0.004*\"polynomial\" + 0.004*\"proof\" + 0.004*\"prime\" + 0.003*\"curve\"'), (40, u'0.004*\"prime\" + 0.003*\"left\" + 0.003*\"proof\" + 0.003*\"field\" + 0.003*\"curve\"'), (41, u'0.011*\"field\" + 0.008*\"algebra\" + 0.005*\"prime\" + 0.005*\"ring\" + 0.004*\"element\"'), (42, u'0.004*\"proof\" + 0.003*\"curve\" + 0.002*\"field\" + 0.002*\"category\" + 0.002*\"line\"'), (43, u'0.006*\"field\" + 0.005*\"algebra\" + 0.003*\"equation\" + 0.003*\"proof\" + 0.002*\"sum\"'), (44, u'0.017*\"graph\" + 0.011*\"vertex\" + 0.006*\"edge\" + 0.004*\"proof\" + 0.004*\"nbsp\"'), (45, u'0.006*\"algebra\" + 0.003*\"element\" + 0.003*\"class\" + 0.003*\"lie\" + 0.003*\"category\"'), (46, u'0.009*\"category\" + 0.006*\"algebra\" + 0.004*\"object\" + 0.004*\"proof\" + 0.004*\"structure\"'), (47, u'0.004*\"metric\" + 0.003*\"proof\" + 0.003*\"line\" + 0.003*\"curve\" + 0.003*\"constant\"'), (48, u'0.007*\"category\" + 0.006*\"homotopy\" + 0.004*\"complex\" + 0.004*\"object\" + 0.004*\"field\"'), (49, u'0.005*\"algebra\" + 0.004*\"category\" + 0.004*\"prime\" + 0.003*\"polynomial\" + 0.003*\"element\"')]\n"
     ]
    }
   ],
   "source": [
    "print(ldamodel2.print_topics(num_topics=50, num_words=5))"
   ]
  },
  {
   "cell_type": "code",
   "execution_count": 84,
   "metadata": {
    "collapsed": false
   },
   "outputs": [
    {
     "data": {
      "text/plain": [
       "[(1, 0.043863385540827429),\n",
       " (2, 0.026832315282950325),\n",
       " (5, 0.13882563107762458),\n",
       " (6, 0.15454777239606571),\n",
       " (8, 0.010341998968203056),\n",
       " (18, 0.018354492552330771),\n",
       " (19, 0.6034687050593075)]"
      ]
     },
     "execution_count": 84,
     "metadata": {},
     "output_type": "execute_result"
    }
   ],
   "source": [
    "ldamodel.get_document_topics(doc_term_matrix[3], minimum_probability=None, minimum_phi_value=None, per_word_topics=False)"
   ]
  },
  {
   "cell_type": "code",
   "execution_count": 74,
   "metadata": {
    "collapsed": true
   },
   "outputs": [],
   "source": [
    "m=np.zeros(shape=(4513,50))"
   ]
  },
  {
   "cell_type": "code",
   "execution_count": 75,
   "metadata": {
    "collapsed": false
   },
   "outputs": [],
   "source": [
    "for i in range(4513):\n",
    "    topic_v=ldamodel2.get_document_topics(doc_term_matrix[i], minimum_probability=None, minimum_phi_value=None, per_word_topics=False)\n",
    "    for t in topic_v:\n",
    "        m[i,t[0]]=t[1]"
   ]
  },
  {
   "cell_type": "code",
   "execution_count": 76,
   "metadata": {
    "collapsed": false
   },
   "outputs": [],
   "source": [
    "import scipy.sparse as sp\n",
    "m_sp=sp.coo_matrix(m,dtype=np.float32)"
   ]
  },
  {
   "cell_type": "code",
   "execution_count": 77,
   "metadata": {
    "collapsed": false
   },
   "outputs": [],
   "source": [
    "user_features_1=m_sp.tocsr()"
   ]
  },
  {
   "cell_type": "code",
   "execution_count": 78,
   "metadata": {
    "collapsed": false
   },
   "outputs": [
    {
     "data": {
      "text/plain": [
       "<4513x50 sparse matrix of type '<type 'numpy.float32'>'\n",
       "\twith 17984 stored elements in Compressed Sparse Row format>"
      ]
     },
     "execution_count": 78,
     "metadata": {},
     "output_type": "execute_result"
    }
   ],
   "source": [
    "user_features_1"
   ]
  },
  {
   "cell_type": "code",
   "execution_count": 72,
   "metadata": {
    "collapsed": false
   },
   "outputs": [
    {
     "data": {
      "text/plain": [
       "<78048x1430 sparse matrix of type '<type 'numpy.float32'>'\n",
       "\twith 1034394 stored elements in Compressed Sparse Row format>"
      ]
     },
     "execution_count": 72,
     "metadata": {},
     "output_type": "execute_result"
    }
   ],
   "source": [
    "item_features_enhanced"
   ]
  },
  {
   "cell_type": "markdown",
   "metadata": {},
   "source": [
    "### Topic modeling for AboutMe"
   ]
  },
  {
   "cell_type": "code",
   "execution_count": 93,
   "metadata": {
    "collapsed": false
   },
   "outputs": [
    {
     "data": {
      "text/html": [
       "<div>\n",
       "<table border=\"1\" class=\"dataframe\">\n",
       "  <thead>\n",
       "    <tr style=\"text-align: right;\">\n",
       "      <th></th>\n",
       "      <th>0</th>\n",
       "    </tr>\n",
       "  </thead>\n",
       "  <tbody>\n",
       "    <tr>\n",
       "      <th>0</th>\n",
       "      <td>a &lt;p&gt;You can get in touch with me at geraschen...</td>\n",
       "    </tr>\n",
       "    <tr>\n",
       "      <th>1</th>\n",
       "      <td>a &lt;p&gt;Senior Lecturer at the Australian Nationa...</td>\n",
       "    </tr>\n",
       "    <tr>\n",
       "      <th>2</th>\n",
       "      <td>a &lt;p&gt;Dabbler in things.&lt;/p&gt;\\r\\n</td>\n",
       "    </tr>\n",
       "    <tr>\n",
       "      <th>3</th>\n",
       "      <td>a Assistant Professor at Indiana University, w...</td>\n",
       "    </tr>\n",
       "    <tr>\n",
       "      <th>4</th>\n",
       "      <td>a I'm an arithmetic geometer at Emory University.</td>\n",
       "    </tr>\n",
       "    <tr>\n",
       "      <th>5</th>\n",
       "      <td>a</td>\n",
       "    </tr>\n",
       "    <tr>\n",
       "      <th>6</th>\n",
       "      <td>a</td>\n",
       "    </tr>\n",
       "    <tr>\n",
       "      <th>7</th>\n",
       "      <td>a</td>\n",
       "    </tr>\n",
       "    <tr>\n",
       "      <th>8</th>\n",
       "      <td>a I am a professor at UC Davis. &lt;br&gt;&lt;br&gt;\\r\\r\\n</td>\n",
       "    </tr>\n",
       "    <tr>\n",
       "      <th>9</th>\n",
       "      <td>a</td>\n",
       "    </tr>\n",
       "    <tr>\n",
       "      <th>10</th>\n",
       "      <td>a</td>\n",
       "    </tr>\n",
       "    <tr>\n",
       "      <th>11</th>\n",
       "      <td>a &lt;p&gt;Associate professor at KTH.&lt;/p&gt;\\r\\n</td>\n",
       "    </tr>\n",
       "    <tr>\n",
       "      <th>12</th>\n",
       "      <td>a</td>\n",
       "    </tr>\n",
       "    <tr>\n",
       "      <th>13</th>\n",
       "      <td>a</td>\n",
       "    </tr>\n",
       "    <tr>\n",
       "      <th>14</th>\n",
       "      <td>a</td>\n",
       "    </tr>\n",
       "    <tr>\n",
       "      <th>15</th>\n",
       "      <td>a &lt;p&gt;I'm a math guy with a history of coding a...</td>\n",
       "    </tr>\n",
       "    <tr>\n",
       "      <th>16</th>\n",
       "      <td>a &lt;p&gt;I'm an Assistant Professor at the Univers...</td>\n",
       "    </tr>\n",
       "    <tr>\n",
       "      <th>17</th>\n",
       "      <td>a I am postdoc at the University of Michigan. ...</td>\n",
       "    </tr>\n",
       "    <tr>\n",
       "      <th>18</th>\n",
       "      <td>a &lt;p&gt;Grad school dropout who still enjoys answ...</td>\n",
       "    </tr>\n",
       "    <tr>\n",
       "      <th>19</th>\n",
       "      <td>a</td>\n",
       "    </tr>\n",
       "    <tr>\n",
       "      <th>20</th>\n",
       "      <td>a &lt;p&gt;I finished my PhD in Mathematics at UC Be...</td>\n",
       "    </tr>\n",
       "    <tr>\n",
       "      <th>21</th>\n",
       "      <td>a &lt;p&gt;I am a postdoc in the Mathematical Physic...</td>\n",
       "    </tr>\n",
       "    <tr>\n",
       "      <th>22</th>\n",
       "      <td>a</td>\n",
       "    </tr>\n",
       "    <tr>\n",
       "      <th>23</th>\n",
       "      <td>a Postdoctoral researcher in applied and compu...</td>\n",
       "    </tr>\n",
       "    <tr>\n",
       "      <th>24</th>\n",
       "      <td>a</td>\n",
       "    </tr>\n",
       "    <tr>\n",
       "      <th>25</th>\n",
       "      <td>a &lt;p&gt;I'm a Lecturer at Coventry University.  M...</td>\n",
       "    </tr>\n",
       "    <tr>\n",
       "      <th>26</th>\n",
       "      <td>a</td>\n",
       "    </tr>\n",
       "    <tr>\n",
       "      <th>27</th>\n",
       "      <td>a &lt;p&gt;Associate Professor of Mathematics at the...</td>\n",
       "    </tr>\n",
       "    <tr>\n",
       "      <th>28</th>\n",
       "      <td>a I think this is a neat project.</td>\n",
       "    </tr>\n",
       "    <tr>\n",
       "      <th>29</th>\n",
       "      <td>a &lt;p&gt;I am currently an assistant professor at ...</td>\n",
       "    </tr>\n",
       "    <tr>\n",
       "      <th>...</th>\n",
       "      <td>...</td>\n",
       "    </tr>\n",
       "    <tr>\n",
       "      <th>4483</th>\n",
       "      <td>a &lt;p&gt;I am&lt;/p&gt;\\r\\n</td>\n",
       "    </tr>\n",
       "    <tr>\n",
       "      <th>4484</th>\n",
       "      <td>a</td>\n",
       "    </tr>\n",
       "    <tr>\n",
       "      <th>4485</th>\n",
       "      <td>a</td>\n",
       "    </tr>\n",
       "    <tr>\n",
       "      <th>4486</th>\n",
       "      <td>a</td>\n",
       "    </tr>\n",
       "    <tr>\n",
       "      <th>4487</th>\n",
       "      <td>a</td>\n",
       "    </tr>\n",
       "    <tr>\n",
       "      <th>4488</th>\n",
       "      <td>a &lt;p&gt;Phd student in France. Algebraic geometry...</td>\n",
       "    </tr>\n",
       "    <tr>\n",
       "      <th>4489</th>\n",
       "      <td>a</td>\n",
       "    </tr>\n",
       "    <tr>\n",
       "      <th>4490</th>\n",
       "      <td>a &lt;p&gt;I'm interested in noncommutative geometry...</td>\n",
       "    </tr>\n",
       "    <tr>\n",
       "      <th>4491</th>\n",
       "      <td>a &lt;p&gt;I am a differential geometer / topologist...</td>\n",
       "    </tr>\n",
       "    <tr>\n",
       "      <th>4492</th>\n",
       "      <td>a</td>\n",
       "    </tr>\n",
       "    <tr>\n",
       "      <th>4493</th>\n",
       "      <td>a &lt;p&gt;Graduate student in algebraic topology an...</td>\n",
       "    </tr>\n",
       "    <tr>\n",
       "      <th>4494</th>\n",
       "      <td>a</td>\n",
       "    </tr>\n",
       "    <tr>\n",
       "      <th>4495</th>\n",
       "      <td>a</td>\n",
       "    </tr>\n",
       "    <tr>\n",
       "      <th>4496</th>\n",
       "      <td>a</td>\n",
       "    </tr>\n",
       "    <tr>\n",
       "      <th>4497</th>\n",
       "      <td>a</td>\n",
       "    </tr>\n",
       "    <tr>\n",
       "      <th>4498</th>\n",
       "      <td>a</td>\n",
       "    </tr>\n",
       "    <tr>\n",
       "      <th>4499</th>\n",
       "      <td>a</td>\n",
       "    </tr>\n",
       "    <tr>\n",
       "      <th>4500</th>\n",
       "      <td>a</td>\n",
       "    </tr>\n",
       "    <tr>\n",
       "      <th>4501</th>\n",
       "      <td>a</td>\n",
       "    </tr>\n",
       "    <tr>\n",
       "      <th>4502</th>\n",
       "      <td>a</td>\n",
       "    </tr>\n",
       "    <tr>\n",
       "      <th>4503</th>\n",
       "      <td>a</td>\n",
       "    </tr>\n",
       "    <tr>\n",
       "      <th>4504</th>\n",
       "      <td>a</td>\n",
       "    </tr>\n",
       "    <tr>\n",
       "      <th>4505</th>\n",
       "      <td>a</td>\n",
       "    </tr>\n",
       "    <tr>\n",
       "      <th>4506</th>\n",
       "      <td>a</td>\n",
       "    </tr>\n",
       "    <tr>\n",
       "      <th>4507</th>\n",
       "      <td>a</td>\n",
       "    </tr>\n",
       "    <tr>\n",
       "      <th>4508</th>\n",
       "      <td>a &lt;p&gt;Programmer&lt;/p&gt;\\r\\n</td>\n",
       "    </tr>\n",
       "    <tr>\n",
       "      <th>4509</th>\n",
       "      <td>a</td>\n",
       "    </tr>\n",
       "    <tr>\n",
       "      <th>4510</th>\n",
       "      <td>a &lt;p&gt;I am a Commutative Algebraist with a View...</td>\n",
       "    </tr>\n",
       "    <tr>\n",
       "      <th>4511</th>\n",
       "      <td>a &lt;p&gt;I used to be a theoretical physicist, doi...</td>\n",
       "    </tr>\n",
       "    <tr>\n",
       "      <th>4512</th>\n",
       "      <td>a</td>\n",
       "    </tr>\n",
       "  </tbody>\n",
       "</table>\n",
       "<p>4513 rows × 1 columns</p>\n",
       "</div>"
      ],
      "text/plain": [
       "                                                      0\n",
       "0     a <p>You can get in touch with me at geraschen...\n",
       "1     a <p>Senior Lecturer at the Australian Nationa...\n",
       "2                       a <p>Dabbler in things.</p>\\r\\n\n",
       "3     a Assistant Professor at Indiana University, w...\n",
       "4     a I'm an arithmetic geometer at Emory University.\n",
       "5                                                    a \n",
       "6                                                    a \n",
       "7                                                    a \n",
       "8        a I am a professor at UC Davis. <br><br>\\r\\r\\n\n",
       "9                                                    a \n",
       "10                                                   a \n",
       "11             a <p>Associate professor at KTH.</p>\\r\\n\n",
       "12                                                   a \n",
       "13                                                   a \n",
       "14                                                    a\n",
       "15    a <p>I'm a math guy with a history of coding a...\n",
       "16    a <p>I'm an Assistant Professor at the Univers...\n",
       "17    a I am postdoc at the University of Michigan. ...\n",
       "18    a <p>Grad school dropout who still enjoys answ...\n",
       "19                                                    a\n",
       "20    a <p>I finished my PhD in Mathematics at UC Be...\n",
       "21    a <p>I am a postdoc in the Mathematical Physic...\n",
       "22                                                   a \n",
       "23    a Postdoctoral researcher in applied and compu...\n",
       "24                                                   a \n",
       "25    a <p>I'm a Lecturer at Coventry University.  M...\n",
       "26                                                   a \n",
       "27    a <p>Associate Professor of Mathematics at the...\n",
       "28                    a I think this is a neat project.\n",
       "29    a <p>I am currently an assistant professor at ...\n",
       "...                                                 ...\n",
       "4483                                  a <p>I am</p>\\r\\n\n",
       "4484                                                  a\n",
       "4485                                                 a \n",
       "4486                                                  a\n",
       "4487                                                  a\n",
       "4488  a <p>Phd student in France. Algebraic geometry...\n",
       "4489                                                  a\n",
       "4490  a <p>I'm interested in noncommutative geometry...\n",
       "4491  a <p>I am a differential geometer / topologist...\n",
       "4492                                                  a\n",
       "4493  a <p>Graduate student in algebraic topology an...\n",
       "4494                                                  a\n",
       "4495                                                  a\n",
       "4496                                                  a\n",
       "4497                                                  a\n",
       "4498                                                  a\n",
       "4499                                                  a\n",
       "4500                                                  a\n",
       "4501                                                  a\n",
       "4502                                                  a\n",
       "4503                                                 a \n",
       "4504                                                 a \n",
       "4505                                                  a\n",
       "4506                                                 a \n",
       "4507                                                  a\n",
       "4508                            a <p>Programmer</p>\\r\\n\n",
       "4509                                                  a\n",
       "4510  a <p>I am a Commutative Algebraist with a View...\n",
       "4511  a <p>I used to be a theoretical physicist, doi...\n",
       "4512                                                  a\n",
       "\n",
       "[4513 rows x 1 columns]"
      ]
     },
     "execution_count": 93,
     "metadata": {},
     "output_type": "execute_result"
    }
   ],
   "source": [
    "user_aboutme=pd.read_csv(\"User_aboutme.csv\",header=None)\n",
    "user_aboutme"
   ]
  },
  {
   "cell_type": "code",
   "execution_count": 94,
   "metadata": {
    "collapsed": true
   },
   "outputs": [],
   "source": [
    "user_aboutme.iloc[:,0]=user_aboutme.iloc[:,0].apply(cleanhtml)"
   ]
  },
  {
   "cell_type": "code",
   "execution_count": 96,
   "metadata": {
    "collapsed": true
   },
   "outputs": [],
   "source": [
    "user_aboutme_clean_1 = [clean(doc).split() for doc in user_aboutme.iloc[:,0]]\n",
    "user_aboutme_clean_2 = [[i for i in doc if i not in stop2 and i not in stop] for doc in user_aboutme_clean_1]\n",
    "#"
   ]
  },
  {
   "cell_type": "code",
   "execution_count": 101,
   "metadata": {
    "collapsed": true
   },
   "outputs": [],
   "source": [
    "# Creating the term dictionary of our courpus, where every unique term is assigned an index.\n",
    "dictionary = corpora.Dictionary(user_aboutme_clean_2)\n",
    "\n",
    "# Converting list of documents (corpus) into Document Term Matrix using dictionary prepared above.\n",
    "doc_term_matrix = [dictionary.doc2bow(doc) for doc in user_aboutme_clean_2]"
   ]
  },
  {
   "cell_type": "code",
   "execution_count": 102,
   "metadata": {
    "collapsed": true
   },
   "outputs": [],
   "source": [
    "# Creating the object for LDA model using gensim library\n",
    "Lda = gensim.models.ldamodel.LdaModel\n",
    "\n",
    "# Running and Trainign LDA model on the document term matrix.\n",
    "ldamodel3 = Lda(doc_term_matrix, num_topics=20, alpha='auto', id2word = dictionary, random_state=1)"
   ]
  },
  {
   "cell_type": "code",
   "execution_count": 103,
   "metadata": {
    "collapsed": false
   },
   "outputs": [
    {
     "name": "stdout",
     "output_type": "stream",
     "text": [
      "[(0, u'0.041*\"student\" + 0.026*\"graduate\" + 0.026*\"list\" + 0.016*\"mathematical\" + 0.015*\"mathematics\"'), (1, u'0.040*\"university\" + 0.018*\"elementary\" + 0.015*\"mathematics\" + 0.015*\"postdoc\" + 0.014*\"faculty\"'), (2, u'0.035*\"math\" + 0.031*\"student\" + 0.020*\"hilbert\" + 0.018*\"love\" + 0.016*\"write\"'), (3, u'0.033*\"topology\" + 0.026*\"theory\" + 0.022*\"geometry\" + 0.020*\"mathematics\" + 0.014*\"university\"'), (4, u'0.035*\"student\" + 0.027*\"phd\" + 0.022*\"university\" + 0.016*\"user\" + 0.016*\"algebra\"'), (5, u'0.050*\"theory\" + 0.023*\"algebraic\" + 0.022*\"algebra\" + 0.022*\"university\" + 0.015*\"category\"'), (6, u'0.025*\"variety\" + 0.019*\"theory\" + 0.018*\"mathematical\" + 0.012*\"algebra\" + 0.012*\"physic\"'), (7, u'0.019*\"thanks\" + 0.019*\"equivalence\" + 0.014*\"string\" + 0.013*\"vision\" + 0.011*\"mathematics\"'), (8, u'0.031*\"site\" + 0.018*\"logic\" + 0.014*\"mathematical\" + 0.014*\"enthusiast\" + 0.013*\"participation\"'), (9, u'0.065*\"geometry\" + 0.032*\"algebraic\" + 0.028*\"theory\" + 0.024*\"differential\" + 0.019*\"university\"'), (10, u'0.020*\"teaching\" + 0.016*\"universidad\" + 0.014*\"blank\" + 0.014*\"science\" + 0.014*\"company\"'), (11, u'0.040*\"mathematics\" + 0.039*\"university\" + 0.036*\"student\" + 0.021*\"phd\" + 0.021*\"professor\"'), (12, u'0.028*\"natural\" + 0.020*\"theory\" + 0.012*\"contact\" + 0.012*\"algebra\" + 0.012*\"student\"'), (13, u'0.037*\"university\" + 0.027*\"mathematics\" + 0.021*\"geometry\" + 0.021*\"professor\" + 0.013*\"theory\"'), (14, u'0.067*\"math\" + 0.017*\"active\" + 0.015*\"institut\" + 0.014*\"notion\" + 0.013*\"written\"'), (15, u'0.028*\"mathematics\" + 0.019*\"science\" + 0.019*\"phd\" + 0.017*\"computer\" + 0.014*\"university\"'), (16, u'0.030*\"mathematics\" + 0.026*\"mathematician\" + 0.021*\"physic\" + 0.015*\"relation\" + 0.012*\"theory\"'), (17, u'0.075*\"theory\" + 0.021*\"professor\" + 0.020*\"set\" + 0.019*\"model\" + 0.015*\"mathematics\"'), (18, u'0.041*\"student\" + 0.040*\"phd\" + 0.040*\"university\" + 0.034*\"theory\" + 0.031*\"physic\"'), (19, u'0.035*\"user\" + 0.016*\"germany\" + 0.015*\"site\" + 0.014*\"prolog\" + 0.014*\"approach\"')]\n"
     ]
    }
   ],
   "source": [
    "print(ldamodel3.print_topics(num_topics=20, num_words=5))"
   ]
  },
  {
   "cell_type": "code",
   "execution_count": 104,
   "metadata": {
    "collapsed": true
   },
   "outputs": [],
   "source": [
    "m2=np.zeros(shape=(4513,20))"
   ]
  },
  {
   "cell_type": "code",
   "execution_count": 105,
   "metadata": {
    "collapsed": true
   },
   "outputs": [],
   "source": [
    "for i in range(4513):\n",
    "    topic_v=ldamodel3.get_document_topics(doc_term_matrix[i], minimum_probability=None, minimum_phi_value=None, per_word_topics=False)\n",
    "    for t in topic_v:\n",
    "        m2[i,t[0]]=t[1]"
   ]
  },
  {
   "cell_type": "code",
   "execution_count": 106,
   "metadata": {
    "collapsed": true
   },
   "outputs": [],
   "source": [
    "m2_sp=sp.coo_matrix(m2,dtype=np.float32)"
   ]
  },
  {
   "cell_type": "code",
   "execution_count": 107,
   "metadata": {
    "collapsed": true
   },
   "outputs": [],
   "source": [
    "user_features_2=m2_sp.tocsr()"
   ]
  },
  {
   "cell_type": "code",
   "execution_count": 108,
   "metadata": {
    "collapsed": false
   },
   "outputs": [
    {
     "data": {
      "text/plain": [
       "<4513x20 sparse matrix of type '<type 'numpy.float32'>'\n",
       "\twith 66395 stored elements in Compressed Sparse Row format>"
      ]
     },
     "execution_count": 108,
     "metadata": {},
     "output_type": "execute_result"
    }
   ],
   "source": [
    "user_features_2"
   ]
  },
  {
   "cell_type": "markdown",
   "metadata": {},
   "source": [
    "#### Topic modeling for questions text"
   ]
  },
  {
   "cell_type": "code",
   "execution_count": 3,
   "metadata": {
    "collapsed": false
   },
   "outputs": [
    {
     "data": {
      "text/plain": [
       "'C:\\\\Users\\\\songyifn\\\\Desktop'"
      ]
     },
     "execution_count": 3,
     "metadata": {},
     "output_type": "execute_result"
    }
   ],
   "source": [
    "import os\n",
    "\n",
    "import numpy as np\n",
    "import pandas as pd\n",
    "os.getcwd()"
   ]
  },
  {
   "cell_type": "code",
   "execution_count": 4,
   "metadata": {
    "collapsed": true
   },
   "outputs": [],
   "source": [
    "questions_text=pd.read_csv(\"mathoverflow_Recommender_System\\Answers_text.csv\",header=None)"
   ]
  },
  {
   "cell_type": "code",
   "execution_count": 5,
   "metadata": {
    "collapsed": false
   },
   "outputs": [
    {
     "data": {
      "text/plain": [
       "' Can the valuative criteria for separatedness/properness be checked \"formally\"? <p>Suppose f:X&rarr;Y is a morphism of finite type between locally noetherian schemes. The valuative criterion for separatedness (resp. properness) says roughly that f is a separated (resp. proper) morphism if and only if the following condition holds:</p>\\r\\n\\r\\n<blockquote>\\r\\n  <p>For any curve C in Y and for any lift\\r\\n  of C-{p} to X, there is at most one\\r\\n  (resp. exactly one) way to extend this\\r\\n  to a lift of C to X.</p>\\r\\n</blockquote>\\r\\n\\r\\n<p>More precisely,</p>\\r\\n\\r\\n<blockquote>\\r\\n  <p>If C is the spectrum of a DVR with\\r\\n  closed point p (a <em>very local</em> version\\r\\n  of a curve: the intersection of all\\r\\n  open neighborhoods of p on an \"honest\"\\r\\n  curve), C&rarr;Y is a morphism, and\\r\\n  C-{p}&rarr;X is a lift of that\\r\\n  morphism along f, there is at most one\\r\\n  (resp. exactly one) way to complete it to\\r\\n  a lift C&rarr;X.</p>\\r\\n</blockquote>\\r\\n\\r\\n<p>Does it suffice to check the valuative criteria on an even more local kind of object: the spectrum of a <strong>complete</strong> DVR? This would be quite nice because the only complete DVRs over a field k are rings of the form L[[t]] where L is an extension of k.</p>\\r\\n\\r\\n<p>More generally, if you drop the hypotheses that f is of finite type and X and Y are locally noetherian, the usual valuative criteria must be verified for arbitrary valuation rings. Is it enough to check them for complete valuation rings?</p>\\r\\n'"
      ]
     },
     "execution_count": 5,
     "metadata": {},
     "output_type": "execute_result"
    }
   ],
   "source": [
    "questions_text.iloc[23,0]"
   ]
  },
  {
   "cell_type": "code",
   "execution_count": 8,
   "metadata": {
    "collapsed": false
   },
   "outputs": [],
   "source": [
    "questions_text=questions_text.fillna('a')"
   ]
  },
  {
   "cell_type": "code",
   "execution_count": 9,
   "metadata": {
    "collapsed": true
   },
   "outputs": [],
   "source": [
    "import re\n",
    "def cleanhtml(raw_html):\n",
    "    #clean HTML tags\n",
    "    cleanr = re.compile('<.*?>')\n",
    "    cleantext = re.sub(cleanr, ' ', raw_html)\n",
    "    return cleantext"
   ]
  },
  {
   "cell_type": "code",
   "execution_count": 10,
   "metadata": {
    "collapsed": true
   },
   "outputs": [],
   "source": [
    "questions_text.iloc[:,0]=questions_text.iloc[:,0].apply(cleanhtml)"
   ]
  },
  {
   "cell_type": "code",
   "execution_count": 11,
   "metadata": {
    "collapsed": false
   },
   "outputs": [
    {
     "data": {
      "text/plain": [
       "' Can the valuative criteria for separatedness/properness be checked \"formally\"?  Suppose f:X&rarr;Y is a morphism of finite type between locally noetherian schemes. The valuative criterion for separatedness (resp. properness) says roughly that f is a separated (resp. proper) morphism if and only if the following condition holds: \\r\\n\\r\\n \\r\\n   For any curve C in Y and for any lift\\r\\n  of C-{p} to X, there is at most one\\r\\n  (resp. exactly one) way to extend this\\r\\n  to a lift of C to X. \\r\\n \\r\\n\\r\\n More precisely, \\r\\n\\r\\n \\r\\n   If C is the spectrum of a DVR with\\r\\n  closed point p (a  very local  version\\r\\n  of a curve: the intersection of all\\r\\n  open neighborhoods of p on an \"honest\"\\r\\n  curve), C&rarr;Y is a morphism, and\\r\\n  C-{p}&rarr;X is a lift of that\\r\\n  morphism along f, there is at most one\\r\\n  (resp. exactly one) way to complete it to\\r\\n  a lift C&rarr;X. \\r\\n \\r\\n\\r\\n Does it suffice to check the valuative criteria on an even more local kind of object: the spectrum of a  complete  DVR? This would be quite nice because the only complete DVRs over a field k are rings of the form L[[t]] where L is an extension of k. \\r\\n\\r\\n More generally, if you drop the hypotheses that f is of finite type and X and Y are locally noetherian, the usual valuative criteria must be verified for arbitrary valuation rings. Is it enough to check them for complete valuation rings? \\r\\n'"
      ]
     },
     "execution_count": 11,
     "metadata": {},
     "output_type": "execute_result"
    }
   ],
   "source": [
    "questions_text.iloc[23,0]"
   ]
  },
  {
   "cell_type": "code",
   "execution_count": 12,
   "metadata": {
    "collapsed": true
   },
   "outputs": [],
   "source": [
    "from nltk.corpus import stopwords \n",
    "from nltk.stem.wordnet import WordNetLemmatizer\n",
    "import string\n",
    "stop = set(stopwords.words('english'))\n",
    "stop2 = set(pd.read_csv(\"mathoverflow_Recommender_System\\stopword_list.txt\",header=None).iloc[:,0])\n",
    "exclude = set(string.punctuation) \n",
    "lemma = WordNetLemmatizer()\n",
    "def clean(doc):\n",
    "    stop_free = \" \".join([i for i in doc.lower().split() if i not in stop and i not in stop2])\n",
    "    punc_free = ''.join(ch for ch in stop_free if ch not in exclude)\n",
    "    to_be_normalized=[]\n",
    "    for word in punc_free.split():\n",
    "        try:\n",
    "            cleaned_word=lemma.lemmatize(word)\n",
    "            if len(cleaned_word)>2:\n",
    "                to_be_normalized.append(cleaned_word)\n",
    "        except UnicodeDecodeError:\n",
    "            pass\n",
    "    normalized = \" \".join(to_be_normalized)\n",
    "    return normalized"
   ]
  },
  {
   "cell_type": "code",
   "execution_count": 14,
   "metadata": {
    "collapsed": false
   },
   "outputs": [],
   "source": [
    "questions_text_clean_1 = [clean(doc).split() for doc in questions_text.iloc[:,0]]\n",
    "questions_text_clean_2 = [[i for i in doc if i not in stop2 and i not in stop] for doc in questions_text_clean_1]\n",
    "#i not in stop3 and"
   ]
  },
  {
   "cell_type": "code",
   "execution_count": 17,
   "metadata": {
    "collapsed": false
   },
   "outputs": [
    {
     "data": {
      "text/plain": [
       "[u'question',\n",
       " u'set',\n",
       " u'space',\n",
       " 'function',\n",
       " u'example',\n",
       " u'finite',\n",
       " u'theorem',\n",
       " u'amp',\n",
       " u'map',\n",
       " u'theory',\n",
       " u'field',\n",
       " u'following',\n",
       " u'algebra',\n",
       " u'category',\n",
       " u'proof',\n",
       " u'form',\n",
       " u'matrix',\n",
       " u'answer',\n",
       " u'time',\n",
       " u'result',\n",
       " u'reference',\n",
       " u'true',\n",
       " u'complex',\n",
       " u'graph',\n",
       " u'class',\n",
       " u'polynomial',\n",
       " u'element',\n",
       " u'subset',\n",
       " u'vector',\n",
       " u'manifold',\n",
       " u'curve',\n",
       " u'consider',\n",
       " u'condition',\n",
       " u'sequence',\n",
       " u'paper',\n",
       " u'smooth',\n",
       " u'property',\n",
       " u'ring',\n",
       " u'structure',\n",
       " u'algebraic',\n",
       " 'prime',\n",
       " u'integer',\n",
       " u'representation',\n",
       " u'product',\n",
       " u'suppose',\n",
       " u'closed',\n",
       " u'equation',\n",
       " u'definition',\n",
       " u'mathbb',\n",
       " 'defined',\n",
       " u'real',\n",
       " u'solution',\n",
       " u'using',\n",
       " u'positive',\n",
       " 'variety',\n",
       " u'mean',\n",
       " u'prove',\n",
       " u'sum',\n",
       " u'compact',\n",
       " u'bundle',\n",
       " u'dimension',\n",
       " u'exists',\n",
       " u'define',\n",
       " u'dont',\n",
       " u'lie',\n",
       " u'value',\n",
       " u'thanks',\n",
       " u'simple',\n",
       " 'subgroup',\n",
       " u'model',\n",
       " u'term',\n",
       " u'measure',\n",
       " u'operator',\n",
       " 'linear',\n",
       " u'bound',\n",
       " u'assume',\n",
       " u'surface',\n",
       " u'formula',\n",
       " u'natural',\n",
       " u'degree',\n",
       " u'zero',\n",
       " u'rightarrow',\n",
       " u'leq',\n",
       " u'object',\n",
       " u'type',\n",
       " u'cohomology',\n",
       " u'note',\n",
       " u'particular',\n",
       " u'book',\n",
       " u'line',\n",
       " u'metric',\n",
       " u'exist',\n",
       " u'vertex',\n",
       " u'constant',\n",
       " u'random',\n",
       " u'scheme',\n",
       " u'system',\n",
       " u'conjecture',\n",
       " u'probability',\n",
       " u'projective',\n",
       " u'left',\n",
       " u'integral',\n",
       " u'extension',\n",
       " 'statement',\n",
       " u'topology',\n",
       " u'sheaf',\n",
       " u'continuous',\n",
       " u'generated',\n",
       " u'connected',\n",
       " u'equivalent',\n",
       " u'sense',\n",
       " u'mathcal',\n",
       " u'variable',\n",
       " u'free',\n",
       " u'relation',\n",
       " u'distribution',\n",
       " 'edit',\n",
       " u'hold',\n",
       " u'infinite',\n",
       " u'understand',\n",
       " u'related',\n",
       " u'help',\n",
       " u'omega',\n",
       " u'looking',\n",
       " u'bounded',\n",
       " u'abelian',\n",
       " u'topological',\n",
       " u'ideal',\n",
       " u'symmetric',\n",
       " u'action',\n",
       " u'course',\n",
       " u'homotopy',\n",
       " u'isomorphism',\n",
       " u'standard',\n",
       " u'denote',\n",
       " 'alpha',\n",
       " u'geometry',\n",
       " u'coefficient',\n",
       " u'local',\n",
       " u'fixed',\n",
       " 'construction',\n",
       " u'rational',\n",
       " u'similar',\n",
       " u'ive',\n",
       " u'idea',\n",
       " u'found',\n",
       " u'trivial',\n",
       " u'module',\n",
       " u'gamma',\n",
       " u'easy',\n",
       " u'limit',\n",
       " u'boundary',\n",
       " u'follows',\n",
       " 'series',\n",
       " u'look',\n",
       " u'method',\n",
       " u'functor',\n",
       " u'equivalence',\n",
       " u'lambda',\n",
       " u'differential',\n",
       " u'square',\n",
       " u'locally',\n",
       " u'characteristic',\n",
       " u'algorithm',\n",
       " u'convex',\n",
       " u'edge',\n",
       " u'invariant',\n",
       " u'complete',\n",
       " u'finitely',\n",
       " u'nice',\n",
       " u'irreducible',\n",
       " u'word',\n",
       " u'argument',\n",
       " u'family',\n",
       " u'equal',\n",
       " 'normal',\n",
       " u'length',\n",
       " u'morphism',\n",
       " u'root',\n",
       " u'identity',\n",
       " u'partial',\n",
       " u'unit',\n",
       " u'isomorphic',\n",
       " u'pair',\n",
       " u'geq',\n",
       " u'power',\n",
       " u'inequality',\n",
       " u'corresponding',\n",
       " u'delta',\n",
       " u'section',\n",
       " u'elliptic',\n",
       " u'maximal',\n",
       " u'trying',\n",
       " u'regular',\n",
       " u'otimes',\n",
       " u'version',\n",
       " 'quotient',\n",
       " u'sigma',\n",
       " u'phi',\n",
       " u'commutative',\n",
       " u'actually',\n",
       " u'mathbbr',\n",
       " u'notion',\n",
       " u'called',\n",
       " u'thank',\n",
       " u'existence',\n",
       " u'norm',\n",
       " u'plane',\n",
       " u'maybe',\n",
       " u'intersection',\n",
       " u'rank',\n",
       " u'lattice',\n",
       " u'special',\n",
       " u'comment',\n",
       " u'affine',\n",
       " u'infty',\n",
       " u'domain',\n",
       " u'eigenvalue',\n",
       " u'axiom',\n",
       " u'basis',\n",
       " u'geometric',\n",
       " u'image',\n",
       " u'literature',\n",
       " u'dimensional',\n",
       " u'compute',\n",
       " u'cant',\n",
       " u'factor',\n",
       " u'cdot',\n",
       " u'unique',\n",
       " u'size',\n",
       " u'exact',\n",
       " u'choice',\n",
       " u'implies',\n",
       " u'associated',\n",
       " u'respect',\n",
       " u'construct',\n",
       " u'path',\n",
       " u'hilbert',\n",
       " u'hence',\n",
       " u'nontrivial',\n",
       " u'able',\n",
       " u'fiber',\n",
       " u'instance',\n",
       " u'weight',\n",
       " u'sphere',\n",
       " u'arbitrary',\n",
       " u'divisor',\n",
       " u'tensor',\n",
       " u'process',\n",
       " u'distance',\n",
       " u'minimal',\n",
       " u'approach',\n",
       " u'lemma',\n",
       " u'page',\n",
       " u'usual',\n",
       " u'wondering',\n",
       " u'ldots',\n",
       " u'explicit',\n",
       " u'independent',\n",
       " u'component',\n",
       " u'reason',\n",
       " u'upper',\n",
       " u'write',\n",
       " u'obvious',\n",
       " u'contains',\n",
       " u'connection',\n",
       " u'mathematics',\n",
       " u'exactly',\n",
       " u'proved',\n",
       " u'doesnt',\n",
       " u'cover',\n",
       " u'index',\n",
       " u'advance',\n",
       " u'subspace',\n",
       " u'proper',\n",
       " u'discrete',\n",
       " u'fundamental',\n",
       " u'analytic',\n",
       " u'decomposition',\n",
       " u'call',\n",
       " u'galois',\n",
       " u'generator',\n",
       " u'classical',\n",
       " u'spectrum',\n",
       " u'necessarily',\n",
       " u'base',\n",
       " u'canonical',\n",
       " u'read',\n",
       " u'application',\n",
       " u'please',\n",
       " u'weak',\n",
       " u'singular',\n",
       " u'homology',\n",
       " u'etc',\n",
       " u'counterexample',\n",
       " u'langle',\n",
       " u'via',\n",
       " u'simplicial',\n",
       " u'derivative',\n",
       " u'coordinate']"
      ]
     },
     "execution_count": 17,
     "metadata": {},
     "output_type": "execute_result"
    }
   ],
   "source": [
    "from collections import Counter\n",
    "term_frequency=Counter(x for sublist in questions_text_clean_2 for x in sublist)\n",
    "list(pd.DataFrame.from_dict(term_frequency,orient='index').sort_values([0],ascending=False).head(300).index)"
   ]
  },
  {
   "cell_type": "code",
   "execution_count": 21,
   "metadata": {
    "collapsed": true
   },
   "outputs": [],
   "source": [
    "stop3=[u'question',\n",
    " u'set',\n",
    " u'space',\n",
    " 'function',\n",
    " u'example',\n",
    " u'finite',\n",
    " u'theorem',\n",
    " u'amp',\n",
    " u'map',\n",
    " u'theory',\n",
    " u'following',\n",
    " u'form',\n",
    " u'answer',\n",
    " u'time',\n",
    " u'result',\n",
    " u'reference',\n",
    " u'true',\n",
    " u'class',\n",
    " u'consider',\n",
    " u'condition',\n",
    " u'paper',\n",
    " u'property',\n",
    " u'structure',\n",
    " u'suppose',\n",
    " u'definition',\n",
    " u'mathbb',\n",
    " 'defined',\n",
    " u'using',\n",
    " 'variety',\n",
    " u'exists',\n",
    " u'define',\n",
    " u'dont',\n",
    " u'lie',\n",
    " u'value',\n",
    " u'thanks',\n",
    " u'simple',\n",
    " u'term',\n",
    " u'assume',\n",
    " u'natural',\n",
    " u'rightarrow',\n",
    " u'leq',\n",
    " u'object',\n",
    " u'type',\n",
    " u'note',\n",
    " u'particular',\n",
    " u'book',\n",
    " u'exist',\n",
    " u'constant',\n",
    " u'scheme',\n",
    " u'system',\n",
    " u'extension',\n",
    " 'statement',\n",
    " u'sense',\n",
    " u'mathcal',\n",
    " 'edit',\n",
    " u'help',\n",
    " u'omega',\n",
    " u'looking',\n",
    " u'ideal',\n",
    " u'action',\n",
    " u'course',\n",
    " u'standard',\n",
    " u'denote',\n",
    " 'alpha',\n",
    " u'omega',\n",
    " u'rational',\n",
    " u'similar',\n",
    " u'ive',\n",
    " u'idea',\n",
    " u'found',\n",
    " u'gamma',\n",
    " u'easy',\n",
    " u'limit',\n",
    " u'follows',\n",
    " u'look',\n",
    " u'functor',\n",
    " u'lambda',\n",
    " u'nice',\n",
    " u'word',\n",
    " u'pair',\n",
    " u'geq',\n",
    " u'corresponding',\n",
    " u'delta',\n",
    " u'section',\n",
    " u'trying',\n",
    " u'otimes',\n",
    " u'version',\n",
    " u'sigma',\n",
    " u'phi',\n",
    " u'actually',\n",
    " u'mathbbr',\n",
    " u'notion',\n",
    " u'called',\n",
    " u'thank',\n",
    " u'maybe',\n",
    " u'special',\n",
    " u'comment',\n",
    " u'infty',\n",
    " u'literature',\n",
    " u'cant',\n",
    " u'cdot',\n",
    " u'exact',\n",
    " u'choice',\n",
    " u'implies',\n",
    " u'associated',\n",
    " u'respect',\n",
    " u'hence',\n",
    " u'able',\n",
    " u'fiber',\n",
    " u'process',\n",
    " u'approach',\n",
    " u'page',\n",
    " u'usual',\n",
    " u'wondering',\n",
    " u'ldots',\n",
    " u'reason',\n",
    " u'write',\n",
    " u'obvious',\n",
    " u'contains',\n",
    " u'mathematics',\n",
    " u'exactly',\n",
    " u'doesnt',\n",
    " u'cover',\n",
    " u'advance',\n",
    " u'proper',\n",
    " u'call',\n",
    " u'classical',\n",
    " u'necessarily',\n",
    " u'read',\n",
    " u'application',\n",
    " u'please',\n",
    " u'etc',\n",
    " u'langle',\n",
    " u'via',\n",
    " u'simplicial',\n",
    " u'math',\n",
    " u'guess',\n",
    " u'correct',\n",
    " u'seen',\n",
    " u'mathbbc',\n",
    " u'information',\n",
    " u'hand',\n",
    " u'mathematical',\n",
    " u'article',\n",
    " u'motivation',\n",
    " u'appreciated',\n",
    " u'probably',\n",
    " u'forall',\n",
    " u'cdots',\n",
    " u'name',\n",
    " u'simply',\n",
    " u'taking',\n",
    " 'mathbbrn',\n",
    " u'instead',\n",
    " u'mathbbz',\n",
    " u'text',\n",
    " u'basic',\n",
    " u'believe',\n",
    " u'situation',\n",
    " u'change',\n",
    " u'choose',\n",
    " u'step',\n",
    " u'obtain',\n",
    " u'reading',\n",
    " u'lot',\n",
    " u'claim',\n",
    " u'remark',\n",
    " u'people',\n",
    " u'hope',\n",
    " u'act',\n",
    " u'finding',\n",
    " u'wellknown',\n",
    " u'nbsp',\n",
    " u'theta',\n",
    " u'yes',\n",
    " u'torus',\n",
    " u'written',\n",
    " u'precisely',\n",
    " u'description',\n",
    " u'tell',\n",
    " u'fix',\n",
    " u'study',\n",
    " u'imply',\n",
    " u'beta',\n",
    " u'denotes',\n",
    " u'useful',\n",
    " u'language',\n",
    " u'start',\n",
    " u'context',\n",
    " u'obtained']"
   ]
  },
  {
   "cell_type": "code",
   "execution_count": 22,
   "metadata": {
    "collapsed": true
   },
   "outputs": [],
   "source": [
    "questions_text_clean_3 = [[i for i in doc if i not in stop3] for doc in questions_text_clean_2]"
   ]
  },
  {
   "cell_type": "code",
   "execution_count": 23,
   "metadata": {
    "collapsed": false
   },
   "outputs": [
    {
     "data": {
      "text/plain": [
       "[u'field',\n",
       " u'algebra',\n",
       " u'category',\n",
       " u'proof',\n",
       " u'matrix',\n",
       " u'complex',\n",
       " u'graph',\n",
       " u'polynomial',\n",
       " u'element',\n",
       " u'subset',\n",
       " u'vector',\n",
       " u'manifold',\n",
       " u'curve',\n",
       " u'sequence',\n",
       " u'smooth',\n",
       " u'ring',\n",
       " u'algebraic',\n",
       " 'prime',\n",
       " u'integer',\n",
       " u'representation',\n",
       " u'product',\n",
       " u'closed',\n",
       " u'equation',\n",
       " u'real',\n",
       " u'solution',\n",
       " u'positive',\n",
       " u'mean',\n",
       " u'prove',\n",
       " u'sum',\n",
       " u'compact',\n",
       " u'bundle',\n",
       " u'dimension',\n",
       " 'subgroup',\n",
       " u'model',\n",
       " u'measure',\n",
       " u'operator',\n",
       " 'linear',\n",
       " u'bound',\n",
       " u'surface',\n",
       " u'formula',\n",
       " u'degree',\n",
       " u'zero',\n",
       " u'cohomology',\n",
       " u'line',\n",
       " u'metric',\n",
       " u'vertex',\n",
       " u'random',\n",
       " u'conjecture',\n",
       " u'probability',\n",
       " u'projective',\n",
       " u'left',\n",
       " u'integral',\n",
       " u'topology',\n",
       " u'sheaf',\n",
       " u'continuous',\n",
       " u'generated',\n",
       " u'connected',\n",
       " u'equivalent',\n",
       " u'variable',\n",
       " u'free',\n",
       " u'relation',\n",
       " u'distribution',\n",
       " u'hold',\n",
       " u'infinite',\n",
       " u'understand',\n",
       " u'related',\n",
       " u'bounded',\n",
       " u'abelian',\n",
       " u'topological',\n",
       " u'symmetric',\n",
       " u'homotopy',\n",
       " u'isomorphism',\n",
       " u'geometry',\n",
       " u'coefficient',\n",
       " u'local',\n",
       " u'fixed',\n",
       " 'construction',\n",
       " u'trivial',\n",
       " u'module',\n",
       " u'boundary',\n",
       " 'series',\n",
       " u'method',\n",
       " u'equivalence',\n",
       " u'differential',\n",
       " u'square',\n",
       " u'locally',\n",
       " u'characteristic',\n",
       " u'algorithm',\n",
       " u'convex',\n",
       " u'edge',\n",
       " u'invariant',\n",
       " u'complete',\n",
       " u'finitely',\n",
       " u'irreducible',\n",
       " u'argument',\n",
       " u'family',\n",
       " u'equal',\n",
       " 'normal',\n",
       " u'length',\n",
       " u'morphism',\n",
       " u'root',\n",
       " u'identity',\n",
       " u'partial',\n",
       " u'unit',\n",
       " u'isomorphic',\n",
       " u'power',\n",
       " u'inequality',\n",
       " u'elliptic',\n",
       " u'maximal',\n",
       " u'regular',\n",
       " 'quotient',\n",
       " u'commutative',\n",
       " u'existence',\n",
       " u'norm',\n",
       " u'plane',\n",
       " u'intersection',\n",
       " u'rank',\n",
       " u'lattice',\n",
       " u'affine',\n",
       " u'domain',\n",
       " u'eigenvalue',\n",
       " u'axiom',\n",
       " u'basis',\n",
       " u'geometric',\n",
       " u'image',\n",
       " u'dimensional',\n",
       " u'compute',\n",
       " u'factor',\n",
       " u'unique',\n",
       " u'size',\n",
       " u'construct',\n",
       " u'path',\n",
       " u'hilbert',\n",
       " u'nontrivial',\n",
       " u'instance',\n",
       " u'weight',\n",
       " u'sphere',\n",
       " u'arbitrary',\n",
       " u'divisor',\n",
       " u'tensor',\n",
       " u'distance',\n",
       " u'minimal',\n",
       " u'lemma',\n",
       " u'explicit',\n",
       " u'independent',\n",
       " u'component',\n",
       " u'upper',\n",
       " u'connection',\n",
       " u'proved',\n",
       " u'index',\n",
       " u'subspace',\n",
       " u'discrete',\n",
       " u'fundamental',\n",
       " u'analytic',\n",
       " u'decomposition',\n",
       " u'galois',\n",
       " u'generator',\n",
       " u'spectrum',\n",
       " u'canonical',\n",
       " u'base',\n",
       " u'weak',\n",
       " u'singular',\n",
       " u'homology',\n",
       " u'counterexample',\n",
       " u'derivative',\n",
       " u'coordinate',\n",
       " u'elementary',\n",
       " u'circle',\n",
       " u'quadratic',\n",
       " u'bit',\n",
       " u'cardinal',\n",
       " u'dot',\n",
       " u'diagram',\n",
       " u'character',\n",
       " u'partition',\n",
       " u'curvature',\n",
       " u'direct',\n",
       " u'induced',\n",
       " u'universal',\n",
       " u'ball',\n",
       " u'dual',\n",
       " u'lower',\n",
       " u'assumption',\n",
       " u'riemannian',\n",
       " u'permutation',\n",
       " u'level',\n",
       " u'satisfies',\n",
       " u'original',\n",
       " u'interval',\n",
       " 'embedding',\n",
       " u'solve',\n",
       " u'specific',\n",
       " u'modular',\n",
       " u'modulus',\n",
       " 'genus',\n",
       " u'flat',\n",
       " u'analysis',\n",
       " u'tree',\n",
       " u'arithmetic',\n",
       " u'countable',\n",
       " u'inverse',\n",
       " u'homomorphism',\n",
       " u'riemann',\n",
       " u'projection',\n",
       " u'odd',\n",
       " u'hard',\n",
       " u'estimate',\n",
       " u'morphisms',\n",
       " u'banach',\n",
       " u'density',\n",
       " u'transformation',\n",
       " u'operation',\n",
       " u'chain',\n",
       " u'cycle',\n",
       " u'restriction',\n",
       " u'kernel',\n",
       " u'convergence',\n",
       " u'cap',\n",
       " u'satisfy',\n",
       " u'satisfying',\n",
       " u'fourier',\n",
       " u'nonzero',\n",
       " u'generalization',\n",
       " u'expression',\n",
       " u'entry',\n",
       " u'formal',\n",
       " u'iff',\n",
       " u'direction',\n",
       " u'link',\n",
       " u'sort',\n",
       " u'holomorphic',\n",
       " u'transform',\n",
       " u'derived',\n",
       " u'quantum',\n",
       " u'orbit',\n",
       " u'triangle',\n",
       " u'diagonal',\n",
       " u'geodesic',\n",
       " u'difference',\n",
       " u'hyperbolic',\n",
       " u'maximum',\n",
       " u'negative',\n",
       " u'symplectic',\n",
       " u'stack',\n",
       " u'closure',\n",
       " u'epsilon',\n",
       " u'subseteq',\n",
       " u'generalized',\n",
       " u'xin',\n",
       " u'singularity',\n",
       " u'generic',\n",
       " u'stable',\n",
       " u'kappa',\n",
       " u'spectral',\n",
       " u'mapping',\n",
       " u'knot',\n",
       " u'try',\n",
       " u'union',\n",
       " u'quad',\n",
       " u'dense',\n",
       " u'indeed',\n",
       " u'parameter',\n",
       " u'notation',\n",
       " u'mod',\n",
       " u'injective',\n",
       " u'setting',\n",
       " u'wonder',\n",
       " u'multiplication',\n",
       " u'sufficient',\n",
       " u'collection',\n",
       " u'global',\n",
       " u'covering',\n",
       " u'little',\n",
       " u'research',\n",
       " u'automorphism',\n",
       " u'list',\n",
       " 'precise',\n",
       " u'tangent',\n",
       " u'functors',\n",
       " u'euclidean',\n",
       " u'hypothesis',\n",
       " u'data',\n",
       " u'mathbbn',\n",
       " u'cong',\n",
       " u'feel',\n",
       " u'distinct',\n",
       " 'wrong',\n",
       " u'namely',\n",
       " u'post',\n",
       " u'tried',\n",
       " u'approximation',\n",
       " u'borel',\n",
       " u'measurable',\n",
       " u'expect',\n",
       " 'assuming',\n",
       " u'mathbbq',\n",
       " u'volume',\n",
       " u'based',\n",
       " u'hausdorff',\n",
       " u'total']"
      ]
     },
     "execution_count": 23,
     "metadata": {},
     "output_type": "execute_result"
    }
   ],
   "source": [
    "from collections import Counter\n",
    "term_frequency=Counter(x for sublist in questions_text_clean_3 for x in sublist)\n",
    "list(pd.DataFrame.from_dict(term_frequency,orient='index').sort_values([0],ascending=False).head(300).index)"
   ]
  },
  {
   "cell_type": "code",
   "execution_count": 24,
   "metadata": {
    "collapsed": false
   },
   "outputs": [
    {
     "name": "stderr",
     "output_type": "stream",
     "text": [
      "C:\\Users\\songyifn\\Anaconda2\\lib\\site-packages\\gensim\\utils.py:855: UserWarning: detected Windows; aliasing chunkize to chunkize_serial\n",
      "  warnings.warn(\"detected Windows; aliasing chunkize to chunkize_serial\")\n"
     ]
    }
   ],
   "source": [
    "import gensim\n",
    "from gensim import corpora\n",
    "\n",
    "# Creating the term dictionary of our courpus, where every unique term is assigned an index.\n",
    "dictionary = corpora.Dictionary(questions_text_clean_3)\n",
    "\n",
    "# Converting list of documents (corpus) into Document Term Matrix using dictionary prepared above.\n",
    "doc_term_matrix = [dictionary.doc2bow(doc) for doc in questions_text_clean_3]"
   ]
  },
  {
   "cell_type": "code",
   "execution_count": 28,
   "metadata": {
    "collapsed": false
   },
   "outputs": [],
   "source": [
    "# Creating the object for LDA model using gensim library\n",
    "Lda = gensim.models.ldamodel.LdaModel\n",
    "\n",
    "# Running and Trainign LDA model on the document term matrix.\n",
    "ldamodel = Lda(doc_term_matrix, num_topics=50, alpha='auto', id2word = dictionary, random_state=1)"
   ]
  },
  {
   "cell_type": "code",
   "execution_count": 54,
   "metadata": {
    "collapsed": false
   },
   "outputs": [
    {
     "name": "stdout",
     "output_type": "stream",
     "text": [
      "[(0, u'0.104*\"mbox\" + 0.061*\"family\" + 0.032*\"modulus\" + 0.025*\"symplectic\" + 0.017*\"mathfrakg\" + 0.015*\"mathscrs0\" + 0.015*\"homogeneous\" + 0.010*\"ultrafilter\" + 0.010*\"relative\" + 0.009*\"gin\"'), (1, u'0.042*\"orbit\" + 0.033*\"mathfrak\" + 0.023*\"operatornamead\" + 0.021*\"oplus\" + 0.020*\"nilpotent\" + 0.012*\"expectation\" + 0.012*\"subalgebra\" + 0.011*\"cartan\" + 0.011*\"conditional\" + 0.011*\"ast\"'), (2, u'0.049*\"homotopy\" + 0.036*\"equivalence\" + 0.031*\"relation\" + 0.030*\"isomorphism\" + 0.024*\"diagram\" + 0.023*\"transformation\" + 0.017*\"loop\" + 0.016*\"equivalent\" + 0.014*\"preserve\" + 0.011*\"bijection\"'), (3, u'0.034*\"series\" + 0.028*\"method\" + 0.020*\"sum\" + 0.019*\"power\" + 0.011*\"modular\" + 0.010*\"mod\" + 0.010*\"compute\" + 0.010*\"formula\" + 0.009*\"numerical\" + 0.009*\"range\"'), (4, u'0.094*\"model\" + 0.045*\"countable\" + 0.028*\"mathscrs\" + 0.016*\"puzzle\" + 0.016*\"configuration\" + 0.015*\"transition\" + 0.012*\"segment\" + 0.012*\"mathbbr2\" + 0.011*\"pure\" + 0.010*\"particle\"'), (5, u'0.026*\"board\" + 0.020*\"euler\" + 0.018*\"optimal\" + 0.016*\"combinatorial\" + 0.014*\"filter\" + 0.013*\"count\" + 0.012*\"cell\" + 0.010*\"cut\" + 0.009*\"carry\" + 0.009*\"triple\"'), (6, u'0.101*\"subset\" + 0.091*\"measure\" + 0.041*\"continuous\" + 0.032*\"measurable\" + 0.019*\"borel\" + 0.019*\"dense\" + 0.018*\"xin\" + 0.015*\"closed\" + 0.013*\"topological\" + 0.012*\"lebesgue\"'), (7, u'0.096*\"representation\" + 0.057*\"irreducible\" + 0.033*\"decomposition\" + 0.021*\"component\" + 0.016*\"character\" + 0.016*\"weight\" + 0.015*\"stein\" + 0.012*\"height\" + 0.012*\"modular\" + 0.009*\"hecke\"'), (8, u'0.080*\"bound\" + 0.035*\"upper\" + 0.035*\"bounded\" + 0.033*\"mathbbn\" + 0.032*\"norm\" + 0.024*\"lower\" + 0.024*\"banach\" + 0.017*\"log\" + 0.016*\"asymptotic\" + 0.016*\"epsilon\"'), (9, u'0.093*\"polynomial\" + 0.046*\"positive\" + 0.044*\"sequence\" + 0.044*\"integer\" + 0.042*\"sum\" + 0.036*\"root\" + 0.035*\"degree\" + 0.035*\"real\" + 0.033*\"coefficient\" + 0.032*\"square\"'), (10, u'0.068*\"algorithm\" + 0.034*\"path\" + 0.034*\"partition\" + 0.021*\"sampling\" + 0.016*\"white\" + 0.016*\"weight\" + 0.016*\"mathbf\" + 0.016*\"mathbbcn\" + 0.013*\"black\" + 0.011*\"weighted\"'), (11, u'0.113*\"proof\" + 0.037*\"lemma\" + 0.032*\"prove\" + 0.023*\"connected\" + 0.015*\"counterexample\" + 0.014*\"argument\" + 0.013*\"colon\" + 0.011*\"elementary\" + 0.011*\"godel\" + 0.010*\"fibration\"'), (12, u'0.039*\"unit\" + 0.034*\"surface\" + 0.025*\"sphere\" + 0.024*\"circle\" + 0.021*\"disk\" + 0.021*\"mux\" + 0.021*\"hyperbolic\" + 0.020*\"radius\" + 0.019*\"plane\" + 0.018*\"boundary\"'), (13, u'0.043*\"transform\" + 0.041*\"fourier\" + 0.026*\"harmonic\" + 0.024*\"vert\" + 0.015*\"translation\" + 0.014*\"sumn\" + 0.012*\"convolution\" + 0.012*\"inverse\" + 0.010*\"absolutely\" + 0.009*\"homeomorphism\"'), (14, u'0.041*\"projection\" + 0.036*\"hilbert\" + 0.033*\"queen\" + 0.025*\"optimization\" + 0.022*\"constraint\" + 0.022*\"trace\" + 0.019*\"eta\" + 0.017*\"onto\" + 0.017*\"factor\" + 0.014*\"fin\"'), (15, u'0.067*\"generated\" + 0.061*\"free\" + 0.052*\"abelian\" + 0.048*\"finitely\" + 0.037*\"generator\" + 0.029*\"rank\" + 0.028*\"quotient\" + 0.018*\"equiv\" + 0.016*\"nonabelian\" + 0.015*\"generating\"'), (16, u'0.124*\"category\" + 0.015*\"mathcalc\" + 0.014*\"monoidal\" + 0.014*\"derived\" + 0.013*\"morphisms\" + 0.013*\"functors\" + 0.012*\"grothendieck\" + 0.011*\"equivalence\" + 0.009*\"adjoint\" + 0.009*\"mathscra\"'), (17, u'0.127*\"product\" + 0.065*\"conjecture\" + 0.054*\"tensor\" + 0.021*\"quantum\" + 0.011*\"linfty\" + 0.010*\"central\" + 0.010*\"sigmacomplete\" + 0.010*\"ktheory\" + 0.009*\"construction\" + 0.009*\"quiver\"'), (18, u'0.043*\"axiom\" + 0.042*\"domain\" + 0.034*\"sequence\" + 0.023*\"eigenfunctions\" + 0.021*\"sobolev\" + 0.017*\"gap\" + 0.016*\"zfc\" + 0.016*\"binary\" + 0.016*\"equality\" + 0.013*\"variation\"'), (19, u'0.079*\"ring\" + 0.043*\"sheaf\" + 0.031*\"local\" + 0.029*\"projective\" + 0.028*\"module\" + 0.022*\"injective\" + 0.019*\"morphism\" + 0.018*\"locally\" + 0.016*\"flat\" + 0.016*\"smooth\"'), (20, u'0.014*\"subject\" + 0.010*\"understand\" + 0.008*\"kappa\" + 0.008*\"mean\" + 0.007*\"concentration\" + 0.007*\"research\" + 0.006*\"related\" + 0.005*\"cardinality\" + 0.005*\"bit\" + 0.005*\"analysis\"'), (21, u'0.048*\"spectrum\" + 0.037*\"maximal\" + 0.033*\"stable\" + 0.029*\"spectral\" + 0.020*\"padic\" + 0.018*\"hodge\" + 0.016*\"symmetry\" + 0.013*\"growth\" + 0.013*\"filtration\" + 0.012*\"sequence\"'), (22, u'0.024*\"calculus\" + 0.024*\"notation\" + 0.021*\"rule\" + 0.016*\"hyperelliptic\" + 0.013*\"laurent\" + 0.012*\"calculate\" + 0.011*\"recursive\" + 0.011*\"invented\" + 0.010*\"adjacent\" + 0.009*\"formula\"'), (23, u'0.033*\"person\" + 0.029*\"quad\" + 0.020*\"sqrt17\" + 0.019*\"game\" + 0.018*\"link\" + 0.017*\"move\" + 0.013*\"mathcalm\" + 0.010*\"player\" + 0.009*\"strategy\" + 0.008*\"goal\"'), (24, u'0.146*\"graph\" + 0.078*\"vertex\" + 0.061*\"tree\" + 0.050*\"edge\" + 0.021*\"node\" + 0.019*\"cycle\" + 0.015*\"spanning\" + 0.012*\"rooted\" + 0.011*\"connected\" + 0.010*\"planar\"'), (25, u'0.123*\"prime\" + 0.034*\"integer\" + 0.025*\"odd\" + 0.022*\"conjecture\" + 0.020*\"coloring\" + 0.020*\"coprime\" + 0.019*\"color\" + 0.017*\"perfect\" + 0.014*\"factor\" + 0.014*\"infinitely\"'), (26, u'0.080*\"random\" + 0.057*\"probability\" + 0.055*\"distribution\" + 0.036*\"variable\" + 0.028*\"density\" + 0.018*\"interval\" + 0.015*\"independent\" + 0.014*\"cardinal\" + 0.013*\"size\" + 0.013*\"gaussian\"'), (27, u'0.075*\"compact\" + 0.047*\"topology\" + 0.030*\"surface\" + 0.029*\"locally\" + 0.028*\"curve\" + 0.025*\"genus\" + 0.023*\"dimension\" + 0.020*\"topological\" + 0.020*\"riemann\" + 0.019*\"dual\"'), (28, u'0.069*\"basis\" + 0.030*\"independent\" + 0.024*\"maximum\" + 0.023*\"linearly\" + 0.016*\"quantity\" + 0.015*\"ergodic\" + 0.013*\"intermediate\" + 0.013*\"1leq\" + 0.011*\"adversary\" + 0.011*\"lgn\"'), (29, u'0.042*\"smooth\" + 0.031*\"psi\" + 0.021*\"mathcalf\" + 0.019*\"endarray\" + 0.015*\"unitary\" + 0.015*\"bar\" + 0.015*\"fibre\" + 0.015*\"vdots\" + 0.014*\"discrete\" + 0.011*\"ampamp\"'), (30, u'0.067*\"inequality\" + 0.037*\"prove\" + 0.036*\"proof\" + 0.018*\"hold\" + 0.017*\"consistent\" + 0.016*\"logic\" + 0.014*\"existence\" + 0.013*\"nonempty\" + 0.012*\"iteration\" + 0.010*\"proposition\"'), (31, u'0.067*\"lattice\" + 0.029*\"red\" + 0.028*\"cal\" + 0.026*\"cone\" + 0.023*\"consistency\" + 0.022*\"deformation\" + 0.020*\"green\" + 0.019*\"boolean\" + 0.017*\"heat\" + 0.015*\"poset\"'), (32, u'0.054*\"convex\" + 0.042*\"distance\" + 0.020*\"ball\" + 0.020*\"minimum\" + 0.016*\"minimizes\" + 0.015*\"position\" + 0.014*\"cluster\" + 0.013*\"line\" + 0.010*\"pde\" + 0.009*\"coordinate\"'), (33, u'0.088*\"integral\" + 0.056*\"infinite\" + 0.045*\"normal\" + 0.035*\"index\" + 0.026*\"nabla\" + 0.018*\"inner\" + 0.013*\"block\" + 0.013*\"symbol\" + 0.012*\"dimensional\" + 0.011*\"integration\"'), (34, u'0.164*\"field\" + 0.064*\"formula\" + 0.026*\"ordinal\" + 0.019*\"bbb\" + 0.014*\"arithmetic\" + 0.014*\"complete\" + 0.012*\"complexity\" + 0.010*\"residue\" + 0.009*\"characteristic\" + 0.009*\"closure\"'), (35, u'0.076*\"subgroup\" + 0.041*\"endalign\" + 0.040*\"beginalign\" + 0.035*\"rho\" + 0.032*\"connection\" + 0.026*\"principal\" + 0.018*\"maximal\" + 0.013*\"parabolic\" + 0.011*\"representation\" + 0.011*\"reductive\"'), (36, u'0.188*\"algebra\" + 0.026*\"poisson\" + 0.016*\"rangle\" + 0.012*\"commutative\" + 0.012*\"hopf\" + 0.012*\"graded\" + 0.011*\"semisimple\" + 0.010*\"dimensional\" + 0.009*\"finitedimensional\" + 0.009*\"operator\"'), (37, u'0.128*\"operator\" + 0.033*\"kernel\" + 0.027*\"cap\" + 0.023*\"subseteq\" + 0.017*\"omega1\" + 0.014*\"bounded\" + 0.014*\"strictly\" + 0.012*\"neq\" + 0.010*\"hat\" + 0.010*\"rate\"'), (38, u'0.084*\"left\" + 0.043*\"varphi\" + 0.023*\"partial\" + 0.017*\"analytic\" + 0.014*\"stochastic\" + 0.013*\"xtimes\" + 0.012*\"int\" + 0.012*\"frac\" + 0.011*\"cube\" + 0.011*\"qquad\"'), (39, u'0.093*\"algebraic\" + 0.047*\"closed\" + 0.034*\"divisor\" + 0.032*\"geometry\" + 0.029*\"affine\" + 0.023*\"field\" + 0.020*\"embedding\" + 0.019*\"geometric\" + 0.018*\"projective\" + 0.015*\"algebraically\"'), (40, u'0.030*\"minimal\" + 0.027*\"integer\" + 0.021*\"length\" + 0.020*\"frac29\" + 0.019*\"periodic\" + 0.017*\"walk\" + 0.015*\"mse\" + 0.015*\"motion\" + 0.015*\"fracnk\" + 0.014*\"brownian\"'), (41, u'0.045*\"endequation\" + 0.043*\"beginequation\" + 0.022*\"displaystyle\" + 0.022*\"stack\" + 0.013*\"uin\" + 0.011*\"pattern\" + 0.011*\"composite\" + 0.010*\"resp\" + 0.008*\"mathcalx\" + 0.008*\"nin\"'), (42, u'0.142*\"matrix\" + 0.038*\"eigenvalue\" + 0.032*\"vector\" + 0.024*\"symmetric\" + 0.022*\"dot\" + 0.018*\"linear\" + 0.016*\"entry\" + 0.016*\"column\" + 0.014*\"tau\" + 0.014*\"diagonal\"'), (43, u'0.038*\"identity\" + 0.032*\"operation\" + 0.032*\"permutation\" + 0.026*\"varepsilon\" + 0.019*\"mid\" + 0.018*\"ann\" + 0.017*\"vector\" + 0.016*\"symmetric\" + 0.012*\"mapsto\" + 0.009*\"multiplication\"'), (44, u'0.118*\"manifold\" + 0.068*\"metric\" + 0.028*\"riemannian\" + 0.026*\"compact\" + 0.025*\"invariant\" + 0.019*\"curvature\" + 0.017*\"geodesic\" + 0.016*\"smooth\" + 0.014*\"closed\" + 0.013*\"knot\"'), (45, u'0.130*\"complex\" + 0.067*\"cohomology\" + 0.031*\"singular\" + 0.022*\"intersection\" + 0.021*\"homology\" + 0.016*\"smooth\" + 0.012*\"cup\" + 0.011*\"chern\" + 0.011*\"projective\" + 0.010*\"analytic\"'), (46, u'0.087*\"equation\" + 0.073*\"solution\" + 0.022*\"differential\" + 0.017*\"derivative\" + 0.016*\"boundary\" + 0.015*\"convergence\" + 0.015*\"partial\" + 0.012*\"method\" + 0.011*\"solve\" + 0.010*\"functional\"'), (47, u'0.030*\"forcing\" + 0.030*\"generic\" + 0.019*\"nodal\" + 0.018*\"cardinal\" + 0.015*\"braid\" + 0.012*\"hypersurface\" + 0.012*\"hypersurfaces\" + 0.010*\"reduced\" + 0.009*\"blowup\" + 0.009*\"fxy\"'), (48, u'0.091*\"bundle\" + 0.084*\"curve\" + 0.068*\"vector\" + 0.057*\"line\" + 0.034*\"elliptic\" + 0.017*\"zero\" + 0.015*\"singularity\" + 0.015*\"mathbbq\" + 0.013*\"trivial\" + 0.012*\"zeta\"'), (49, u'0.130*\"element\" + 0.029*\"galois\" + 0.026*\"automorphism\" + 0.020*\"fundamental\" + 0.019*\"cyclic\" + 0.019*\"frobenius\" + 0.018*\"characteristic\" + 0.013*\"automorphisms\" + 0.012*\"factorization\" + 0.011*\"field\"')]\n"
     ]
    }
   ],
   "source": [
    "print(ldamodel.print_topics(num_topics=50, num_words=10))"
   ]
  },
  {
   "cell_type": "code",
   "execution_count": 31,
   "metadata": {
    "collapsed": true
   },
   "outputs": [],
   "source": [
    "m1=np.zeros(shape=(len(doc_term_matrix),50))\n",
    "for i in range(len(doc_term_matrix)):\n",
    "    topic_v=ldamodel.get_document_topics(doc_term_matrix[i], minimum_probability=None, minimum_phi_value=None, per_word_topics=False)\n",
    "    for t in topic_v:\n",
    "        m1[i,t[0]]=t[1]"
   ]
  },
  {
   "cell_type": "code",
   "execution_count": null,
   "metadata": {
    "collapsed": true
   },
   "outputs": [],
   "source": [
    "pd.DataFrame(m1)"
   ]
  },
  {
   "cell_type": "code",
   "execution_count": 34,
   "metadata": {
    "collapsed": false
   },
   "outputs": [],
   "source": [
    "import scipy.sparse as sp\n",
    "m1_csr=sp.coo_matrix(m1,dtype=np.float32).tocsr()"
   ]
  },
  {
   "cell_type": "code",
   "execution_count": 35,
   "metadata": {
    "collapsed": false
   },
   "outputs": [
    {
     "data": {
      "text/plain": [
       "<78048x50 sparse matrix of type '<type 'numpy.float32'>'\n",
       "\twith 834539 stored elements in Compressed Sparse Row format>"
      ]
     },
     "execution_count": 35,
     "metadata": {},
     "output_type": "execute_result"
    }
   ],
   "source": [
    "m1_csr"
   ]
  },
  {
   "cell_type": "code",
   "execution_count": 46,
   "metadata": {
    "collapsed": false
   },
   "outputs": [],
   "source": [
    "from scipy.sparse import coo_matrix, hstack\n",
    "item_features_enhanced=hstack([item_features.tocoo(),m1_csr]).tocsr()"
   ]
  },
  {
   "cell_type": "code",
   "execution_count": 47,
   "metadata": {
    "collapsed": false
   },
   "outputs": [
    {
     "data": {
      "text/plain": [
       "<78048x1430 sparse matrix of type '<type 'numpy.float32'>'\n",
       "\twith 1034394 stored elements in Compressed Sparse Row format>"
      ]
     },
     "execution_count": 47,
     "metadata": {},
     "output_type": "execute_result"
    }
   ],
   "source": [
    "item_features_enhanced"
   ]
  },
  {
   "cell_type": "code",
   "execution_count": 51,
   "metadata": {
    "collapsed": false
   },
   "outputs": [
    {
     "data": {
      "text/html": [
       "<div>\n",
       "<table border=\"1\" class=\"dataframe\">\n",
       "  <thead>\n",
       "    <tr style=\"text-align: right;\">\n",
       "      <th></th>\n",
       "      <th>0</th>\n",
       "      <th>1</th>\n",
       "      <th>2</th>\n",
       "    </tr>\n",
       "  </thead>\n",
       "  <tbody>\n",
       "    <tr>\n",
       "      <th>0</th>\n",
       "      <td>1</td>\n",
       "      <td>2</td>\n",
       "      <td>3</td>\n",
       "    </tr>\n",
       "    <tr>\n",
       "      <th>1</th>\n",
       "      <td>4</td>\n",
       "      <td>5</td>\n",
       "      <td>6</td>\n",
       "    </tr>\n",
       "  </tbody>\n",
       "</table>\n",
       "</div>"
      ],
      "text/plain": [
       "   0  1  2\n",
       "0  1  2  3\n",
       "1  4  5  6"
      ]
     },
     "execution_count": 51,
     "metadata": {},
     "output_type": "execute_result"
    }
   ],
   "source": [
    "pd.DataFrame([[1,2,3],[4,5,6]])"
   ]
  },
  {
   "cell_type": "code",
   "execution_count": 52,
   "metadata": {
    "collapsed": true
   },
   "outputs": [],
   "source": [
    "pd.DataFrame(m1).to_csv(\"question_topics.csv\",index=False,header=False)"
   ]
  },
  {
   "cell_type": "code",
   "execution_count": 53,
   "metadata": {
    "collapsed": false
   },
   "outputs": [
    {
     "data": {
      "text/plain": [
       "'C:\\\\Users\\\\songyifn\\\\Desktop\\\\mathoverflow_Recommender_System'"
      ]
     },
     "execution_count": 53,
     "metadata": {},
     "output_type": "execute_result"
    }
   ],
   "source": [
    "os.getcwd()"
   ]
  },
  {
   "cell_type": "code",
   "execution_count": null,
   "metadata": {
    "collapsed": true
   },
   "outputs": [],
   "source": []
  }
 ],
 "metadata": {
  "anaconda-cloud": {},
  "kernelspec": {
   "display_name": "Python 2",
   "language": "python",
   "name": "python2"
  },
  "language_info": {
   "codemirror_mode": {
    "name": "ipython",
    "version": 2
   },
   "file_extension": ".py",
   "mimetype": "text/x-python",
   "name": "python",
   "nbconvert_exporter": "python",
   "pygments_lexer": "ipython2",
   "version": "2.7.12"
  }
 },
 "nbformat": 4,
 "nbformat_minor": 2
}
